{
 "metadata": {
  "language_info": {
   "codemirror_mode": {
    "name": "ipython",
    "version": 3
   },
   "file_extension": ".py",
   "mimetype": "text/x-python",
   "name": "python",
   "nbconvert_exporter": "python",
   "pygments_lexer": "ipython3",
   "version": "3.8.5"
  },
  "orig_nbformat": 2,
  "kernelspec": {
   "name": "python3",
   "display_name": "Python 3",
   "language": "python"
  }
 },
 "nbformat": 4,
 "nbformat_minor": 2,
 "cells": [
  {
   "cell_type": "code",
   "execution_count": 1,
   "metadata": {},
   "outputs": [],
   "source": [
    "%load_ext autoreload\n",
    "%autoreload 2"
   ]
  },
  {
   "cell_type": "code",
   "execution_count": 2,
   "metadata": {},
   "outputs": [],
   "source": [
    "import pandas as pd\n",
    "import numpy as np\n",
    "import re\n",
    "import modules.utils as Utils\n",
    "from modules.regex_patterns import reviews_paths\n",
    "from collections import Counter\n",
    "from underthesea import word_tokenize"
   ]
  },
  {
   "source": [
    "### 14. Load dữ liệu `standard_data.csv`"
   ],
   "cell_type": "markdown",
   "metadata": {}
  },
  {
   "cell_type": "code",
   "execution_count": 3,
   "metadata": {},
   "outputs": [],
   "source": [
    "raw_data = pd.read_csv(\"./data/preprocessing_data.csv\")"
   ]
  },
  {
   "cell_type": "code",
   "execution_count": 4,
   "metadata": {},
   "outputs": [
    {
     "output_type": "execute_result",
     "data": {
      "text/plain": [
       "                                              raw_comment  label emoji  \\\n",
       "0       Lần đầu mua tại shop nhưng rất ưng ý, vải mặc ...      1   NaN   \n",
       "1       Giao hàng nhanh, shop xịn xò đặt hàng xong là ...      1   NaN   \n",
       "2       Size vừa vặn luôn, shop mall mà hàng chất lượn...      1   NaN   \n",
       "3       Sản phẩm chất lượng.đóng gói kĩ.shop nhiệt tìn...      1   NaN   \n",
       "4       Chất lượng sản phẩm tuyệt vời giao hàng nhanh ...      1   NaN   \n",
       "...                                                   ...    ...   ...   \n",
       "220023               Nơ xinh đúng chất công chúa đẹpppppp      1   NaN   \n",
       "220024                                 Rất dễ thương, đẹp      1   NaN   \n",
       "220025  Đẹp lắm lun mọi ngừ ơi . Hdhhechhjhshxhdhhxhxh...      1   NaN   \n",
       "220026  Mua 12 món giao đủ. Vừa rẻ vừa chất lượng rất ...      1   NaN   \n",
       "220027  Dây buộc siêu dễ thương nha mn, còn được tặng ...      1     🥰   \n",
       "\n",
       "                                       processing_comment  \\\n",
       "0       lần đầu mua tại ưng ý vải mặc mát mua quần lót...   \n",
       "1       giao hàng nhanh xịn xò đặt hàng xong chủ động ...   \n",
       "2       vừa vặn hàng chất lượng giá rẻ vầy tội không m...   \n",
       "3       sản phẩm chất lượng đóng gói kĩ nhiệt tình ủng...   \n",
       "4       chất lượng sản phẩm tuyệt vời giao hàng nhanh ...   \n",
       "...                                                   ...   \n",
       "220023                    nơ xinh đúng chất công chúa đẹp   \n",
       "220024                                      dễ thương đẹp   \n",
       "220025                           đẹp lắm mọi người ơi học   \n",
       "220026  mua món giao đủ vừa rẻ vừa chất lượng thích ủn...   \n",
       "220027  dây buộc siêu dễ thương mọi người được tặng kè...   \n",
       "\n",
       "                                              boost_words  \n",
       "0       giao_hàng giá_tiền ủng_hộ cẩn_thận đóng_gói lâ...  \n",
       "1             giao_hàng_nhanh chất_vải cẩn_thận ok xịn_xò  \n",
       "2                               giá_rẻ chất_lượng vừa_vặn  \n",
       "3                     ủng_hộ đóng_gói chất_lượng sản_phẩm  \n",
       "4       giao_hàng_nhanh ủng_hộ tuyệt_vời chất_lượng sả...  \n",
       "...                                                   ...  \n",
       "220023                                                NaN  \n",
       "220024                                          dễ_thương  \n",
       "220025                             mọi_người đẹp_lắm_luôn  \n",
       "220026                          ủng_hộ chất_lượng giao_đủ  \n",
       "220027                                mọi_người dễ_thương  \n",
       "\n",
       "[220028 rows x 5 columns]"
      ],
      "text/html": "<div>\n<style scoped>\n    .dataframe tbody tr th:only-of-type {\n        vertical-align: middle;\n    }\n\n    .dataframe tbody tr th {\n        vertical-align: top;\n    }\n\n    .dataframe thead th {\n        text-align: right;\n    }\n</style>\n<table border=\"1\" class=\"dataframe\">\n  <thead>\n    <tr style=\"text-align: right;\">\n      <th></th>\n      <th>raw_comment</th>\n      <th>label</th>\n      <th>emoji</th>\n      <th>processing_comment</th>\n      <th>boost_words</th>\n    </tr>\n  </thead>\n  <tbody>\n    <tr>\n      <th>0</th>\n      <td>Lần đầu mua tại shop nhưng rất ưng ý, vải mặc ...</td>\n      <td>1</td>\n      <td>NaN</td>\n      <td>lần đầu mua tại ưng ý vải mặc mát mua quần lót...</td>\n      <td>giao_hàng giá_tiền ủng_hộ cẩn_thận đóng_gói lâ...</td>\n    </tr>\n    <tr>\n      <th>1</th>\n      <td>Giao hàng nhanh, shop xịn xò đặt hàng xong là ...</td>\n      <td>1</td>\n      <td>NaN</td>\n      <td>giao hàng nhanh xịn xò đặt hàng xong chủ động ...</td>\n      <td>giao_hàng_nhanh chất_vải cẩn_thận ok xịn_xò</td>\n    </tr>\n    <tr>\n      <th>2</th>\n      <td>Size vừa vặn luôn, shop mall mà hàng chất lượn...</td>\n      <td>1</td>\n      <td>NaN</td>\n      <td>vừa vặn hàng chất lượng giá rẻ vầy tội không m...</td>\n      <td>giá_rẻ chất_lượng vừa_vặn</td>\n    </tr>\n    <tr>\n      <th>3</th>\n      <td>Sản phẩm chất lượng.đóng gói kĩ.shop nhiệt tìn...</td>\n      <td>1</td>\n      <td>NaN</td>\n      <td>sản phẩm chất lượng đóng gói kĩ nhiệt tình ủng...</td>\n      <td>ủng_hộ đóng_gói chất_lượng sản_phẩm</td>\n    </tr>\n    <tr>\n      <th>4</th>\n      <td>Chất lượng sản phẩm tuyệt vời giao hàng nhanh ...</td>\n      <td>1</td>\n      <td>NaN</td>\n      <td>chất lượng sản phẩm tuyệt vời giao hàng nhanh ...</td>\n      <td>giao_hàng_nhanh ủng_hộ tuyệt_vời chất_lượng sả...</td>\n    </tr>\n    <tr>\n      <th>...</th>\n      <td>...</td>\n      <td>...</td>\n      <td>...</td>\n      <td>...</td>\n      <td>...</td>\n    </tr>\n    <tr>\n      <th>220023</th>\n      <td>Nơ xinh đúng chất công chúa đẹpppppp</td>\n      <td>1</td>\n      <td>NaN</td>\n      <td>nơ xinh đúng chất công chúa đẹp</td>\n      <td>NaN</td>\n    </tr>\n    <tr>\n      <th>220024</th>\n      <td>Rất dễ thương, đẹp</td>\n      <td>1</td>\n      <td>NaN</td>\n      <td>dễ thương đẹp</td>\n      <td>dễ_thương</td>\n    </tr>\n    <tr>\n      <th>220025</th>\n      <td>Đẹp lắm lun mọi ngừ ơi . Hdhhechhjhshxhdhhxhxh...</td>\n      <td>1</td>\n      <td>NaN</td>\n      <td>đẹp lắm mọi người ơi học</td>\n      <td>mọi_người đẹp_lắm_luôn</td>\n    </tr>\n    <tr>\n      <th>220026</th>\n      <td>Mua 12 món giao đủ. Vừa rẻ vừa chất lượng rất ...</td>\n      <td>1</td>\n      <td>NaN</td>\n      <td>mua món giao đủ vừa rẻ vừa chất lượng thích ủn...</td>\n      <td>ủng_hộ chất_lượng giao_đủ</td>\n    </tr>\n    <tr>\n      <th>220027</th>\n      <td>Dây buộc siêu dễ thương nha mn, còn được tặng ...</td>\n      <td>1</td>\n      <td>🥰</td>\n      <td>dây buộc siêu dễ thương mọi người được tặng kè...</td>\n      <td>mọi_người dễ_thương</td>\n    </tr>\n  </tbody>\n</table>\n<p>220028 rows × 5 columns</p>\n</div>"
     },
     "metadata": {},
     "execution_count": 4
    }
   ],
   "source": [
    "raw_data"
   ]
  },
  {
   "cell_type": "code",
   "execution_count": 5,
   "metadata": {},
   "outputs": [
    {
     "output_type": "execute_result",
     "data": {
      "text/plain": [
       "                                              raw_comment  label emoji  \\\n",
       "0       Lần đầu mua tại shop nhưng rất ưng ý, vải mặc ...      1         \n",
       "1       Giao hàng nhanh, shop xịn xò đặt hàng xong là ...      1         \n",
       "2       Size vừa vặn luôn, shop mall mà hàng chất lượn...      1         \n",
       "3       Sản phẩm chất lượng.đóng gói kĩ.shop nhiệt tìn...      1         \n",
       "4       Chất lượng sản phẩm tuyệt vời giao hàng nhanh ...      1         \n",
       "...                                                   ...    ...   ...   \n",
       "220023               Nơ xinh đúng chất công chúa đẹpppppp      1         \n",
       "220024                                 Rất dễ thương, đẹp      1         \n",
       "220025  Đẹp lắm lun mọi ngừ ơi . Hdhhechhjhshxhdhhxhxh...      1         \n",
       "220026  Mua 12 món giao đủ. Vừa rẻ vừa chất lượng rất ...      1         \n",
       "220027  Dây buộc siêu dễ thương nha mn, còn được tặng ...      1     🥰   \n",
       "\n",
       "                                       processing_comment  \\\n",
       "0       lần đầu mua tại ưng ý vải mặc mát mua quần lót...   \n",
       "1       giao hàng nhanh xịn xò đặt hàng xong chủ động ...   \n",
       "2       vừa vặn hàng chất lượng giá rẻ vầy tội không m...   \n",
       "3       sản phẩm chất lượng đóng gói kĩ nhiệt tình ủng...   \n",
       "4       chất lượng sản phẩm tuyệt vời giao hàng nhanh ...   \n",
       "...                                                   ...   \n",
       "220023                    nơ xinh đúng chất công chúa đẹp   \n",
       "220024                                      dễ thương đẹp   \n",
       "220025                           đẹp lắm mọi người ơi học   \n",
       "220026  mua món giao đủ vừa rẻ vừa chất lượng thích ủn...   \n",
       "220027  dây buộc siêu dễ thương mọi người được tặng kè...   \n",
       "\n",
       "                                              boost_words  \n",
       "0       giao_hàng giá_tiền ủng_hộ cẩn_thận đóng_gói lâ...  \n",
       "1             giao_hàng_nhanh chất_vải cẩn_thận ok xịn_xò  \n",
       "2                               giá_rẻ chất_lượng vừa_vặn  \n",
       "3                     ủng_hộ đóng_gói chất_lượng sản_phẩm  \n",
       "4       giao_hàng_nhanh ủng_hộ tuyệt_vời chất_lượng sả...  \n",
       "...                                                   ...  \n",
       "220023                                                     \n",
       "220024                                          dễ_thương  \n",
       "220025                             mọi_người đẹp_lắm_luôn  \n",
       "220026                          ủng_hộ chất_lượng giao_đủ  \n",
       "220027                                mọi_người dễ_thương  \n",
       "\n",
       "[220028 rows x 5 columns]"
      ],
      "text/html": "<div>\n<style scoped>\n    .dataframe tbody tr th:only-of-type {\n        vertical-align: middle;\n    }\n\n    .dataframe tbody tr th {\n        vertical-align: top;\n    }\n\n    .dataframe thead th {\n        text-align: right;\n    }\n</style>\n<table border=\"1\" class=\"dataframe\">\n  <thead>\n    <tr style=\"text-align: right;\">\n      <th></th>\n      <th>raw_comment</th>\n      <th>label</th>\n      <th>emoji</th>\n      <th>processing_comment</th>\n      <th>boost_words</th>\n    </tr>\n  </thead>\n  <tbody>\n    <tr>\n      <th>0</th>\n      <td>Lần đầu mua tại shop nhưng rất ưng ý, vải mặc ...</td>\n      <td>1</td>\n      <td></td>\n      <td>lần đầu mua tại ưng ý vải mặc mát mua quần lót...</td>\n      <td>giao_hàng giá_tiền ủng_hộ cẩn_thận đóng_gói lâ...</td>\n    </tr>\n    <tr>\n      <th>1</th>\n      <td>Giao hàng nhanh, shop xịn xò đặt hàng xong là ...</td>\n      <td>1</td>\n      <td></td>\n      <td>giao hàng nhanh xịn xò đặt hàng xong chủ động ...</td>\n      <td>giao_hàng_nhanh chất_vải cẩn_thận ok xịn_xò</td>\n    </tr>\n    <tr>\n      <th>2</th>\n      <td>Size vừa vặn luôn, shop mall mà hàng chất lượn...</td>\n      <td>1</td>\n      <td></td>\n      <td>vừa vặn hàng chất lượng giá rẻ vầy tội không m...</td>\n      <td>giá_rẻ chất_lượng vừa_vặn</td>\n    </tr>\n    <tr>\n      <th>3</th>\n      <td>Sản phẩm chất lượng.đóng gói kĩ.shop nhiệt tìn...</td>\n      <td>1</td>\n      <td></td>\n      <td>sản phẩm chất lượng đóng gói kĩ nhiệt tình ủng...</td>\n      <td>ủng_hộ đóng_gói chất_lượng sản_phẩm</td>\n    </tr>\n    <tr>\n      <th>4</th>\n      <td>Chất lượng sản phẩm tuyệt vời giao hàng nhanh ...</td>\n      <td>1</td>\n      <td></td>\n      <td>chất lượng sản phẩm tuyệt vời giao hàng nhanh ...</td>\n      <td>giao_hàng_nhanh ủng_hộ tuyệt_vời chất_lượng sả...</td>\n    </tr>\n    <tr>\n      <th>...</th>\n      <td>...</td>\n      <td>...</td>\n      <td>...</td>\n      <td>...</td>\n      <td>...</td>\n    </tr>\n    <tr>\n      <th>220023</th>\n      <td>Nơ xinh đúng chất công chúa đẹpppppp</td>\n      <td>1</td>\n      <td></td>\n      <td>nơ xinh đúng chất công chúa đẹp</td>\n      <td></td>\n    </tr>\n    <tr>\n      <th>220024</th>\n      <td>Rất dễ thương, đẹp</td>\n      <td>1</td>\n      <td></td>\n      <td>dễ thương đẹp</td>\n      <td>dễ_thương</td>\n    </tr>\n    <tr>\n      <th>220025</th>\n      <td>Đẹp lắm lun mọi ngừ ơi . Hdhhechhjhshxhdhhxhxh...</td>\n      <td>1</td>\n      <td></td>\n      <td>đẹp lắm mọi người ơi học</td>\n      <td>mọi_người đẹp_lắm_luôn</td>\n    </tr>\n    <tr>\n      <th>220026</th>\n      <td>Mua 12 món giao đủ. Vừa rẻ vừa chất lượng rất ...</td>\n      <td>1</td>\n      <td></td>\n      <td>mua món giao đủ vừa rẻ vừa chất lượng thích ủn...</td>\n      <td>ủng_hộ chất_lượng giao_đủ</td>\n    </tr>\n    <tr>\n      <th>220027</th>\n      <td>Dây buộc siêu dễ thương nha mn, còn được tặng ...</td>\n      <td>1</td>\n      <td>🥰</td>\n      <td>dây buộc siêu dễ thương mọi người được tặng kè...</td>\n      <td>mọi_người dễ_thương</td>\n    </tr>\n  </tbody>\n</table>\n<p>220028 rows × 5 columns</p>\n</div>"
     },
     "metadata": {},
     "execution_count": 5
    }
   ],
   "source": [
    "raw_data = raw_data.replace(np.nan, \"\")\n",
    "raw_data"
   ]
  },
  {
   "source": [
    "### 15. Xóa các `boost_words` khỏi `processing_comment`"
   ],
   "cell_type": "markdown",
   "metadata": {}
  },
  {
   "cell_type": "code",
   "execution_count": 6,
   "metadata": {},
   "outputs": [],
   "source": [
    "raw_data['processing_comment'] = raw_data.apply(lambda row: Utils.removeBoostWord(row['processing_comment'], row['boost_words']), axis=1)"
   ]
  },
  {
   "cell_type": "code",
   "execution_count": 7,
   "metadata": {},
   "outputs": [
    {
     "output_type": "execute_result",
     "data": {
      "text/plain": [
       "                                              raw_comment  label emoji  \\\n",
       "0       Lần đầu mua tại shop nhưng rất ưng ý, vải mặc ...      1         \n",
       "1       Giao hàng nhanh, shop xịn xò đặt hàng xong là ...      1         \n",
       "2       Size vừa vặn luôn, shop mall mà hàng chất lượn...      1         \n",
       "3       Sản phẩm chất lượng.đóng gói kĩ.shop nhiệt tìn...      1         \n",
       "4       Chất lượng sản phẩm tuyệt vời giao hàng nhanh ...      1         \n",
       "...                                                   ...    ...   ...   \n",
       "220023               Nơ xinh đúng chất công chúa đẹpppppp      1         \n",
       "220024                                 Rất dễ thương, đẹp      1         \n",
       "220025  Đẹp lắm lun mọi ngừ ơi . Hdhhechhjhshxhdhhxhxh...      1         \n",
       "220026  Mua 12 món giao đủ. Vừa rẻ vừa chất lượng rất ...      1         \n",
       "220027  Dây buộc siêu dễ thương nha mn, còn được tặng ...      1     🥰   \n",
       "\n",
       "                                       processing_comment  \\\n",
       "0       lần đầu mua tại vải mặc mát mua quần lót quần ...   \n",
       "1       đặt hàng xong chủ động nhắn tin xác nhận gói h...   \n",
       "2                        hàng vầy tội không mu hả các bác   \n",
       "3                            kĩ nhiệt tình lần sau cảm ơn   \n",
       "4                                                 dài dài   \n",
       "...                                                   ...   \n",
       "220023                    nơ xinh đúng chất công chúa đẹp   \n",
       "220024                                                đẹp   \n",
       "220025                                     đẹp lắm ơi học   \n",
       "220026                      mua món vừa rẻ vừa thích tiếp   \n",
       "220027  dây buộc siêu được tặng kèm quà lời cảm ơn thí...   \n",
       "\n",
       "                                              boost_words  \n",
       "0       giao_hàng giá_tiền ủng_hộ cẩn_thận đóng_gói lâ...  \n",
       "1             giao_hàng_nhanh chất_vải cẩn_thận ok xịn_xò  \n",
       "2                               giá_rẻ chất_lượng vừa_vặn  \n",
       "3                     ủng_hộ đóng_gói chất_lượng sản_phẩm  \n",
       "4       giao_hàng_nhanh ủng_hộ tuyệt_vời chất_lượng sả...  \n",
       "...                                                   ...  \n",
       "220023                                                     \n",
       "220024                                          dễ_thương  \n",
       "220025                             mọi_người đẹp_lắm_luôn  \n",
       "220026                          ủng_hộ chất_lượng giao_đủ  \n",
       "220027                                mọi_người dễ_thương  \n",
       "\n",
       "[220028 rows x 5 columns]"
      ],
      "text/html": "<div>\n<style scoped>\n    .dataframe tbody tr th:only-of-type {\n        vertical-align: middle;\n    }\n\n    .dataframe tbody tr th {\n        vertical-align: top;\n    }\n\n    .dataframe thead th {\n        text-align: right;\n    }\n</style>\n<table border=\"1\" class=\"dataframe\">\n  <thead>\n    <tr style=\"text-align: right;\">\n      <th></th>\n      <th>raw_comment</th>\n      <th>label</th>\n      <th>emoji</th>\n      <th>processing_comment</th>\n      <th>boost_words</th>\n    </tr>\n  </thead>\n  <tbody>\n    <tr>\n      <th>0</th>\n      <td>Lần đầu mua tại shop nhưng rất ưng ý, vải mặc ...</td>\n      <td>1</td>\n      <td></td>\n      <td>lần đầu mua tại vải mặc mát mua quần lót quần ...</td>\n      <td>giao_hàng giá_tiền ủng_hộ cẩn_thận đóng_gói lâ...</td>\n    </tr>\n    <tr>\n      <th>1</th>\n      <td>Giao hàng nhanh, shop xịn xò đặt hàng xong là ...</td>\n      <td>1</td>\n      <td></td>\n      <td>đặt hàng xong chủ động nhắn tin xác nhận gói h...</td>\n      <td>giao_hàng_nhanh chất_vải cẩn_thận ok xịn_xò</td>\n    </tr>\n    <tr>\n      <th>2</th>\n      <td>Size vừa vặn luôn, shop mall mà hàng chất lượn...</td>\n      <td>1</td>\n      <td></td>\n      <td>hàng vầy tội không mu hả các bác</td>\n      <td>giá_rẻ chất_lượng vừa_vặn</td>\n    </tr>\n    <tr>\n      <th>3</th>\n      <td>Sản phẩm chất lượng.đóng gói kĩ.shop nhiệt tìn...</td>\n      <td>1</td>\n      <td></td>\n      <td>kĩ nhiệt tình lần sau cảm ơn</td>\n      <td>ủng_hộ đóng_gói chất_lượng sản_phẩm</td>\n    </tr>\n    <tr>\n      <th>4</th>\n      <td>Chất lượng sản phẩm tuyệt vời giao hàng nhanh ...</td>\n      <td>1</td>\n      <td></td>\n      <td>dài dài</td>\n      <td>giao_hàng_nhanh ủng_hộ tuyệt_vời chất_lượng sả...</td>\n    </tr>\n    <tr>\n      <th>...</th>\n      <td>...</td>\n      <td>...</td>\n      <td>...</td>\n      <td>...</td>\n      <td>...</td>\n    </tr>\n    <tr>\n      <th>220023</th>\n      <td>Nơ xinh đúng chất công chúa đẹpppppp</td>\n      <td>1</td>\n      <td></td>\n      <td>nơ xinh đúng chất công chúa đẹp</td>\n      <td></td>\n    </tr>\n    <tr>\n      <th>220024</th>\n      <td>Rất dễ thương, đẹp</td>\n      <td>1</td>\n      <td></td>\n      <td>đẹp</td>\n      <td>dễ_thương</td>\n    </tr>\n    <tr>\n      <th>220025</th>\n      <td>Đẹp lắm lun mọi ngừ ơi . Hdhhechhjhshxhdhhxhxh...</td>\n      <td>1</td>\n      <td></td>\n      <td>đẹp lắm ơi học</td>\n      <td>mọi_người đẹp_lắm_luôn</td>\n    </tr>\n    <tr>\n      <th>220026</th>\n      <td>Mua 12 món giao đủ. Vừa rẻ vừa chất lượng rất ...</td>\n      <td>1</td>\n      <td></td>\n      <td>mua món vừa rẻ vừa thích tiếp</td>\n      <td>ủng_hộ chất_lượng giao_đủ</td>\n    </tr>\n    <tr>\n      <th>220027</th>\n      <td>Dây buộc siêu dễ thương nha mn, còn được tặng ...</td>\n      <td>1</td>\n      <td>🥰</td>\n      <td>dây buộc siêu được tặng kèm quà lời cảm ơn thí...</td>\n      <td>mọi_người dễ_thương</td>\n    </tr>\n  </tbody>\n</table>\n<p>220028 rows × 5 columns</p>\n</div>"
     },
     "metadata": {},
     "execution_count": 7
    }
   ],
   "source": [
    "raw_data"
   ]
  },
  {
   "source": [
    "### 16, Tokenize bằng `underthesea`"
   ],
   "cell_type": "markdown",
   "metadata": {}
  },
  {
   "cell_type": "code",
   "execution_count": 8,
   "metadata": {},
   "outputs": [],
   "source": [
    "def undertheseaTokenize(pText):\n",
    "    return \" \".join([re.sub(\" \", \"_\", word) for word in word_tokenize(str(pText))])"
   ]
  },
  {
   "cell_type": "code",
   "execution_count": 9,
   "metadata": {},
   "outputs": [],
   "source": [
    "raw_data['tokenize'] = raw_data['processing_comment'].apply(lambda comment: undertheseaTokenize(comment))"
   ]
  },
  {
   "cell_type": "code",
   "execution_count": 10,
   "metadata": {},
   "outputs": [
    {
     "output_type": "execute_result",
     "data": {
      "text/plain": [
       "                                              raw_comment  label emoji  \\\n",
       "0       Lần đầu mua tại shop nhưng rất ưng ý, vải mặc ...      1         \n",
       "1       Giao hàng nhanh, shop xịn xò đặt hàng xong là ...      1         \n",
       "2       Size vừa vặn luôn, shop mall mà hàng chất lượn...      1         \n",
       "3       Sản phẩm chất lượng.đóng gói kĩ.shop nhiệt tìn...      1         \n",
       "4       Chất lượng sản phẩm tuyệt vời giao hàng nhanh ...      1         \n",
       "...                                                   ...    ...   ...   \n",
       "220023               Nơ xinh đúng chất công chúa đẹpppppp      1         \n",
       "220024                                 Rất dễ thương, đẹp      1         \n",
       "220025  Đẹp lắm lun mọi ngừ ơi . Hdhhechhjhshxhdhhxhxh...      1         \n",
       "220026  Mua 12 món giao đủ. Vừa rẻ vừa chất lượng rất ...      1         \n",
       "220027  Dây buộc siêu dễ thương nha mn, còn được tặng ...      1     🥰   \n",
       "\n",
       "                                       processing_comment  \\\n",
       "0       lần đầu mua tại vải mặc mát mua quần lót quần ...   \n",
       "1       đặt hàng xong chủ động nhắn tin xác nhận gói h...   \n",
       "2                        hàng vầy tội không mu hả các bác   \n",
       "3                            kĩ nhiệt tình lần sau cảm ơn   \n",
       "4                                                 dài dài   \n",
       "...                                                   ...   \n",
       "220023                    nơ xinh đúng chất công chúa đẹp   \n",
       "220024                                                đẹp   \n",
       "220025                                     đẹp lắm ơi học   \n",
       "220026                      mua món vừa rẻ vừa thích tiếp   \n",
       "220027  dây buộc siêu được tặng kèm quà lời cảm ơn thí...   \n",
       "\n",
       "                                              boost_words  \\\n",
       "0       giao_hàng giá_tiền ủng_hộ cẩn_thận đóng_gói lâ...   \n",
       "1             giao_hàng_nhanh chất_vải cẩn_thận ok xịn_xò   \n",
       "2                               giá_rẻ chất_lượng vừa_vặn   \n",
       "3                     ủng_hộ đóng_gói chất_lượng sản_phẩm   \n",
       "4       giao_hàng_nhanh ủng_hộ tuyệt_vời chất_lượng sả...   \n",
       "...                                                   ...   \n",
       "220023                                                      \n",
       "220024                                          dễ_thương   \n",
       "220025                             mọi_người đẹp_lắm_luôn   \n",
       "220026                          ủng_hộ chất_lượng giao_đủ   \n",
       "220027                                mọi_người dễ_thương   \n",
       "\n",
       "                                                 tokenize  \n",
       "0       lần đầu mua tại vải mặc mát mua quần_lót quần_...  \n",
       "1       đặt hàng xong chủ_động nhắn_tin xác_nhận gói h...  \n",
       "2                        hàng vầy tội không mu hả các bác  \n",
       "3                            kĩ nhiệt_tình lần sau cảm_ơn  \n",
       "4                                                 dài dài  \n",
       "...                                                   ...  \n",
       "220023                    nơ xinh đúng chất công_chúa đẹp  \n",
       "220024                                                đẹp  \n",
       "220025                                     đẹp lắm ơi học  \n",
       "220026                      mua món vừa rẻ vừa thích tiếp  \n",
       "220027  dây buộc siêu được tặng kèm quà lời cảm_ơn thí...  \n",
       "\n",
       "[220028 rows x 6 columns]"
      ],
      "text/html": "<div>\n<style scoped>\n    .dataframe tbody tr th:only-of-type {\n        vertical-align: middle;\n    }\n\n    .dataframe tbody tr th {\n        vertical-align: top;\n    }\n\n    .dataframe thead th {\n        text-align: right;\n    }\n</style>\n<table border=\"1\" class=\"dataframe\">\n  <thead>\n    <tr style=\"text-align: right;\">\n      <th></th>\n      <th>raw_comment</th>\n      <th>label</th>\n      <th>emoji</th>\n      <th>processing_comment</th>\n      <th>boost_words</th>\n      <th>tokenize</th>\n    </tr>\n  </thead>\n  <tbody>\n    <tr>\n      <th>0</th>\n      <td>Lần đầu mua tại shop nhưng rất ưng ý, vải mặc ...</td>\n      <td>1</td>\n      <td></td>\n      <td>lần đầu mua tại vải mặc mát mua quần lót quần ...</td>\n      <td>giao_hàng giá_tiền ủng_hộ cẩn_thận đóng_gói lâ...</td>\n      <td>lần đầu mua tại vải mặc mát mua quần_lót quần_...</td>\n    </tr>\n    <tr>\n      <th>1</th>\n      <td>Giao hàng nhanh, shop xịn xò đặt hàng xong là ...</td>\n      <td>1</td>\n      <td></td>\n      <td>đặt hàng xong chủ động nhắn tin xác nhận gói h...</td>\n      <td>giao_hàng_nhanh chất_vải cẩn_thận ok xịn_xò</td>\n      <td>đặt hàng xong chủ_động nhắn_tin xác_nhận gói h...</td>\n    </tr>\n    <tr>\n      <th>2</th>\n      <td>Size vừa vặn luôn, shop mall mà hàng chất lượn...</td>\n      <td>1</td>\n      <td></td>\n      <td>hàng vầy tội không mu hả các bác</td>\n      <td>giá_rẻ chất_lượng vừa_vặn</td>\n      <td>hàng vầy tội không mu hả các bác</td>\n    </tr>\n    <tr>\n      <th>3</th>\n      <td>Sản phẩm chất lượng.đóng gói kĩ.shop nhiệt tìn...</td>\n      <td>1</td>\n      <td></td>\n      <td>kĩ nhiệt tình lần sau cảm ơn</td>\n      <td>ủng_hộ đóng_gói chất_lượng sản_phẩm</td>\n      <td>kĩ nhiệt_tình lần sau cảm_ơn</td>\n    </tr>\n    <tr>\n      <th>4</th>\n      <td>Chất lượng sản phẩm tuyệt vời giao hàng nhanh ...</td>\n      <td>1</td>\n      <td></td>\n      <td>dài dài</td>\n      <td>giao_hàng_nhanh ủng_hộ tuyệt_vời chất_lượng sả...</td>\n      <td>dài dài</td>\n    </tr>\n    <tr>\n      <th>...</th>\n      <td>...</td>\n      <td>...</td>\n      <td>...</td>\n      <td>...</td>\n      <td>...</td>\n      <td>...</td>\n    </tr>\n    <tr>\n      <th>220023</th>\n      <td>Nơ xinh đúng chất công chúa đẹpppppp</td>\n      <td>1</td>\n      <td></td>\n      <td>nơ xinh đúng chất công chúa đẹp</td>\n      <td></td>\n      <td>nơ xinh đúng chất công_chúa đẹp</td>\n    </tr>\n    <tr>\n      <th>220024</th>\n      <td>Rất dễ thương, đẹp</td>\n      <td>1</td>\n      <td></td>\n      <td>đẹp</td>\n      <td>dễ_thương</td>\n      <td>đẹp</td>\n    </tr>\n    <tr>\n      <th>220025</th>\n      <td>Đẹp lắm lun mọi ngừ ơi . Hdhhechhjhshxhdhhxhxh...</td>\n      <td>1</td>\n      <td></td>\n      <td>đẹp lắm ơi học</td>\n      <td>mọi_người đẹp_lắm_luôn</td>\n      <td>đẹp lắm ơi học</td>\n    </tr>\n    <tr>\n      <th>220026</th>\n      <td>Mua 12 món giao đủ. Vừa rẻ vừa chất lượng rất ...</td>\n      <td>1</td>\n      <td></td>\n      <td>mua món vừa rẻ vừa thích tiếp</td>\n      <td>ủng_hộ chất_lượng giao_đủ</td>\n      <td>mua món vừa rẻ vừa thích tiếp</td>\n    </tr>\n    <tr>\n      <th>220027</th>\n      <td>Dây buộc siêu dễ thương nha mn, còn được tặng ...</td>\n      <td>1</td>\n      <td>🥰</td>\n      <td>dây buộc siêu được tặng kèm quà lời cảm ơn thí...</td>\n      <td>mọi_người dễ_thương</td>\n      <td>dây buộc siêu được tặng kèm quà lời cảm_ơn thí...</td>\n    </tr>\n  </tbody>\n</table>\n<p>220028 rows × 6 columns</p>\n</div>"
     },
     "metadata": {},
     "execution_count": 10
    }
   ],
   "source": [
    "raw_data"
   ]
  },
  {
   "source": [
    "### 17. Kết hợp 3 cột `tokenize`, `boost_words` và `emoji` lại thành một cột duy nhất là `standard_comment`"
   ],
   "cell_type": "markdown",
   "metadata": {}
  },
  {
   "cell_type": "code",
   "execution_count": 11,
   "metadata": {},
   "outputs": [],
   "source": [
    "raw_data['standard_comment'] = raw_data.apply(lambda row: Utils.genStandardComment(row['tokenize'], row['boost_words'], row['emoji']), axis=1)"
   ]
  },
  {
   "cell_type": "code",
   "execution_count": 12,
   "metadata": {},
   "outputs": [
    {
     "output_type": "execute_result",
     "data": {
      "text/plain": [
       "                                              raw_comment  label emoji  \\\n",
       "0       Lần đầu mua tại shop nhưng rất ưng ý, vải mặc ...      1         \n",
       "1       Giao hàng nhanh, shop xịn xò đặt hàng xong là ...      1         \n",
       "2       Size vừa vặn luôn, shop mall mà hàng chất lượn...      1         \n",
       "3       Sản phẩm chất lượng.đóng gói kĩ.shop nhiệt tìn...      1         \n",
       "4       Chất lượng sản phẩm tuyệt vời giao hàng nhanh ...      1         \n",
       "...                                                   ...    ...   ...   \n",
       "220023               Nơ xinh đúng chất công chúa đẹpppppp      1         \n",
       "220024                                 Rất dễ thương, đẹp      1         \n",
       "220025  Đẹp lắm lun mọi ngừ ơi . Hdhhechhjhshxhdhhxhxh...      1         \n",
       "220026  Mua 12 món giao đủ. Vừa rẻ vừa chất lượng rất ...      1         \n",
       "220027  Dây buộc siêu dễ thương nha mn, còn được tặng ...      1     🥰   \n",
       "\n",
       "                                       processing_comment  \\\n",
       "0       lần đầu mua tại vải mặc mát mua quần lót quần ...   \n",
       "1       đặt hàng xong chủ động nhắn tin xác nhận gói h...   \n",
       "2                        hàng vầy tội không mu hả các bác   \n",
       "3                            kĩ nhiệt tình lần sau cảm ơn   \n",
       "4                                                 dài dài   \n",
       "...                                                   ...   \n",
       "220023                    nơ xinh đúng chất công chúa đẹp   \n",
       "220024                                                đẹp   \n",
       "220025                                     đẹp lắm ơi học   \n",
       "220026                      mua món vừa rẻ vừa thích tiếp   \n",
       "220027  dây buộc siêu được tặng kèm quà lời cảm ơn thí...   \n",
       "\n",
       "                                              boost_words  \\\n",
       "0       giao_hàng giá_tiền ủng_hộ cẩn_thận đóng_gói lâ...   \n",
       "1             giao_hàng_nhanh chất_vải cẩn_thận ok xịn_xò   \n",
       "2                               giá_rẻ chất_lượng vừa_vặn   \n",
       "3                     ủng_hộ đóng_gói chất_lượng sản_phẩm   \n",
       "4       giao_hàng_nhanh ủng_hộ tuyệt_vời chất_lượng sả...   \n",
       "...                                                   ...   \n",
       "220023                                                      \n",
       "220024                                          dễ_thương   \n",
       "220025                             mọi_người đẹp_lắm_luôn   \n",
       "220026                          ủng_hộ chất_lượng giao_đủ   \n",
       "220027                                mọi_người dễ_thương   \n",
       "\n",
       "                                                 tokenize  \\\n",
       "0       lần đầu mua tại vải mặc mát mua quần_lót quần_...   \n",
       "1       đặt hàng xong chủ_động nhắn_tin xác_nhận gói h...   \n",
       "2                        hàng vầy tội không mu hả các bác   \n",
       "3                            kĩ nhiệt_tình lần sau cảm_ơn   \n",
       "4                                                 dài dài   \n",
       "...                                                   ...   \n",
       "220023                    nơ xinh đúng chất công_chúa đẹp   \n",
       "220024                                                đẹp   \n",
       "220025                                     đẹp lắm ơi học   \n",
       "220026                      mua món vừa rẻ vừa thích tiếp   \n",
       "220027  dây buộc siêu được tặng kèm quà lời cảm_ơn thí...   \n",
       "\n",
       "                                         standard_comment  \n",
       "0       lần đầu mua tại vải mặc mát mua quần_lót quần_...  \n",
       "1       đặt hàng xong chủ_động nhắn_tin xác_nhận gói h...  \n",
       "2       hàng vầy tội không mu hả các bác giá_rẻ chất_l...  \n",
       "3       kĩ nhiệt_tình lần sau cảm_ơn ủng_hộ đóng_gói c...  \n",
       "4       dài dài giao_hàng_nhanh ủng_hộ tuyệt_vời chất_...  \n",
       "...                                                   ...  \n",
       "220023                    nơ xinh đúng chất công_chúa đẹp  \n",
       "220024                                      đẹp dễ_thương  \n",
       "220025              đẹp lắm ơi học mọi_người đẹp_lắm_luôn  \n",
       "220026  mua món vừa rẻ vừa thích tiếp ủng_hộ chất_lượn...  \n",
       "220027  dây buộc siêu được tặng kèm quà lời cảm_ơn thí...  \n",
       "\n",
       "[220028 rows x 7 columns]"
      ],
      "text/html": "<div>\n<style scoped>\n    .dataframe tbody tr th:only-of-type {\n        vertical-align: middle;\n    }\n\n    .dataframe tbody tr th {\n        vertical-align: top;\n    }\n\n    .dataframe thead th {\n        text-align: right;\n    }\n</style>\n<table border=\"1\" class=\"dataframe\">\n  <thead>\n    <tr style=\"text-align: right;\">\n      <th></th>\n      <th>raw_comment</th>\n      <th>label</th>\n      <th>emoji</th>\n      <th>processing_comment</th>\n      <th>boost_words</th>\n      <th>tokenize</th>\n      <th>standard_comment</th>\n    </tr>\n  </thead>\n  <tbody>\n    <tr>\n      <th>0</th>\n      <td>Lần đầu mua tại shop nhưng rất ưng ý, vải mặc ...</td>\n      <td>1</td>\n      <td></td>\n      <td>lần đầu mua tại vải mặc mát mua quần lót quần ...</td>\n      <td>giao_hàng giá_tiền ủng_hộ cẩn_thận đóng_gói lâ...</td>\n      <td>lần đầu mua tại vải mặc mát mua quần_lót quần_...</td>\n      <td>lần đầu mua tại vải mặc mát mua quần_lót quần_...</td>\n    </tr>\n    <tr>\n      <th>1</th>\n      <td>Giao hàng nhanh, shop xịn xò đặt hàng xong là ...</td>\n      <td>1</td>\n      <td></td>\n      <td>đặt hàng xong chủ động nhắn tin xác nhận gói h...</td>\n      <td>giao_hàng_nhanh chất_vải cẩn_thận ok xịn_xò</td>\n      <td>đặt hàng xong chủ_động nhắn_tin xác_nhận gói h...</td>\n      <td>đặt hàng xong chủ_động nhắn_tin xác_nhận gói h...</td>\n    </tr>\n    <tr>\n      <th>2</th>\n      <td>Size vừa vặn luôn, shop mall mà hàng chất lượn...</td>\n      <td>1</td>\n      <td></td>\n      <td>hàng vầy tội không mu hả các bác</td>\n      <td>giá_rẻ chất_lượng vừa_vặn</td>\n      <td>hàng vầy tội không mu hả các bác</td>\n      <td>hàng vầy tội không mu hả các bác giá_rẻ chất_l...</td>\n    </tr>\n    <tr>\n      <th>3</th>\n      <td>Sản phẩm chất lượng.đóng gói kĩ.shop nhiệt tìn...</td>\n      <td>1</td>\n      <td></td>\n      <td>kĩ nhiệt tình lần sau cảm ơn</td>\n      <td>ủng_hộ đóng_gói chất_lượng sản_phẩm</td>\n      <td>kĩ nhiệt_tình lần sau cảm_ơn</td>\n      <td>kĩ nhiệt_tình lần sau cảm_ơn ủng_hộ đóng_gói c...</td>\n    </tr>\n    <tr>\n      <th>4</th>\n      <td>Chất lượng sản phẩm tuyệt vời giao hàng nhanh ...</td>\n      <td>1</td>\n      <td></td>\n      <td>dài dài</td>\n      <td>giao_hàng_nhanh ủng_hộ tuyệt_vời chất_lượng sả...</td>\n      <td>dài dài</td>\n      <td>dài dài giao_hàng_nhanh ủng_hộ tuyệt_vời chất_...</td>\n    </tr>\n    <tr>\n      <th>...</th>\n      <td>...</td>\n      <td>...</td>\n      <td>...</td>\n      <td>...</td>\n      <td>...</td>\n      <td>...</td>\n      <td>...</td>\n    </tr>\n    <tr>\n      <th>220023</th>\n      <td>Nơ xinh đúng chất công chúa đẹpppppp</td>\n      <td>1</td>\n      <td></td>\n      <td>nơ xinh đúng chất công chúa đẹp</td>\n      <td></td>\n      <td>nơ xinh đúng chất công_chúa đẹp</td>\n      <td>nơ xinh đúng chất công_chúa đẹp</td>\n    </tr>\n    <tr>\n      <th>220024</th>\n      <td>Rất dễ thương, đẹp</td>\n      <td>1</td>\n      <td></td>\n      <td>đẹp</td>\n      <td>dễ_thương</td>\n      <td>đẹp</td>\n      <td>đẹp dễ_thương</td>\n    </tr>\n    <tr>\n      <th>220025</th>\n      <td>Đẹp lắm lun mọi ngừ ơi . Hdhhechhjhshxhdhhxhxh...</td>\n      <td>1</td>\n      <td></td>\n      <td>đẹp lắm ơi học</td>\n      <td>mọi_người đẹp_lắm_luôn</td>\n      <td>đẹp lắm ơi học</td>\n      <td>đẹp lắm ơi học mọi_người đẹp_lắm_luôn</td>\n    </tr>\n    <tr>\n      <th>220026</th>\n      <td>Mua 12 món giao đủ. Vừa rẻ vừa chất lượng rất ...</td>\n      <td>1</td>\n      <td></td>\n      <td>mua món vừa rẻ vừa thích tiếp</td>\n      <td>ủng_hộ chất_lượng giao_đủ</td>\n      <td>mua món vừa rẻ vừa thích tiếp</td>\n      <td>mua món vừa rẻ vừa thích tiếp ủng_hộ chất_lượn...</td>\n    </tr>\n    <tr>\n      <th>220027</th>\n      <td>Dây buộc siêu dễ thương nha mn, còn được tặng ...</td>\n      <td>1</td>\n      <td>🥰</td>\n      <td>dây buộc siêu được tặng kèm quà lời cảm ơn thí...</td>\n      <td>mọi_người dễ_thương</td>\n      <td>dây buộc siêu được tặng kèm quà lời cảm_ơn thí...</td>\n      <td>dây buộc siêu được tặng kèm quà lời cảm_ơn thí...</td>\n    </tr>\n  </tbody>\n</table>\n<p>220028 rows × 7 columns</p>\n</div>"
     },
     "metadata": {},
     "execution_count": 12
    }
   ],
   "source": [
    "raw_data"
   ]
  },
  {
   "source": [
    "### 18. Xóa các cột thừa đi"
   ],
   "cell_type": "markdown",
   "metadata": {}
  },
  {
   "cell_type": "code",
   "execution_count": 13,
   "metadata": {},
   "outputs": [],
   "source": [
    "raw_data = raw_data.drop(columns=['emoji', 'processing_comment', 'boost_words', 'tokenize'])"
   ]
  },
  {
   "cell_type": "code",
   "execution_count": 14,
   "metadata": {},
   "outputs": [],
   "source": [
    "raw_data = raw_data.reindex(columns=['raw_comment', 'standard_comment', 'label'])"
   ]
  },
  {
   "cell_type": "code",
   "execution_count": 15,
   "metadata": {},
   "outputs": [
    {
     "output_type": "execute_result",
     "data": {
      "text/plain": [
       "                                              raw_comment  \\\n",
       "0       Lần đầu mua tại shop nhưng rất ưng ý, vải mặc ...   \n",
       "1       Giao hàng nhanh, shop xịn xò đặt hàng xong là ...   \n",
       "2       Size vừa vặn luôn, shop mall mà hàng chất lượn...   \n",
       "3       Sản phẩm chất lượng.đóng gói kĩ.shop nhiệt tìn...   \n",
       "4       Chất lượng sản phẩm tuyệt vời giao hàng nhanh ...   \n",
       "...                                                   ...   \n",
       "220023               Nơ xinh đúng chất công chúa đẹpppppp   \n",
       "220024                                 Rất dễ thương, đẹp   \n",
       "220025  Đẹp lắm lun mọi ngừ ơi . Hdhhechhjhshxhdhhxhxh...   \n",
       "220026  Mua 12 món giao đủ. Vừa rẻ vừa chất lượng rất ...   \n",
       "220027  Dây buộc siêu dễ thương nha mn, còn được tặng ...   \n",
       "\n",
       "                                         standard_comment  label  \n",
       "0       lần đầu mua tại vải mặc mát mua quần_lót quần_...      1  \n",
       "1       đặt hàng xong chủ_động nhắn_tin xác_nhận gói h...      1  \n",
       "2       hàng vầy tội không mu hả các bác giá_rẻ chất_l...      1  \n",
       "3       kĩ nhiệt_tình lần sau cảm_ơn ủng_hộ đóng_gói c...      1  \n",
       "4       dài dài giao_hàng_nhanh ủng_hộ tuyệt_vời chất_...      1  \n",
       "...                                                   ...    ...  \n",
       "220023                    nơ xinh đúng chất công_chúa đẹp      1  \n",
       "220024                                      đẹp dễ_thương      1  \n",
       "220025              đẹp lắm ơi học mọi_người đẹp_lắm_luôn      1  \n",
       "220026  mua món vừa rẻ vừa thích tiếp ủng_hộ chất_lượn...      1  \n",
       "220027  dây buộc siêu được tặng kèm quà lời cảm_ơn thí...      1  \n",
       "\n",
       "[220028 rows x 3 columns]"
      ],
      "text/html": "<div>\n<style scoped>\n    .dataframe tbody tr th:only-of-type {\n        vertical-align: middle;\n    }\n\n    .dataframe tbody tr th {\n        vertical-align: top;\n    }\n\n    .dataframe thead th {\n        text-align: right;\n    }\n</style>\n<table border=\"1\" class=\"dataframe\">\n  <thead>\n    <tr style=\"text-align: right;\">\n      <th></th>\n      <th>raw_comment</th>\n      <th>standard_comment</th>\n      <th>label</th>\n    </tr>\n  </thead>\n  <tbody>\n    <tr>\n      <th>0</th>\n      <td>Lần đầu mua tại shop nhưng rất ưng ý, vải mặc ...</td>\n      <td>lần đầu mua tại vải mặc mát mua quần_lót quần_...</td>\n      <td>1</td>\n    </tr>\n    <tr>\n      <th>1</th>\n      <td>Giao hàng nhanh, shop xịn xò đặt hàng xong là ...</td>\n      <td>đặt hàng xong chủ_động nhắn_tin xác_nhận gói h...</td>\n      <td>1</td>\n    </tr>\n    <tr>\n      <th>2</th>\n      <td>Size vừa vặn luôn, shop mall mà hàng chất lượn...</td>\n      <td>hàng vầy tội không mu hả các bác giá_rẻ chất_l...</td>\n      <td>1</td>\n    </tr>\n    <tr>\n      <th>3</th>\n      <td>Sản phẩm chất lượng.đóng gói kĩ.shop nhiệt tìn...</td>\n      <td>kĩ nhiệt_tình lần sau cảm_ơn ủng_hộ đóng_gói c...</td>\n      <td>1</td>\n    </tr>\n    <tr>\n      <th>4</th>\n      <td>Chất lượng sản phẩm tuyệt vời giao hàng nhanh ...</td>\n      <td>dài dài giao_hàng_nhanh ủng_hộ tuyệt_vời chất_...</td>\n      <td>1</td>\n    </tr>\n    <tr>\n      <th>...</th>\n      <td>...</td>\n      <td>...</td>\n      <td>...</td>\n    </tr>\n    <tr>\n      <th>220023</th>\n      <td>Nơ xinh đúng chất công chúa đẹpppppp</td>\n      <td>nơ xinh đúng chất công_chúa đẹp</td>\n      <td>1</td>\n    </tr>\n    <tr>\n      <th>220024</th>\n      <td>Rất dễ thương, đẹp</td>\n      <td>đẹp dễ_thương</td>\n      <td>1</td>\n    </tr>\n    <tr>\n      <th>220025</th>\n      <td>Đẹp lắm lun mọi ngừ ơi . Hdhhechhjhshxhdhhxhxh...</td>\n      <td>đẹp lắm ơi học mọi_người đẹp_lắm_luôn</td>\n      <td>1</td>\n    </tr>\n    <tr>\n      <th>220026</th>\n      <td>Mua 12 món giao đủ. Vừa rẻ vừa chất lượng rất ...</td>\n      <td>mua món vừa rẻ vừa thích tiếp ủng_hộ chất_lượn...</td>\n      <td>1</td>\n    </tr>\n    <tr>\n      <th>220027</th>\n      <td>Dây buộc siêu dễ thương nha mn, còn được tặng ...</td>\n      <td>dây buộc siêu được tặng kèm quà lời cảm_ơn thí...</td>\n      <td>1</td>\n    </tr>\n  </tbody>\n</table>\n<p>220028 rows × 3 columns</p>\n</div>"
     },
     "metadata": {},
     "execution_count": 15
    }
   ],
   "source": [
    "raw_data"
   ]
  },
  {
   "source": [
    "### 19. Ghi ra file"
   ],
   "cell_type": "markdown",
   "metadata": {}
  },
  {
   "cell_type": "code",
   "execution_count": null,
   "metadata": {},
   "outputs": [],
   "source": [
    "raw_data.to_csv(\"./data/standard_data.csv\", index=False)"
   ]
  }
 ]
}