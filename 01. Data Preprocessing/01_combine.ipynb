{
 "metadata": {
  "language_info": {
   "codemirror_mode": {
    "name": "ipython",
    "version": 3
   },
   "file_extension": ".py",
   "mimetype": "text/x-python",
   "name": "python",
   "nbconvert_exporter": "python",
   "pygments_lexer": "ipython3",
   "version": "3.8.5"
  },
  "orig_nbformat": 2,
  "kernelspec": {
   "name": "python3",
   "display_name": "Python 3",
   "language": "python"
  }
 },
 "nbformat": 4,
 "nbformat_minor": 2,
 "cells": [
  {
   "cell_type": "code",
   "execution_count": 1,
   "metadata": {},
   "outputs": [],
   "source": [
    "%load_ext autoreload\n",
    "%autoreload 2"
   ]
  },
  {
   "cell_type": "code",
   "execution_count": 2,
   "metadata": {},
   "outputs": [],
   "source": [
    "import pandas as pd\n",
    "import numpy as np\n",
    "import re\n",
    "import modules.utils as Utils\n",
    "from modules.regex_patterns import reviews_paths\n",
    "from collections import Counter\n",
    "from underthesea import word_tokenize"
   ]
  },
  {
   "source": [
    "### 14. Load dữ liệu `standard_data.csv`"
   ],
   "cell_type": "markdown",
   "metadata": {}
  },
  {
   "cell_type": "code",
   "execution_count": 3,
   "metadata": {},
   "outputs": [],
   "source": [
    "raw_data = pd.read_csv(\"./data/preprocessing_data.csv\")"
   ]
  },
  {
   "cell_type": "code",
   "execution_count": 4,
   "metadata": {},
   "outputs": [
    {
     "output_type": "execute_result",
     "data": {
      "text/plain": [
       "                                              raw_comment  label emoji  \\\n",
       "0       Lần đầu mua tại shop nhưng rất ưng ý, vải mặc ...      1   NaN   \n",
       "1       Giao hàng nhanh, shop xịn xò đặt hàng xong là ...      1   NaN   \n",
       "2       Size vừa vặn luôn, shop mall mà hàng chất lượn...      1   NaN   \n",
       "3       Sản phẩm chất lượng.đóng gói kĩ.shop nhiệt tìn...      1   NaN   \n",
       "4       Chất lượng sản phẩm tuyệt vời giao hàng nhanh ...      1   NaN   \n",
       "...                                                   ...    ...   ...   \n",
       "220099               Nơ xinh đúng chất công chúa đẹpppppp      1   NaN   \n",
       "220100                                 Rất dễ thương, đẹp      1   NaN   \n",
       "220101  Đẹp lắm lun mọi ngừ ơi . Hdhhechhjhshxhdhhxhxh...      1   NaN   \n",
       "220102  Mua 12 món giao đủ. Vừa rẻ vừa chất lượng rất ...      1   NaN   \n",
       "220103  Dây buộc siêu dễ thương nha mn, còn được tặng ...      1     🥰   \n",
       "\n",
       "                                       processing_comment  \\\n",
       "0       lần đầu tại ưng ý vải mát lót đùi thun sớm đón...   \n",
       "1       nhanh xịn xò xong chủ động nhắn tin xác nhận g...   \n",
       "2                    vừa vặn giá rẻ vầy tội mu hả các bác   \n",
       "3                đóng gói kĩ nhiệt tình ủng hộ lần cảm ơn   \n",
       "4                          tuyệt vời nhanh ủng hộ dài dài   \n",
       "...                                                   ...   \n",
       "220099                             nơ xinh đúng công chúa   \n",
       "220100                                          dễ thương   \n",
       "220101                                         mọi ơi học   \n",
       "220102                món đủ vừa rẻ vừa thích ủng hộ tiếp   \n",
       "220103  dây buộc siêu dễ thương mọi tặng kèm quà lời c...   \n",
       "\n",
       "                                              boost_words  \n",
       "0             giá_tiền ủng_hộ cẩn_thận đóng_gói lâu ưng_ý  \n",
       "1       giao_hàng_nhanh chất_vải cẩn_thận xịn_xò túi_z...  \n",
       "2                                          giá_rẻ vừa_vặn  \n",
       "3                                         ủng_hộ đóng_gói  \n",
       "4                        giao_hàng_nhanh ủng_hộ tuyệt_vời  \n",
       "...                                                   ...  \n",
       "220099                                                NaN  \n",
       "220100                                          dễ_thương  \n",
       "220101                             mọi_người đẹp_lắm_luôn  \n",
       "220102                                     ủng_hộ giao_đủ  \n",
       "220103                                mọi_người dễ_thương  \n",
       "\n",
       "[220104 rows x 5 columns]"
      ],
      "text/html": "<div>\n<style scoped>\n    .dataframe tbody tr th:only-of-type {\n        vertical-align: middle;\n    }\n\n    .dataframe tbody tr th {\n        vertical-align: top;\n    }\n\n    .dataframe thead th {\n        text-align: right;\n    }\n</style>\n<table border=\"1\" class=\"dataframe\">\n  <thead>\n    <tr style=\"text-align: right;\">\n      <th></th>\n      <th>raw_comment</th>\n      <th>label</th>\n      <th>emoji</th>\n      <th>processing_comment</th>\n      <th>boost_words</th>\n    </tr>\n  </thead>\n  <tbody>\n    <tr>\n      <th>0</th>\n      <td>Lần đầu mua tại shop nhưng rất ưng ý, vải mặc ...</td>\n      <td>1</td>\n      <td>NaN</td>\n      <td>lần đầu tại ưng ý vải mát lót đùi thun sớm đón...</td>\n      <td>giá_tiền ủng_hộ cẩn_thận đóng_gói lâu ưng_ý</td>\n    </tr>\n    <tr>\n      <th>1</th>\n      <td>Giao hàng nhanh, shop xịn xò đặt hàng xong là ...</td>\n      <td>1</td>\n      <td>NaN</td>\n      <td>nhanh xịn xò xong chủ động nhắn tin xác nhận g...</td>\n      <td>giao_hàng_nhanh chất_vải cẩn_thận xịn_xò túi_z...</td>\n    </tr>\n    <tr>\n      <th>2</th>\n      <td>Size vừa vặn luôn, shop mall mà hàng chất lượn...</td>\n      <td>1</td>\n      <td>NaN</td>\n      <td>vừa vặn giá rẻ vầy tội mu hả các bác</td>\n      <td>giá_rẻ vừa_vặn</td>\n    </tr>\n    <tr>\n      <th>3</th>\n      <td>Sản phẩm chất lượng.đóng gói kĩ.shop nhiệt tìn...</td>\n      <td>1</td>\n      <td>NaN</td>\n      <td>đóng gói kĩ nhiệt tình ủng hộ lần cảm ơn</td>\n      <td>ủng_hộ đóng_gói</td>\n    </tr>\n    <tr>\n      <th>4</th>\n      <td>Chất lượng sản phẩm tuyệt vời giao hàng nhanh ...</td>\n      <td>1</td>\n      <td>NaN</td>\n      <td>tuyệt vời nhanh ủng hộ dài dài</td>\n      <td>giao_hàng_nhanh ủng_hộ tuyệt_vời</td>\n    </tr>\n    <tr>\n      <th>...</th>\n      <td>...</td>\n      <td>...</td>\n      <td>...</td>\n      <td>...</td>\n      <td>...</td>\n    </tr>\n    <tr>\n      <th>220099</th>\n      <td>Nơ xinh đúng chất công chúa đẹpppppp</td>\n      <td>1</td>\n      <td>NaN</td>\n      <td>nơ xinh đúng công chúa</td>\n      <td>NaN</td>\n    </tr>\n    <tr>\n      <th>220100</th>\n      <td>Rất dễ thương, đẹp</td>\n      <td>1</td>\n      <td>NaN</td>\n      <td>dễ thương</td>\n      <td>dễ_thương</td>\n    </tr>\n    <tr>\n      <th>220101</th>\n      <td>Đẹp lắm lun mọi ngừ ơi . Hdhhechhjhshxhdhhxhxh...</td>\n      <td>1</td>\n      <td>NaN</td>\n      <td>mọi ơi học</td>\n      <td>mọi_người đẹp_lắm_luôn</td>\n    </tr>\n    <tr>\n      <th>220102</th>\n      <td>Mua 12 món giao đủ. Vừa rẻ vừa chất lượng rất ...</td>\n      <td>1</td>\n      <td>NaN</td>\n      <td>món đủ vừa rẻ vừa thích ủng hộ tiếp</td>\n      <td>ủng_hộ giao_đủ</td>\n    </tr>\n    <tr>\n      <th>220103</th>\n      <td>Dây buộc siêu dễ thương nha mn, còn được tặng ...</td>\n      <td>1</td>\n      <td>🥰</td>\n      <td>dây buộc siêu dễ thương mọi tặng kèm quà lời c...</td>\n      <td>mọi_người dễ_thương</td>\n    </tr>\n  </tbody>\n</table>\n<p>220104 rows × 5 columns</p>\n</div>"
     },
     "metadata": {},
     "execution_count": 4
    }
   ],
   "source": [
    "raw_data"
   ]
  },
  {
   "cell_type": "code",
   "execution_count": 5,
   "metadata": {},
   "outputs": [
    {
     "output_type": "execute_result",
     "data": {
      "text/plain": [
       "                                              raw_comment  label emoji  \\\n",
       "0       Lần đầu mua tại shop nhưng rất ưng ý, vải mặc ...      1         \n",
       "1       Giao hàng nhanh, shop xịn xò đặt hàng xong là ...      1         \n",
       "2       Size vừa vặn luôn, shop mall mà hàng chất lượn...      1         \n",
       "3       Sản phẩm chất lượng.đóng gói kĩ.shop nhiệt tìn...      1         \n",
       "4       Chất lượng sản phẩm tuyệt vời giao hàng nhanh ...      1         \n",
       "...                                                   ...    ...   ...   \n",
       "220099               Nơ xinh đúng chất công chúa đẹpppppp      1         \n",
       "220100                                 Rất dễ thương, đẹp      1         \n",
       "220101  Đẹp lắm lun mọi ngừ ơi . Hdhhechhjhshxhdhhxhxh...      1         \n",
       "220102  Mua 12 món giao đủ. Vừa rẻ vừa chất lượng rất ...      1         \n",
       "220103  Dây buộc siêu dễ thương nha mn, còn được tặng ...      1     🥰   \n",
       "\n",
       "                                       processing_comment  \\\n",
       "0       lần đầu tại ưng ý vải mát lót đùi thun sớm đón...   \n",
       "1       nhanh xịn xò xong chủ động nhắn tin xác nhận g...   \n",
       "2                    vừa vặn giá rẻ vầy tội mu hả các bác   \n",
       "3                đóng gói kĩ nhiệt tình ủng hộ lần cảm ơn   \n",
       "4                          tuyệt vời nhanh ủng hộ dài dài   \n",
       "...                                                   ...   \n",
       "220099                             nơ xinh đúng công chúa   \n",
       "220100                                          dễ thương   \n",
       "220101                                         mọi ơi học   \n",
       "220102                món đủ vừa rẻ vừa thích ủng hộ tiếp   \n",
       "220103  dây buộc siêu dễ thương mọi tặng kèm quà lời c...   \n",
       "\n",
       "                                              boost_words  \n",
       "0             giá_tiền ủng_hộ cẩn_thận đóng_gói lâu ưng_ý  \n",
       "1       giao_hàng_nhanh chất_vải cẩn_thận xịn_xò túi_z...  \n",
       "2                                          giá_rẻ vừa_vặn  \n",
       "3                                         ủng_hộ đóng_gói  \n",
       "4                        giao_hàng_nhanh ủng_hộ tuyệt_vời  \n",
       "...                                                   ...  \n",
       "220099                                                     \n",
       "220100                                          dễ_thương  \n",
       "220101                             mọi_người đẹp_lắm_luôn  \n",
       "220102                                     ủng_hộ giao_đủ  \n",
       "220103                                mọi_người dễ_thương  \n",
       "\n",
       "[220104 rows x 5 columns]"
      ],
      "text/html": "<div>\n<style scoped>\n    .dataframe tbody tr th:only-of-type {\n        vertical-align: middle;\n    }\n\n    .dataframe tbody tr th {\n        vertical-align: top;\n    }\n\n    .dataframe thead th {\n        text-align: right;\n    }\n</style>\n<table border=\"1\" class=\"dataframe\">\n  <thead>\n    <tr style=\"text-align: right;\">\n      <th></th>\n      <th>raw_comment</th>\n      <th>label</th>\n      <th>emoji</th>\n      <th>processing_comment</th>\n      <th>boost_words</th>\n    </tr>\n  </thead>\n  <tbody>\n    <tr>\n      <th>0</th>\n      <td>Lần đầu mua tại shop nhưng rất ưng ý, vải mặc ...</td>\n      <td>1</td>\n      <td></td>\n      <td>lần đầu tại ưng ý vải mát lót đùi thun sớm đón...</td>\n      <td>giá_tiền ủng_hộ cẩn_thận đóng_gói lâu ưng_ý</td>\n    </tr>\n    <tr>\n      <th>1</th>\n      <td>Giao hàng nhanh, shop xịn xò đặt hàng xong là ...</td>\n      <td>1</td>\n      <td></td>\n      <td>nhanh xịn xò xong chủ động nhắn tin xác nhận g...</td>\n      <td>giao_hàng_nhanh chất_vải cẩn_thận xịn_xò túi_z...</td>\n    </tr>\n    <tr>\n      <th>2</th>\n      <td>Size vừa vặn luôn, shop mall mà hàng chất lượn...</td>\n      <td>1</td>\n      <td></td>\n      <td>vừa vặn giá rẻ vầy tội mu hả các bác</td>\n      <td>giá_rẻ vừa_vặn</td>\n    </tr>\n    <tr>\n      <th>3</th>\n      <td>Sản phẩm chất lượng.đóng gói kĩ.shop nhiệt tìn...</td>\n      <td>1</td>\n      <td></td>\n      <td>đóng gói kĩ nhiệt tình ủng hộ lần cảm ơn</td>\n      <td>ủng_hộ đóng_gói</td>\n    </tr>\n    <tr>\n      <th>4</th>\n      <td>Chất lượng sản phẩm tuyệt vời giao hàng nhanh ...</td>\n      <td>1</td>\n      <td></td>\n      <td>tuyệt vời nhanh ủng hộ dài dài</td>\n      <td>giao_hàng_nhanh ủng_hộ tuyệt_vời</td>\n    </tr>\n    <tr>\n      <th>...</th>\n      <td>...</td>\n      <td>...</td>\n      <td>...</td>\n      <td>...</td>\n      <td>...</td>\n    </tr>\n    <tr>\n      <th>220099</th>\n      <td>Nơ xinh đúng chất công chúa đẹpppppp</td>\n      <td>1</td>\n      <td></td>\n      <td>nơ xinh đúng công chúa</td>\n      <td></td>\n    </tr>\n    <tr>\n      <th>220100</th>\n      <td>Rất dễ thương, đẹp</td>\n      <td>1</td>\n      <td></td>\n      <td>dễ thương</td>\n      <td>dễ_thương</td>\n    </tr>\n    <tr>\n      <th>220101</th>\n      <td>Đẹp lắm lun mọi ngừ ơi . Hdhhechhjhshxhdhhxhxh...</td>\n      <td>1</td>\n      <td></td>\n      <td>mọi ơi học</td>\n      <td>mọi_người đẹp_lắm_luôn</td>\n    </tr>\n    <tr>\n      <th>220102</th>\n      <td>Mua 12 món giao đủ. Vừa rẻ vừa chất lượng rất ...</td>\n      <td>1</td>\n      <td></td>\n      <td>món đủ vừa rẻ vừa thích ủng hộ tiếp</td>\n      <td>ủng_hộ giao_đủ</td>\n    </tr>\n    <tr>\n      <th>220103</th>\n      <td>Dây buộc siêu dễ thương nha mn, còn được tặng ...</td>\n      <td>1</td>\n      <td>🥰</td>\n      <td>dây buộc siêu dễ thương mọi tặng kèm quà lời c...</td>\n      <td>mọi_người dễ_thương</td>\n    </tr>\n  </tbody>\n</table>\n<p>220104 rows × 5 columns</p>\n</div>"
     },
     "metadata": {},
     "execution_count": 5
    }
   ],
   "source": [
    "raw_data = raw_data.replace(np.nan, \"\")\n",
    "raw_data"
   ]
  },
  {
   "source": [
    "### 15. Xóa các `boost_words` khỏi `processing_comment`"
   ],
   "cell_type": "markdown",
   "metadata": {}
  },
  {
   "cell_type": "code",
   "execution_count": 6,
   "metadata": {},
   "outputs": [],
   "source": [
    "raw_data['processing_comment'] = raw_data.apply(lambda row: Utils.removeBoostWord(row['processing_comment'], row['boost_words']), axis=1)"
   ]
  },
  {
   "cell_type": "code",
   "execution_count": 7,
   "metadata": {},
   "outputs": [
    {
     "output_type": "execute_result",
     "data": {
      "text/plain": [
       "                                              raw_comment  label emoji  \\\n",
       "0       Lần đầu mua tại shop nhưng rất ưng ý, vải mặc ...      1         \n",
       "1       Giao hàng nhanh, shop xịn xò đặt hàng xong là ...      1         \n",
       "2       Size vừa vặn luôn, shop mall mà hàng chất lượn...      1         \n",
       "3       Sản phẩm chất lượng.đóng gói kĩ.shop nhiệt tìn...      1         \n",
       "4       Chất lượng sản phẩm tuyệt vời giao hàng nhanh ...      1         \n",
       "...                                                   ...    ...   ...   \n",
       "220099               Nơ xinh đúng chất công chúa đẹpppppp      1         \n",
       "220100                                 Rất dễ thương, đẹp      1         \n",
       "220101  Đẹp lắm lun mọi ngừ ơi . Hdhhechhjhshxhdhhxhxh...      1         \n",
       "220102  Mua 12 món giao đủ. Vừa rẻ vừa chất lượng rất ...      1         \n",
       "220103  Dây buộc siêu dễ thương nha mn, còn được tặng ...      1     🥰   \n",
       "\n",
       "                                       processing_comment  \\\n",
       "0       lần đầu tại vải mát lót đùi thun sớm mỗi bịch ...   \n",
       "1       nhanh xong chủ động nhắn tin xác nhận gói mỗi ...   \n",
       "2                                   vầy tội mu hả các bác   \n",
       "3                                kĩ nhiệt tình lần cảm ơn   \n",
       "4                                           nhanh dài dài   \n",
       "...                                                   ...   \n",
       "220099                             nơ xinh đúng công chúa   \n",
       "220100                                                      \n",
       "220101                                         mọi ơi học   \n",
       "220102                       món đủ vừa rẻ vừa thích tiếp   \n",
       "220103  dây buộc siêu mọi tặng kèm quà lời cảm ơn thíc...   \n",
       "\n",
       "                                              boost_words  \n",
       "0             giá_tiền ủng_hộ cẩn_thận đóng_gói lâu ưng_ý  \n",
       "1       giao_hàng_nhanh chất_vải cẩn_thận xịn_xò túi_z...  \n",
       "2                                          giá_rẻ vừa_vặn  \n",
       "3                                         ủng_hộ đóng_gói  \n",
       "4                        giao_hàng_nhanh ủng_hộ tuyệt_vời  \n",
       "...                                                   ...  \n",
       "220099                                                     \n",
       "220100                                          dễ_thương  \n",
       "220101                             mọi_người đẹp_lắm_luôn  \n",
       "220102                                     ủng_hộ giao_đủ  \n",
       "220103                                mọi_người dễ_thương  \n",
       "\n",
       "[220104 rows x 5 columns]"
      ],
      "text/html": "<div>\n<style scoped>\n    .dataframe tbody tr th:only-of-type {\n        vertical-align: middle;\n    }\n\n    .dataframe tbody tr th {\n        vertical-align: top;\n    }\n\n    .dataframe thead th {\n        text-align: right;\n    }\n</style>\n<table border=\"1\" class=\"dataframe\">\n  <thead>\n    <tr style=\"text-align: right;\">\n      <th></th>\n      <th>raw_comment</th>\n      <th>label</th>\n      <th>emoji</th>\n      <th>processing_comment</th>\n      <th>boost_words</th>\n    </tr>\n  </thead>\n  <tbody>\n    <tr>\n      <th>0</th>\n      <td>Lần đầu mua tại shop nhưng rất ưng ý, vải mặc ...</td>\n      <td>1</td>\n      <td></td>\n      <td>lần đầu tại vải mát lót đùi thun sớm mỗi bịch ...</td>\n      <td>giá_tiền ủng_hộ cẩn_thận đóng_gói lâu ưng_ý</td>\n    </tr>\n    <tr>\n      <th>1</th>\n      <td>Giao hàng nhanh, shop xịn xò đặt hàng xong là ...</td>\n      <td>1</td>\n      <td></td>\n      <td>nhanh xong chủ động nhắn tin xác nhận gói mỗi ...</td>\n      <td>giao_hàng_nhanh chất_vải cẩn_thận xịn_xò túi_z...</td>\n    </tr>\n    <tr>\n      <th>2</th>\n      <td>Size vừa vặn luôn, shop mall mà hàng chất lượn...</td>\n      <td>1</td>\n      <td></td>\n      <td>vầy tội mu hả các bác</td>\n      <td>giá_rẻ vừa_vặn</td>\n    </tr>\n    <tr>\n      <th>3</th>\n      <td>Sản phẩm chất lượng.đóng gói kĩ.shop nhiệt tìn...</td>\n      <td>1</td>\n      <td></td>\n      <td>kĩ nhiệt tình lần cảm ơn</td>\n      <td>ủng_hộ đóng_gói</td>\n    </tr>\n    <tr>\n      <th>4</th>\n      <td>Chất lượng sản phẩm tuyệt vời giao hàng nhanh ...</td>\n      <td>1</td>\n      <td></td>\n      <td>nhanh dài dài</td>\n      <td>giao_hàng_nhanh ủng_hộ tuyệt_vời</td>\n    </tr>\n    <tr>\n      <th>...</th>\n      <td>...</td>\n      <td>...</td>\n      <td>...</td>\n      <td>...</td>\n      <td>...</td>\n    </tr>\n    <tr>\n      <th>220099</th>\n      <td>Nơ xinh đúng chất công chúa đẹpppppp</td>\n      <td>1</td>\n      <td></td>\n      <td>nơ xinh đúng công chúa</td>\n      <td></td>\n    </tr>\n    <tr>\n      <th>220100</th>\n      <td>Rất dễ thương, đẹp</td>\n      <td>1</td>\n      <td></td>\n      <td></td>\n      <td>dễ_thương</td>\n    </tr>\n    <tr>\n      <th>220101</th>\n      <td>Đẹp lắm lun mọi ngừ ơi . Hdhhechhjhshxhdhhxhxh...</td>\n      <td>1</td>\n      <td></td>\n      <td>mọi ơi học</td>\n      <td>mọi_người đẹp_lắm_luôn</td>\n    </tr>\n    <tr>\n      <th>220102</th>\n      <td>Mua 12 món giao đủ. Vừa rẻ vừa chất lượng rất ...</td>\n      <td>1</td>\n      <td></td>\n      <td>món đủ vừa rẻ vừa thích tiếp</td>\n      <td>ủng_hộ giao_đủ</td>\n    </tr>\n    <tr>\n      <th>220103</th>\n      <td>Dây buộc siêu dễ thương nha mn, còn được tặng ...</td>\n      <td>1</td>\n      <td>🥰</td>\n      <td>dây buộc siêu mọi tặng kèm quà lời cảm ơn thíc...</td>\n      <td>mọi_người dễ_thương</td>\n    </tr>\n  </tbody>\n</table>\n<p>220104 rows × 5 columns</p>\n</div>"
     },
     "metadata": {},
     "execution_count": 7
    }
   ],
   "source": [
    "raw_data"
   ]
  },
  {
   "source": [
    "### 16, Tokenize bằng `underthesea`"
   ],
   "cell_type": "markdown",
   "metadata": {}
  },
  {
   "cell_type": "code",
   "execution_count": 8,
   "metadata": {},
   "outputs": [],
   "source": [
    "def undertheseaTokenize(pText):\n",
    "    return \" \".join([re.sub(\" \", \"_\", word) for word in word_tokenize(str(pText))])"
   ]
  },
  {
   "cell_type": "code",
   "execution_count": 9,
   "metadata": {},
   "outputs": [],
   "source": [
    "raw_data['tokenize'] = raw_data['processing_comment'].apply(lambda comment: undertheseaTokenize(comment))"
   ]
  },
  {
   "cell_type": "code",
   "execution_count": 10,
   "metadata": {},
   "outputs": [
    {
     "output_type": "execute_result",
     "data": {
      "text/plain": [
       "                                              raw_comment  label emoji  \\\n",
       "0       Lần đầu mua tại shop nhưng rất ưng ý, vải mặc ...      1         \n",
       "1       Giao hàng nhanh, shop xịn xò đặt hàng xong là ...      1         \n",
       "2       Size vừa vặn luôn, shop mall mà hàng chất lượn...      1         \n",
       "3       Sản phẩm chất lượng.đóng gói kĩ.shop nhiệt tìn...      1         \n",
       "4       Chất lượng sản phẩm tuyệt vời giao hàng nhanh ...      1         \n",
       "...                                                   ...    ...   ...   \n",
       "220099               Nơ xinh đúng chất công chúa đẹpppppp      1         \n",
       "220100                                 Rất dễ thương, đẹp      1         \n",
       "220101  Đẹp lắm lun mọi ngừ ơi . Hdhhechhjhshxhdhhxhxh...      1         \n",
       "220102  Mua 12 món giao đủ. Vừa rẻ vừa chất lượng rất ...      1         \n",
       "220103  Dây buộc siêu dễ thương nha mn, còn được tặng ...      1     🥰   \n",
       "\n",
       "                                       processing_comment  \\\n",
       "0       lần đầu tại vải mát lót đùi thun sớm mỗi bịch ...   \n",
       "1       nhanh xong chủ động nhắn tin xác nhận gói mỗi ...   \n",
       "2                                   vầy tội mu hả các bác   \n",
       "3                                kĩ nhiệt tình lần cảm ơn   \n",
       "4                                           nhanh dài dài   \n",
       "...                                                   ...   \n",
       "220099                             nơ xinh đúng công chúa   \n",
       "220100                                                      \n",
       "220101                                         mọi ơi học   \n",
       "220102                       món đủ vừa rẻ vừa thích tiếp   \n",
       "220103  dây buộc siêu mọi tặng kèm quà lời cảm ơn thíc...   \n",
       "\n",
       "                                              boost_words  \\\n",
       "0             giá_tiền ủng_hộ cẩn_thận đóng_gói lâu ưng_ý   \n",
       "1       giao_hàng_nhanh chất_vải cẩn_thận xịn_xò túi_z...   \n",
       "2                                          giá_rẻ vừa_vặn   \n",
       "3                                         ủng_hộ đóng_gói   \n",
       "4                        giao_hàng_nhanh ủng_hộ tuyệt_vời   \n",
       "...                                                   ...   \n",
       "220099                                                      \n",
       "220100                                          dễ_thương   \n",
       "220101                             mọi_người đẹp_lắm_luôn   \n",
       "220102                                     ủng_hộ giao_đủ   \n",
       "220103                                mọi_người dễ_thương   \n",
       "\n",
       "                                                 tokenize  \n",
       "0       lần đầu tại vải mát lót đùi thun sớm mỗi bịch ...  \n",
       "1       nhanh xong chủ_động nhắn_tin xác_nhận gói mỗi ...  \n",
       "2                                   vầy tội mu hả các bác  \n",
       "3                                kĩ nhiệt_tình lần cảm_ơn  \n",
       "4                                           nhanh dài_dài  \n",
       "...                                                   ...  \n",
       "220099                             nơ xinh đúng công_chúa  \n",
       "220100                                                     \n",
       "220101                                         mọi ơi học  \n",
       "220102                       món đủ vừa rẻ vừa thích tiếp  \n",
       "220103  dây buộc siêu mọi tặng kèm quà lời cảm_ơn thíc...  \n",
       "\n",
       "[220104 rows x 6 columns]"
      ],
      "text/html": "<div>\n<style scoped>\n    .dataframe tbody tr th:only-of-type {\n        vertical-align: middle;\n    }\n\n    .dataframe tbody tr th {\n        vertical-align: top;\n    }\n\n    .dataframe thead th {\n        text-align: right;\n    }\n</style>\n<table border=\"1\" class=\"dataframe\">\n  <thead>\n    <tr style=\"text-align: right;\">\n      <th></th>\n      <th>raw_comment</th>\n      <th>label</th>\n      <th>emoji</th>\n      <th>processing_comment</th>\n      <th>boost_words</th>\n      <th>tokenize</th>\n    </tr>\n  </thead>\n  <tbody>\n    <tr>\n      <th>0</th>\n      <td>Lần đầu mua tại shop nhưng rất ưng ý, vải mặc ...</td>\n      <td>1</td>\n      <td></td>\n      <td>lần đầu tại vải mát lót đùi thun sớm mỗi bịch ...</td>\n      <td>giá_tiền ủng_hộ cẩn_thận đóng_gói lâu ưng_ý</td>\n      <td>lần đầu tại vải mát lót đùi thun sớm mỗi bịch ...</td>\n    </tr>\n    <tr>\n      <th>1</th>\n      <td>Giao hàng nhanh, shop xịn xò đặt hàng xong là ...</td>\n      <td>1</td>\n      <td></td>\n      <td>nhanh xong chủ động nhắn tin xác nhận gói mỗi ...</td>\n      <td>giao_hàng_nhanh chất_vải cẩn_thận xịn_xò túi_z...</td>\n      <td>nhanh xong chủ_động nhắn_tin xác_nhận gói mỗi ...</td>\n    </tr>\n    <tr>\n      <th>2</th>\n      <td>Size vừa vặn luôn, shop mall mà hàng chất lượn...</td>\n      <td>1</td>\n      <td></td>\n      <td>vầy tội mu hả các bác</td>\n      <td>giá_rẻ vừa_vặn</td>\n      <td>vầy tội mu hả các bác</td>\n    </tr>\n    <tr>\n      <th>3</th>\n      <td>Sản phẩm chất lượng.đóng gói kĩ.shop nhiệt tìn...</td>\n      <td>1</td>\n      <td></td>\n      <td>kĩ nhiệt tình lần cảm ơn</td>\n      <td>ủng_hộ đóng_gói</td>\n      <td>kĩ nhiệt_tình lần cảm_ơn</td>\n    </tr>\n    <tr>\n      <th>4</th>\n      <td>Chất lượng sản phẩm tuyệt vời giao hàng nhanh ...</td>\n      <td>1</td>\n      <td></td>\n      <td>nhanh dài dài</td>\n      <td>giao_hàng_nhanh ủng_hộ tuyệt_vời</td>\n      <td>nhanh dài_dài</td>\n    </tr>\n    <tr>\n      <th>...</th>\n      <td>...</td>\n      <td>...</td>\n      <td>...</td>\n      <td>...</td>\n      <td>...</td>\n      <td>...</td>\n    </tr>\n    <tr>\n      <th>220099</th>\n      <td>Nơ xinh đúng chất công chúa đẹpppppp</td>\n      <td>1</td>\n      <td></td>\n      <td>nơ xinh đúng công chúa</td>\n      <td></td>\n      <td>nơ xinh đúng công_chúa</td>\n    </tr>\n    <tr>\n      <th>220100</th>\n      <td>Rất dễ thương, đẹp</td>\n      <td>1</td>\n      <td></td>\n      <td></td>\n      <td>dễ_thương</td>\n      <td></td>\n    </tr>\n    <tr>\n      <th>220101</th>\n      <td>Đẹp lắm lun mọi ngừ ơi . Hdhhechhjhshxhdhhxhxh...</td>\n      <td>1</td>\n      <td></td>\n      <td>mọi ơi học</td>\n      <td>mọi_người đẹp_lắm_luôn</td>\n      <td>mọi ơi học</td>\n    </tr>\n    <tr>\n      <th>220102</th>\n      <td>Mua 12 món giao đủ. Vừa rẻ vừa chất lượng rất ...</td>\n      <td>1</td>\n      <td></td>\n      <td>món đủ vừa rẻ vừa thích tiếp</td>\n      <td>ủng_hộ giao_đủ</td>\n      <td>món đủ vừa rẻ vừa thích tiếp</td>\n    </tr>\n    <tr>\n      <th>220103</th>\n      <td>Dây buộc siêu dễ thương nha mn, còn được tặng ...</td>\n      <td>1</td>\n      <td>🥰</td>\n      <td>dây buộc siêu mọi tặng kèm quà lời cảm ơn thíc...</td>\n      <td>mọi_người dễ_thương</td>\n      <td>dây buộc siêu mọi tặng kèm quà lời cảm_ơn thíc...</td>\n    </tr>\n  </tbody>\n</table>\n<p>220104 rows × 6 columns</p>\n</div>"
     },
     "metadata": {},
     "execution_count": 10
    }
   ],
   "source": [
    "raw_data"
   ]
  },
  {
   "source": [
    "### 17. Kết hợp 3 cột `tokenize`, `boost_words` và `emoji` lại thành một cột duy nhất là `standard_comment`"
   ],
   "cell_type": "markdown",
   "metadata": {}
  },
  {
   "cell_type": "code",
   "execution_count": 11,
   "metadata": {},
   "outputs": [],
   "source": [
    "raw_data['standard_comment'] = raw_data.apply(lambda row: Utils.genStandardComment(row['tokenize'], row['boost_words'], row['emoji']), axis=1)"
   ]
  },
  {
   "cell_type": "code",
   "execution_count": 12,
   "metadata": {},
   "outputs": [
    {
     "output_type": "execute_result",
     "data": {
      "text/plain": [
       "                                              raw_comment  label emoji  \\\n",
       "0       Lần đầu mua tại shop nhưng rất ưng ý, vải mặc ...      1         \n",
       "1       Giao hàng nhanh, shop xịn xò đặt hàng xong là ...      1         \n",
       "2       Size vừa vặn luôn, shop mall mà hàng chất lượn...      1         \n",
       "3       Sản phẩm chất lượng.đóng gói kĩ.shop nhiệt tìn...      1         \n",
       "4       Chất lượng sản phẩm tuyệt vời giao hàng nhanh ...      1         \n",
       "...                                                   ...    ...   ...   \n",
       "220099               Nơ xinh đúng chất công chúa đẹpppppp      1         \n",
       "220100                                 Rất dễ thương, đẹp      1         \n",
       "220101  Đẹp lắm lun mọi ngừ ơi . Hdhhechhjhshxhdhhxhxh...      1         \n",
       "220102  Mua 12 món giao đủ. Vừa rẻ vừa chất lượng rất ...      1         \n",
       "220103  Dây buộc siêu dễ thương nha mn, còn được tặng ...      1     🥰   \n",
       "\n",
       "                                       processing_comment  \\\n",
       "0       lần đầu tại vải mát lót đùi thun sớm mỗi bịch ...   \n",
       "1       nhanh xong chủ động nhắn tin xác nhận gói mỗi ...   \n",
       "2                                   vầy tội mu hả các bác   \n",
       "3                                kĩ nhiệt tình lần cảm ơn   \n",
       "4                                           nhanh dài dài   \n",
       "...                                                   ...   \n",
       "220099                             nơ xinh đúng công chúa   \n",
       "220100                                                      \n",
       "220101                                         mọi ơi học   \n",
       "220102                       món đủ vừa rẻ vừa thích tiếp   \n",
       "220103  dây buộc siêu mọi tặng kèm quà lời cảm ơn thíc...   \n",
       "\n",
       "                                              boost_words  \\\n",
       "0             giá_tiền ủng_hộ cẩn_thận đóng_gói lâu ưng_ý   \n",
       "1       giao_hàng_nhanh chất_vải cẩn_thận xịn_xò túi_z...   \n",
       "2                                          giá_rẻ vừa_vặn   \n",
       "3                                         ủng_hộ đóng_gói   \n",
       "4                        giao_hàng_nhanh ủng_hộ tuyệt_vời   \n",
       "...                                                   ...   \n",
       "220099                                                      \n",
       "220100                                          dễ_thương   \n",
       "220101                             mọi_người đẹp_lắm_luôn   \n",
       "220102                                     ủng_hộ giao_đủ   \n",
       "220103                                mọi_người dễ_thương   \n",
       "\n",
       "                                                 tokenize  \\\n",
       "0       lần đầu tại vải mát lót đùi thun sớm mỗi bịch ...   \n",
       "1       nhanh xong chủ_động nhắn_tin xác_nhận gói mỗi ...   \n",
       "2                                   vầy tội mu hả các bác   \n",
       "3                                kĩ nhiệt_tình lần cảm_ơn   \n",
       "4                                           nhanh dài_dài   \n",
       "...                                                   ...   \n",
       "220099                             nơ xinh đúng công_chúa   \n",
       "220100                                                      \n",
       "220101                                         mọi ơi học   \n",
       "220102                       món đủ vừa rẻ vừa thích tiếp   \n",
       "220103  dây buộc siêu mọi tặng kèm quà lời cảm_ơn thíc...   \n",
       "\n",
       "                                         standard_comment  \n",
       "0       lần đầu tại vải mát lót đùi thun sớm mỗi bịch ...  \n",
       "1       nhanh xong chủ_động nhắn_tin xác_nhận gói mỗi ...  \n",
       "2                    vầy tội mu hả các bác giá_rẻ vừa_vặn  \n",
       "3                kĩ nhiệt_tình lần cảm_ơn ủng_hộ đóng_gói  \n",
       "4          nhanh dài_dài giao_hàng_nhanh ủng_hộ tuyệt_vời  \n",
       "...                                                   ...  \n",
       "220099                             nơ xinh đúng công_chúa  \n",
       "220100                                          dễ_thương  \n",
       "220101                  mọi ơi học mọi_người đẹp_lắm_luôn  \n",
       "220102        món đủ vừa rẻ vừa thích tiếp ủng_hộ giao_đủ  \n",
       "220103  dây buộc siêu mọi tặng kèm quà lời cảm_ơn thíc...  \n",
       "\n",
       "[220104 rows x 7 columns]"
      ],
      "text/html": "<div>\n<style scoped>\n    .dataframe tbody tr th:only-of-type {\n        vertical-align: middle;\n    }\n\n    .dataframe tbody tr th {\n        vertical-align: top;\n    }\n\n    .dataframe thead th {\n        text-align: right;\n    }\n</style>\n<table border=\"1\" class=\"dataframe\">\n  <thead>\n    <tr style=\"text-align: right;\">\n      <th></th>\n      <th>raw_comment</th>\n      <th>label</th>\n      <th>emoji</th>\n      <th>processing_comment</th>\n      <th>boost_words</th>\n      <th>tokenize</th>\n      <th>standard_comment</th>\n    </tr>\n  </thead>\n  <tbody>\n    <tr>\n      <th>0</th>\n      <td>Lần đầu mua tại shop nhưng rất ưng ý, vải mặc ...</td>\n      <td>1</td>\n      <td></td>\n      <td>lần đầu tại vải mát lót đùi thun sớm mỗi bịch ...</td>\n      <td>giá_tiền ủng_hộ cẩn_thận đóng_gói lâu ưng_ý</td>\n      <td>lần đầu tại vải mát lót đùi thun sớm mỗi bịch ...</td>\n      <td>lần đầu tại vải mát lót đùi thun sớm mỗi bịch ...</td>\n    </tr>\n    <tr>\n      <th>1</th>\n      <td>Giao hàng nhanh, shop xịn xò đặt hàng xong là ...</td>\n      <td>1</td>\n      <td></td>\n      <td>nhanh xong chủ động nhắn tin xác nhận gói mỗi ...</td>\n      <td>giao_hàng_nhanh chất_vải cẩn_thận xịn_xò túi_z...</td>\n      <td>nhanh xong chủ_động nhắn_tin xác_nhận gói mỗi ...</td>\n      <td>nhanh xong chủ_động nhắn_tin xác_nhận gói mỗi ...</td>\n    </tr>\n    <tr>\n      <th>2</th>\n      <td>Size vừa vặn luôn, shop mall mà hàng chất lượn...</td>\n      <td>1</td>\n      <td></td>\n      <td>vầy tội mu hả các bác</td>\n      <td>giá_rẻ vừa_vặn</td>\n      <td>vầy tội mu hả các bác</td>\n      <td>vầy tội mu hả các bác giá_rẻ vừa_vặn</td>\n    </tr>\n    <tr>\n      <th>3</th>\n      <td>Sản phẩm chất lượng.đóng gói kĩ.shop nhiệt tìn...</td>\n      <td>1</td>\n      <td></td>\n      <td>kĩ nhiệt tình lần cảm ơn</td>\n      <td>ủng_hộ đóng_gói</td>\n      <td>kĩ nhiệt_tình lần cảm_ơn</td>\n      <td>kĩ nhiệt_tình lần cảm_ơn ủng_hộ đóng_gói</td>\n    </tr>\n    <tr>\n      <th>4</th>\n      <td>Chất lượng sản phẩm tuyệt vời giao hàng nhanh ...</td>\n      <td>1</td>\n      <td></td>\n      <td>nhanh dài dài</td>\n      <td>giao_hàng_nhanh ủng_hộ tuyệt_vời</td>\n      <td>nhanh dài_dài</td>\n      <td>nhanh dài_dài giao_hàng_nhanh ủng_hộ tuyệt_vời</td>\n    </tr>\n    <tr>\n      <th>...</th>\n      <td>...</td>\n      <td>...</td>\n      <td>...</td>\n      <td>...</td>\n      <td>...</td>\n      <td>...</td>\n      <td>...</td>\n    </tr>\n    <tr>\n      <th>220099</th>\n      <td>Nơ xinh đúng chất công chúa đẹpppppp</td>\n      <td>1</td>\n      <td></td>\n      <td>nơ xinh đúng công chúa</td>\n      <td></td>\n      <td>nơ xinh đúng công_chúa</td>\n      <td>nơ xinh đúng công_chúa</td>\n    </tr>\n    <tr>\n      <th>220100</th>\n      <td>Rất dễ thương, đẹp</td>\n      <td>1</td>\n      <td></td>\n      <td></td>\n      <td>dễ_thương</td>\n      <td></td>\n      <td>dễ_thương</td>\n    </tr>\n    <tr>\n      <th>220101</th>\n      <td>Đẹp lắm lun mọi ngừ ơi . Hdhhechhjhshxhdhhxhxh...</td>\n      <td>1</td>\n      <td></td>\n      <td>mọi ơi học</td>\n      <td>mọi_người đẹp_lắm_luôn</td>\n      <td>mọi ơi học</td>\n      <td>mọi ơi học mọi_người đẹp_lắm_luôn</td>\n    </tr>\n    <tr>\n      <th>220102</th>\n      <td>Mua 12 món giao đủ. Vừa rẻ vừa chất lượng rất ...</td>\n      <td>1</td>\n      <td></td>\n      <td>món đủ vừa rẻ vừa thích tiếp</td>\n      <td>ủng_hộ giao_đủ</td>\n      <td>món đủ vừa rẻ vừa thích tiếp</td>\n      <td>món đủ vừa rẻ vừa thích tiếp ủng_hộ giao_đủ</td>\n    </tr>\n    <tr>\n      <th>220103</th>\n      <td>Dây buộc siêu dễ thương nha mn, còn được tặng ...</td>\n      <td>1</td>\n      <td>🥰</td>\n      <td>dây buộc siêu mọi tặng kèm quà lời cảm ơn thíc...</td>\n      <td>mọi_người dễ_thương</td>\n      <td>dây buộc siêu mọi tặng kèm quà lời cảm_ơn thíc...</td>\n      <td>dây buộc siêu mọi tặng kèm quà lời cảm_ơn thíc...</td>\n    </tr>\n  </tbody>\n</table>\n<p>220104 rows × 7 columns</p>\n</div>"
     },
     "metadata": {},
     "execution_count": 12
    }
   ],
   "source": [
    "raw_data"
   ]
  },
  {
   "source": [
    "### 18. Xóa các cột thừa đi"
   ],
   "cell_type": "markdown",
   "metadata": {}
  },
  {
   "cell_type": "code",
   "execution_count": 13,
   "metadata": {},
   "outputs": [],
   "source": [
    "raw_data = raw_data.drop(columns=['emoji', 'processing_comment', 'boost_words', 'tokenize'])"
   ]
  },
  {
   "cell_type": "code",
   "execution_count": 14,
   "metadata": {},
   "outputs": [],
   "source": [
    "raw_data = raw_data.reindex(columns=['raw_comment', 'standard_comment', 'label'])"
   ]
  },
  {
   "cell_type": "code",
   "execution_count": 15,
   "metadata": {},
   "outputs": [
    {
     "output_type": "execute_result",
     "data": {
      "text/plain": [
       "                                              raw_comment  \\\n",
       "0       Lần đầu mua tại shop nhưng rất ưng ý, vải mặc ...   \n",
       "1       Giao hàng nhanh, shop xịn xò đặt hàng xong là ...   \n",
       "2       Size vừa vặn luôn, shop mall mà hàng chất lượn...   \n",
       "3       Sản phẩm chất lượng.đóng gói kĩ.shop nhiệt tìn...   \n",
       "4       Chất lượng sản phẩm tuyệt vời giao hàng nhanh ...   \n",
       "...                                                   ...   \n",
       "220099               Nơ xinh đúng chất công chúa đẹpppppp   \n",
       "220100                                 Rất dễ thương, đẹp   \n",
       "220101  Đẹp lắm lun mọi ngừ ơi . Hdhhechhjhshxhdhhxhxh...   \n",
       "220102  Mua 12 món giao đủ. Vừa rẻ vừa chất lượng rất ...   \n",
       "220103  Dây buộc siêu dễ thương nha mn, còn được tặng ...   \n",
       "\n",
       "                                         standard_comment  label  \n",
       "0       lần đầu tại vải mát lót đùi thun sớm mỗi bịch ...      1  \n",
       "1       nhanh xong chủ_động nhắn_tin xác_nhận gói mỗi ...      1  \n",
       "2                    vầy tội mu hả các bác giá_rẻ vừa_vặn      1  \n",
       "3                kĩ nhiệt_tình lần cảm_ơn ủng_hộ đóng_gói      1  \n",
       "4          nhanh dài_dài giao_hàng_nhanh ủng_hộ tuyệt_vời      1  \n",
       "...                                                   ...    ...  \n",
       "220099                             nơ xinh đúng công_chúa      1  \n",
       "220100                                          dễ_thương      1  \n",
       "220101                  mọi ơi học mọi_người đẹp_lắm_luôn      1  \n",
       "220102        món đủ vừa rẻ vừa thích tiếp ủng_hộ giao_đủ      1  \n",
       "220103  dây buộc siêu mọi tặng kèm quà lời cảm_ơn thíc...      1  \n",
       "\n",
       "[220104 rows x 3 columns]"
      ],
      "text/html": "<div>\n<style scoped>\n    .dataframe tbody tr th:only-of-type {\n        vertical-align: middle;\n    }\n\n    .dataframe tbody tr th {\n        vertical-align: top;\n    }\n\n    .dataframe thead th {\n        text-align: right;\n    }\n</style>\n<table border=\"1\" class=\"dataframe\">\n  <thead>\n    <tr style=\"text-align: right;\">\n      <th></th>\n      <th>raw_comment</th>\n      <th>standard_comment</th>\n      <th>label</th>\n    </tr>\n  </thead>\n  <tbody>\n    <tr>\n      <th>0</th>\n      <td>Lần đầu mua tại shop nhưng rất ưng ý, vải mặc ...</td>\n      <td>lần đầu tại vải mát lót đùi thun sớm mỗi bịch ...</td>\n      <td>1</td>\n    </tr>\n    <tr>\n      <th>1</th>\n      <td>Giao hàng nhanh, shop xịn xò đặt hàng xong là ...</td>\n      <td>nhanh xong chủ_động nhắn_tin xác_nhận gói mỗi ...</td>\n      <td>1</td>\n    </tr>\n    <tr>\n      <th>2</th>\n      <td>Size vừa vặn luôn, shop mall mà hàng chất lượn...</td>\n      <td>vầy tội mu hả các bác giá_rẻ vừa_vặn</td>\n      <td>1</td>\n    </tr>\n    <tr>\n      <th>3</th>\n      <td>Sản phẩm chất lượng.đóng gói kĩ.shop nhiệt tìn...</td>\n      <td>kĩ nhiệt_tình lần cảm_ơn ủng_hộ đóng_gói</td>\n      <td>1</td>\n    </tr>\n    <tr>\n      <th>4</th>\n      <td>Chất lượng sản phẩm tuyệt vời giao hàng nhanh ...</td>\n      <td>nhanh dài_dài giao_hàng_nhanh ủng_hộ tuyệt_vời</td>\n      <td>1</td>\n    </tr>\n    <tr>\n      <th>...</th>\n      <td>...</td>\n      <td>...</td>\n      <td>...</td>\n    </tr>\n    <tr>\n      <th>220099</th>\n      <td>Nơ xinh đúng chất công chúa đẹpppppp</td>\n      <td>nơ xinh đúng công_chúa</td>\n      <td>1</td>\n    </tr>\n    <tr>\n      <th>220100</th>\n      <td>Rất dễ thương, đẹp</td>\n      <td>dễ_thương</td>\n      <td>1</td>\n    </tr>\n    <tr>\n      <th>220101</th>\n      <td>Đẹp lắm lun mọi ngừ ơi . Hdhhechhjhshxhdhhxhxh...</td>\n      <td>mọi ơi học mọi_người đẹp_lắm_luôn</td>\n      <td>1</td>\n    </tr>\n    <tr>\n      <th>220102</th>\n      <td>Mua 12 món giao đủ. Vừa rẻ vừa chất lượng rất ...</td>\n      <td>món đủ vừa rẻ vừa thích tiếp ủng_hộ giao_đủ</td>\n      <td>1</td>\n    </tr>\n    <tr>\n      <th>220103</th>\n      <td>Dây buộc siêu dễ thương nha mn, còn được tặng ...</td>\n      <td>dây buộc siêu mọi tặng kèm quà lời cảm_ơn thíc...</td>\n      <td>1</td>\n    </tr>\n  </tbody>\n</table>\n<p>220104 rows × 3 columns</p>\n</div>"
     },
     "metadata": {},
     "execution_count": 15
    }
   ],
   "source": [
    "raw_data"
   ]
  },
  {
   "cell_type": "code",
   "execution_count": 16,
   "metadata": {},
   "outputs": [],
   "source": [
    "raw_data = raw_data[raw_data['standard_comment'] != \"\"]"
   ]
  },
  {
   "cell_type": "code",
   "execution_count": 17,
   "metadata": {},
   "outputs": [
    {
     "output_type": "execute_result",
     "data": {
      "text/plain": [
       "                                              raw_comment  \\\n",
       "0       Lần đầu mua tại shop nhưng rất ưng ý, vải mặc ...   \n",
       "1       Giao hàng nhanh, shop xịn xò đặt hàng xong là ...   \n",
       "2       Size vừa vặn luôn, shop mall mà hàng chất lượn...   \n",
       "3       Sản phẩm chất lượng.đóng gói kĩ.shop nhiệt tìn...   \n",
       "4       Chất lượng sản phẩm tuyệt vời giao hàng nhanh ...   \n",
       "...                                                   ...   \n",
       "220099               Nơ xinh đúng chất công chúa đẹpppppp   \n",
       "220100                                 Rất dễ thương, đẹp   \n",
       "220101  Đẹp lắm lun mọi ngừ ơi . Hdhhechhjhshxhdhhxhxh...   \n",
       "220102  Mua 12 món giao đủ. Vừa rẻ vừa chất lượng rất ...   \n",
       "220103  Dây buộc siêu dễ thương nha mn, còn được tặng ...   \n",
       "\n",
       "                                         standard_comment  label  \n",
       "0       lần đầu tại vải mát lót đùi thun sớm mỗi bịch ...      1  \n",
       "1       nhanh xong chủ_động nhắn_tin xác_nhận gói mỗi ...      1  \n",
       "2                    vầy tội mu hả các bác giá_rẻ vừa_vặn      1  \n",
       "3                kĩ nhiệt_tình lần cảm_ơn ủng_hộ đóng_gói      1  \n",
       "4          nhanh dài_dài giao_hàng_nhanh ủng_hộ tuyệt_vời      1  \n",
       "...                                                   ...    ...  \n",
       "220099                             nơ xinh đúng công_chúa      1  \n",
       "220100                                          dễ_thương      1  \n",
       "220101                  mọi ơi học mọi_người đẹp_lắm_luôn      1  \n",
       "220102        món đủ vừa rẻ vừa thích tiếp ủng_hộ giao_đủ      1  \n",
       "220103  dây buộc siêu mọi tặng kèm quà lời cảm_ơn thíc...      1  \n",
       "\n",
       "[219278 rows x 3 columns]"
      ],
      "text/html": "<div>\n<style scoped>\n    .dataframe tbody tr th:only-of-type {\n        vertical-align: middle;\n    }\n\n    .dataframe tbody tr th {\n        vertical-align: top;\n    }\n\n    .dataframe thead th {\n        text-align: right;\n    }\n</style>\n<table border=\"1\" class=\"dataframe\">\n  <thead>\n    <tr style=\"text-align: right;\">\n      <th></th>\n      <th>raw_comment</th>\n      <th>standard_comment</th>\n      <th>label</th>\n    </tr>\n  </thead>\n  <tbody>\n    <tr>\n      <th>0</th>\n      <td>Lần đầu mua tại shop nhưng rất ưng ý, vải mặc ...</td>\n      <td>lần đầu tại vải mát lót đùi thun sớm mỗi bịch ...</td>\n      <td>1</td>\n    </tr>\n    <tr>\n      <th>1</th>\n      <td>Giao hàng nhanh, shop xịn xò đặt hàng xong là ...</td>\n      <td>nhanh xong chủ_động nhắn_tin xác_nhận gói mỗi ...</td>\n      <td>1</td>\n    </tr>\n    <tr>\n      <th>2</th>\n      <td>Size vừa vặn luôn, shop mall mà hàng chất lượn...</td>\n      <td>vầy tội mu hả các bác giá_rẻ vừa_vặn</td>\n      <td>1</td>\n    </tr>\n    <tr>\n      <th>3</th>\n      <td>Sản phẩm chất lượng.đóng gói kĩ.shop nhiệt tìn...</td>\n      <td>kĩ nhiệt_tình lần cảm_ơn ủng_hộ đóng_gói</td>\n      <td>1</td>\n    </tr>\n    <tr>\n      <th>4</th>\n      <td>Chất lượng sản phẩm tuyệt vời giao hàng nhanh ...</td>\n      <td>nhanh dài_dài giao_hàng_nhanh ủng_hộ tuyệt_vời</td>\n      <td>1</td>\n    </tr>\n    <tr>\n      <th>...</th>\n      <td>...</td>\n      <td>...</td>\n      <td>...</td>\n    </tr>\n    <tr>\n      <th>220099</th>\n      <td>Nơ xinh đúng chất công chúa đẹpppppp</td>\n      <td>nơ xinh đúng công_chúa</td>\n      <td>1</td>\n    </tr>\n    <tr>\n      <th>220100</th>\n      <td>Rất dễ thương, đẹp</td>\n      <td>dễ_thương</td>\n      <td>1</td>\n    </tr>\n    <tr>\n      <th>220101</th>\n      <td>Đẹp lắm lun mọi ngừ ơi . Hdhhechhjhshxhdhhxhxh...</td>\n      <td>mọi ơi học mọi_người đẹp_lắm_luôn</td>\n      <td>1</td>\n    </tr>\n    <tr>\n      <th>220102</th>\n      <td>Mua 12 món giao đủ. Vừa rẻ vừa chất lượng rất ...</td>\n      <td>món đủ vừa rẻ vừa thích tiếp ủng_hộ giao_đủ</td>\n      <td>1</td>\n    </tr>\n    <tr>\n      <th>220103</th>\n      <td>Dây buộc siêu dễ thương nha mn, còn được tặng ...</td>\n      <td>dây buộc siêu mọi tặng kèm quà lời cảm_ơn thíc...</td>\n      <td>1</td>\n    </tr>\n  </tbody>\n</table>\n<p>219278 rows × 3 columns</p>\n</div>"
     },
     "metadata": {},
     "execution_count": 17
    }
   ],
   "source": [
    "raw_data"
   ]
  },
  {
   "source": [
    "### 19. Ghi ra file"
   ],
   "cell_type": "markdown",
   "metadata": {}
  },
  {
   "cell_type": "code",
   "execution_count": 18,
   "metadata": {},
   "outputs": [],
   "source": [
    "raw_data.to_csv(\"./data/standard_data.csv\", index=False)"
   ]
  },
  {
   "cell_type": "code",
   "execution_count": null,
   "metadata": {},
   "outputs": [],
   "source": []
  }
 ]
}