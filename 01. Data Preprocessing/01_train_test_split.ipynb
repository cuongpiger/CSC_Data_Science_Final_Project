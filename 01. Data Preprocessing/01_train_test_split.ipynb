{
 "metadata": {
  "language_info": {
   "codemirror_mode": {
    "name": "ipython",
    "version": 3
   },
   "file_extension": ".py",
   "mimetype": "text/x-python",
   "name": "python",
   "nbconvert_exporter": "python",
   "pygments_lexer": "ipython3",
   "version": "3.8.5"
  },
  "orig_nbformat": 2,
  "kernelspec": {
   "name": "python385jvsc74a57bd031f2aee4e71d21fbe5cf8b01ff0e069b9275f58929596ceb00d14d90e3e16cd6",
   "display_name": "Python 3.8.5 64-bit"
  },
  "metadata": {
   "interpreter": {
    "hash": "31f2aee4e71d21fbe5cf8b01ff0e069b9275f58929596ceb00d14d90e3e16cd6"
   }
  }
 },
 "nbformat": 4,
 "nbformat_minor": 2,
 "cells": [
  {
   "cell_type": "code",
   "execution_count": 1,
   "metadata": {},
   "outputs": [],
   "source": [
    "%load_ext autoreload\n",
    "%autoreload 2"
   ]
  },
  {
   "cell_type": "code",
   "execution_count": 2,
   "metadata": {},
   "outputs": [],
   "source": [
    "import pandas as pd\n",
    "import numpy as np\n",
    "import re\n",
    "import pickle\n",
    "import modules.utils as Utils\n",
    "from modules.regex_patterns import reviews_paths\n",
    "from collections import Counter\n",
    "from underthesea import word_tokenize\n",
    "from sklearn.utils import shuffle\n",
    "from sklearn.feature_extraction.text import TfidfVectorizer\n",
    "from sklearn.model_selection import train_test_split\n",
    "from imblearn.over_sampling import RandomOverSampler"
   ]
  },
  {
   "source": [
    "### 20. Load file lên và shuffle nó"
   ],
   "cell_type": "markdown",
   "metadata": {}
  },
  {
   "cell_type": "code",
   "execution_count": 3,
   "metadata": {},
   "outputs": [],
   "source": [
    "data = pd.read_csv(\"./data/standard_reviews.csv\")"
   ]
  },
  {
   "cell_type": "code",
   "execution_count": 4,
   "metadata": {},
   "outputs": [],
   "source": [
    "data = shuffle(data)"
   ]
  },
  {
   "cell_type": "code",
   "execution_count": 5,
   "metadata": {},
   "outputs": [
    {
     "output_type": "execute_result",
     "data": {
      "text/plain": [
       "                                              raw_comment  \\\n",
       "20177   Giao nhanh, đóng gói kĩ, chất lượng ok, săn sa...   \n",
       "197502  Chất vải mặc khá nóng, form lên cũng vài chỗ k ổn   \n",
       "91317   Đặt cùng Size nhưng mẫu này size lớn so với nh...   \n",
       "131141  Áo khá đẹp. Chất lượng cũng k tệ. Giao hàng hơ...   \n",
       "140468  Áo đẹp không có gì để chê, size vừa vặn, shop ...   \n",
       "...                                                   ...   \n",
       "91109             Đẹp cực luôn nma hơi rộng, ship bị lâu.   \n",
       "37599   Dây chuyền rất xinh. Nhỏ nhỏ rất đáng yêu mà v...   \n",
       "39550   Đã nhận hàng. Ví nhỏ nhỏ xinh xinh nhưng m ở x...   \n",
       "140061  Hình ảnh chỉ mang tính chất nhận xu do mình lư...   \n",
       "29826   Mình nhận được hàng đeo vào thử thì đứt ngang ...   \n",
       "\n",
       "                                         standard_comment  label  \n",
       "20177   giá_rẻ đáng_mua giao_nhanh đóng gói chất_lượng...      1  \n",
       "197502                     không_ổn chất_vải mặc lên cũng      0  \n",
       "91317            đặt nhưng này với nên shop khi nha người      1  \n",
       "131141      tệ khá_đẹp áo chất_lượng cũng không giao hàng      1  \n",
       "140468  áo_đẹp vừa_vặn nên_mua rất_đáng đáng_tiền khôn...      1  \n",
       "...                                                   ...    ...  \n",
       "91109               lâu đẹp_cực hơi_rộng luôn nhưng mà bị      1  \n",
       "37599                        rất_đáng rất mà vẫn chất nhé      1  \n",
       "39550                            nhận_hàng đã nhưng ở nên      1  \n",
       "140061  như_hình hơi_mỏng chỉ chất mình hàng quần có n...      1  \n",
       "29826   làm_ăn không_rep mình được hàng vào thì cho sh...     -1  \n",
       "\n",
       "[201355 rows x 3 columns]"
      ],
      "text/html": "<div>\n<style scoped>\n    .dataframe tbody tr th:only-of-type {\n        vertical-align: middle;\n    }\n\n    .dataframe tbody tr th {\n        vertical-align: top;\n    }\n\n    .dataframe thead th {\n        text-align: right;\n    }\n</style>\n<table border=\"1\" class=\"dataframe\">\n  <thead>\n    <tr style=\"text-align: right;\">\n      <th></th>\n      <th>raw_comment</th>\n      <th>standard_comment</th>\n      <th>label</th>\n    </tr>\n  </thead>\n  <tbody>\n    <tr>\n      <th>20177</th>\n      <td>Giao nhanh, đóng gói kĩ, chất lượng ok, săn sa...</td>\n      <td>giá_rẻ đáng_mua giao_nhanh đóng gói chất_lượng...</td>\n      <td>1</td>\n    </tr>\n    <tr>\n      <th>197502</th>\n      <td>Chất vải mặc khá nóng, form lên cũng vài chỗ k ổn</td>\n      <td>không_ổn chất_vải mặc lên cũng</td>\n      <td>0</td>\n    </tr>\n    <tr>\n      <th>91317</th>\n      <td>Đặt cùng Size nhưng mẫu này size lớn so với nh...</td>\n      <td>đặt nhưng này với nên shop khi nha người</td>\n      <td>1</td>\n    </tr>\n    <tr>\n      <th>131141</th>\n      <td>Áo khá đẹp. Chất lượng cũng k tệ. Giao hàng hơ...</td>\n      <td>tệ khá_đẹp áo chất_lượng cũng không giao hàng</td>\n      <td>1</td>\n    </tr>\n    <tr>\n      <th>140468</th>\n      <td>Áo đẹp không có gì để chê, size vừa vặn, shop ...</td>\n      <td>áo_đẹp vừa_vặn nên_mua rất_đáng đáng_tiền khôn...</td>\n      <td>1</td>\n    </tr>\n    <tr>\n      <th>...</th>\n      <td>...</td>\n      <td>...</td>\n      <td>...</td>\n    </tr>\n    <tr>\n      <th>91109</th>\n      <td>Đẹp cực luôn nma hơi rộng, ship bị lâu.</td>\n      <td>lâu đẹp_cực hơi_rộng luôn nhưng mà bị</td>\n      <td>1</td>\n    </tr>\n    <tr>\n      <th>37599</th>\n      <td>Dây chuyền rất xinh. Nhỏ nhỏ rất đáng yêu mà v...</td>\n      <td>rất_đáng rất mà vẫn chất nhé</td>\n      <td>1</td>\n    </tr>\n    <tr>\n      <th>39550</th>\n      <td>Đã nhận hàng. Ví nhỏ nhỏ xinh xinh nhưng m ở x...</td>\n      <td>nhận_hàng đã nhưng ở nên</td>\n      <td>1</td>\n    </tr>\n    <tr>\n      <th>140061</th>\n      <td>Hình ảnh chỉ mang tính chất nhận xu do mình lư...</td>\n      <td>như_hình hơi_mỏng chỉ chất mình hàng quần có n...</td>\n      <td>1</td>\n    </tr>\n    <tr>\n      <th>29826</th>\n      <td>Mình nhận được hàng đeo vào thử thì đứt ngang ...</td>\n      <td>làm_ăn không_rep mình được hàng vào thì cho sh...</td>\n      <td>-1</td>\n    </tr>\n  </tbody>\n</table>\n<p>201355 rows × 3 columns</p>\n</div>"
     },
     "metadata": {},
     "execution_count": 5
    }
   ],
   "source": [
    "data"
   ]
  },
  {
   "source": [
    "### 21. Kiểm tra số mẫu giữa các nhóm"
   ],
   "cell_type": "markdown",
   "metadata": {}
  },
  {
   "cell_type": "code",
   "execution_count": 6,
   "metadata": {},
   "outputs": [],
   "source": [
    "no_samples_each_group = data[['label', 'standard_comment']].groupby(['label']).count()"
   ]
  },
  {
   "cell_type": "code",
   "execution_count": 7,
   "metadata": {},
   "outputs": [
    {
     "output_type": "execute_result",
     "data": {
      "text/plain": [
       "       standard_comment\n",
       "label                  \n",
       "-1                 3239\n",
       " 0                11014\n",
       " 1               187102"
      ],
      "text/html": "<div>\n<style scoped>\n    .dataframe tbody tr th:only-of-type {\n        vertical-align: middle;\n    }\n\n    .dataframe tbody tr th {\n        vertical-align: top;\n    }\n\n    .dataframe thead th {\n        text-align: right;\n    }\n</style>\n<table border=\"1\" class=\"dataframe\">\n  <thead>\n    <tr style=\"text-align: right;\">\n      <th></th>\n      <th>standard_comment</th>\n    </tr>\n    <tr>\n      <th>label</th>\n      <th></th>\n    </tr>\n  </thead>\n  <tbody>\n    <tr>\n      <th>-1</th>\n      <td>3239</td>\n    </tr>\n    <tr>\n      <th>0</th>\n      <td>11014</td>\n    </tr>\n    <tr>\n      <th>1</th>\n      <td>187102</td>\n    </tr>\n  </tbody>\n</table>\n</div>"
     },
     "metadata": {},
     "execution_count": 7
    }
   ],
   "source": [
    "no_samples_each_group"
   ]
  },
  {
   "source": [
    "> **Nhận xét**:\n",
    "> * Số lượng mẫu giữa các group không đều.\n",
    ">\n",
    "> $\\Rightarrow$ thực hiện oversampling"
   ],
   "cell_type": "markdown",
   "metadata": {}
  },
  {
   "source": [
    "### 22. Tạo tập `final_data`"
   ],
   "cell_type": "markdown",
   "metadata": {}
  },
  {
   "cell_type": "code",
   "execution_count": 8,
   "metadata": {},
   "outputs": [],
   "source": [
    "no_samples_each_group = no_samples_each_group['standard_comment'].to_list()"
   ]
  },
  {
   "cell_type": "code",
   "execution_count": 9,
   "metadata": {},
   "outputs": [],
   "source": [
    "negative = data.label[data.label.eq(-1)].sample(no_samples_each_group[0]).index\n",
    "normal = data.label[data.label.eq(0)].sample(no_samples_each_group[1]).index\n",
    "positive = data.label[data.label.eq(1)].sample(no_samples_each_group[1]).index\n",
    "\n",
    "final_data = data.loc[negative.union(normal).union(positive)]"
   ]
  },
  {
   "cell_type": "code",
   "execution_count": 10,
   "metadata": {},
   "outputs": [],
   "source": [
    "final_data = shuffle(final_data)"
   ]
  },
  {
   "cell_type": "code",
   "execution_count": 11,
   "metadata": {},
   "outputs": [
    {
     "output_type": "execute_result",
     "data": {
      "text/plain": [
       "                                              raw_comment  \\\n",
       "174442     Chất lượng lắm ạ :3 có hộp đàng hoàng luônnn ạ   \n",
       "102056  Sản phẩm đúng mẫu mã kiểu dáng, mẫu mã, đóng h...   \n",
       "19187   Shop giao đủ\\nTuy nhiên sản phẩm không giống h...   \n",
       "196050  Quần mua với giá 139k, mình 1m78 63kg mặc size...   \n",
       "158499  Hàng đep giá cũng rẻ giao hàng nhanh mình rất ...   \n",
       "...                                                   ...   \n",
       "125529  Mình đặt mẫu with diamond cỡ 6 , mà giao nhẫn ...   \n",
       "25818   Dễ hỏng, vừa mua đã hỏng 1 cái!!!!!!!!!!!!!!!!!!!   \n",
       "137986                        K đẹp lắm, chất len bai dão   \n",
       "183108  Shop gửi hàng nhanh. Đóng gói đơn hàng cẩn thậ...   \n",
       "56173   Vải ok!! Giao đủ áo quần, đóng gói tốt!! Nhưng...   \n",
       "\n",
       "                                         standard_comment  label  \n",
       "174442                         chất_lượng lắm ạ có luôn ạ      1  \n",
       "102056           cẩn_thận sản_phẩm đóng hàng và giao hàng      1  \n",
       "19187   giao_đủ không_cho không_giống_hình shop sản_ph...      0  \n",
       "196050  chật tạm_ổn cũng_tạm hơi_mỏng không_mặc quần m...      0  \n",
       "158499  ủng_hộ hàng_đẹp rất_hài_lòng giao_hàng_nhanh c...      1  \n",
       "...                                                   ...    ...  \n",
       "125529                 cũng_được mình đặt mà giao mà thôi     -1  \n",
       "25818                                          mua đã cái     -1  \n",
       "137986                       đẹp_lắm không_đẹp không chất      0  \n",
       "183108       cẩn_thận shop hàng đóng_gói hàng sản_phẩm ok      1  \n",
       "56173   giao_đủ không_mặc ok áo_quần đóng_gói nhưng nó...      0  \n",
       "\n",
       "[25267 rows x 3 columns]"
      ],
      "text/html": "<div>\n<style scoped>\n    .dataframe tbody tr th:only-of-type {\n        vertical-align: middle;\n    }\n\n    .dataframe tbody tr th {\n        vertical-align: top;\n    }\n\n    .dataframe thead th {\n        text-align: right;\n    }\n</style>\n<table border=\"1\" class=\"dataframe\">\n  <thead>\n    <tr style=\"text-align: right;\">\n      <th></th>\n      <th>raw_comment</th>\n      <th>standard_comment</th>\n      <th>label</th>\n    </tr>\n  </thead>\n  <tbody>\n    <tr>\n      <th>174442</th>\n      <td>Chất lượng lắm ạ :3 có hộp đàng hoàng luônnn ạ</td>\n      <td>chất_lượng lắm ạ có luôn ạ</td>\n      <td>1</td>\n    </tr>\n    <tr>\n      <th>102056</th>\n      <td>Sản phẩm đúng mẫu mã kiểu dáng, mẫu mã, đóng h...</td>\n      <td>cẩn_thận sản_phẩm đóng hàng và giao hàng</td>\n      <td>1</td>\n    </tr>\n    <tr>\n      <th>19187</th>\n      <td>Shop giao đủ\\nTuy nhiên sản phẩm không giống h...</td>\n      <td>giao_đủ không_cho không_giống_hình shop sản_ph...</td>\n      <td>0</td>\n    </tr>\n    <tr>\n      <th>196050</th>\n      <td>Quần mua với giá 139k, mình 1m78 63kg mặc size...</td>\n      <td>chật tạm_ổn cũng_tạm hơi_mỏng không_mặc quần m...</td>\n      <td>0</td>\n    </tr>\n    <tr>\n      <th>158499</th>\n      <td>Hàng đep giá cũng rẻ giao hàng nhanh mình rất ...</td>\n      <td>ủng_hộ hàng_đẹp rất_hài_lòng giao_hàng_nhanh c...</td>\n      <td>1</td>\n    </tr>\n    <tr>\n      <th>...</th>\n      <td>...</td>\n      <td>...</td>\n      <td>...</td>\n    </tr>\n    <tr>\n      <th>125529</th>\n      <td>Mình đặt mẫu with diamond cỡ 6 , mà giao nhẫn ...</td>\n      <td>cũng_được mình đặt mà giao mà thôi</td>\n      <td>-1</td>\n    </tr>\n    <tr>\n      <th>25818</th>\n      <td>Dễ hỏng, vừa mua đã hỏng 1 cái!!!!!!!!!!!!!!!!!!!</td>\n      <td>mua đã cái</td>\n      <td>-1</td>\n    </tr>\n    <tr>\n      <th>137986</th>\n      <td>K đẹp lắm, chất len bai dão</td>\n      <td>đẹp_lắm không_đẹp không chất</td>\n      <td>0</td>\n    </tr>\n    <tr>\n      <th>183108</th>\n      <td>Shop gửi hàng nhanh. Đóng gói đơn hàng cẩn thậ...</td>\n      <td>cẩn_thận shop hàng đóng_gói hàng sản_phẩm ok</td>\n      <td>1</td>\n    </tr>\n    <tr>\n      <th>56173</th>\n      <td>Vải ok!! Giao đủ áo quần, đóng gói tốt!! Nhưng...</td>\n      <td>giao_đủ không_mặc ok áo_quần đóng_gói nhưng nó...</td>\n      <td>0</td>\n    </tr>\n  </tbody>\n</table>\n<p>25267 rows × 3 columns</p>\n</div>"
     },
     "metadata": {},
     "execution_count": 11
    }
   ],
   "source": [
    "final_data"
   ]
  },
  {
   "cell_type": "code",
   "execution_count": 12,
   "metadata": {},
   "outputs": [],
   "source": [
    "final_data = final_data.reset_index(drop=True)"
   ]
  },
  {
   "source": [
    "### 23. Thực hiện TF-IDF với `ngram_range=(1, 4)`"
   ],
   "cell_type": "markdown",
   "metadata": {}
  },
  {
   "cell_type": "code",
   "execution_count": 13,
   "metadata": {},
   "outputs": [
    {
     "output_type": "execute_result",
     "data": {
      "text/plain": [
       "TfidfVectorizer(min_df=5, ngram_range=(1, 4), sublinear_tf=True)"
      ]
     },
     "metadata": {},
     "execution_count": 13
    }
   ],
   "source": [
    "tf_idf = TfidfVectorizer(sublinear_tf=True, min_df=5, norm='l2', encoding='utf-8', ngram_range=(1, 4))\n",
    "tf_idf.fit(final_data['standard_comment'])"
   ]
  },
  {
   "source": [
    "### 24. Tạo tập input `X` và output `y`"
   ],
   "cell_type": "markdown",
   "metadata": {}
  },
  {
   "cell_type": "code",
   "execution_count": 14,
   "metadata": {},
   "outputs": [],
   "source": [
    "X = tf_idf.transform(final_data['standard_comment'])\n",
    "y = final_data['label']"
   ]
  },
  {
   "source": [
    "### 25. Thực hiện over-sampling"
   ],
   "cell_type": "markdown",
   "metadata": {}
  },
  {
   "cell_type": "code",
   "execution_count": 15,
   "metadata": {},
   "outputs": [],
   "source": [
    "ros = RandomOverSampler()\n",
    "X_ros, y_ros = ros.fit_resample(X, y)"
   ]
  },
  {
   "cell_type": "code",
   "execution_count": 16,
   "metadata": {},
   "outputs": [
    {
     "output_type": "execute_result",
     "data": {
      "text/plain": [
       "Counter({1: 11014, 0: 11014, -1: 11014})"
      ]
     },
     "metadata": {},
     "execution_count": 16
    }
   ],
   "source": [
    "Counter(y_ros)"
   ]
  },
  {
   "source": [
    "### 26. Train test split"
   ],
   "cell_type": "markdown",
   "metadata": {}
  },
  {
   "source": [
    "X_train, X_test, y_train, y_test = train_test_split(X_ros, y_ros, test_size=0.2, random_state=100, shuffle=True)"
   ],
   "cell_type": "code",
   "metadata": {},
   "execution_count": 17,
   "outputs": []
  },
  {
   "source": [
    "### 27. Lưu lại `final_data`, `tf_idf`, `X_train`, `X_test`, `y_train`, `y_test`"
   ],
   "cell_type": "markdown",
   "metadata": {}
  },
  {
   "cell_type": "code",
   "execution_count": 18,
   "metadata": {},
   "outputs": [],
   "source": [
    "final_data.to_csv(\"./data/final_data.csv\", index=False)"
   ]
  },
  {
   "cell_type": "code",
   "execution_count": 19,
   "metadata": {},
   "outputs": [],
   "source": [
    "pickle.dump(tf_idf, open(\"./data/tf_idf.pickle\", \"wb\"))\n",
    "pickle.dump(X_train, open(\"./data/X_train.pickle\", \"wb\"))\n",
    "pickle.dump(X_test, open(\"./data/X_test.pickle\", \"wb\"))\n",
    "pickle.dump(y_train, open(\"./data/y_train.pickle\", \"wb\"))\n",
    "pickle.dump(y_test, open(\"./data/y_test.pickle\", \"wb\"))"
   ]
  }
 ]
}