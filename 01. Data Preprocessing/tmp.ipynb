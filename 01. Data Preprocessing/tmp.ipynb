{
 "metadata": {
  "language_info": {
   "codemirror_mode": {
    "name": "ipython",
    "version": 3
   },
   "file_extension": ".py",
   "mimetype": "text/x-python",
   "name": "python",
   "nbconvert_exporter": "python",
   "pygments_lexer": "ipython3",
   "version": "3.8.5"
  },
  "orig_nbformat": 2,
  "kernelspec": {
   "name": "python3",
   "display_name": "Python 3",
   "language": "python"
  }
 },
 "nbformat": 4,
 "nbformat_minor": 2,
 "cells": [
  {
   "cell_type": "code",
   "execution_count": 1,
   "metadata": {},
   "outputs": [],
   "source": [
    "%load_ext autoreload\n",
    "%autoreload 2"
   ]
  },
  {
   "cell_type": "code",
   "execution_count": 2,
   "metadata": {},
   "outputs": [],
   "source": [
    "import numpy as np\n",
    "import pandas as pd\n",
    "import os\n",
    "import modules.utils as Utils\n",
    "import re\n",
    "\n",
    "from collections import Counter\n",
    "from textblob import TextBlob\n",
    "from underthesea import word_tokenize\n",
    "from typing import List"
   ]
  },
  {
   "source": [
    "# 1. Đọc dữ liệu"
   ],
   "cell_type": "markdown",
   "metadata": {}
  },
  {
   "cell_type": "code",
   "execution_count": 3,
   "metadata": {},
   "outputs": [],
   "source": [
    "reviews = pd.read_csv(\"../00. Data Scraping/data/reviews.csv\")"
   ]
  },
  {
   "source": [
    "# 2. Xóa các mẫu chứa URL"
   ],
   "cell_type": "markdown",
   "metadata": {}
  },
  {
   "cell_type": "code",
   "execution_count": 4,
   "metadata": {},
   "outputs": [],
   "source": [
    "reviews['contain_url'] = reviews['raw_comment'].apply(lambda comment: 1 if Utils.containsURL(comment.lower()) else 0)"
   ]
  },
  {
   "cell_type": "code",
   "execution_count": 5,
   "metadata": {},
   "outputs": [],
   "source": [
    "reviews = reviews[reviews['contain_url'] == 0]\n",
    "reviews = reviews.drop(columns=['contain_url']).reset_index(drop=True)"
   ]
  },
  {
   "cell_type": "code",
   "execution_count": 6,
   "metadata": {},
   "outputs": [
    {
     "output_type": "execute_result",
     "data": {
      "text/plain": [
       "                                              raw_comment  label\n",
       "0       Hàng đẹp y ảnh. Nên mua nha mọi người. Shop gi...      1\n",
       "1       Đóng gói sản phẩm rất đẹp và chắc chắn. Sản ph...      1\n",
       "2       ♛Welcome to SeaWheat Life Store!♛\\n⚡✨ Happy sh...      1\n",
       "3       Khá xinh nha các bạn, chất lượng quá tuyệt vời...      1\n",
       "4       Chất lượng quá oke ngoài sức mong đợi luôn ạ q...      1\n",
       "...                                                   ...    ...\n",
       "277584  Giao hàng quá chậm. 10 ngày mới có hàng. Sản p...      0\n",
       "277585  Thời gian giao hàng dài. Chất vải tạm ổn với g...      0\n",
       "277586                               Cũng ổn nhìn hay hay      0\n",
       "277587                  nhỏ xíu , ship 2 tuần , thất vọng     -1\n",
       "277588                                            Quá oke      1\n",
       "\n",
       "[277589 rows x 2 columns]"
      ],
      "text/html": "<div>\n<style scoped>\n    .dataframe tbody tr th:only-of-type {\n        vertical-align: middle;\n    }\n\n    .dataframe tbody tr th {\n        vertical-align: top;\n    }\n\n    .dataframe thead th {\n        text-align: right;\n    }\n</style>\n<table border=\"1\" class=\"dataframe\">\n  <thead>\n    <tr style=\"text-align: right;\">\n      <th></th>\n      <th>raw_comment</th>\n      <th>label</th>\n    </tr>\n  </thead>\n  <tbody>\n    <tr>\n      <th>0</th>\n      <td>Hàng đẹp y ảnh. Nên mua nha mọi người. Shop gi...</td>\n      <td>1</td>\n    </tr>\n    <tr>\n      <th>1</th>\n      <td>Đóng gói sản phẩm rất đẹp và chắc chắn. Sản ph...</td>\n      <td>1</td>\n    </tr>\n    <tr>\n      <th>2</th>\n      <td>♛Welcome to SeaWheat Life Store!♛\\n⚡✨ Happy sh...</td>\n      <td>1</td>\n    </tr>\n    <tr>\n      <th>3</th>\n      <td>Khá xinh nha các bạn, chất lượng quá tuyệt vời...</td>\n      <td>1</td>\n    </tr>\n    <tr>\n      <th>4</th>\n      <td>Chất lượng quá oke ngoài sức mong đợi luôn ạ q...</td>\n      <td>1</td>\n    </tr>\n    <tr>\n      <th>...</th>\n      <td>...</td>\n      <td>...</td>\n    </tr>\n    <tr>\n      <th>277584</th>\n      <td>Giao hàng quá chậm. 10 ngày mới có hàng. Sản p...</td>\n      <td>0</td>\n    </tr>\n    <tr>\n      <th>277585</th>\n      <td>Thời gian giao hàng dài. Chất vải tạm ổn với g...</td>\n      <td>0</td>\n    </tr>\n    <tr>\n      <th>277586</th>\n      <td>Cũng ổn nhìn hay hay</td>\n      <td>0</td>\n    </tr>\n    <tr>\n      <th>277587</th>\n      <td>nhỏ xíu , ship 2 tuần , thất vọng</td>\n      <td>-1</td>\n    </tr>\n    <tr>\n      <th>277588</th>\n      <td>Quá oke</td>\n      <td>1</td>\n    </tr>\n  </tbody>\n</table>\n<p>277589 rows × 2 columns</p>\n</div>"
     },
     "metadata": {},
     "execution_count": 6
    }
   ],
   "source": [
    "reviews"
   ]
  },
  {
   "source": [
    "# 3. Tạo cột `preprocess_comment`"
   ],
   "cell_type": "markdown",
   "metadata": {}
  },
  {
   "cell_type": "code",
   "execution_count": 7,
   "metadata": {},
   "outputs": [],
   "source": [
    "reviews['processing_comment'] = reviews['raw_comment'].apply(lambda comment: Utils.createPreprocessColumn(comment))"
   ]
  },
  {
   "cell_type": "code",
   "execution_count": 8,
   "metadata": {},
   "outputs": [
    {
     "output_type": "execute_result",
     "data": {
      "text/plain": [
       "                                              raw_comment  label  \\\n",
       "0       Hàng đẹp y ảnh. Nên mua nha mọi người. Shop gi...      1   \n",
       "1       Đóng gói sản phẩm rất đẹp và chắc chắn. Sản ph...      1   \n",
       "2       ♛Welcome to SeaWheat Life Store!♛\\n⚡✨ Happy sh...      1   \n",
       "3       Khá xinh nha các bạn, chất lượng quá tuyệt vời...      1   \n",
       "4       Chất lượng quá oke ngoài sức mong đợi luôn ạ q...      1   \n",
       "...                                                   ...    ...   \n",
       "277584  Giao hàng quá chậm. 10 ngày mới có hàng. Sản p...      0   \n",
       "277585  Thời gian giao hàng dài. Chất vải tạm ổn với g...      0   \n",
       "277586                               Cũng ổn nhìn hay hay      0   \n",
       "277587                  nhỏ xíu , ship 2 tuần , thất vọng     -1   \n",
       "277588                                            Quá oke      1   \n",
       "\n",
       "                                       processing_comment  \n",
       "0       hàng đẹp y ảnh nên mua nha mọi người shop giao...  \n",
       "1       đóng gói sản phẩm rất đẹp và chắc chắn sản phẩ...  \n",
       "2       welcome to seawheat life store hapy shoping ki...  \n",
       "3       khá xinh nha các bạn chất lượng quá tuyệt vời ...  \n",
       "4       chất lượng quá oke ngoài sức mong đợi luôn ạ q...  \n",
       "...                                                   ...  \n",
       "277584  giao hàng quá chậm ngày mới có hàng sản phẩm t...  \n",
       "277585  thời gian giao hàng dài chất vải tạm ổn với gi...  \n",
       "277586                               cũng ổn nhìn hay hay  \n",
       "277587                        nhỏ xíu ship tuần thất vọng  \n",
       "277588                                            quá oke  \n",
       "\n",
       "[277589 rows x 3 columns]"
      ],
      "text/html": "<div>\n<style scoped>\n    .dataframe tbody tr th:only-of-type {\n        vertical-align: middle;\n    }\n\n    .dataframe tbody tr th {\n        vertical-align: top;\n    }\n\n    .dataframe thead th {\n        text-align: right;\n    }\n</style>\n<table border=\"1\" class=\"dataframe\">\n  <thead>\n    <tr style=\"text-align: right;\">\n      <th></th>\n      <th>raw_comment</th>\n      <th>label</th>\n      <th>processing_comment</th>\n    </tr>\n  </thead>\n  <tbody>\n    <tr>\n      <th>0</th>\n      <td>Hàng đẹp y ảnh. Nên mua nha mọi người. Shop gi...</td>\n      <td>1</td>\n      <td>hàng đẹp y ảnh nên mua nha mọi người shop giao...</td>\n    </tr>\n    <tr>\n      <th>1</th>\n      <td>Đóng gói sản phẩm rất đẹp và chắc chắn. Sản ph...</td>\n      <td>1</td>\n      <td>đóng gói sản phẩm rất đẹp và chắc chắn sản phẩ...</td>\n    </tr>\n    <tr>\n      <th>2</th>\n      <td>♛Welcome to SeaWheat Life Store!♛\\n⚡✨ Happy sh...</td>\n      <td>1</td>\n      <td>welcome to seawheat life store hapy shoping ki...</td>\n    </tr>\n    <tr>\n      <th>3</th>\n      <td>Khá xinh nha các bạn, chất lượng quá tuyệt vời...</td>\n      <td>1</td>\n      <td>khá xinh nha các bạn chất lượng quá tuyệt vời ...</td>\n    </tr>\n    <tr>\n      <th>4</th>\n      <td>Chất lượng quá oke ngoài sức mong đợi luôn ạ q...</td>\n      <td>1</td>\n      <td>chất lượng quá oke ngoài sức mong đợi luôn ạ q...</td>\n    </tr>\n    <tr>\n      <th>...</th>\n      <td>...</td>\n      <td>...</td>\n      <td>...</td>\n    </tr>\n    <tr>\n      <th>277584</th>\n      <td>Giao hàng quá chậm. 10 ngày mới có hàng. Sản p...</td>\n      <td>0</td>\n      <td>giao hàng quá chậm ngày mới có hàng sản phẩm t...</td>\n    </tr>\n    <tr>\n      <th>277585</th>\n      <td>Thời gian giao hàng dài. Chất vải tạm ổn với g...</td>\n      <td>0</td>\n      <td>thời gian giao hàng dài chất vải tạm ổn với gi...</td>\n    </tr>\n    <tr>\n      <th>277586</th>\n      <td>Cũng ổn nhìn hay hay</td>\n      <td>0</td>\n      <td>cũng ổn nhìn hay hay</td>\n    </tr>\n    <tr>\n      <th>277587</th>\n      <td>nhỏ xíu , ship 2 tuần , thất vọng</td>\n      <td>-1</td>\n      <td>nhỏ xíu ship tuần thất vọng</td>\n    </tr>\n    <tr>\n      <th>277588</th>\n      <td>Quá oke</td>\n      <td>1</td>\n      <td>quá oke</td>\n    </tr>\n  </tbody>\n</table>\n<p>277589 rows × 3 columns</p>\n</div>"
     },
     "metadata": {},
     "execution_count": 8
    }
   ],
   "source": [
    "reviews"
   ]
  },
  {
   "source": [
    "# 4. Xóa các mẫu chỉ chứa mỗi comment là `ok`"
   ],
   "cell_type": "markdown",
   "metadata": {}
  },
  {
   "cell_type": "code",
   "execution_count": 9,
   "metadata": {},
   "outputs": [],
   "source": [
    "reviews = reviews.loc[reviews['raw_comment'] != \"ok\"]\n",
    "reviews = reviews.reset_index(drop=True)"
   ]
  },
  {
   "cell_type": "code",
   "execution_count": 10,
   "metadata": {},
   "outputs": [
    {
     "output_type": "execute_result",
     "data": {
      "text/plain": [
       "                                              raw_comment  label  \\\n",
       "0       Hàng đẹp y ảnh. Nên mua nha mọi người. Shop gi...      1   \n",
       "1       Đóng gói sản phẩm rất đẹp và chắc chắn. Sản ph...      1   \n",
       "2       ♛Welcome to SeaWheat Life Store!♛\\n⚡✨ Happy sh...      1   \n",
       "3       Khá xinh nha các bạn, chất lượng quá tuyệt vời...      1   \n",
       "4       Chất lượng quá oke ngoài sức mong đợi luôn ạ q...      1   \n",
       "...                                                   ...    ...   \n",
       "277295  Giao hàng quá chậm. 10 ngày mới có hàng. Sản p...      0   \n",
       "277296  Thời gian giao hàng dài. Chất vải tạm ổn với g...      0   \n",
       "277297                               Cũng ổn nhìn hay hay      0   \n",
       "277298                  nhỏ xíu , ship 2 tuần , thất vọng     -1   \n",
       "277299                                            Quá oke      1   \n",
       "\n",
       "                                       processing_comment  \n",
       "0       hàng đẹp y ảnh nên mua nha mọi người shop giao...  \n",
       "1       đóng gói sản phẩm rất đẹp và chắc chắn sản phẩ...  \n",
       "2       welcome to seawheat life store hapy shoping ki...  \n",
       "3       khá xinh nha các bạn chất lượng quá tuyệt vời ...  \n",
       "4       chất lượng quá oke ngoài sức mong đợi luôn ạ q...  \n",
       "...                                                   ...  \n",
       "277295  giao hàng quá chậm ngày mới có hàng sản phẩm t...  \n",
       "277296  thời gian giao hàng dài chất vải tạm ổn với gi...  \n",
       "277297                               cũng ổn nhìn hay hay  \n",
       "277298                        nhỏ xíu ship tuần thất vọng  \n",
       "277299                                            quá oke  \n",
       "\n",
       "[277300 rows x 3 columns]"
      ],
      "text/html": "<div>\n<style scoped>\n    .dataframe tbody tr th:only-of-type {\n        vertical-align: middle;\n    }\n\n    .dataframe tbody tr th {\n        vertical-align: top;\n    }\n\n    .dataframe thead th {\n        text-align: right;\n    }\n</style>\n<table border=\"1\" class=\"dataframe\">\n  <thead>\n    <tr style=\"text-align: right;\">\n      <th></th>\n      <th>raw_comment</th>\n      <th>label</th>\n      <th>processing_comment</th>\n    </tr>\n  </thead>\n  <tbody>\n    <tr>\n      <th>0</th>\n      <td>Hàng đẹp y ảnh. Nên mua nha mọi người. Shop gi...</td>\n      <td>1</td>\n      <td>hàng đẹp y ảnh nên mua nha mọi người shop giao...</td>\n    </tr>\n    <tr>\n      <th>1</th>\n      <td>Đóng gói sản phẩm rất đẹp và chắc chắn. Sản ph...</td>\n      <td>1</td>\n      <td>đóng gói sản phẩm rất đẹp và chắc chắn sản phẩ...</td>\n    </tr>\n    <tr>\n      <th>2</th>\n      <td>♛Welcome to SeaWheat Life Store!♛\\n⚡✨ Happy sh...</td>\n      <td>1</td>\n      <td>welcome to seawheat life store hapy shoping ki...</td>\n    </tr>\n    <tr>\n      <th>3</th>\n      <td>Khá xinh nha các bạn, chất lượng quá tuyệt vời...</td>\n      <td>1</td>\n      <td>khá xinh nha các bạn chất lượng quá tuyệt vời ...</td>\n    </tr>\n    <tr>\n      <th>4</th>\n      <td>Chất lượng quá oke ngoài sức mong đợi luôn ạ q...</td>\n      <td>1</td>\n      <td>chất lượng quá oke ngoài sức mong đợi luôn ạ q...</td>\n    </tr>\n    <tr>\n      <th>...</th>\n      <td>...</td>\n      <td>...</td>\n      <td>...</td>\n    </tr>\n    <tr>\n      <th>277295</th>\n      <td>Giao hàng quá chậm. 10 ngày mới có hàng. Sản p...</td>\n      <td>0</td>\n      <td>giao hàng quá chậm ngày mới có hàng sản phẩm t...</td>\n    </tr>\n    <tr>\n      <th>277296</th>\n      <td>Thời gian giao hàng dài. Chất vải tạm ổn với g...</td>\n      <td>0</td>\n      <td>thời gian giao hàng dài chất vải tạm ổn với gi...</td>\n    </tr>\n    <tr>\n      <th>277297</th>\n      <td>Cũng ổn nhìn hay hay</td>\n      <td>0</td>\n      <td>cũng ổn nhìn hay hay</td>\n    </tr>\n    <tr>\n      <th>277298</th>\n      <td>nhỏ xíu , ship 2 tuần , thất vọng</td>\n      <td>-1</td>\n      <td>nhỏ xíu ship tuần thất vọng</td>\n    </tr>\n    <tr>\n      <th>277299</th>\n      <td>Quá oke</td>\n      <td>1</td>\n      <td>quá oke</td>\n    </tr>\n  </tbody>\n</table>\n<p>277300 rows × 3 columns</p>\n</div>"
     },
     "metadata": {},
     "execution_count": 10
    }
   ],
   "source": [
    "reviews"
   ]
  },
  {
   "source": [
    "# 5. Xóa các mẫu mà chữ IN HOA chiếm quá 50% độ dài của comment (khả năng cao là quảng cáo)"
   ],
   "cell_type": "markdown",
   "metadata": {}
  },
  {
   "cell_type": "code",
   "execution_count": 11,
   "metadata": {},
   "outputs": [],
   "source": [
    "reviews['contain_adv'] = reviews['raw_comment'].apply(lambda comment: 1 if Utils.containAdvertisement(comment) else 0)"
   ]
  },
  {
   "cell_type": "code",
   "execution_count": 12,
   "metadata": {},
   "outputs": [],
   "source": [
    "reviews = reviews[reviews['contain_adv'] == 0]\n",
    "reviews = reviews.drop(columns=['contain_adv']).reset_index(drop=True)"
   ]
  },
  {
   "cell_type": "code",
   "execution_count": 13,
   "metadata": {},
   "outputs": [
    {
     "output_type": "execute_result",
     "data": {
      "text/plain": [
       "                                              raw_comment  label  \\\n",
       "0       Hàng đẹp y ảnh. Nên mua nha mọi người. Shop gi...      1   \n",
       "1       Đóng gói sản phẩm rất đẹp và chắc chắn. Sản ph...      1   \n",
       "2       ♛Welcome to SeaWheat Life Store!♛\\n⚡✨ Happy sh...      1   \n",
       "3       Khá xinh nha các bạn, chất lượng quá tuyệt vời...      1   \n",
       "4       Chất lượng quá oke ngoài sức mong đợi luôn ạ q...      1   \n",
       "...                                                   ...    ...   \n",
       "273832  Giao hàng quá chậm. 10 ngày mới có hàng. Sản p...      0   \n",
       "273833  Thời gian giao hàng dài. Chất vải tạm ổn với g...      0   \n",
       "273834                               Cũng ổn nhìn hay hay      0   \n",
       "273835                  nhỏ xíu , ship 2 tuần , thất vọng     -1   \n",
       "273836                                            Quá oke      1   \n",
       "\n",
       "                                       processing_comment  \n",
       "0       hàng đẹp y ảnh nên mua nha mọi người shop giao...  \n",
       "1       đóng gói sản phẩm rất đẹp và chắc chắn sản phẩ...  \n",
       "2       welcome to seawheat life store hapy shoping ki...  \n",
       "3       khá xinh nha các bạn chất lượng quá tuyệt vời ...  \n",
       "4       chất lượng quá oke ngoài sức mong đợi luôn ạ q...  \n",
       "...                                                   ...  \n",
       "273832  giao hàng quá chậm ngày mới có hàng sản phẩm t...  \n",
       "273833  thời gian giao hàng dài chất vải tạm ổn với gi...  \n",
       "273834                               cũng ổn nhìn hay hay  \n",
       "273835                        nhỏ xíu ship tuần thất vọng  \n",
       "273836                                            quá oke  \n",
       "\n",
       "[273837 rows x 3 columns]"
      ],
      "text/html": "<div>\n<style scoped>\n    .dataframe tbody tr th:only-of-type {\n        vertical-align: middle;\n    }\n\n    .dataframe tbody tr th {\n        vertical-align: top;\n    }\n\n    .dataframe thead th {\n        text-align: right;\n    }\n</style>\n<table border=\"1\" class=\"dataframe\">\n  <thead>\n    <tr style=\"text-align: right;\">\n      <th></th>\n      <th>raw_comment</th>\n      <th>label</th>\n      <th>processing_comment</th>\n    </tr>\n  </thead>\n  <tbody>\n    <tr>\n      <th>0</th>\n      <td>Hàng đẹp y ảnh. Nên mua nha mọi người. Shop gi...</td>\n      <td>1</td>\n      <td>hàng đẹp y ảnh nên mua nha mọi người shop giao...</td>\n    </tr>\n    <tr>\n      <th>1</th>\n      <td>Đóng gói sản phẩm rất đẹp và chắc chắn. Sản ph...</td>\n      <td>1</td>\n      <td>đóng gói sản phẩm rất đẹp và chắc chắn sản phẩ...</td>\n    </tr>\n    <tr>\n      <th>2</th>\n      <td>♛Welcome to SeaWheat Life Store!♛\\n⚡✨ Happy sh...</td>\n      <td>1</td>\n      <td>welcome to seawheat life store hapy shoping ki...</td>\n    </tr>\n    <tr>\n      <th>3</th>\n      <td>Khá xinh nha các bạn, chất lượng quá tuyệt vời...</td>\n      <td>1</td>\n      <td>khá xinh nha các bạn chất lượng quá tuyệt vời ...</td>\n    </tr>\n    <tr>\n      <th>4</th>\n      <td>Chất lượng quá oke ngoài sức mong đợi luôn ạ q...</td>\n      <td>1</td>\n      <td>chất lượng quá oke ngoài sức mong đợi luôn ạ q...</td>\n    </tr>\n    <tr>\n      <th>...</th>\n      <td>...</td>\n      <td>...</td>\n      <td>...</td>\n    </tr>\n    <tr>\n      <th>273832</th>\n      <td>Giao hàng quá chậm. 10 ngày mới có hàng. Sản p...</td>\n      <td>0</td>\n      <td>giao hàng quá chậm ngày mới có hàng sản phẩm t...</td>\n    </tr>\n    <tr>\n      <th>273833</th>\n      <td>Thời gian giao hàng dài. Chất vải tạm ổn với g...</td>\n      <td>0</td>\n      <td>thời gian giao hàng dài chất vải tạm ổn với gi...</td>\n    </tr>\n    <tr>\n      <th>273834</th>\n      <td>Cũng ổn nhìn hay hay</td>\n      <td>0</td>\n      <td>cũng ổn nhìn hay hay</td>\n    </tr>\n    <tr>\n      <th>273835</th>\n      <td>nhỏ xíu , ship 2 tuần , thất vọng</td>\n      <td>-1</td>\n      <td>nhỏ xíu ship tuần thất vọng</td>\n    </tr>\n    <tr>\n      <th>273836</th>\n      <td>Quá oke</td>\n      <td>1</td>\n      <td>quá oke</td>\n    </tr>\n  </tbody>\n</table>\n<p>273837 rows × 3 columns</p>\n</div>"
     },
     "metadata": {},
     "execution_count": 13
    }
   ],
   "source": [
    "reviews"
   ]
  },
  {
   "source": [
    "# 6. Xóa các dòng không phải tiếng việt"
   ],
   "cell_type": "markdown",
   "metadata": {}
  },
  {
   "cell_type": "code",
   "execution_count": 14,
   "metadata": {},
   "outputs": [],
   "source": [
    "syllables = Utils.loadSyllables()"
   ]
  },
  {
   "cell_type": "code",
   "execution_count": 15,
   "metadata": {},
   "outputs": [],
   "source": [
    "reviews['language'] = reviews['raw_comment'].apply(lambda comment: 1 if Utils.isVietnamese(comment, syllables) else 0)"
   ]
  },
  {
   "cell_type": "code",
   "execution_count": 16,
   "metadata": {},
   "outputs": [],
   "source": [
    "reviews = reviews[reviews['language'] == 1]\n",
    "reviews = reviews.drop(columns=['language']).reset_index(drop=True)"
   ]
  },
  {
   "cell_type": "code",
   "execution_count": 17,
   "metadata": {},
   "outputs": [
    {
     "output_type": "execute_result",
     "data": {
      "text/plain": [
       "                                              raw_comment  label  \\\n",
       "0       Hàng đẹp y ảnh. Nên mua nha mọi người. Shop gi...      1   \n",
       "1       Đóng gói sản phẩm rất đẹp và chắc chắn. Sản ph...      1   \n",
       "2       Khá xinh nha các bạn, chất lượng quá tuyệt vời...      1   \n",
       "3       Chất lượng quá oke ngoài sức mong đợi luôn ạ q...      1   \n",
       "4       Vừa nhận được hàng ưng quá phải feedback ngay ...      1   \n",
       "...                                                   ...    ...   \n",
       "255623  Giao hàng quá chậm. 10 ngày mới có hàng. Sản p...      0   \n",
       "255624  Thời gian giao hàng dài. Chất vải tạm ổn với g...      0   \n",
       "255625                               Cũng ổn nhìn hay hay      0   \n",
       "255626                  nhỏ xíu , ship 2 tuần , thất vọng     -1   \n",
       "255627                                            Quá oke      1   \n",
       "\n",
       "                                       processing_comment  \n",
       "0       hàng đẹp y ảnh nên mua nha mọi người shop giao...  \n",
       "1       đóng gói sản phẩm rất đẹp và chắc chắn sản phẩ...  \n",
       "2       khá xinh nha các bạn chất lượng quá tuyệt vời ...  \n",
       "3       chất lượng quá oke ngoài sức mong đợi luôn ạ q...  \n",
       "4       vừa nhận được hàng ưng quá phải fedback ngay v...  \n",
       "...                                                   ...  \n",
       "255623  giao hàng quá chậm ngày mới có hàng sản phẩm t...  \n",
       "255624  thời gian giao hàng dài chất vải tạm ổn với gi...  \n",
       "255625                               cũng ổn nhìn hay hay  \n",
       "255626                        nhỏ xíu ship tuần thất vọng  \n",
       "255627                                            quá oke  \n",
       "\n",
       "[255628 rows x 3 columns]"
      ],
      "text/html": "<div>\n<style scoped>\n    .dataframe tbody tr th:only-of-type {\n        vertical-align: middle;\n    }\n\n    .dataframe tbody tr th {\n        vertical-align: top;\n    }\n\n    .dataframe thead th {\n        text-align: right;\n    }\n</style>\n<table border=\"1\" class=\"dataframe\">\n  <thead>\n    <tr style=\"text-align: right;\">\n      <th></th>\n      <th>raw_comment</th>\n      <th>label</th>\n      <th>processing_comment</th>\n    </tr>\n  </thead>\n  <tbody>\n    <tr>\n      <th>0</th>\n      <td>Hàng đẹp y ảnh. Nên mua nha mọi người. Shop gi...</td>\n      <td>1</td>\n      <td>hàng đẹp y ảnh nên mua nha mọi người shop giao...</td>\n    </tr>\n    <tr>\n      <th>1</th>\n      <td>Đóng gói sản phẩm rất đẹp và chắc chắn. Sản ph...</td>\n      <td>1</td>\n      <td>đóng gói sản phẩm rất đẹp và chắc chắn sản phẩ...</td>\n    </tr>\n    <tr>\n      <th>2</th>\n      <td>Khá xinh nha các bạn, chất lượng quá tuyệt vời...</td>\n      <td>1</td>\n      <td>khá xinh nha các bạn chất lượng quá tuyệt vời ...</td>\n    </tr>\n    <tr>\n      <th>3</th>\n      <td>Chất lượng quá oke ngoài sức mong đợi luôn ạ q...</td>\n      <td>1</td>\n      <td>chất lượng quá oke ngoài sức mong đợi luôn ạ q...</td>\n    </tr>\n    <tr>\n      <th>4</th>\n      <td>Vừa nhận được hàng ưng quá phải feedback ngay ...</td>\n      <td>1</td>\n      <td>vừa nhận được hàng ưng quá phải fedback ngay v...</td>\n    </tr>\n    <tr>\n      <th>...</th>\n      <td>...</td>\n      <td>...</td>\n      <td>...</td>\n    </tr>\n    <tr>\n      <th>255623</th>\n      <td>Giao hàng quá chậm. 10 ngày mới có hàng. Sản p...</td>\n      <td>0</td>\n      <td>giao hàng quá chậm ngày mới có hàng sản phẩm t...</td>\n    </tr>\n    <tr>\n      <th>255624</th>\n      <td>Thời gian giao hàng dài. Chất vải tạm ổn với g...</td>\n      <td>0</td>\n      <td>thời gian giao hàng dài chất vải tạm ổn với gi...</td>\n    </tr>\n    <tr>\n      <th>255625</th>\n      <td>Cũng ổn nhìn hay hay</td>\n      <td>0</td>\n      <td>cũng ổn nhìn hay hay</td>\n    </tr>\n    <tr>\n      <th>255626</th>\n      <td>nhỏ xíu , ship 2 tuần , thất vọng</td>\n      <td>-1</td>\n      <td>nhỏ xíu ship tuần thất vọng</td>\n    </tr>\n    <tr>\n      <th>255627</th>\n      <td>Quá oke</td>\n      <td>1</td>\n      <td>quá oke</td>\n    </tr>\n  </tbody>\n</table>\n<p>255628 rows × 3 columns</p>\n</div>"
     },
     "metadata": {},
     "execution_count": 17
    }
   ],
   "source": [
    "reviews"
   ]
  },
  {
   "source": [
    "# 7. Extract emoji"
   ],
   "cell_type": "markdown",
   "metadata": {}
  },
  {
   "cell_type": "code",
   "execution_count": 18,
   "metadata": {},
   "outputs": [],
   "source": [
    "reviews['emoji'] = reviews['raw_comment'].apply(lambda comment: Utils.extractEmoji(comment))"
   ]
  },
  {
   "cell_type": "code",
   "execution_count": 19,
   "metadata": {},
   "outputs": [
    {
     "output_type": "execute_result",
     "data": {
      "text/plain": [
       "                                              raw_comment  label  \\\n",
       "0       Hàng đẹp y ảnh. Nên mua nha mọi người. Shop gi...      1   \n",
       "1       Đóng gói sản phẩm rất đẹp và chắc chắn. Sản ph...      1   \n",
       "2       Khá xinh nha các bạn, chất lượng quá tuyệt vời...      1   \n",
       "3       Chất lượng quá oke ngoài sức mong đợi luôn ạ q...      1   \n",
       "4       Vừa nhận được hàng ưng quá phải feedback ngay ...      1   \n",
       "...                                                   ...    ...   \n",
       "255623  Giao hàng quá chậm. 10 ngày mới có hàng. Sản p...      0   \n",
       "255624  Thời gian giao hàng dài. Chất vải tạm ổn với g...      0   \n",
       "255625                               Cũng ổn nhìn hay hay      0   \n",
       "255626                  nhỏ xíu , ship 2 tuần , thất vọng     -1   \n",
       "255627                                            Quá oke      1   \n",
       "\n",
       "                                       processing_comment emoji  \n",
       "0       hàng đẹp y ảnh nên mua nha mọi người shop giao...        \n",
       "1       đóng gói sản phẩm rất đẹp và chắc chắn sản phẩ...  ❤️ 👍  \n",
       "2       khá xinh nha các bạn chất lượng quá tuyệt vời ...        \n",
       "3       chất lượng quá oke ngoài sức mong đợi luôn ạ q...        \n",
       "4       vừa nhận được hàng ưng quá phải fedback ngay v...        \n",
       "...                                                   ...   ...  \n",
       "255623  giao hàng quá chậm ngày mới có hàng sản phẩm t...        \n",
       "255624  thời gian giao hàng dài chất vải tạm ổn với gi...        \n",
       "255625                               cũng ổn nhìn hay hay        \n",
       "255626                        nhỏ xíu ship tuần thất vọng        \n",
       "255627                                            quá oke        \n",
       "\n",
       "[255628 rows x 4 columns]"
      ],
      "text/html": "<div>\n<style scoped>\n    .dataframe tbody tr th:only-of-type {\n        vertical-align: middle;\n    }\n\n    .dataframe tbody tr th {\n        vertical-align: top;\n    }\n\n    .dataframe thead th {\n        text-align: right;\n    }\n</style>\n<table border=\"1\" class=\"dataframe\">\n  <thead>\n    <tr style=\"text-align: right;\">\n      <th></th>\n      <th>raw_comment</th>\n      <th>label</th>\n      <th>processing_comment</th>\n      <th>emoji</th>\n    </tr>\n  </thead>\n  <tbody>\n    <tr>\n      <th>0</th>\n      <td>Hàng đẹp y ảnh. Nên mua nha mọi người. Shop gi...</td>\n      <td>1</td>\n      <td>hàng đẹp y ảnh nên mua nha mọi người shop giao...</td>\n      <td></td>\n    </tr>\n    <tr>\n      <th>1</th>\n      <td>Đóng gói sản phẩm rất đẹp và chắc chắn. Sản ph...</td>\n      <td>1</td>\n      <td>đóng gói sản phẩm rất đẹp và chắc chắn sản phẩ...</td>\n      <td>❤️ 👍</td>\n    </tr>\n    <tr>\n      <th>2</th>\n      <td>Khá xinh nha các bạn, chất lượng quá tuyệt vời...</td>\n      <td>1</td>\n      <td>khá xinh nha các bạn chất lượng quá tuyệt vời ...</td>\n      <td></td>\n    </tr>\n    <tr>\n      <th>3</th>\n      <td>Chất lượng quá oke ngoài sức mong đợi luôn ạ q...</td>\n      <td>1</td>\n      <td>chất lượng quá oke ngoài sức mong đợi luôn ạ q...</td>\n      <td></td>\n    </tr>\n    <tr>\n      <th>4</th>\n      <td>Vừa nhận được hàng ưng quá phải feedback ngay ...</td>\n      <td>1</td>\n      <td>vừa nhận được hàng ưng quá phải fedback ngay v...</td>\n      <td></td>\n    </tr>\n    <tr>\n      <th>...</th>\n      <td>...</td>\n      <td>...</td>\n      <td>...</td>\n      <td>...</td>\n    </tr>\n    <tr>\n      <th>255623</th>\n      <td>Giao hàng quá chậm. 10 ngày mới có hàng. Sản p...</td>\n      <td>0</td>\n      <td>giao hàng quá chậm ngày mới có hàng sản phẩm t...</td>\n      <td></td>\n    </tr>\n    <tr>\n      <th>255624</th>\n      <td>Thời gian giao hàng dài. Chất vải tạm ổn với g...</td>\n      <td>0</td>\n      <td>thời gian giao hàng dài chất vải tạm ổn với gi...</td>\n      <td></td>\n    </tr>\n    <tr>\n      <th>255625</th>\n      <td>Cũng ổn nhìn hay hay</td>\n      <td>0</td>\n      <td>cũng ổn nhìn hay hay</td>\n      <td></td>\n    </tr>\n    <tr>\n      <th>255626</th>\n      <td>nhỏ xíu , ship 2 tuần , thất vọng</td>\n      <td>-1</td>\n      <td>nhỏ xíu ship tuần thất vọng</td>\n      <td></td>\n    </tr>\n    <tr>\n      <th>255627</th>\n      <td>Quá oke</td>\n      <td>1</td>\n      <td>quá oke</td>\n      <td></td>\n    </tr>\n  </tbody>\n</table>\n<p>255628 rows × 4 columns</p>\n</div>"
     },
     "metadata": {},
     "execution_count": 19
    }
   ],
   "source": [
    "reviews"
   ]
  },
  {
   "source": [
    "# 8. Chỉnh sửa vài từ viết tắt cơ bản và xóa các từ vô nghĩa"
   ],
   "cell_type": "markdown",
   "metadata": {}
  },
  {
   "cell_type": "code",
   "execution_count": 20,
   "metadata": {},
   "outputs": [],
   "source": [
    "abbreviates = Utils.loadAbbreviates()"
   ]
  },
  {
   "cell_type": "code",
   "execution_count": 21,
   "metadata": {},
   "outputs": [],
   "source": [
    "reviews['processing_comment'] = reviews['processing_comment'].apply(lambda comment: Utils.standardReview(comment, abbreviates, syllables))"
   ]
  },
  {
   "cell_type": "code",
   "execution_count": 22,
   "metadata": {},
   "outputs": [
    {
     "output_type": "execute_result",
     "data": {
      "text/plain": [
       "                                              raw_comment  label  \\\n",
       "0       Hàng đẹp y ảnh. Nên mua nha mọi người. Shop gi...      1   \n",
       "1       Đóng gói sản phẩm rất đẹp và chắc chắn. Sản ph...      1   \n",
       "2       Khá xinh nha các bạn, chất lượng quá tuyệt vời...      1   \n",
       "3       Chất lượng quá oke ngoài sức mong đợi luôn ạ q...      1   \n",
       "4       Vừa nhận được hàng ưng quá phải feedback ngay ...      1   \n",
       "...                                                   ...    ...   \n",
       "255623  Giao hàng quá chậm. 10 ngày mới có hàng. Sản p...      0   \n",
       "255624  Thời gian giao hàng dài. Chất vải tạm ổn với g...      0   \n",
       "255625                               Cũng ổn nhìn hay hay      0   \n",
       "255626                  nhỏ xíu , ship 2 tuần , thất vọng     -1   \n",
       "255627                                            Quá oke      1   \n",
       "\n",
       "                                       processing_comment emoji  \n",
       "0       hàng đẹp y ảnh nên mua nha mọi người shop giao...        \n",
       "1       đóng gói sản phẩm rất đẹp và chắc chắn sản phẩ...  ❤️ 👍  \n",
       "2       khá xinh nha các bạn chất lượng quá tuyệt vời ...        \n",
       "3       chất lượng quá ok ngoài sức mong đợi luôn ạ qu...        \n",
       "4       vừa nhận được hàng ưng quá phải phản hồi ngay ...        \n",
       "...                                                   ...   ...  \n",
       "255623  giao hàng quá chậm ngày mới có hàng sản phẩm t...        \n",
       "255624  thời gian giao hàng dài chất vải tạm ổn với gi...        \n",
       "255625                               cũng ổn nhìn hay hay        \n",
       "255626                        nhỏ xíu ship tuần thất vọng        \n",
       "255627                                             quá ok        \n",
       "\n",
       "[255628 rows x 4 columns]"
      ],
      "text/html": "<div>\n<style scoped>\n    .dataframe tbody tr th:only-of-type {\n        vertical-align: middle;\n    }\n\n    .dataframe tbody tr th {\n        vertical-align: top;\n    }\n\n    .dataframe thead th {\n        text-align: right;\n    }\n</style>\n<table border=\"1\" class=\"dataframe\">\n  <thead>\n    <tr style=\"text-align: right;\">\n      <th></th>\n      <th>raw_comment</th>\n      <th>label</th>\n      <th>processing_comment</th>\n      <th>emoji</th>\n    </tr>\n  </thead>\n  <tbody>\n    <tr>\n      <th>0</th>\n      <td>Hàng đẹp y ảnh. Nên mua nha mọi người. Shop gi...</td>\n      <td>1</td>\n      <td>hàng đẹp y ảnh nên mua nha mọi người shop giao...</td>\n      <td></td>\n    </tr>\n    <tr>\n      <th>1</th>\n      <td>Đóng gói sản phẩm rất đẹp và chắc chắn. Sản ph...</td>\n      <td>1</td>\n      <td>đóng gói sản phẩm rất đẹp và chắc chắn sản phẩ...</td>\n      <td>❤️ 👍</td>\n    </tr>\n    <tr>\n      <th>2</th>\n      <td>Khá xinh nha các bạn, chất lượng quá tuyệt vời...</td>\n      <td>1</td>\n      <td>khá xinh nha các bạn chất lượng quá tuyệt vời ...</td>\n      <td></td>\n    </tr>\n    <tr>\n      <th>3</th>\n      <td>Chất lượng quá oke ngoài sức mong đợi luôn ạ q...</td>\n      <td>1</td>\n      <td>chất lượng quá ok ngoài sức mong đợi luôn ạ qu...</td>\n      <td></td>\n    </tr>\n    <tr>\n      <th>4</th>\n      <td>Vừa nhận được hàng ưng quá phải feedback ngay ...</td>\n      <td>1</td>\n      <td>vừa nhận được hàng ưng quá phải phản hồi ngay ...</td>\n      <td></td>\n    </tr>\n    <tr>\n      <th>...</th>\n      <td>...</td>\n      <td>...</td>\n      <td>...</td>\n      <td>...</td>\n    </tr>\n    <tr>\n      <th>255623</th>\n      <td>Giao hàng quá chậm. 10 ngày mới có hàng. Sản p...</td>\n      <td>0</td>\n      <td>giao hàng quá chậm ngày mới có hàng sản phẩm t...</td>\n      <td></td>\n    </tr>\n    <tr>\n      <th>255624</th>\n      <td>Thời gian giao hàng dài. Chất vải tạm ổn với g...</td>\n      <td>0</td>\n      <td>thời gian giao hàng dài chất vải tạm ổn với gi...</td>\n      <td></td>\n    </tr>\n    <tr>\n      <th>255625</th>\n      <td>Cũng ổn nhìn hay hay</td>\n      <td>0</td>\n      <td>cũng ổn nhìn hay hay</td>\n      <td></td>\n    </tr>\n    <tr>\n      <th>255626</th>\n      <td>nhỏ xíu , ship 2 tuần , thất vọng</td>\n      <td>-1</td>\n      <td>nhỏ xíu ship tuần thất vọng</td>\n      <td></td>\n    </tr>\n    <tr>\n      <th>255627</th>\n      <td>Quá oke</td>\n      <td>1</td>\n      <td>quá ok</td>\n      <td></td>\n    </tr>\n  </tbody>\n</table>\n<p>255628 rows × 4 columns</p>\n</div>"
     },
     "metadata": {},
     "execution_count": 22
    }
   ],
   "source": [
    "reviews"
   ]
  },
  {
   "source": [
    "# 9. Tạo cột boostword "
   ],
   "cell_type": "markdown",
   "metadata": {}
  },
  {
   "cell_type": "code",
   "execution_count": 23,
   "metadata": {},
   "outputs": [],
   "source": [
    "boostwords = Utils.loadBoostWords()"
   ]
  },
  {
   "cell_type": "code",
   "execution_count": 24,
   "metadata": {},
   "outputs": [],
   "source": [
    "reviews['boost_words'] = reviews['processing_comment'].apply(lambda comment: Utils.extractBoostWords(comment, boostwords))"
   ]
  },
  {
   "cell_type": "code",
   "execution_count": 25,
   "metadata": {},
   "outputs": [
    {
     "output_type": "execute_result",
     "data": {
      "text/plain": [
       "                                              raw_comment  label  \\\n",
       "0       Hàng đẹp y ảnh. Nên mua nha mọi người. Shop gi...      1   \n",
       "1       Đóng gói sản phẩm rất đẹp và chắc chắn. Sản ph...      1   \n",
       "2       Khá xinh nha các bạn, chất lượng quá tuyệt vời...      1   \n",
       "3       Chất lượng quá oke ngoài sức mong đợi luôn ạ q...      1   \n",
       "4       Vừa nhận được hàng ưng quá phải feedback ngay ...      1   \n",
       "...                                                   ...    ...   \n",
       "255623  Giao hàng quá chậm. 10 ngày mới có hàng. Sản p...      0   \n",
       "255624  Thời gian giao hàng dài. Chất vải tạm ổn với g...      0   \n",
       "255625                               Cũng ổn nhìn hay hay      0   \n",
       "255626                  nhỏ xíu , ship 2 tuần , thất vọng     -1   \n",
       "255627                                            Quá oke      1   \n",
       "\n",
       "                                       processing_comment emoji  \\\n",
       "0       hàng đẹp y ảnh nên mua nha mọi người shop giao...         \n",
       "1       đóng gói sản phẩm rất đẹp và chắc chắn sản phẩ...  ❤️ 👍   \n",
       "2       khá xinh nha các bạn chất lượng quá tuyệt vời ...         \n",
       "3       chất lượng quá ok ngoài sức mong đợi luôn ạ qu...         \n",
       "4       vừa nhận được hàng ưng quá phải phản hồi ngay ...         \n",
       "...                                                   ...   ...   \n",
       "255623  giao hàng quá chậm ngày mới có hàng sản phẩm t...         \n",
       "255624  thời gian giao hàng dài chất vải tạm ổn với gi...         \n",
       "255625                               cũng ổn nhìn hay hay         \n",
       "255626                        nhỏ xíu ship tuần thất vọng         \n",
       "255627                                             quá ok         \n",
       "\n",
       "                                              boost_words  \n",
       "0       mua_nha phù_hợp nên_mua hàng_đẹp chắc_chắn sản...  \n",
       "1                               đẹp_lắm rất_đẹp chắc_chắn  \n",
       "2                       khá_xinh chất_lượng_quá_tuyệt_vời  \n",
       "3            quá_đẹp chất_lượng_quá_ok ngoài_sức_mong_đợi  \n",
       "4                                                 ưng_quá  \n",
       "...                                                   ...  \n",
       "255623                        như_hình giao_hàng_quá_chậm  \n",
       "255624            tạm_ổn chất_vải thời_gian_giao_hàng_dài  \n",
       "255625                                            cũng_ổn  \n",
       "255626                                          thất_vọng  \n",
       "255627                                             quá_ok  \n",
       "\n",
       "[255628 rows x 5 columns]"
      ],
      "text/html": "<div>\n<style scoped>\n    .dataframe tbody tr th:only-of-type {\n        vertical-align: middle;\n    }\n\n    .dataframe tbody tr th {\n        vertical-align: top;\n    }\n\n    .dataframe thead th {\n        text-align: right;\n    }\n</style>\n<table border=\"1\" class=\"dataframe\">\n  <thead>\n    <tr style=\"text-align: right;\">\n      <th></th>\n      <th>raw_comment</th>\n      <th>label</th>\n      <th>processing_comment</th>\n      <th>emoji</th>\n      <th>boost_words</th>\n    </tr>\n  </thead>\n  <tbody>\n    <tr>\n      <th>0</th>\n      <td>Hàng đẹp y ảnh. Nên mua nha mọi người. Shop gi...</td>\n      <td>1</td>\n      <td>hàng đẹp y ảnh nên mua nha mọi người shop giao...</td>\n      <td></td>\n      <td>mua_nha phù_hợp nên_mua hàng_đẹp chắc_chắn sản...</td>\n    </tr>\n    <tr>\n      <th>1</th>\n      <td>Đóng gói sản phẩm rất đẹp và chắc chắn. Sản ph...</td>\n      <td>1</td>\n      <td>đóng gói sản phẩm rất đẹp và chắc chắn sản phẩ...</td>\n      <td>❤️ 👍</td>\n      <td>đẹp_lắm rất_đẹp chắc_chắn</td>\n    </tr>\n    <tr>\n      <th>2</th>\n      <td>Khá xinh nha các bạn, chất lượng quá tuyệt vời...</td>\n      <td>1</td>\n      <td>khá xinh nha các bạn chất lượng quá tuyệt vời ...</td>\n      <td></td>\n      <td>khá_xinh chất_lượng_quá_tuyệt_vời</td>\n    </tr>\n    <tr>\n      <th>3</th>\n      <td>Chất lượng quá oke ngoài sức mong đợi luôn ạ q...</td>\n      <td>1</td>\n      <td>chất lượng quá ok ngoài sức mong đợi luôn ạ qu...</td>\n      <td></td>\n      <td>quá_đẹp chất_lượng_quá_ok ngoài_sức_mong_đợi</td>\n    </tr>\n    <tr>\n      <th>4</th>\n      <td>Vừa nhận được hàng ưng quá phải feedback ngay ...</td>\n      <td>1</td>\n      <td>vừa nhận được hàng ưng quá phải phản hồi ngay ...</td>\n      <td></td>\n      <td>ưng_quá</td>\n    </tr>\n    <tr>\n      <th>...</th>\n      <td>...</td>\n      <td>...</td>\n      <td>...</td>\n      <td>...</td>\n      <td>...</td>\n    </tr>\n    <tr>\n      <th>255623</th>\n      <td>Giao hàng quá chậm. 10 ngày mới có hàng. Sản p...</td>\n      <td>0</td>\n      <td>giao hàng quá chậm ngày mới có hàng sản phẩm t...</td>\n      <td></td>\n      <td>như_hình giao_hàng_quá_chậm</td>\n    </tr>\n    <tr>\n      <th>255624</th>\n      <td>Thời gian giao hàng dài. Chất vải tạm ổn với g...</td>\n      <td>0</td>\n      <td>thời gian giao hàng dài chất vải tạm ổn với gi...</td>\n      <td></td>\n      <td>tạm_ổn chất_vải thời_gian_giao_hàng_dài</td>\n    </tr>\n    <tr>\n      <th>255625</th>\n      <td>Cũng ổn nhìn hay hay</td>\n      <td>0</td>\n      <td>cũng ổn nhìn hay hay</td>\n      <td></td>\n      <td>cũng_ổn</td>\n    </tr>\n    <tr>\n      <th>255626</th>\n      <td>nhỏ xíu , ship 2 tuần , thất vọng</td>\n      <td>-1</td>\n      <td>nhỏ xíu ship tuần thất vọng</td>\n      <td></td>\n      <td>thất_vọng</td>\n    </tr>\n    <tr>\n      <th>255627</th>\n      <td>Quá oke</td>\n      <td>1</td>\n      <td>quá ok</td>\n      <td></td>\n      <td>quá_ok</td>\n    </tr>\n  </tbody>\n</table>\n<p>255628 rows × 5 columns</p>\n</div>"
     },
     "metadata": {},
     "execution_count": 25
    }
   ],
   "source": [
    "reviews"
   ]
  },
  {
   "source": [
    "# 10. Loại bỏ các duplicate samples "
   ],
   "cell_type": "markdown",
   "metadata": {}
  },
  {
   "cell_type": "code",
   "execution_count": 26,
   "metadata": {},
   "outputs": [],
   "source": [
    "stopwords = Utils.loadStopwords()"
   ]
  },
  {
   "cell_type": "code",
   "execution_count": 27,
   "metadata": {},
   "outputs": [],
   "source": [
    "reviews['comment'] = reviews.apply(lambda row: Utils.combine(row['processing_comment'], row['boost_words'], row['emoji'], stopwords), axis=1)"
   ]
  },
  {
   "cell_type": "code",
   "execution_count": 28,
   "metadata": {},
   "outputs": [],
   "source": [
    "reviews = reviews.drop_duplicates(subset=['comment'])"
   ]
  },
  {
   "cell_type": "code",
   "execution_count": 29,
   "metadata": {},
   "outputs": [],
   "source": [
    "reviews = reviews[reviews['comment'].str.lower() != \"\"]\n",
    "reviews = reviews.drop(columns=['comment'])\n",
    "reviews = reviews.reset_index(drop=True)"
   ]
  },
  {
   "cell_type": "code",
   "execution_count": 30,
   "metadata": {},
   "outputs": [
    {
     "output_type": "execute_result",
     "data": {
      "text/plain": [
       "                                              raw_comment  label  \\\n",
       "0       Hàng đẹp y ảnh. Nên mua nha mọi người. Shop gi...      1   \n",
       "1       Đóng gói sản phẩm rất đẹp và chắc chắn. Sản ph...      1   \n",
       "2       Khá xinh nha các bạn, chất lượng quá tuyệt vời...      1   \n",
       "3       Chất lượng quá oke ngoài sức mong đợi luôn ạ q...      1   \n",
       "4       Vừa nhận được hàng ưng quá phải feedback ngay ...      1   \n",
       "...                                                   ...    ...   \n",
       "203748  trên ảnh miếng da màu đen nhưng giao miếng da ...     -1   \n",
       "203749  Giao hàng quá chậm. 10 ngày mới có hàng. Sản p...      0   \n",
       "203750  Thời gian giao hàng dài. Chất vải tạm ổn với g...      0   \n",
       "203751                               Cũng ổn nhìn hay hay      0   \n",
       "203752                  nhỏ xíu , ship 2 tuần , thất vọng     -1   \n",
       "\n",
       "                                       processing_comment emoji  \\\n",
       "0       hàng đẹp y ảnh nên mua nha mọi người shop giao...         \n",
       "1       đóng gói sản phẩm rất đẹp và chắc chắn sản phẩ...  ❤️ 👍   \n",
       "2       khá xinh nha các bạn chất lượng quá tuyệt vời ...         \n",
       "3       chất lượng quá ok ngoài sức mong đợi luôn ạ qu...         \n",
       "4       vừa nhận được hàng ưng quá phải phản hồi ngay ...         \n",
       "...                                                   ...   ...   \n",
       "203748  trên ảnh miếng da màu đen nhưng giao miếng da ...         \n",
       "203749  giao hàng quá chậm ngày mới có hàng sản phẩm t...         \n",
       "203750  thời gian giao hàng dài chất vải tạm ổn với gi...         \n",
       "203751                               cũng ổn nhìn hay hay         \n",
       "203752                        nhỏ xíu ship tuần thất vọng         \n",
       "\n",
       "                                              boost_words  \n",
       "0       mua_nha phù_hợp nên_mua hàng_đẹp chắc_chắn sản...  \n",
       "1                               đẹp_lắm rất_đẹp chắc_chắn  \n",
       "2                       khá_xinh chất_lượng_quá_tuyệt_vời  \n",
       "3            quá_đẹp chất_lượng_quá_ok ngoài_sức_mong_đợi  \n",
       "4                                                 ưng_quá  \n",
       "...                                                   ...  \n",
       "203748                                      không_nên_mua  \n",
       "203749                        như_hình giao_hàng_quá_chậm  \n",
       "203750            tạm_ổn chất_vải thời_gian_giao_hàng_dài  \n",
       "203751                                            cũng_ổn  \n",
       "203752                                          thất_vọng  \n",
       "\n",
       "[203753 rows x 5 columns]"
      ],
      "text/html": "<div>\n<style scoped>\n    .dataframe tbody tr th:only-of-type {\n        vertical-align: middle;\n    }\n\n    .dataframe tbody tr th {\n        vertical-align: top;\n    }\n\n    .dataframe thead th {\n        text-align: right;\n    }\n</style>\n<table border=\"1\" class=\"dataframe\">\n  <thead>\n    <tr style=\"text-align: right;\">\n      <th></th>\n      <th>raw_comment</th>\n      <th>label</th>\n      <th>processing_comment</th>\n      <th>emoji</th>\n      <th>boost_words</th>\n    </tr>\n  </thead>\n  <tbody>\n    <tr>\n      <th>0</th>\n      <td>Hàng đẹp y ảnh. Nên mua nha mọi người. Shop gi...</td>\n      <td>1</td>\n      <td>hàng đẹp y ảnh nên mua nha mọi người shop giao...</td>\n      <td></td>\n      <td>mua_nha phù_hợp nên_mua hàng_đẹp chắc_chắn sản...</td>\n    </tr>\n    <tr>\n      <th>1</th>\n      <td>Đóng gói sản phẩm rất đẹp và chắc chắn. Sản ph...</td>\n      <td>1</td>\n      <td>đóng gói sản phẩm rất đẹp và chắc chắn sản phẩ...</td>\n      <td>❤️ 👍</td>\n      <td>đẹp_lắm rất_đẹp chắc_chắn</td>\n    </tr>\n    <tr>\n      <th>2</th>\n      <td>Khá xinh nha các bạn, chất lượng quá tuyệt vời...</td>\n      <td>1</td>\n      <td>khá xinh nha các bạn chất lượng quá tuyệt vời ...</td>\n      <td></td>\n      <td>khá_xinh chất_lượng_quá_tuyệt_vời</td>\n    </tr>\n    <tr>\n      <th>3</th>\n      <td>Chất lượng quá oke ngoài sức mong đợi luôn ạ q...</td>\n      <td>1</td>\n      <td>chất lượng quá ok ngoài sức mong đợi luôn ạ qu...</td>\n      <td></td>\n      <td>quá_đẹp chất_lượng_quá_ok ngoài_sức_mong_đợi</td>\n    </tr>\n    <tr>\n      <th>4</th>\n      <td>Vừa nhận được hàng ưng quá phải feedback ngay ...</td>\n      <td>1</td>\n      <td>vừa nhận được hàng ưng quá phải phản hồi ngay ...</td>\n      <td></td>\n      <td>ưng_quá</td>\n    </tr>\n    <tr>\n      <th>...</th>\n      <td>...</td>\n      <td>...</td>\n      <td>...</td>\n      <td>...</td>\n      <td>...</td>\n    </tr>\n    <tr>\n      <th>203748</th>\n      <td>trên ảnh miếng da màu đen nhưng giao miếng da ...</td>\n      <td>-1</td>\n      <td>trên ảnh miếng da màu đen nhưng giao miếng da ...</td>\n      <td></td>\n      <td>không_nên_mua</td>\n    </tr>\n    <tr>\n      <th>203749</th>\n      <td>Giao hàng quá chậm. 10 ngày mới có hàng. Sản p...</td>\n      <td>0</td>\n      <td>giao hàng quá chậm ngày mới có hàng sản phẩm t...</td>\n      <td></td>\n      <td>như_hình giao_hàng_quá_chậm</td>\n    </tr>\n    <tr>\n      <th>203750</th>\n      <td>Thời gian giao hàng dài. Chất vải tạm ổn với g...</td>\n      <td>0</td>\n      <td>thời gian giao hàng dài chất vải tạm ổn với gi...</td>\n      <td></td>\n      <td>tạm_ổn chất_vải thời_gian_giao_hàng_dài</td>\n    </tr>\n    <tr>\n      <th>203751</th>\n      <td>Cũng ổn nhìn hay hay</td>\n      <td>0</td>\n      <td>cũng ổn nhìn hay hay</td>\n      <td></td>\n      <td>cũng_ổn</td>\n    </tr>\n    <tr>\n      <th>203752</th>\n      <td>nhỏ xíu , ship 2 tuần , thất vọng</td>\n      <td>-1</td>\n      <td>nhỏ xíu ship tuần thất vọng</td>\n      <td></td>\n      <td>thất_vọng</td>\n    </tr>\n  </tbody>\n</table>\n<p>203753 rows × 5 columns</p>\n</div>"
     },
     "metadata": {},
     "execution_count": 30
    }
   ],
   "source": [
    "reviews"
   ]
  },
  {
   "cell_type": "code",
   "execution_count": 31,
   "metadata": {},
   "outputs": [
    {
     "output_type": "execute_result",
     "data": {
      "text/plain": [
       "Counter({1: 189332, 0: 11153, -1: 3268})"
      ]
     },
     "metadata": {},
     "execution_count": 31
    }
   ],
   "source": [
    "Counter(reviews['label'])"
   ]
  },
  {
   "source": [
    "# 11. Loại bỏ `boost_words` và `stopwords` khỏi `processing_comment`"
   ],
   "cell_type": "markdown",
   "metadata": {}
  },
  {
   "cell_type": "code",
   "execution_count": 32,
   "metadata": {},
   "outputs": [],
   "source": [
    "reviews['remaining_comment'] = reviews.apply(lambda row: Utils.removeBoostwords(row['processing_comment'], row['boost_words'], stopwords), axis=1)"
   ]
  },
  {
   "cell_type": "code",
   "execution_count": 33,
   "metadata": {},
   "outputs": [
    {
     "output_type": "execute_result",
     "data": {
      "text/plain": [
       "                                              raw_comment  label  \\\n",
       "0       Hàng đẹp y ảnh. Nên mua nha mọi người. Shop gi...      1   \n",
       "1       Đóng gói sản phẩm rất đẹp và chắc chắn. Sản ph...      1   \n",
       "2       Khá xinh nha các bạn, chất lượng quá tuyệt vời...      1   \n",
       "3       Chất lượng quá oke ngoài sức mong đợi luôn ạ q...      1   \n",
       "4       Vừa nhận được hàng ưng quá phải feedback ngay ...      1   \n",
       "...                                                   ...    ...   \n",
       "203748  trên ảnh miếng da màu đen nhưng giao miếng da ...     -1   \n",
       "203749  Giao hàng quá chậm. 10 ngày mới có hàng. Sản p...      0   \n",
       "203750  Thời gian giao hàng dài. Chất vải tạm ổn với g...      0   \n",
       "203751                               Cũng ổn nhìn hay hay      0   \n",
       "203752                  nhỏ xíu , ship 2 tuần , thất vọng     -1   \n",
       "\n",
       "                                       processing_comment emoji  \\\n",
       "0       hàng đẹp y ảnh nên mua nha mọi người shop giao...         \n",
       "1       đóng gói sản phẩm rất đẹp và chắc chắn sản phẩ...  ❤️ 👍   \n",
       "2       khá xinh nha các bạn chất lượng quá tuyệt vời ...         \n",
       "3       chất lượng quá ok ngoài sức mong đợi luôn ạ qu...         \n",
       "4       vừa nhận được hàng ưng quá phải phản hồi ngay ...         \n",
       "...                                                   ...   ...   \n",
       "203748  trên ảnh miếng da màu đen nhưng giao miếng da ...         \n",
       "203749  giao hàng quá chậm ngày mới có hàng sản phẩm t...         \n",
       "203750  thời gian giao hàng dài chất vải tạm ổn với gi...         \n",
       "203751                               cũng ổn nhìn hay hay         \n",
       "203752                        nhỏ xíu ship tuần thất vọng         \n",
       "\n",
       "                                              boost_words  \\\n",
       "0       mua_nha phù_hợp nên_mua hàng_đẹp chắc_chắn sản...   \n",
       "1                               đẹp_lắm rất_đẹp chắc_chắn   \n",
       "2                       khá_xinh chất_lượng_quá_tuyệt_vời   \n",
       "3            quá_đẹp chất_lượng_quá_ok ngoài_sức_mong_đợi   \n",
       "4                                                 ưng_quá   \n",
       "...                                                   ...   \n",
       "203748                                      không_nên_mua   \n",
       "203749                        như_hình giao_hàng_quá_chậm   \n",
       "203750            tạm_ổn chất_vải thời_gian_giao_hàng_dài   \n",
       "203751                                            cũng_ổn   \n",
       "203752                                          thất_vọng   \n",
       "\n",
       "                                        remaining_comment  \n",
       "0        nên người shop với đóng gói và shop sau shop lắm  \n",
       "1       đóng gói sản phẩm và sản phẩm và ạ được với nữ...  \n",
       "2                           nha với shop có hàng nhưng đã  \n",
       "3                                   luôn ạ luôn nhìn cũng  \n",
       "4       được hàng và luôn hàng như luôn nha người đóng...  \n",
       "...                                                   ...  \n",
       "203748  màu đen nhưng giao nói chung là này mua thì ra...  \n",
       "203749                               có hàng sản phẩm thì  \n",
       "203750                                     với này thì ok  \n",
       "203751                                               nhìn  \n",
       "203752                                                     \n",
       "\n",
       "[203753 rows x 6 columns]"
      ],
      "text/html": "<div>\n<style scoped>\n    .dataframe tbody tr th:only-of-type {\n        vertical-align: middle;\n    }\n\n    .dataframe tbody tr th {\n        vertical-align: top;\n    }\n\n    .dataframe thead th {\n        text-align: right;\n    }\n</style>\n<table border=\"1\" class=\"dataframe\">\n  <thead>\n    <tr style=\"text-align: right;\">\n      <th></th>\n      <th>raw_comment</th>\n      <th>label</th>\n      <th>processing_comment</th>\n      <th>emoji</th>\n      <th>boost_words</th>\n      <th>remaining_comment</th>\n    </tr>\n  </thead>\n  <tbody>\n    <tr>\n      <th>0</th>\n      <td>Hàng đẹp y ảnh. Nên mua nha mọi người. Shop gi...</td>\n      <td>1</td>\n      <td>hàng đẹp y ảnh nên mua nha mọi người shop giao...</td>\n      <td></td>\n      <td>mua_nha phù_hợp nên_mua hàng_đẹp chắc_chắn sản...</td>\n      <td>nên người shop với đóng gói và shop sau shop lắm</td>\n    </tr>\n    <tr>\n      <th>1</th>\n      <td>Đóng gói sản phẩm rất đẹp và chắc chắn. Sản ph...</td>\n      <td>1</td>\n      <td>đóng gói sản phẩm rất đẹp và chắc chắn sản phẩ...</td>\n      <td>❤️ 👍</td>\n      <td>đẹp_lắm rất_đẹp chắc_chắn</td>\n      <td>đóng gói sản phẩm và sản phẩm và ạ được với nữ...</td>\n    </tr>\n    <tr>\n      <th>2</th>\n      <td>Khá xinh nha các bạn, chất lượng quá tuyệt vời...</td>\n      <td>1</td>\n      <td>khá xinh nha các bạn chất lượng quá tuyệt vời ...</td>\n      <td></td>\n      <td>khá_xinh chất_lượng_quá_tuyệt_vời</td>\n      <td>nha với shop có hàng nhưng đã</td>\n    </tr>\n    <tr>\n      <th>3</th>\n      <td>Chất lượng quá oke ngoài sức mong đợi luôn ạ q...</td>\n      <td>1</td>\n      <td>chất lượng quá ok ngoài sức mong đợi luôn ạ qu...</td>\n      <td></td>\n      <td>quá_đẹp chất_lượng_quá_ok ngoài_sức_mong_đợi</td>\n      <td>luôn ạ luôn nhìn cũng</td>\n    </tr>\n    <tr>\n      <th>4</th>\n      <td>Vừa nhận được hàng ưng quá phải feedback ngay ...</td>\n      <td>1</td>\n      <td>vừa nhận được hàng ưng quá phải phản hồi ngay ...</td>\n      <td></td>\n      <td>ưng_quá</td>\n      <td>được hàng và luôn hàng như luôn nha người đóng...</td>\n    </tr>\n    <tr>\n      <th>...</th>\n      <td>...</td>\n      <td>...</td>\n      <td>...</td>\n      <td>...</td>\n      <td>...</td>\n      <td>...</td>\n    </tr>\n    <tr>\n      <th>203748</th>\n      <td>trên ảnh miếng da màu đen nhưng giao miếng da ...</td>\n      <td>-1</td>\n      <td>trên ảnh miếng da màu đen nhưng giao miếng da ...</td>\n      <td></td>\n      <td>không_nên_mua</td>\n      <td>màu đen nhưng giao nói chung là này mua thì ra...</td>\n    </tr>\n    <tr>\n      <th>203749</th>\n      <td>Giao hàng quá chậm. 10 ngày mới có hàng. Sản p...</td>\n      <td>0</td>\n      <td>giao hàng quá chậm ngày mới có hàng sản phẩm t...</td>\n      <td></td>\n      <td>như_hình giao_hàng_quá_chậm</td>\n      <td>có hàng sản phẩm thì</td>\n    </tr>\n    <tr>\n      <th>203750</th>\n      <td>Thời gian giao hàng dài. Chất vải tạm ổn với g...</td>\n      <td>0</td>\n      <td>thời gian giao hàng dài chất vải tạm ổn với gi...</td>\n      <td></td>\n      <td>tạm_ổn chất_vải thời_gian_giao_hàng_dài</td>\n      <td>với này thì ok</td>\n    </tr>\n    <tr>\n      <th>203751</th>\n      <td>Cũng ổn nhìn hay hay</td>\n      <td>0</td>\n      <td>cũng ổn nhìn hay hay</td>\n      <td></td>\n      <td>cũng_ổn</td>\n      <td>nhìn</td>\n    </tr>\n    <tr>\n      <th>203752</th>\n      <td>nhỏ xíu , ship 2 tuần , thất vọng</td>\n      <td>-1</td>\n      <td>nhỏ xíu ship tuần thất vọng</td>\n      <td></td>\n      <td>thất_vọng</td>\n      <td></td>\n    </tr>\n  </tbody>\n</table>\n<p>203753 rows × 6 columns</p>\n</div>"
     },
     "metadata": {},
     "execution_count": 33
    }
   ],
   "source": [
    "reviews"
   ]
  },
  {
   "source": [
    "# 12. Tokenize"
   ],
   "cell_type": "markdown",
   "metadata": {}
  },
  {
   "cell_type": "code",
   "execution_count": 34,
   "metadata": {},
   "outputs": [],
   "source": [
    "def undertheseaTokenize(pText):\n",
    "    return \" \".join([re.sub(\" \", \"_\", word) for word in word_tokenize(str(pText))])"
   ]
  },
  {
   "cell_type": "code",
   "execution_count": 35,
   "metadata": {},
   "outputs": [],
   "source": [
    "reviews['tokenize'] = reviews['remaining_comment'].apply(lambda comment: undertheseaTokenize(comment))"
   ]
  },
  {
   "cell_type": "code",
   "execution_count": 36,
   "metadata": {},
   "outputs": [
    {
     "output_type": "execute_result",
     "data": {
      "text/plain": [
       "                                              raw_comment  label  \\\n",
       "0       Hàng đẹp y ảnh. Nên mua nha mọi người. Shop gi...      1   \n",
       "1       Đóng gói sản phẩm rất đẹp và chắc chắn. Sản ph...      1   \n",
       "2       Khá xinh nha các bạn, chất lượng quá tuyệt vời...      1   \n",
       "3       Chất lượng quá oke ngoài sức mong đợi luôn ạ q...      1   \n",
       "4       Vừa nhận được hàng ưng quá phải feedback ngay ...      1   \n",
       "...                                                   ...    ...   \n",
       "203748  trên ảnh miếng da màu đen nhưng giao miếng da ...     -1   \n",
       "203749  Giao hàng quá chậm. 10 ngày mới có hàng. Sản p...      0   \n",
       "203750  Thời gian giao hàng dài. Chất vải tạm ổn với g...      0   \n",
       "203751                               Cũng ổn nhìn hay hay      0   \n",
       "203752                  nhỏ xíu , ship 2 tuần , thất vọng     -1   \n",
       "\n",
       "                                       processing_comment emoji  \\\n",
       "0       hàng đẹp y ảnh nên mua nha mọi người shop giao...         \n",
       "1       đóng gói sản phẩm rất đẹp và chắc chắn sản phẩ...  ❤️ 👍   \n",
       "2       khá xinh nha các bạn chất lượng quá tuyệt vời ...         \n",
       "3       chất lượng quá ok ngoài sức mong đợi luôn ạ qu...         \n",
       "4       vừa nhận được hàng ưng quá phải phản hồi ngay ...         \n",
       "...                                                   ...   ...   \n",
       "203748  trên ảnh miếng da màu đen nhưng giao miếng da ...         \n",
       "203749  giao hàng quá chậm ngày mới có hàng sản phẩm t...         \n",
       "203750  thời gian giao hàng dài chất vải tạm ổn với gi...         \n",
       "203751                               cũng ổn nhìn hay hay         \n",
       "203752                        nhỏ xíu ship tuần thất vọng         \n",
       "\n",
       "                                              boost_words  \\\n",
       "0       mua_nha phù_hợp nên_mua hàng_đẹp chắc_chắn sản...   \n",
       "1                               đẹp_lắm rất_đẹp chắc_chắn   \n",
       "2                       khá_xinh chất_lượng_quá_tuyệt_vời   \n",
       "3            quá_đẹp chất_lượng_quá_ok ngoài_sức_mong_đợi   \n",
       "4                                                 ưng_quá   \n",
       "...                                                   ...   \n",
       "203748                                      không_nên_mua   \n",
       "203749                        như_hình giao_hàng_quá_chậm   \n",
       "203750            tạm_ổn chất_vải thời_gian_giao_hàng_dài   \n",
       "203751                                            cũng_ổn   \n",
       "203752                                          thất_vọng   \n",
       "\n",
       "                                        remaining_comment  \\\n",
       "0        nên người shop với đóng gói và shop sau shop lắm   \n",
       "1       đóng gói sản phẩm và sản phẩm và ạ được với nữ...   \n",
       "2                           nha với shop có hàng nhưng đã   \n",
       "3                                   luôn ạ luôn nhìn cũng   \n",
       "4       được hàng và luôn hàng như luôn nha người đóng...   \n",
       "...                                                   ...   \n",
       "203748  màu đen nhưng giao nói chung là này mua thì ra...   \n",
       "203749                               có hàng sản phẩm thì   \n",
       "203750                                     với này thì ok   \n",
       "203751                                               nhìn   \n",
       "203752                                                      \n",
       "\n",
       "                                                 tokenize  \n",
       "0        nên người shop với đóng_gói và shop sau shop lắm  \n",
       "1       đóng gói sản_phẩm và sản_phẩm và ạ được với nữ...  \n",
       "2                           nha với shop có hàng nhưng đã  \n",
       "3                                   luôn ạ luôn nhìn cũng  \n",
       "4       được hàng và luôn hàng như luôn nha người đóng...  \n",
       "...                                                   ...  \n",
       "203748  màu đen nhưng giao nói_chung là này mua thì_ra...  \n",
       "203749                               có hàng sản_phẩm thì  \n",
       "203750                                     với này thì ok  \n",
       "203751                                               nhìn  \n",
       "203752                                                     \n",
       "\n",
       "[203753 rows x 7 columns]"
      ],
      "text/html": "<div>\n<style scoped>\n    .dataframe tbody tr th:only-of-type {\n        vertical-align: middle;\n    }\n\n    .dataframe tbody tr th {\n        vertical-align: top;\n    }\n\n    .dataframe thead th {\n        text-align: right;\n    }\n</style>\n<table border=\"1\" class=\"dataframe\">\n  <thead>\n    <tr style=\"text-align: right;\">\n      <th></th>\n      <th>raw_comment</th>\n      <th>label</th>\n      <th>processing_comment</th>\n      <th>emoji</th>\n      <th>boost_words</th>\n      <th>remaining_comment</th>\n      <th>tokenize</th>\n    </tr>\n  </thead>\n  <tbody>\n    <tr>\n      <th>0</th>\n      <td>Hàng đẹp y ảnh. Nên mua nha mọi người. Shop gi...</td>\n      <td>1</td>\n      <td>hàng đẹp y ảnh nên mua nha mọi người shop giao...</td>\n      <td></td>\n      <td>mua_nha phù_hợp nên_mua hàng_đẹp chắc_chắn sản...</td>\n      <td>nên người shop với đóng gói và shop sau shop lắm</td>\n      <td>nên người shop với đóng_gói và shop sau shop lắm</td>\n    </tr>\n    <tr>\n      <th>1</th>\n      <td>Đóng gói sản phẩm rất đẹp và chắc chắn. Sản ph...</td>\n      <td>1</td>\n      <td>đóng gói sản phẩm rất đẹp và chắc chắn sản phẩ...</td>\n      <td>❤️ 👍</td>\n      <td>đẹp_lắm rất_đẹp chắc_chắn</td>\n      <td>đóng gói sản phẩm và sản phẩm và ạ được với nữ...</td>\n      <td>đóng gói sản_phẩm và sản_phẩm và ạ được với nữ...</td>\n    </tr>\n    <tr>\n      <th>2</th>\n      <td>Khá xinh nha các bạn, chất lượng quá tuyệt vời...</td>\n      <td>1</td>\n      <td>khá xinh nha các bạn chất lượng quá tuyệt vời ...</td>\n      <td></td>\n      <td>khá_xinh chất_lượng_quá_tuyệt_vời</td>\n      <td>nha với shop có hàng nhưng đã</td>\n      <td>nha với shop có hàng nhưng đã</td>\n    </tr>\n    <tr>\n      <th>3</th>\n      <td>Chất lượng quá oke ngoài sức mong đợi luôn ạ q...</td>\n      <td>1</td>\n      <td>chất lượng quá ok ngoài sức mong đợi luôn ạ qu...</td>\n      <td></td>\n      <td>quá_đẹp chất_lượng_quá_ok ngoài_sức_mong_đợi</td>\n      <td>luôn ạ luôn nhìn cũng</td>\n      <td>luôn ạ luôn nhìn cũng</td>\n    </tr>\n    <tr>\n      <th>4</th>\n      <td>Vừa nhận được hàng ưng quá phải feedback ngay ...</td>\n      <td>1</td>\n      <td>vừa nhận được hàng ưng quá phải phản hồi ngay ...</td>\n      <td></td>\n      <td>ưng_quá</td>\n      <td>được hàng và luôn hàng như luôn nha người đóng...</td>\n      <td>được hàng và luôn hàng như luôn nha người đóng...</td>\n    </tr>\n    <tr>\n      <th>...</th>\n      <td>...</td>\n      <td>...</td>\n      <td>...</td>\n      <td>...</td>\n      <td>...</td>\n      <td>...</td>\n      <td>...</td>\n    </tr>\n    <tr>\n      <th>203748</th>\n      <td>trên ảnh miếng da màu đen nhưng giao miếng da ...</td>\n      <td>-1</td>\n      <td>trên ảnh miếng da màu đen nhưng giao miếng da ...</td>\n      <td></td>\n      <td>không_nên_mua</td>\n      <td>màu đen nhưng giao nói chung là này mua thì ra...</td>\n      <td>màu đen nhưng giao nói_chung là này mua thì_ra...</td>\n    </tr>\n    <tr>\n      <th>203749</th>\n      <td>Giao hàng quá chậm. 10 ngày mới có hàng. Sản p...</td>\n      <td>0</td>\n      <td>giao hàng quá chậm ngày mới có hàng sản phẩm t...</td>\n      <td></td>\n      <td>như_hình giao_hàng_quá_chậm</td>\n      <td>có hàng sản phẩm thì</td>\n      <td>có hàng sản_phẩm thì</td>\n    </tr>\n    <tr>\n      <th>203750</th>\n      <td>Thời gian giao hàng dài. Chất vải tạm ổn với g...</td>\n      <td>0</td>\n      <td>thời gian giao hàng dài chất vải tạm ổn với gi...</td>\n      <td></td>\n      <td>tạm_ổn chất_vải thời_gian_giao_hàng_dài</td>\n      <td>với này thì ok</td>\n      <td>với này thì ok</td>\n    </tr>\n    <tr>\n      <th>203751</th>\n      <td>Cũng ổn nhìn hay hay</td>\n      <td>0</td>\n      <td>cũng ổn nhìn hay hay</td>\n      <td></td>\n      <td>cũng_ổn</td>\n      <td>nhìn</td>\n      <td>nhìn</td>\n    </tr>\n    <tr>\n      <th>203752</th>\n      <td>nhỏ xíu , ship 2 tuần , thất vọng</td>\n      <td>-1</td>\n      <td>nhỏ xíu ship tuần thất vọng</td>\n      <td></td>\n      <td>thất_vọng</td>\n      <td></td>\n      <td></td>\n    </tr>\n  </tbody>\n</table>\n<p>203753 rows × 7 columns</p>\n</div>"
     },
     "metadata": {},
     "execution_count": 36
    }
   ],
   "source": [
    "reviews"
   ]
  },
  {
   "source": [
    "# 13. Kết hợp 3 cột lại `boost_words`, `tokenize` và `emoji` lại với nhau"
   ],
   "cell_type": "markdown",
   "metadata": {}
  },
  {
   "cell_type": "code",
   "execution_count": 37,
   "metadata": {},
   "outputs": [],
   "source": [
    "reviews['standard_comment'] = reviews.apply(lambda row: Utils.combine2(row['boost_words'], row['tokenize'], row['emoji']), axis=1)"
   ]
  },
  {
   "cell_type": "code",
   "execution_count": 38,
   "metadata": {},
   "outputs": [
    {
     "output_type": "execute_result",
     "data": {
      "text/plain": [
       "                                              raw_comment  label  \\\n",
       "0       Hàng đẹp y ảnh. Nên mua nha mọi người. Shop gi...      1   \n",
       "1       Đóng gói sản phẩm rất đẹp và chắc chắn. Sản ph...      1   \n",
       "2       Khá xinh nha các bạn, chất lượng quá tuyệt vời...      1   \n",
       "3       Chất lượng quá oke ngoài sức mong đợi luôn ạ q...      1   \n",
       "4       Vừa nhận được hàng ưng quá phải feedback ngay ...      1   \n",
       "...                                                   ...    ...   \n",
       "203748  trên ảnh miếng da màu đen nhưng giao miếng da ...     -1   \n",
       "203749  Giao hàng quá chậm. 10 ngày mới có hàng. Sản p...      0   \n",
       "203750  Thời gian giao hàng dài. Chất vải tạm ổn với g...      0   \n",
       "203751                               Cũng ổn nhìn hay hay      0   \n",
       "203752                  nhỏ xíu , ship 2 tuần , thất vọng     -1   \n",
       "\n",
       "                                       processing_comment emoji  \\\n",
       "0       hàng đẹp y ảnh nên mua nha mọi người shop giao...         \n",
       "1       đóng gói sản phẩm rất đẹp và chắc chắn sản phẩ...  ❤️ 👍   \n",
       "2       khá xinh nha các bạn chất lượng quá tuyệt vời ...         \n",
       "3       chất lượng quá ok ngoài sức mong đợi luôn ạ qu...         \n",
       "4       vừa nhận được hàng ưng quá phải phản hồi ngay ...         \n",
       "...                                                   ...   ...   \n",
       "203748  trên ảnh miếng da màu đen nhưng giao miếng da ...         \n",
       "203749  giao hàng quá chậm ngày mới có hàng sản phẩm t...         \n",
       "203750  thời gian giao hàng dài chất vải tạm ổn với gi...         \n",
       "203751                               cũng ổn nhìn hay hay         \n",
       "203752                        nhỏ xíu ship tuần thất vọng         \n",
       "\n",
       "                                              boost_words  \\\n",
       "0       mua_nha phù_hợp nên_mua hàng_đẹp chắc_chắn sản...   \n",
       "1                               đẹp_lắm rất_đẹp chắc_chắn   \n",
       "2                       khá_xinh chất_lượng_quá_tuyệt_vời   \n",
       "3            quá_đẹp chất_lượng_quá_ok ngoài_sức_mong_đợi   \n",
       "4                                                 ưng_quá   \n",
       "...                                                   ...   \n",
       "203748                                      không_nên_mua   \n",
       "203749                        như_hình giao_hàng_quá_chậm   \n",
       "203750            tạm_ổn chất_vải thời_gian_giao_hàng_dài   \n",
       "203751                                            cũng_ổn   \n",
       "203752                                          thất_vọng   \n",
       "\n",
       "                                        remaining_comment  \\\n",
       "0        nên người shop với đóng gói và shop sau shop lắm   \n",
       "1       đóng gói sản phẩm và sản phẩm và ạ được với nữ...   \n",
       "2                           nha với shop có hàng nhưng đã   \n",
       "3                                   luôn ạ luôn nhìn cũng   \n",
       "4       được hàng và luôn hàng như luôn nha người đóng...   \n",
       "...                                                   ...   \n",
       "203748  màu đen nhưng giao nói chung là này mua thì ra...   \n",
       "203749                               có hàng sản phẩm thì   \n",
       "203750                                     với này thì ok   \n",
       "203751                                               nhìn   \n",
       "203752                                                      \n",
       "\n",
       "                                                 tokenize  \\\n",
       "0        nên người shop với đóng_gói và shop sau shop lắm   \n",
       "1       đóng gói sản_phẩm và sản_phẩm và ạ được với nữ...   \n",
       "2                           nha với shop có hàng nhưng đã   \n",
       "3                                   luôn ạ luôn nhìn cũng   \n",
       "4       được hàng và luôn hàng như luôn nha người đóng...   \n",
       "...                                                   ...   \n",
       "203748  màu đen nhưng giao nói_chung là này mua thì_ra...   \n",
       "203749                               có hàng sản_phẩm thì   \n",
       "203750                                     với này thì ok   \n",
       "203751                                               nhìn   \n",
       "203752                                                      \n",
       "\n",
       "                                         standard_comment  \n",
       "0       mua_nha phù_hợp nên_mua hàng_đẹp chắc_chắn sản...  \n",
       "1       đẹp_lắm rất_đẹp chắc_chắn đóng gói sản_phẩm và...  \n",
       "2       khá_xinh chất_lượng_quá_tuyệt_vời nha với shop...  \n",
       "3       quá_đẹp chất_lượng_quá_ok ngoài_sức_mong_đợi l...  \n",
       "4       ưng_quá được hàng và luôn hàng như luôn nha ng...  \n",
       "...                                                   ...  \n",
       "203748  không_nên_mua màu đen nhưng giao nói_chung là ...  \n",
       "203749   như_hình giao_hàng_quá_chậm có hàng sản_phẩm thì  \n",
       "203750  tạm_ổn chất_vải thời_gian_giao_hàng_dài với nà...  \n",
       "203751                                       cũng_ổn nhìn  \n",
       "203752                                          thất_vọng  \n",
       "\n",
       "[203753 rows x 8 columns]"
      ],
      "text/html": "<div>\n<style scoped>\n    .dataframe tbody tr th:only-of-type {\n        vertical-align: middle;\n    }\n\n    .dataframe tbody tr th {\n        vertical-align: top;\n    }\n\n    .dataframe thead th {\n        text-align: right;\n    }\n</style>\n<table border=\"1\" class=\"dataframe\">\n  <thead>\n    <tr style=\"text-align: right;\">\n      <th></th>\n      <th>raw_comment</th>\n      <th>label</th>\n      <th>processing_comment</th>\n      <th>emoji</th>\n      <th>boost_words</th>\n      <th>remaining_comment</th>\n      <th>tokenize</th>\n      <th>standard_comment</th>\n    </tr>\n  </thead>\n  <tbody>\n    <tr>\n      <th>0</th>\n      <td>Hàng đẹp y ảnh. Nên mua nha mọi người. Shop gi...</td>\n      <td>1</td>\n      <td>hàng đẹp y ảnh nên mua nha mọi người shop giao...</td>\n      <td></td>\n      <td>mua_nha phù_hợp nên_mua hàng_đẹp chắc_chắn sản...</td>\n      <td>nên người shop với đóng gói và shop sau shop lắm</td>\n      <td>nên người shop với đóng_gói và shop sau shop lắm</td>\n      <td>mua_nha phù_hợp nên_mua hàng_đẹp chắc_chắn sản...</td>\n    </tr>\n    <tr>\n      <th>1</th>\n      <td>Đóng gói sản phẩm rất đẹp và chắc chắn. Sản ph...</td>\n      <td>1</td>\n      <td>đóng gói sản phẩm rất đẹp và chắc chắn sản phẩ...</td>\n      <td>❤️ 👍</td>\n      <td>đẹp_lắm rất_đẹp chắc_chắn</td>\n      <td>đóng gói sản phẩm và sản phẩm và ạ được với nữ...</td>\n      <td>đóng gói sản_phẩm và sản_phẩm và ạ được với nữ...</td>\n      <td>đẹp_lắm rất_đẹp chắc_chắn đóng gói sản_phẩm và...</td>\n    </tr>\n    <tr>\n      <th>2</th>\n      <td>Khá xinh nha các bạn, chất lượng quá tuyệt vời...</td>\n      <td>1</td>\n      <td>khá xinh nha các bạn chất lượng quá tuyệt vời ...</td>\n      <td></td>\n      <td>khá_xinh chất_lượng_quá_tuyệt_vời</td>\n      <td>nha với shop có hàng nhưng đã</td>\n      <td>nha với shop có hàng nhưng đã</td>\n      <td>khá_xinh chất_lượng_quá_tuyệt_vời nha với shop...</td>\n    </tr>\n    <tr>\n      <th>3</th>\n      <td>Chất lượng quá oke ngoài sức mong đợi luôn ạ q...</td>\n      <td>1</td>\n      <td>chất lượng quá ok ngoài sức mong đợi luôn ạ qu...</td>\n      <td></td>\n      <td>quá_đẹp chất_lượng_quá_ok ngoài_sức_mong_đợi</td>\n      <td>luôn ạ luôn nhìn cũng</td>\n      <td>luôn ạ luôn nhìn cũng</td>\n      <td>quá_đẹp chất_lượng_quá_ok ngoài_sức_mong_đợi l...</td>\n    </tr>\n    <tr>\n      <th>4</th>\n      <td>Vừa nhận được hàng ưng quá phải feedback ngay ...</td>\n      <td>1</td>\n      <td>vừa nhận được hàng ưng quá phải phản hồi ngay ...</td>\n      <td></td>\n      <td>ưng_quá</td>\n      <td>được hàng và luôn hàng như luôn nha người đóng...</td>\n      <td>được hàng và luôn hàng như luôn nha người đóng...</td>\n      <td>ưng_quá được hàng và luôn hàng như luôn nha ng...</td>\n    </tr>\n    <tr>\n      <th>...</th>\n      <td>...</td>\n      <td>...</td>\n      <td>...</td>\n      <td>...</td>\n      <td>...</td>\n      <td>...</td>\n      <td>...</td>\n      <td>...</td>\n    </tr>\n    <tr>\n      <th>203748</th>\n      <td>trên ảnh miếng da màu đen nhưng giao miếng da ...</td>\n      <td>-1</td>\n      <td>trên ảnh miếng da màu đen nhưng giao miếng da ...</td>\n      <td></td>\n      <td>không_nên_mua</td>\n      <td>màu đen nhưng giao nói chung là này mua thì ra...</td>\n      <td>màu đen nhưng giao nói_chung là này mua thì_ra...</td>\n      <td>không_nên_mua màu đen nhưng giao nói_chung là ...</td>\n    </tr>\n    <tr>\n      <th>203749</th>\n      <td>Giao hàng quá chậm. 10 ngày mới có hàng. Sản p...</td>\n      <td>0</td>\n      <td>giao hàng quá chậm ngày mới có hàng sản phẩm t...</td>\n      <td></td>\n      <td>như_hình giao_hàng_quá_chậm</td>\n      <td>có hàng sản phẩm thì</td>\n      <td>có hàng sản_phẩm thì</td>\n      <td>như_hình giao_hàng_quá_chậm có hàng sản_phẩm thì</td>\n    </tr>\n    <tr>\n      <th>203750</th>\n      <td>Thời gian giao hàng dài. Chất vải tạm ổn với g...</td>\n      <td>0</td>\n      <td>thời gian giao hàng dài chất vải tạm ổn với gi...</td>\n      <td></td>\n      <td>tạm_ổn chất_vải thời_gian_giao_hàng_dài</td>\n      <td>với này thì ok</td>\n      <td>với này thì ok</td>\n      <td>tạm_ổn chất_vải thời_gian_giao_hàng_dài với nà...</td>\n    </tr>\n    <tr>\n      <th>203751</th>\n      <td>Cũng ổn nhìn hay hay</td>\n      <td>0</td>\n      <td>cũng ổn nhìn hay hay</td>\n      <td></td>\n      <td>cũng_ổn</td>\n      <td>nhìn</td>\n      <td>nhìn</td>\n      <td>cũng_ổn nhìn</td>\n    </tr>\n    <tr>\n      <th>203752</th>\n      <td>nhỏ xíu , ship 2 tuần , thất vọng</td>\n      <td>-1</td>\n      <td>nhỏ xíu ship tuần thất vọng</td>\n      <td></td>\n      <td>thất_vọng</td>\n      <td></td>\n      <td></td>\n      <td>thất_vọng</td>\n    </tr>\n  </tbody>\n</table>\n<p>203753 rows × 8 columns</p>\n</div>"
     },
     "metadata": {},
     "execution_count": 38
    }
   ],
   "source": [
    "reviews"
   ]
  },
  {
   "source": [
    "# 14. Xóa các cột thừa đi"
   ],
   "cell_type": "markdown",
   "metadata": {}
  },
  {
   "cell_type": "code",
   "execution_count": 39,
   "metadata": {},
   "outputs": [],
   "source": [
    "reviews = reviews.drop(columns=['emoji', 'processing_comment', 'boost_words', 'tokenize', \"remaining_comment\"])\n",
    "reviews = reviews[reviews['standard_comment'].str.lower() != \"\"]\n",
    "reviews = reviews.reset_index(drop=True)"
   ]
  },
  {
   "cell_type": "code",
   "execution_count": 40,
   "metadata": {},
   "outputs": [],
   "source": [
    "reviews = reviews.reindex(columns=['raw_comment', 'standard_comment', 'label'])"
   ]
  },
  {
   "cell_type": "code",
   "execution_count": 41,
   "metadata": {},
   "outputs": [
    {
     "output_type": "execute_result",
     "data": {
      "text/plain": [
       "                                              raw_comment  \\\n",
       "0       Hàng đẹp y ảnh. Nên mua nha mọi người. Shop gi...   \n",
       "1       Đóng gói sản phẩm rất đẹp và chắc chắn. Sản ph...   \n",
       "2       Khá xinh nha các bạn, chất lượng quá tuyệt vời...   \n",
       "3       Chất lượng quá oke ngoài sức mong đợi luôn ạ q...   \n",
       "4       Vừa nhận được hàng ưng quá phải feedback ngay ...   \n",
       "...                                                   ...   \n",
       "201184  trên ảnh miếng da màu đen nhưng giao miếng da ...   \n",
       "201185  Giao hàng quá chậm. 10 ngày mới có hàng. Sản p...   \n",
       "201186  Thời gian giao hàng dài. Chất vải tạm ổn với g...   \n",
       "201187                               Cũng ổn nhìn hay hay   \n",
       "201188                  nhỏ xíu , ship 2 tuần , thất vọng   \n",
       "\n",
       "                                         standard_comment  label  \n",
       "0       mua_nha phù_hợp nên_mua hàng_đẹp chắc_chắn sản...      1  \n",
       "1       đẹp_lắm rất_đẹp chắc_chắn đóng gói sản_phẩm và...      1  \n",
       "2       khá_xinh chất_lượng_quá_tuyệt_vời nha với shop...      1  \n",
       "3       quá_đẹp chất_lượng_quá_ok ngoài_sức_mong_đợi l...      1  \n",
       "4       ưng_quá được hàng và luôn hàng như luôn nha ng...      1  \n",
       "...                                                   ...    ...  \n",
       "201184  không_nên_mua màu đen nhưng giao nói_chung là ...     -1  \n",
       "201185   như_hình giao_hàng_quá_chậm có hàng sản_phẩm thì      0  \n",
       "201186  tạm_ổn chất_vải thời_gian_giao_hàng_dài với nà...      0  \n",
       "201187                                       cũng_ổn nhìn      0  \n",
       "201188                                          thất_vọng     -1  \n",
       "\n",
       "[201189 rows x 3 columns]"
      ],
      "text/html": "<div>\n<style scoped>\n    .dataframe tbody tr th:only-of-type {\n        vertical-align: middle;\n    }\n\n    .dataframe tbody tr th {\n        vertical-align: top;\n    }\n\n    .dataframe thead th {\n        text-align: right;\n    }\n</style>\n<table border=\"1\" class=\"dataframe\">\n  <thead>\n    <tr style=\"text-align: right;\">\n      <th></th>\n      <th>raw_comment</th>\n      <th>standard_comment</th>\n      <th>label</th>\n    </tr>\n  </thead>\n  <tbody>\n    <tr>\n      <th>0</th>\n      <td>Hàng đẹp y ảnh. Nên mua nha mọi người. Shop gi...</td>\n      <td>mua_nha phù_hợp nên_mua hàng_đẹp chắc_chắn sản...</td>\n      <td>1</td>\n    </tr>\n    <tr>\n      <th>1</th>\n      <td>Đóng gói sản phẩm rất đẹp và chắc chắn. Sản ph...</td>\n      <td>đẹp_lắm rất_đẹp chắc_chắn đóng gói sản_phẩm và...</td>\n      <td>1</td>\n    </tr>\n    <tr>\n      <th>2</th>\n      <td>Khá xinh nha các bạn, chất lượng quá tuyệt vời...</td>\n      <td>khá_xinh chất_lượng_quá_tuyệt_vời nha với shop...</td>\n      <td>1</td>\n    </tr>\n    <tr>\n      <th>3</th>\n      <td>Chất lượng quá oke ngoài sức mong đợi luôn ạ q...</td>\n      <td>quá_đẹp chất_lượng_quá_ok ngoài_sức_mong_đợi l...</td>\n      <td>1</td>\n    </tr>\n    <tr>\n      <th>4</th>\n      <td>Vừa nhận được hàng ưng quá phải feedback ngay ...</td>\n      <td>ưng_quá được hàng và luôn hàng như luôn nha ng...</td>\n      <td>1</td>\n    </tr>\n    <tr>\n      <th>...</th>\n      <td>...</td>\n      <td>...</td>\n      <td>...</td>\n    </tr>\n    <tr>\n      <th>201184</th>\n      <td>trên ảnh miếng da màu đen nhưng giao miếng da ...</td>\n      <td>không_nên_mua màu đen nhưng giao nói_chung là ...</td>\n      <td>-1</td>\n    </tr>\n    <tr>\n      <th>201185</th>\n      <td>Giao hàng quá chậm. 10 ngày mới có hàng. Sản p...</td>\n      <td>như_hình giao_hàng_quá_chậm có hàng sản_phẩm thì</td>\n      <td>0</td>\n    </tr>\n    <tr>\n      <th>201186</th>\n      <td>Thời gian giao hàng dài. Chất vải tạm ổn với g...</td>\n      <td>tạm_ổn chất_vải thời_gian_giao_hàng_dài với nà...</td>\n      <td>0</td>\n    </tr>\n    <tr>\n      <th>201187</th>\n      <td>Cũng ổn nhìn hay hay</td>\n      <td>cũng_ổn nhìn</td>\n      <td>0</td>\n    </tr>\n    <tr>\n      <th>201188</th>\n      <td>nhỏ xíu , ship 2 tuần , thất vọng</td>\n      <td>thất_vọng</td>\n      <td>-1</td>\n    </tr>\n  </tbody>\n</table>\n<p>201189 rows × 3 columns</p>\n</div>"
     },
     "metadata": {},
     "execution_count": 41
    }
   ],
   "source": [
    "reviews"
   ]
  },
  {
   "cell_type": "code",
   "execution_count": 42,
   "metadata": {},
   "outputs": [
    {
     "output_type": "execute_result",
     "data": {
      "text/plain": [
       "Counter({1: 186987, 0: 10977, -1: 3225})"
      ]
     },
     "metadata": {},
     "execution_count": 42
    }
   ],
   "source": [
    "Counter(reviews['label'])"
   ]
  },
  {
   "source": [
    "# 15. Ghi ra file"
   ],
   "cell_type": "markdown",
   "metadata": {}
  },
  {
   "cell_type": "code",
   "execution_count": 43,
   "metadata": {},
   "outputs": [],
   "source": [
    "reviews.to_csv(\"./data/standard_reviews.csv\", index=False)"
   ]
  },
  {
   "cell_type": "code",
   "execution_count": 44,
   "metadata": {},
   "outputs": [
    {
     "output_type": "execute_result",
     "data": {
      "text/plain": [
       "0"
      ]
     },
     "metadata": {},
     "execution_count": 44
    }
   ],
   "source": [
    "os.system(\"vlc ../misc/signal.mp3\")"
   ]
  }
 ]
}