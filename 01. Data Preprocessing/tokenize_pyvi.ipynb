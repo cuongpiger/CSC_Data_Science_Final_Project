{
 "metadata": {
  "language_info": {
   "codemirror_mode": {
    "name": "ipython",
    "version": 3
   },
   "file_extension": ".py",
   "mimetype": "text/x-python",
   "name": "python",
   "nbconvert_exporter": "python",
   "pygments_lexer": "ipython3",
   "version": "3.8.5"
  },
  "orig_nbformat": 2,
  "kernelspec": {
   "name": "python3",
   "display_name": "Python 3",
   "language": "python"
  }
 },
 "nbformat": 4,
 "nbformat_minor": 2,
 "cells": [
  {
   "cell_type": "code",
   "execution_count": 1,
   "metadata": {},
   "outputs": [],
   "source": [
    "%load_ext autoreload\n",
    "%autoreload 2"
   ]
  },
  {
   "cell_type": "code",
   "execution_count": 2,
   "metadata": {},
   "outputs": [],
   "source": [
    "import pandas as pd\n",
    "from pyvi import ViTokenizer, ViPosTagger"
   ]
  },
  {
   "cell_type": "code",
   "execution_count": 3,
   "metadata": {},
   "outputs": [],
   "source": [
    "data = pd.read_csv(\"./data/standard_data.csv\")"
   ]
  },
  {
   "cell_type": "code",
   "execution_count": 4,
   "metadata": {},
   "outputs": [],
   "source": [
    "def tokenize(pText):\n",
    "    return \" \".join(ViPosTagger.postagging(ViTokenizer.tokenize(str(pText)))[0])"
   ]
  },
  {
   "cell_type": "code",
   "execution_count": 5,
   "metadata": {},
   "outputs": [],
   "source": [
    "data['tokenize'] = data['lowercase_comment'].apply(lambda comment: tokenize(comment))"
   ]
  },
  {
   "cell_type": "code",
   "execution_count": 6,
   "metadata": {},
   "outputs": [
    {
     "output_type": "execute_result",
     "data": {
      "text/plain": [
       "                                                  comment  rating  label  \\\n",
       "0       Lần đầu mua tại shop nhưng rất ưng ý, vải mặc ...       5      1   \n",
       "1       Giao hàng nhanh, shop xịn xò đặt hàng xong là ...       5      1   \n",
       "2       Size vừa vặn luôn, shop mall mà hàng chất lượn...       5      1   \n",
       "3       Sản phẩm chất lượng.đóng gói kĩ.shop nhiệt tìn...       5      1   \n",
       "4       Chất lượng sản phẩm tuyệt vời giao hàng nhanh ...       5      1   \n",
       "...                                                   ...     ...    ...   \n",
       "221609                                 Rất dễ thương, đẹp       5      1   \n",
       "221610  Đẹp lắm lun mọi ngừ ơi . Hdhhechhjhshxhdhhxhxh...       5      1   \n",
       "221611                                                Dởm       5      1   \n",
       "221612  Mua 12 món giao đủ. Vừa rẻ vừa chất lượng rất ...       5      1   \n",
       "221613  Dây buộc siêu dễ thương nha mn, còn được tặng ...       5      1   \n",
       "\n",
       "       emoji                                  lowercase_comment  contain_url  \\\n",
       "0        NaN  lần đầu mua tại shop nhưng rất ưng ý vải mặc m...            0   \n",
       "1        NaN  giao hàng nhanh shop xịn xò đặt hàng xong là c...            0   \n",
       "2        NaN  size vừa vặn luôn shop mà hàng chất lượng giá ...            0   \n",
       "3        NaN  sản phẩm chất lượng đóng gói kĩ shop nhiệt tìn...            0   \n",
       "4        NaN  chất lượng sản phẩm tuyệt vời giao hàng nhanh ...            0   \n",
       "...      ...                                                ...          ...   \n",
       "221609   NaN                                  rất dễ thương đẹp            0   \n",
       "221610   NaN                      đẹp lắm luôn mọi người ơi học            0   \n",
       "221611   NaN                                                dởm            0   \n",
       "221612   NaN  mua món giao đủ vừa rẻ vừa chất lượng rất thíc...            0   \n",
       "221613     🥰  dây buộc siêu dễ thương nha mọi người còn được...            0   \n",
       "\n",
       "                                         standard_comment  \\\n",
       "0       lần đầu mua tại shop nhưng rất ưng ý vải mặc m...   \n",
       "1       giao hàng nhanh shop xịn xò đặt hàng xong là c...   \n",
       "2       size vừa vặn luôn shop mà hàng chất lượng giá ...   \n",
       "3       sản phẩm chất lượng đóng gói kĩ shop nhiệt tìn...   \n",
       "4       chất lượng sản phẩm tuyệt vời giao hàng nhanh ...   \n",
       "...                                                   ...   \n",
       "221609                                 rất dễ thương đẹp    \n",
       "221610                     đẹp lắm luôn mọi người ơi học    \n",
       "221611                                               dởm    \n",
       "221612  mua món giao đủ vừa rẻ vừa chất lượng rất thíc...   \n",
       "221613  dây buộc siêu dễ thương nha mọi người còn được...   \n",
       "\n",
       "                                                 tokenize  \n",
       "0       lần đầu mua tại shop nhưng rất ưng_ý vải mặc m...  \n",
       "1       giao hàng nhanh shop xịn xò đặt_hàng xong là c...  \n",
       "2       size vừa_vặn luôn shop mà hàng chất_lượng giá ...  \n",
       "3       sản_phẩm_chất_lượng đóng_gói kĩ shop nhiệt_tìn...  \n",
       "4       chất_lượng sản_phẩm tuyệt_vời giao hàng nhanh ...  \n",
       "...                                                   ...  \n",
       "221609                                  rất dễ_thương đẹp  \n",
       "221610                      đẹp lắm luôn mọi người ơi học  \n",
       "221611                                                dởm  \n",
       "221612  mua món giao đủ vừa rẻ vừa chất_lượng rất thíc...  \n",
       "221613  dây buộc siêu dễ_thương nha mọi người còn được...  \n",
       "\n",
       "[221614 rows x 8 columns]"
      ],
      "text/html": "<div>\n<style scoped>\n    .dataframe tbody tr th:only-of-type {\n        vertical-align: middle;\n    }\n\n    .dataframe tbody tr th {\n        vertical-align: top;\n    }\n\n    .dataframe thead th {\n        text-align: right;\n    }\n</style>\n<table border=\"1\" class=\"dataframe\">\n  <thead>\n    <tr style=\"text-align: right;\">\n      <th></th>\n      <th>comment</th>\n      <th>rating</th>\n      <th>label</th>\n      <th>emoji</th>\n      <th>lowercase_comment</th>\n      <th>contain_url</th>\n      <th>standard_comment</th>\n      <th>tokenize</th>\n    </tr>\n  </thead>\n  <tbody>\n    <tr>\n      <th>0</th>\n      <td>Lần đầu mua tại shop nhưng rất ưng ý, vải mặc ...</td>\n      <td>5</td>\n      <td>1</td>\n      <td>NaN</td>\n      <td>lần đầu mua tại shop nhưng rất ưng ý vải mặc m...</td>\n      <td>0</td>\n      <td>lần đầu mua tại shop nhưng rất ưng ý vải mặc m...</td>\n      <td>lần đầu mua tại shop nhưng rất ưng_ý vải mặc m...</td>\n    </tr>\n    <tr>\n      <th>1</th>\n      <td>Giao hàng nhanh, shop xịn xò đặt hàng xong là ...</td>\n      <td>5</td>\n      <td>1</td>\n      <td>NaN</td>\n      <td>giao hàng nhanh shop xịn xò đặt hàng xong là c...</td>\n      <td>0</td>\n      <td>giao hàng nhanh shop xịn xò đặt hàng xong là c...</td>\n      <td>giao hàng nhanh shop xịn xò đặt_hàng xong là c...</td>\n    </tr>\n    <tr>\n      <th>2</th>\n      <td>Size vừa vặn luôn, shop mall mà hàng chất lượn...</td>\n      <td>5</td>\n      <td>1</td>\n      <td>NaN</td>\n      <td>size vừa vặn luôn shop mà hàng chất lượng giá ...</td>\n      <td>0</td>\n      <td>size vừa vặn luôn shop mà hàng chất lượng giá ...</td>\n      <td>size vừa_vặn luôn shop mà hàng chất_lượng giá ...</td>\n    </tr>\n    <tr>\n      <th>3</th>\n      <td>Sản phẩm chất lượng.đóng gói kĩ.shop nhiệt tìn...</td>\n      <td>5</td>\n      <td>1</td>\n      <td>NaN</td>\n      <td>sản phẩm chất lượng đóng gói kĩ shop nhiệt tìn...</td>\n      <td>0</td>\n      <td>sản phẩm chất lượng đóng gói kĩ shop nhiệt tìn...</td>\n      <td>sản_phẩm_chất_lượng đóng_gói kĩ shop nhiệt_tìn...</td>\n    </tr>\n    <tr>\n      <th>4</th>\n      <td>Chất lượng sản phẩm tuyệt vời giao hàng nhanh ...</td>\n      <td>5</td>\n      <td>1</td>\n      <td>NaN</td>\n      <td>chất lượng sản phẩm tuyệt vời giao hàng nhanh ...</td>\n      <td>0</td>\n      <td>chất lượng sản phẩm tuyệt vời giao hàng nhanh ...</td>\n      <td>chất_lượng sản_phẩm tuyệt_vời giao hàng nhanh ...</td>\n    </tr>\n    <tr>\n      <th>...</th>\n      <td>...</td>\n      <td>...</td>\n      <td>...</td>\n      <td>...</td>\n      <td>...</td>\n      <td>...</td>\n      <td>...</td>\n      <td>...</td>\n    </tr>\n    <tr>\n      <th>221609</th>\n      <td>Rất dễ thương, đẹp</td>\n      <td>5</td>\n      <td>1</td>\n      <td>NaN</td>\n      <td>rất dễ thương đẹp</td>\n      <td>0</td>\n      <td>rất dễ thương đẹp</td>\n      <td>rất dễ_thương đẹp</td>\n    </tr>\n    <tr>\n      <th>221610</th>\n      <td>Đẹp lắm lun mọi ngừ ơi . Hdhhechhjhshxhdhhxhxh...</td>\n      <td>5</td>\n      <td>1</td>\n      <td>NaN</td>\n      <td>đẹp lắm luôn mọi người ơi học</td>\n      <td>0</td>\n      <td>đẹp lắm luôn mọi người ơi học</td>\n      <td>đẹp lắm luôn mọi người ơi học</td>\n    </tr>\n    <tr>\n      <th>221611</th>\n      <td>Dởm</td>\n      <td>5</td>\n      <td>1</td>\n      <td>NaN</td>\n      <td>dởm</td>\n      <td>0</td>\n      <td>dởm</td>\n      <td>dởm</td>\n    </tr>\n    <tr>\n      <th>221612</th>\n      <td>Mua 12 món giao đủ. Vừa rẻ vừa chất lượng rất ...</td>\n      <td>5</td>\n      <td>1</td>\n      <td>NaN</td>\n      <td>mua món giao đủ vừa rẻ vừa chất lượng rất thíc...</td>\n      <td>0</td>\n      <td>mua món giao đủ vừa rẻ vừa chất lượng rất thíc...</td>\n      <td>mua món giao đủ vừa rẻ vừa chất_lượng rất thíc...</td>\n    </tr>\n    <tr>\n      <th>221613</th>\n      <td>Dây buộc siêu dễ thương nha mn, còn được tặng ...</td>\n      <td>5</td>\n      <td>1</td>\n      <td>🥰</td>\n      <td>dây buộc siêu dễ thương nha mọi người còn được...</td>\n      <td>0</td>\n      <td>dây buộc siêu dễ thương nha mọi người còn được...</td>\n      <td>dây buộc siêu dễ_thương nha mọi người còn được...</td>\n    </tr>\n  </tbody>\n</table>\n<p>221614 rows × 8 columns</p>\n</div>"
     },
     "metadata": {},
     "execution_count": 6
    }
   ],
   "source": [
    "data"
   ]
  },
  {
   "cell_type": "code",
   "execution_count": 7,
   "metadata": {},
   "outputs": [],
   "source": [
    "data.to_csv(\"./data/tokenize_pyvi.csv\", index=False)"
   ]
  },
  {
   "cell_type": "code",
   "execution_count": null,
   "metadata": {},
   "outputs": [],
   "source": []
  }
 ]
}