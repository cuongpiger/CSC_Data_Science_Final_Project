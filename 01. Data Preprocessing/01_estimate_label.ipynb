{
 "metadata": {
  "language_info": {
   "codemirror_mode": {
    "name": "ipython",
    "version": 3
   },
   "file_extension": ".py",
   "mimetype": "text/x-python",
   "name": "python",
   "nbconvert_exporter": "python",
   "pygments_lexer": "ipython3",
   "version": "3.8.5"
  },
  "orig_nbformat": 2,
  "kernelspec": {
   "name": "python385jvsc74a57bd031f2aee4e71d21fbe5cf8b01ff0e069b9275f58929596ceb00d14d90e3e16cd6",
   "display_name": "Python 3.8.5 64-bit"
  },
  "metadata": {
   "interpreter": {
    "hash": "31f2aee4e71d21fbe5cf8b01ff0e069b9275f58929596ceb00d14d90e3e16cd6"
   }
  }
 },
 "nbformat": 4,
 "nbformat_minor": 2,
 "cells": [
  {
   "cell_type": "code",
   "execution_count": 1,
   "metadata": {},
   "outputs": [],
   "source": [
    "%load_ext autoreload\n",
    "%autoreload 2"
   ]
  },
  {
   "cell_type": "code",
   "execution_count": 2,
   "metadata": {},
   "outputs": [],
   "source": [
    "import pandas as pd\n",
    "import numpy as np\n",
    "from underthesea import sentiment\n",
    "import modules.utils as Utils"
   ]
  },
  {
   "source": [
    "**LƯU Ý**:\n",
    "> Mở terminal lên run lệnh này nếu chạy lần đầu: `underthesea download-model SA_GENERAL`"
   ],
   "cell_type": "markdown",
   "metadata": {}
  },
  {
   "source": [
    "### 13. Load tập tin `raw_data.csv` lên lại"
   ],
   "cell_type": "markdown",
   "metadata": {}
  },
  {
   "cell_type": "code",
   "execution_count": 3,
   "metadata": {},
   "outputs": [],
   "source": [
    "raw_data = pd.read_csv(\"./data/raw_data.csv\")"
   ]
  },
  {
   "cell_type": "code",
   "execution_count": 4,
   "metadata": {},
   "outputs": [
    {
     "output_type": "execute_result",
     "data": {
      "text/plain": [
       "                                              raw_comment  label emoji  \\\n",
       "0       Lần đầu mua tại shop nhưng rất ưng ý, vải mặc ...      1   NaN   \n",
       "1       Giao hàng nhanh, shop xịn xò đặt hàng xong là ...      1   NaN   \n",
       "2       Size vừa vặn luôn, shop mall mà hàng chất lượn...      1   NaN   \n",
       "3       Sản phẩm chất lượng.đóng gói kĩ.shop nhiệt tìn...      1   NaN   \n",
       "4       Chất lượng sản phẩm tuyệt vời giao hàng nhanh ...      1   NaN   \n",
       "...                                                   ...    ...   ...   \n",
       "219707               Nơ xinh đúng chất công chúa đẹpppppp      1   NaN   \n",
       "219708                                 Rất dễ thương, đẹp      1   NaN   \n",
       "219709  Đẹp lắm lun mọi ngừ ơi . Hdhhechhjhshxhdhhxhxh...      1   NaN   \n",
       "219710  Mua 12 món giao đủ. Vừa rẻ vừa chất lượng rất ...      1   NaN   \n",
       "219711  Dây buộc siêu dễ thương nha mn, còn được tặng ...      1     🥰   \n",
       "\n",
       "                                       processing_comment  \\\n",
       "0       lần đầu mua tại nhưng rất ưng ý vải mặc mát vì...   \n",
       "1       giao hàng nhanh xịn xò đặt hàng xong là chủ độ...   \n",
       "2       vừa vặn luôn mà hàng chất lượng giá rẻ vầy tội...   \n",
       "3       sản phẩm chất lượng đóng gói kĩ nhiệt tình sẽ ...   \n",
       "4       chất lượng sản phẩm tuyệt vời giao hàng nhanh ...   \n",
       "...                                                   ...   \n",
       "219707                    nơ xinh đúng chất công chúa đẹp   \n",
       "219708                                  rất dễ thương đẹp   \n",
       "219709                      đẹp lắm luôn mọi người ơi học   \n",
       "219710  mua món giao đủ vừa rẻ vừa chất lượng rất thíc...   \n",
       "219711  dây buộc siêu dễ thương nha mọi người còn được...   \n",
       "\n",
       "                                              boost_words  \n",
       "0       giao_hàng giá_tiền ủng_hộ cẩn_thận đóng_gói lâ...  \n",
       "1             giao_hàng_nhanh chất_vải cẩn_thận ok xịn_xò  \n",
       "2                               giá_rẻ chất_lượng vừa_vặn  \n",
       "3                     ủng_hộ đóng_gói chất_lượng sản_phẩm  \n",
       "4       giao_hàng_nhanh ủng_hộ tuyệt_vời chất_lượng sả...  \n",
       "...                                                   ...  \n",
       "219707                                                NaN  \n",
       "219708                                          dễ_thương  \n",
       "219709                             mọi_người đẹp_lắm_luôn  \n",
       "219710                          ủng_hộ chất_lượng giao_đủ  \n",
       "219711                                mọi_người dễ_thương  \n",
       "\n",
       "[219712 rows x 5 columns]"
      ],
      "text/html": "<div>\n<style scoped>\n    .dataframe tbody tr th:only-of-type {\n        vertical-align: middle;\n    }\n\n    .dataframe tbody tr th {\n        vertical-align: top;\n    }\n\n    .dataframe thead th {\n        text-align: right;\n    }\n</style>\n<table border=\"1\" class=\"dataframe\">\n  <thead>\n    <tr style=\"text-align: right;\">\n      <th></th>\n      <th>raw_comment</th>\n      <th>label</th>\n      <th>emoji</th>\n      <th>processing_comment</th>\n      <th>boost_words</th>\n    </tr>\n  </thead>\n  <tbody>\n    <tr>\n      <th>0</th>\n      <td>Lần đầu mua tại shop nhưng rất ưng ý, vải mặc ...</td>\n      <td>1</td>\n      <td>NaN</td>\n      <td>lần đầu mua tại nhưng rất ưng ý vải mặc mát vì...</td>\n      <td>giao_hàng giá_tiền ủng_hộ cẩn_thận đóng_gói lâ...</td>\n    </tr>\n    <tr>\n      <th>1</th>\n      <td>Giao hàng nhanh, shop xịn xò đặt hàng xong là ...</td>\n      <td>1</td>\n      <td>NaN</td>\n      <td>giao hàng nhanh xịn xò đặt hàng xong là chủ độ...</td>\n      <td>giao_hàng_nhanh chất_vải cẩn_thận ok xịn_xò</td>\n    </tr>\n    <tr>\n      <th>2</th>\n      <td>Size vừa vặn luôn, shop mall mà hàng chất lượn...</td>\n      <td>1</td>\n      <td>NaN</td>\n      <td>vừa vặn luôn mà hàng chất lượng giá rẻ vầy tội...</td>\n      <td>giá_rẻ chất_lượng vừa_vặn</td>\n    </tr>\n    <tr>\n      <th>3</th>\n      <td>Sản phẩm chất lượng.đóng gói kĩ.shop nhiệt tìn...</td>\n      <td>1</td>\n      <td>NaN</td>\n      <td>sản phẩm chất lượng đóng gói kĩ nhiệt tình sẽ ...</td>\n      <td>ủng_hộ đóng_gói chất_lượng sản_phẩm</td>\n    </tr>\n    <tr>\n      <th>4</th>\n      <td>Chất lượng sản phẩm tuyệt vời giao hàng nhanh ...</td>\n      <td>1</td>\n      <td>NaN</td>\n      <td>chất lượng sản phẩm tuyệt vời giao hàng nhanh ...</td>\n      <td>giao_hàng_nhanh ủng_hộ tuyệt_vời chất_lượng sả...</td>\n    </tr>\n    <tr>\n      <th>...</th>\n      <td>...</td>\n      <td>...</td>\n      <td>...</td>\n      <td>...</td>\n      <td>...</td>\n    </tr>\n    <tr>\n      <th>219707</th>\n      <td>Nơ xinh đúng chất công chúa đẹpppppp</td>\n      <td>1</td>\n      <td>NaN</td>\n      <td>nơ xinh đúng chất công chúa đẹp</td>\n      <td>NaN</td>\n    </tr>\n    <tr>\n      <th>219708</th>\n      <td>Rất dễ thương, đẹp</td>\n      <td>1</td>\n      <td>NaN</td>\n      <td>rất dễ thương đẹp</td>\n      <td>dễ_thương</td>\n    </tr>\n    <tr>\n      <th>219709</th>\n      <td>Đẹp lắm lun mọi ngừ ơi . Hdhhechhjhshxhdhhxhxh...</td>\n      <td>1</td>\n      <td>NaN</td>\n      <td>đẹp lắm luôn mọi người ơi học</td>\n      <td>mọi_người đẹp_lắm_luôn</td>\n    </tr>\n    <tr>\n      <th>219710</th>\n      <td>Mua 12 món giao đủ. Vừa rẻ vừa chất lượng rất ...</td>\n      <td>1</td>\n      <td>NaN</td>\n      <td>mua món giao đủ vừa rẻ vừa chất lượng rất thíc...</td>\n      <td>ủng_hộ chất_lượng giao_đủ</td>\n    </tr>\n    <tr>\n      <th>219711</th>\n      <td>Dây buộc siêu dễ thương nha mn, còn được tặng ...</td>\n      <td>1</td>\n      <td>🥰</td>\n      <td>dây buộc siêu dễ thương nha mọi người còn được...</td>\n      <td>mọi_người dễ_thương</td>\n    </tr>\n  </tbody>\n</table>\n<p>219712 rows × 5 columns</p>\n</div>"
     },
     "metadata": {},
     "execution_count": 4
    }
   ],
   "source": [
    "raw_data"
   ]
  },
  {
   "source": [
    "### 14. Xóa các mẫu bị rỗng trên `processing_comment`"
   ],
   "cell_type": "markdown",
   "metadata": {}
  },
  {
   "cell_type": "code",
   "execution_count": 6,
   "metadata": {},
   "outputs": [],
   "source": [
    "raw_data = raw_data.replace(\"\", np.nan)\n",
    "raw_data = raw_data.dropna(subset=['processing_comment']).reset_index(drop=True)"
   ]
  },
  {
   "source": [
    "### 15. Loại bỏ stopword"
   ],
   "cell_type": "markdown",
   "metadata": {}
  },
  {
   "cell_type": "code",
   "execution_count": null,
   "metadata": {},
   "outputs": [],
   "source": []
  }
 ]
}