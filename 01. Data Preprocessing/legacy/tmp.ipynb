{
 "metadata": {
  "language_info": {
   "codemirror_mode": {
    "name": "ipython",
    "version": 3
   },
   "file_extension": ".py",
   "mimetype": "text/x-python",
   "name": "python",
   "nbconvert_exporter": "python",
   "pygments_lexer": "ipython3",
   "version": "3.8.5"
  },
  "orig_nbformat": 2,
  "kernelspec": {
   "name": "python3",
   "display_name": "Python 3",
   "language": "python"
  }
 },
 "nbformat": 4,
 "nbformat_minor": 2,
 "cells": [
  {
   "cell_type": "code",
   "execution_count": 1,
   "metadata": {},
   "outputs": [],
   "source": [
    "import os"
   ]
  },
  {
   "cell_type": "code",
   "execution_count": 2,
   "metadata": {},
   "outputs": [],
   "source": [
    "if os.path.exists(\"./vietnamese_words.pickle\"):\n",
    "  os.remove(\"./vietnamese_words.pickle\")\n",
    "else:\n",
    "  print(\"The file does not exist\")"
   ]
  },
  {
   "cell_type": "code",
   "execution_count": 3,
   "metadata": {},
   "outputs": [],
   "source": [
    "if os.path.exists(\"./vietnamese_acronym_words.pickle\"):\n",
    "  os.remove(\"./vietnamese_acronym_words.pickle\")\n",
    "else:\n",
    "  print(\"The file does not exist\")"
   ]
  },
  {
   "cell_type": "code",
   "execution_count": 4,
   "metadata": {},
   "outputs": [],
   "source": [
    "from selenium import webdriver\n",
    "from selenium.common.exceptions import TimeoutException\n",
    "from selenium.webdriver.common.by import By\n",
    "from selenium.webdriver.support.wait import WebDriverWait\n",
    "from selenium.webdriver.support import expected_conditions as EC\n",
    "from selenium.webdriver.common.keys import Keys\n",
    "    \n",
    "\n",
    "\n",
    "def scraping():\n",
    "    driver = webdriver.Firefox()\n",
    "    driver.get(\"https://luom.tv/2015/11/01/danh-sach-am-tiet-tieng-viet-xep-theo-van/\")\n",
    "    div = driver.find_element_by_css_selector(\"div.entry-content\")\n",
    "    p_tags = div.find_elements_by_tag_name(\"p\")\n",
    "    res = []\n",
    "    \n",
    "    for p in p_tags[2:-6]:\n",
    "        res.append(p.text)\n",
    "    \n",
    "    \n",
    "    driver.close()\n",
    "    driver.quit()\n",
    "    \n",
    "    return res"
   ]
  },
  {
   "cell_type": "code",
   "execution_count": 5,
   "metadata": {},
   "outputs": [],
   "source": [
    "res = scraping()"
   ]
  },
  {
   "cell_type": "code",
   "execution_count": 6,
   "metadata": {},
   "outputs": [],
   "source": [
    "import re\n",
    "remove_special_characters = r\"[^a-z,àáâãèéêìíòóôõùúăđĩũơưăạảấầẩẫậắằẳẵặẹẻẽềềểễệỉịọỏốồổỗộớờởỡợụủứừửữựỳỵỷỹý]\""
   ]
  },
  {
   "cell_type": "code",
   "execution_count": 7,
   "metadata": {},
   "outputs": [],
   "source": [
    "ress = res.copy()\n",
    "words = []"
   ]
  },
  {
   "cell_type": "code",
   "execution_count": 8,
   "metadata": {
    "tags": []
   },
   "outputs": [],
   "source": [
    "for row in ress:\n",
    "    text = re.sub(\"–\", \",\", row)\n",
    "    text = re.sub(remove_special_characters, \"\", text)\n",
    "\n",
    "    if text == \"\": continue\n",
    "    else:\n",
    "        ws = text.split(\",\")\n",
    "\n",
    "        for w in ws:\n",
    "            if w != '':\n",
    "                words.append(w)\n",
    "\n",
    "words.append(\"gói\")\n",
    "words.append(\"ý\")\n",
    "words.append(\"dởm\")\n",
    "words.append(\"cùi\")\n",
    "words.append(\"sida\")\n",
    "words.append(\"góm\")\n",
    "words.append(\"gớm\")\n",
    "words.append(\"size\")\n",
    "words.append(\"ship\")\n",
    "words.append(\"shipper\")\n",
    "words.append(\"xỉu\")\n",
    "words.append(\"xinh\")\n",
    "words.append(\"chán\")\n",
    "words.append(\"chẳng\")\n",
    "words.append(\"muốn\")\n",
    "words.append(\"nói\")\n",
    "words.append(\"ôi\")\n",
    "words.append(\"ối\")\n",
    "words.append(\"trời\")\n",
    "words.append(\"ơi\")\n",
    "words.append(\"lồn\")\n",
    "words.append(\"như\")\n",
    "words.append(\"shop\")\n",
    "words.append(\"cừa\")\n",
    "words.append(\"hàng\")\n",
    "words.append(\"ờ\")\n",
    "words.append(\"mấy\")\n",
    "words.append(\"zing\")\n",
    "words.append(\"gút\")\n",
    "words.append(\"chớp\")\n",
    "words.append(\"chốp\")\n",
    "words.append(\"còn\")\n",
    "words.append(\"cái\")\n",
    "words.append(\"nịt\")\n",
    "words.append(\"xịn\")\n",
    "words.append(\"xò\")"
   ]
  },
  {
   "cell_type": "code",
   "execution_count": 6,
   "metadata": {},
   "outputs": [],
   "source": []
  },
  {
   "cell_type": "code",
   "execution_count": 9,
   "metadata": {},
   "outputs": [],
   "source": [
    "def scraping2():\n",
    "    driver = webdriver.Firefox()\n",
    "    driver.get(\"https://luom.tv/2020/02/21/danh-sach-am-tiet-tieng-viet-co-am-dem-w/\")\n",
    "    text = driver.find_element_by_css_selector(\"pre.wp-block-preformatted\").text\n",
    "    \n",
    "    \n",
    "    driver.close()\n",
    "    driver.quit()\n",
    "    \n",
    "    return text.strip().split(\"\\n\")"
   ]
  },
  {
   "cell_type": "code",
   "execution_count": 10,
   "metadata": {},
   "outputs": [
    {
     "output_type": "execute_result",
     "data": {
      "text/plain": [
       "6688"
      ]
     },
     "metadata": {},
     "execution_count": 10
    }
   ],
   "source": [
    "len(words)"
   ]
  },
  {
   "cell_type": "code",
   "execution_count": 11,
   "metadata": {},
   "outputs": [],
   "source": [
    "words_2 = scraping2()"
   ]
  },
  {
   "cell_type": "code",
   "execution_count": 12,
   "metadata": {},
   "outputs": [],
   "source": [
    "words += words_2"
   ]
  },
  {
   "cell_type": "code",
   "execution_count": 13,
   "metadata": {},
   "outputs": [
    {
     "output_type": "execute_result",
     "data": {
      "text/plain": [
       "7304"
      ]
     },
     "metadata": {},
     "execution_count": 13
    }
   ],
   "source": [
    "len(words)"
   ]
  },
  {
   "cell_type": "code",
   "execution_count": 14,
   "metadata": {},
   "outputs": [],
   "source": [
    "d = {}\n",
    "\n",
    "for word in words:\n",
    "    d[word] = d.get(word, 0) + 1"
   ]
  },
  {
   "cell_type": "code",
   "execution_count": 15,
   "metadata": {},
   "outputs": [
    {
     "output_type": "execute_result",
     "data": {
      "text/plain": [
       "1"
      ]
     },
     "metadata": {},
     "execution_count": 15
    }
   ],
   "source": [
    "d['tháo']"
   ]
  },
  {
   "cell_type": "code",
   "execution_count": 16,
   "metadata": {},
   "outputs": [],
   "source": [
    "import pickle"
   ]
  },
  {
   "cell_type": "code",
   "execution_count": 17,
   "metadata": {},
   "outputs": [],
   "source": [
    "with open('./vietnamese_words.pickle', 'wb') as handle:\n",
    "    pickle.dump(d, handle, protocol=pickle.HIGHEST_PROTOCOL)"
   ]
  },
  {
   "cell_type": "code",
   "execution_count": null,
   "metadata": {},
   "outputs": [],
   "source": []
  },
  {
   "cell_type": "code",
   "execution_count": null,
   "metadata": {},
   "outputs": [],
   "source": []
  },
  {
   "cell_type": "code",
   "execution_count": 18,
   "metadata": {},
   "outputs": [],
   "source": [
    "dd = {}\n",
    "\n",
    "dd['mn'] = \"mọi người\"\n",
    "dd['ngừ'] = \"người\"\n",
    "dd[\"thươg\"] = \"thương\"\n",
    "dd['nun'] = \"luôn\"\n",
    "dd['lun'] = \"luôn\"\n",
    "dd['k'] = \"không\"\n",
    "dd['ko'] = \"không\"\n",
    "dd['tui'] = \"tôi\"\n",
    "dd[\"ns\"] = \"nói\"\n",
    "dd[\"ms\"] = \"mới\"\n",
    "dd[\"nsc\"] = \"nói chuyện\"\n",
    "dd['mng'] = \"mọi người\"\n",
    "dd['z'] = \"vậy\"\n",
    "dd['v'] = \"vậy\"\n",
    "dd[\"zui\"] = \"vui\"\n",
    "dd[\"zẻ\"] = \"vẻ\"\n",
    "dd[\"dời\"] = \"vời\"\n",
    "dd[\"zời\"] = \"vời\"\n",
    "dd['hk'] = \"không\"\n",
    "dd['cũg'] = \"cũng\"\n",
    "dd[\"nắm\"] = \"lắm\"\n",
    "dd[\"giồi\"] = \"trời\"\n",
    "dd[\"chẳg\"] = \"chẳng\"\n",
    "dd[\"pik\"] = \"biết\"\n",
    "dd[\"bik\"] = \"biết\"\n",
    "dd[\"lol\"] = \"lồn\"\n",
    "dd[\"lịt\"] = \"nịt\""
   ]
  },
  {
   "cell_type": "code",
   "execution_count": 19,
   "metadata": {},
   "outputs": [],
   "source": [
    "\n",
    "with open('./vietnamese_acronym_words.pickle', 'wb') as handle:\n",
    "    pickle.dump(dd, handle, protocol=pickle.HIGHEST_PROTOCOL)"
   ]
  }
 ]
}