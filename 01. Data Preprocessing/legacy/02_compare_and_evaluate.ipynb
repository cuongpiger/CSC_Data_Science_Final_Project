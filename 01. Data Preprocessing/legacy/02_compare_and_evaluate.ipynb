{
 "metadata": {
  "language_info": {
   "codemirror_mode": {
    "name": "ipython",
    "version": 3
   },
   "file_extension": ".py",
   "mimetype": "text/x-python",
   "name": "python",
   "nbconvert_exporter": "python",
   "pygments_lexer": "ipython3",
   "version": "3.8.5"
  },
  "orig_nbformat": 2,
  "kernelspec": {
   "name": "python385jvsc74a57bd031f2aee4e71d21fbe5cf8b01ff0e069b9275f58929596ceb00d14d90e3e16cd6",
   "display_name": "Python 3.8.5 64-bit"
  },
  "metadata": {
   "interpreter": {
    "hash": "31f2aee4e71d21fbe5cf8b01ff0e069b9275f58929596ceb00d14d90e3e16cd6"
   }
  }
 },
 "nbformat": 4,
 "nbformat_minor": 2,
 "cells": [
  {
   "cell_type": "code",
   "execution_count": 1,
   "metadata": {},
   "outputs": [],
   "source": [
    "%load_ext autoreload\n",
    "%autoreload 2"
   ]
  },
  {
   "cell_type": "code",
   "execution_count": 2,
   "metadata": {},
   "outputs": [],
   "source": [
    "import pandas as pd\n",
    "import numpy as np\n",
    "import modules.utils as Utils\n",
    "from collections import Counter"
   ]
  },
  {
   "source": [
    "### 16. Load lại data `estimate_label.csv`"
   ],
   "cell_type": "markdown",
   "metadata": {}
  },
  {
   "cell_type": "code",
   "execution_count": 3,
   "metadata": {},
   "outputs": [],
   "source": [
    "raw_data = pd.read_csv(\"./data/estimate_label.csv\")"
   ]
  },
  {
   "cell_type": "code",
   "execution_count": 4,
   "metadata": {},
   "outputs": [
    {
     "output_type": "execute_result",
     "data": {
      "text/plain": [
       "                                              raw_comment  label emoji  \\\n",
       "0       Lần đầu mua tại shop nhưng rất ưng ý, vải mặc ...      1   NaN   \n",
       "1       Giao hàng nhanh, shop xịn xò đặt hàng xong là ...      1   NaN   \n",
       "2       Size vừa vặn luôn, shop mall mà hàng chất lượn...      1   NaN   \n",
       "3       Sản phẩm chất lượng.đóng gói kĩ.shop nhiệt tìn...      1   NaN   \n",
       "4       Chất lượng sản phẩm tuyệt vời giao hàng nhanh ...      1   NaN   \n",
       "...                                                   ...    ...   ...   \n",
       "219706               Nơ xinh đúng chất công chúa đẹpppppp      1   NaN   \n",
       "219707                                 Rất dễ thương, đẹp      1   NaN   \n",
       "219708  Đẹp lắm lun mọi ngừ ơi . Hdhhechhjhshxhdhhxhxh...      1   NaN   \n",
       "219709  Mua 12 món giao đủ. Vừa rẻ vừa chất lượng rất ...      1   NaN   \n",
       "219710  Dây buộc siêu dễ thương nha mn, còn được tặng ...      1     🥰   \n",
       "\n",
       "                                       processing_comment  \\\n",
       "0       lần đầu mua tại nhưng rất ưng ý vải mặc mát vì...   \n",
       "1       giao hàng nhanh xịn xò đặt hàng xong là chủ độ...   \n",
       "2       vừa vặn luôn mà hàng chất lượng giá rẻ vầy tội...   \n",
       "3       sản phẩm chất lượng đóng gói kĩ nhiệt tình sẽ ...   \n",
       "4       chất lượng sản phẩm tuyệt vời giao hàng nhanh ...   \n",
       "...                                                   ...   \n",
       "219706                    nơ xinh đúng chất công chúa đẹp   \n",
       "219707                                  rất dễ thương đẹp   \n",
       "219708                      đẹp lắm luôn mọi người ơi học   \n",
       "219709  mua món giao đủ vừa rẻ vừa chất lượng rất thíc...   \n",
       "219710  dây buộc siêu dễ thương nha mọi người còn được...   \n",
       "\n",
       "                                              boost_words  estimate_label  \n",
       "0       giao_hàng giá_tiền ủng_hộ cẩn_thận đóng_gói lâ...              -1  \n",
       "1             giao_hàng_nhanh chất_vải cẩn_thận ok xịn_xò              -1  \n",
       "2                               giá_rẻ chất_lượng vừa_vặn               0  \n",
       "3                     ủng_hộ đóng_gói chất_lượng sản_phẩm               1  \n",
       "4       giao_hàng_nhanh ủng_hộ tuyệt_vời chất_lượng sả...               1  \n",
       "...                                                   ...             ...  \n",
       "219706                                                NaN               1  \n",
       "219707                                          dễ_thương               1  \n",
       "219708                             mọi_người đẹp_lắm_luôn               1  \n",
       "219709                          ủng_hộ chất_lượng giao_đủ               1  \n",
       "219710                                mọi_người dễ_thương               1  \n",
       "\n",
       "[219711 rows x 6 columns]"
      ],
      "text/html": "<div>\n<style scoped>\n    .dataframe tbody tr th:only-of-type {\n        vertical-align: middle;\n    }\n\n    .dataframe tbody tr th {\n        vertical-align: top;\n    }\n\n    .dataframe thead th {\n        text-align: right;\n    }\n</style>\n<table border=\"1\" class=\"dataframe\">\n  <thead>\n    <tr style=\"text-align: right;\">\n      <th></th>\n      <th>raw_comment</th>\n      <th>label</th>\n      <th>emoji</th>\n      <th>processing_comment</th>\n      <th>boost_words</th>\n      <th>estimate_label</th>\n    </tr>\n  </thead>\n  <tbody>\n    <tr>\n      <th>0</th>\n      <td>Lần đầu mua tại shop nhưng rất ưng ý, vải mặc ...</td>\n      <td>1</td>\n      <td>NaN</td>\n      <td>lần đầu mua tại nhưng rất ưng ý vải mặc mát vì...</td>\n      <td>giao_hàng giá_tiền ủng_hộ cẩn_thận đóng_gói lâ...</td>\n      <td>-1</td>\n    </tr>\n    <tr>\n      <th>1</th>\n      <td>Giao hàng nhanh, shop xịn xò đặt hàng xong là ...</td>\n      <td>1</td>\n      <td>NaN</td>\n      <td>giao hàng nhanh xịn xò đặt hàng xong là chủ độ...</td>\n      <td>giao_hàng_nhanh chất_vải cẩn_thận ok xịn_xò</td>\n      <td>-1</td>\n    </tr>\n    <tr>\n      <th>2</th>\n      <td>Size vừa vặn luôn, shop mall mà hàng chất lượn...</td>\n      <td>1</td>\n      <td>NaN</td>\n      <td>vừa vặn luôn mà hàng chất lượng giá rẻ vầy tội...</td>\n      <td>giá_rẻ chất_lượng vừa_vặn</td>\n      <td>0</td>\n    </tr>\n    <tr>\n      <th>3</th>\n      <td>Sản phẩm chất lượng.đóng gói kĩ.shop nhiệt tìn...</td>\n      <td>1</td>\n      <td>NaN</td>\n      <td>sản phẩm chất lượng đóng gói kĩ nhiệt tình sẽ ...</td>\n      <td>ủng_hộ đóng_gói chất_lượng sản_phẩm</td>\n      <td>1</td>\n    </tr>\n    <tr>\n      <th>4</th>\n      <td>Chất lượng sản phẩm tuyệt vời giao hàng nhanh ...</td>\n      <td>1</td>\n      <td>NaN</td>\n      <td>chất lượng sản phẩm tuyệt vời giao hàng nhanh ...</td>\n      <td>giao_hàng_nhanh ủng_hộ tuyệt_vời chất_lượng sả...</td>\n      <td>1</td>\n    </tr>\n    <tr>\n      <th>...</th>\n      <td>...</td>\n      <td>...</td>\n      <td>...</td>\n      <td>...</td>\n      <td>...</td>\n      <td>...</td>\n    </tr>\n    <tr>\n      <th>219706</th>\n      <td>Nơ xinh đúng chất công chúa đẹpppppp</td>\n      <td>1</td>\n      <td>NaN</td>\n      <td>nơ xinh đúng chất công chúa đẹp</td>\n      <td>NaN</td>\n      <td>1</td>\n    </tr>\n    <tr>\n      <th>219707</th>\n      <td>Rất dễ thương, đẹp</td>\n      <td>1</td>\n      <td>NaN</td>\n      <td>rất dễ thương đẹp</td>\n      <td>dễ_thương</td>\n      <td>1</td>\n    </tr>\n    <tr>\n      <th>219708</th>\n      <td>Đẹp lắm lun mọi ngừ ơi . Hdhhechhjhshxhdhhxhxh...</td>\n      <td>1</td>\n      <td>NaN</td>\n      <td>đẹp lắm luôn mọi người ơi học</td>\n      <td>mọi_người đẹp_lắm_luôn</td>\n      <td>1</td>\n    </tr>\n    <tr>\n      <th>219709</th>\n      <td>Mua 12 món giao đủ. Vừa rẻ vừa chất lượng rất ...</td>\n      <td>1</td>\n      <td>NaN</td>\n      <td>mua món giao đủ vừa rẻ vừa chất lượng rất thíc...</td>\n      <td>ủng_hộ chất_lượng giao_đủ</td>\n      <td>1</td>\n    </tr>\n    <tr>\n      <th>219710</th>\n      <td>Dây buộc siêu dễ thương nha mn, còn được tặng ...</td>\n      <td>1</td>\n      <td>🥰</td>\n      <td>dây buộc siêu dễ thương nha mọi người còn được...</td>\n      <td>mọi_người dễ_thương</td>\n      <td>1</td>\n    </tr>\n  </tbody>\n</table>\n<p>219711 rows × 6 columns</p>\n</div>"
     },
     "metadata": {},
     "execution_count": 4
    }
   ],
   "source": [
    "raw_data"
   ]
  },
  {
   "source": [
    "### 17. So sánh giữa `label` và `estimate_label`"
   ],
   "cell_type": "markdown",
   "metadata": {}
  },
  {
   "cell_type": "code",
   "execution_count": 27,
   "metadata": {},
   "outputs": [],
   "source": [
    "def compare(pDf, pLabel):\n",
    "    a = pDf[(pDf['label'] == pLabel) & (pDf['estimate_label'] == -1)]['raw_comment'].count()\n",
    "    b = pDf[(pDf['label'] == pLabel) & (pDf['estimate_label'] == 0)]['raw_comment'].count()\n",
    "    c = pDf[(pDf['label'] == pLabel) & (pDf['estimate_label'] == 1)]['raw_comment'].count()\n",
    "\n",
    "    cols = [-1, 0, 1]\n",
    "    df = pd.DataFrame(0, index=[-1, 0, 1], columns=[-1, 0, 1])\n",
    "    \n",
    "    for tp in zip([-1, 0, 1], [a, b, c]):\n",
    "        i, v = tp\n",
    "        df.iloc[i + 1, pLabel + 1] = df.iloc[pLabel + 1, i + 1] = v\n",
    "\n",
    "    return df"
   ]
  },
  {
   "cell_type": "code",
   "execution_count": 28,
   "metadata": {},
   "outputs": [
    {
     "output_type": "execute_result",
     "data": {
      "text/plain": [
       "      -1    0    1\n",
       "-1  2375  795  295\n",
       " 0   795    0    0\n",
       " 1   295    0    0"
      ],
      "text/html": "<div>\n<style scoped>\n    .dataframe tbody tr th:only-of-type {\n        vertical-align: middle;\n    }\n\n    .dataframe tbody tr th {\n        vertical-align: top;\n    }\n\n    .dataframe thead th {\n        text-align: right;\n    }\n</style>\n<table border=\"1\" class=\"dataframe\">\n  <thead>\n    <tr style=\"text-align: right;\">\n      <th></th>\n      <th>-1</th>\n      <th>0</th>\n      <th>1</th>\n    </tr>\n  </thead>\n  <tbody>\n    <tr>\n      <th>-1</th>\n      <td>2375</td>\n      <td>795</td>\n      <td>295</td>\n    </tr>\n    <tr>\n      <th>0</th>\n      <td>795</td>\n      <td>0</td>\n      <td>0</td>\n    </tr>\n    <tr>\n      <th>1</th>\n      <td>295</td>\n      <td>0</td>\n      <td>0</td>\n    </tr>\n  </tbody>\n</table>\n</div>"
     },
     "metadata": {},
     "execution_count": 28
    }
   ],
   "source": [
    "compare(raw_data, -1)"
   ]
  },
  {
   "cell_type": "code",
   "execution_count": 29,
   "metadata": {},
   "outputs": [
    {
     "output_type": "execute_result",
     "data": {
      "text/plain": [
       "      -1     0     1\n",
       "-1     0  6278     0\n",
       " 0  6278  3110  2478\n",
       " 1     0  2478     0"
      ],
      "text/html": "<div>\n<style scoped>\n    .dataframe tbody tr th:only-of-type {\n        vertical-align: middle;\n    }\n\n    .dataframe tbody tr th {\n        vertical-align: top;\n    }\n\n    .dataframe thead th {\n        text-align: right;\n    }\n</style>\n<table border=\"1\" class=\"dataframe\">\n  <thead>\n    <tr style=\"text-align: right;\">\n      <th></th>\n      <th>-1</th>\n      <th>0</th>\n      <th>1</th>\n    </tr>\n  </thead>\n  <tbody>\n    <tr>\n      <th>-1</th>\n      <td>0</td>\n      <td>6278</td>\n      <td>0</td>\n    </tr>\n    <tr>\n      <th>0</th>\n      <td>6278</td>\n      <td>3110</td>\n      <td>2478</td>\n    </tr>\n    <tr>\n      <th>1</th>\n      <td>0</td>\n      <td>2478</td>\n      <td>0</td>\n    </tr>\n  </tbody>\n</table>\n</div>"
     },
     "metadata": {},
     "execution_count": 29
    }
   ],
   "source": [
    "compare(raw_data, 0)"
   ]
  },
  {
   "cell_type": "code",
   "execution_count": 30,
   "metadata": {},
   "outputs": [
    {
     "output_type": "execute_result",
     "data": {
      "text/plain": [
       "       -1      0       1\n",
       "-1      0      0   42844\n",
       " 0      0      0   36602\n",
       " 1  42844  36602  124934"
      ],
      "text/html": "<div>\n<style scoped>\n    .dataframe tbody tr th:only-of-type {\n        vertical-align: middle;\n    }\n\n    .dataframe tbody tr th {\n        vertical-align: top;\n    }\n\n    .dataframe thead th {\n        text-align: right;\n    }\n</style>\n<table border=\"1\" class=\"dataframe\">\n  <thead>\n    <tr style=\"text-align: right;\">\n      <th></th>\n      <th>-1</th>\n      <th>0</th>\n      <th>1</th>\n    </tr>\n  </thead>\n  <tbody>\n    <tr>\n      <th>-1</th>\n      <td>0</td>\n      <td>0</td>\n      <td>42844</td>\n    </tr>\n    <tr>\n      <th>0</th>\n      <td>0</td>\n      <td>0</td>\n      <td>36602</td>\n    </tr>\n    <tr>\n      <th>1</th>\n      <td>42844</td>\n      <td>36602</td>\n      <td>124934</td>\n    </tr>\n  </tbody>\n</table>\n</div>"
     },
     "metadata": {},
     "execution_count": 30
    }
   ],
   "source": [
    "compare(raw_data, 1)"
   ]
  },
  {
   "cell_type": "code",
   "execution_count": null,
   "metadata": {},
   "outputs": [],
   "source": []
  }
 ]
}