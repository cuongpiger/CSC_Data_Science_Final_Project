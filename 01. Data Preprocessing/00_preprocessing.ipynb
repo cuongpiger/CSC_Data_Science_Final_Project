{
 "metadata": {
  "language_info": {
   "codemirror_mode": {
    "name": "ipython",
    "version": 3
   },
   "file_extension": ".py",
   "mimetype": "text/x-python",
   "name": "python",
   "nbconvert_exporter": "python",
   "pygments_lexer": "ipython3",
   "version": "3.8.5"
  },
  "orig_nbformat": 2,
  "kernelspec": {
   "name": "python3",
   "display_name": "Python 3",
   "language": "python"
  }
 },
 "nbformat": 4,
 "nbformat_minor": 2,
 "cells": [
  {
   "cell_type": "code",
   "execution_count": 1,
   "metadata": {},
   "outputs": [],
   "source": [
    "%load_ext autoreload\n",
    "%autoreload 2"
   ]
  },
  {
   "cell_type": "code",
   "execution_count": 42,
   "metadata": {},
   "outputs": [],
   "source": [
    "import pandas as pd\n",
    "import numpy as np\n",
    "import modules.utils as Utils\n",
    "from modules.regex_patterns import reviews_paths\n",
    "from collections import Counter"
   ]
  },
  {
   "source": [
    "### 1. Đọc hết tất cả dữ liệu sau khi crawl về vào một dataframe duy nhất"
   ],
   "cell_type": "markdown",
   "metadata": {}
  },
  {
   "cell_type": "code",
   "execution_count": 3,
   "metadata": {},
   "outputs": [],
   "source": [
    "raw_data = pd.DataFrame(columns=['comment', 'rating'])"
   ]
  },
  {
   "cell_type": "code",
   "execution_count": 4,
   "metadata": {},
   "outputs": [],
   "source": [
    "for path in reviews_paths:\n",
    "    products = Utils.getFiles(path)\n",
    "    for product in products:\n",
    "        df = pd.read_csv(path + product)\n",
    "        raw_data = pd.concat([raw_data, df], axis=0).reset_index(drop=True)"
   ]
  },
  {
   "source": [
    "🚩 **Đổi tên cột `comment` thành `raw_comment`.**"
   ],
   "cell_type": "markdown",
   "metadata": {}
  },
  {
   "cell_type": "code",
   "execution_count": 5,
   "metadata": {},
   "outputs": [],
   "source": [
    "raw_data = raw_data.rename(columns={\"comment\":\"raw_comment\"})"
   ]
  },
  {
   "cell_type": "code",
   "execution_count": 6,
   "metadata": {},
   "outputs": [
    {
     "output_type": "execute_result",
     "data": {
      "text/plain": [
       "                                              raw_comment rating\n",
       "0       Lần đầu mua tại shop nhưng rất ưng ý, vải mặc ...      5\n",
       "1       Giao hàng nhanh, shop xịn xò đặt hàng xong là ...      5\n",
       "2       Size vừa vặn luôn, shop mall mà hàng chất lượn...      5\n",
       "3       Sản phẩm chất lượng.đóng gói kĩ.shop nhiệt tìn...      5\n",
       "4       Chất lượng sản phẩm tuyệt vời giao hàng nhanh ...      5\n",
       "...                                                   ...    ...\n",
       "278154  Đẹp lắm lun mọi ngừ ơi . Hdhhechhjhshxhdhhxhxh...      5\n",
       "278155                                                Dởm      5\n",
       "278156  Mua 12 món giao đủ. Vừa rẻ vừa chất lượng rất ...      5\n",
       "278157                                        Hàng đẹp ạ😍      5\n",
       "278158  Dây buộc siêu dễ thương nha mn, còn được tặng ...      5\n",
       "\n",
       "[278159 rows x 2 columns]"
      ],
      "text/html": "<div>\n<style scoped>\n    .dataframe tbody tr th:only-of-type {\n        vertical-align: middle;\n    }\n\n    .dataframe tbody tr th {\n        vertical-align: top;\n    }\n\n    .dataframe thead th {\n        text-align: right;\n    }\n</style>\n<table border=\"1\" class=\"dataframe\">\n  <thead>\n    <tr style=\"text-align: right;\">\n      <th></th>\n      <th>raw_comment</th>\n      <th>rating</th>\n    </tr>\n  </thead>\n  <tbody>\n    <tr>\n      <th>0</th>\n      <td>Lần đầu mua tại shop nhưng rất ưng ý, vải mặc ...</td>\n      <td>5</td>\n    </tr>\n    <tr>\n      <th>1</th>\n      <td>Giao hàng nhanh, shop xịn xò đặt hàng xong là ...</td>\n      <td>5</td>\n    </tr>\n    <tr>\n      <th>2</th>\n      <td>Size vừa vặn luôn, shop mall mà hàng chất lượn...</td>\n      <td>5</td>\n    </tr>\n    <tr>\n      <th>3</th>\n      <td>Sản phẩm chất lượng.đóng gói kĩ.shop nhiệt tìn...</td>\n      <td>5</td>\n    </tr>\n    <tr>\n      <th>4</th>\n      <td>Chất lượng sản phẩm tuyệt vời giao hàng nhanh ...</td>\n      <td>5</td>\n    </tr>\n    <tr>\n      <th>...</th>\n      <td>...</td>\n      <td>...</td>\n    </tr>\n    <tr>\n      <th>278154</th>\n      <td>Đẹp lắm lun mọi ngừ ơi . Hdhhechhjhshxhdhhxhxh...</td>\n      <td>5</td>\n    </tr>\n    <tr>\n      <th>278155</th>\n      <td>Dởm</td>\n      <td>5</td>\n    </tr>\n    <tr>\n      <th>278156</th>\n      <td>Mua 12 món giao đủ. Vừa rẻ vừa chất lượng rất ...</td>\n      <td>5</td>\n    </tr>\n    <tr>\n      <th>278157</th>\n      <td>Hàng đẹp ạ😍</td>\n      <td>5</td>\n    </tr>\n    <tr>\n      <th>278158</th>\n      <td>Dây buộc siêu dễ thương nha mn, còn được tặng ...</td>\n      <td>5</td>\n    </tr>\n  </tbody>\n</table>\n<p>278159 rows × 2 columns</p>\n</div>"
     },
     "metadata": {},
     "execution_count": 6
    }
   ],
   "source": [
    "raw_data"
   ]
  },
  {
   "source": [
    "🚩 **Xem `dtype` tại các cột.**"
   ],
   "cell_type": "markdown",
   "metadata": {}
  },
  {
   "cell_type": "code",
   "execution_count": 7,
   "metadata": {},
   "outputs": [
    {
     "output_type": "execute_result",
     "data": {
      "text/plain": [
       "raw_comment    object\n",
       "rating         object\n",
       "dtype: object"
      ]
     },
     "metadata": {},
     "execution_count": 7
    }
   ],
   "source": [
    "raw_data.dtypes"
   ]
  },
  {
   "source": [
    "🚩 **Chuẩn lại kiểu dữ liệu.**"
   ],
   "cell_type": "markdown",
   "metadata": {}
  },
  {
   "cell_type": "code",
   "execution_count": 8,
   "metadata": {},
   "outputs": [],
   "source": [
    "raw_data = raw_data.astype({\"raw_comment\":\"string\", \"rating\":\"Int64\"})"
   ]
  },
  {
   "cell_type": "code",
   "execution_count": 9,
   "metadata": {},
   "outputs": [
    {
     "output_type": "execute_result",
     "data": {
      "text/plain": [
       "raw_comment    string\n",
       "rating          Int64\n",
       "dtype: object"
      ]
     },
     "metadata": {},
     "execution_count": 9
    }
   ],
   "source": [
    "raw_data.dtypes"
   ]
  },
  {
   "cell_type": "code",
   "execution_count": 10,
   "metadata": {},
   "outputs": [
    {
     "output_type": "execute_result",
     "data": {
      "text/plain": [
       "                                              raw_comment  rating\n",
       "0       Lần đầu mua tại shop nhưng rất ưng ý, vải mặc ...       5\n",
       "1       Giao hàng nhanh, shop xịn xò đặt hàng xong là ...       5\n",
       "2       Size vừa vặn luôn, shop mall mà hàng chất lượn...       5\n",
       "3       Sản phẩm chất lượng.đóng gói kĩ.shop nhiệt tìn...       5\n",
       "4       Chất lượng sản phẩm tuyệt vời giao hàng nhanh ...       5\n",
       "...                                                   ...     ...\n",
       "278154  Đẹp lắm lun mọi ngừ ơi . Hdhhechhjhshxhdhhxhxh...       5\n",
       "278155                                                Dởm       5\n",
       "278156  Mua 12 món giao đủ. Vừa rẻ vừa chất lượng rất ...       5\n",
       "278157                                        Hàng đẹp ạ😍       5\n",
       "278158  Dây buộc siêu dễ thương nha mn, còn được tặng ...       5\n",
       "\n",
       "[278159 rows x 2 columns]"
      ],
      "text/html": "<div>\n<style scoped>\n    .dataframe tbody tr th:only-of-type {\n        vertical-align: middle;\n    }\n\n    .dataframe tbody tr th {\n        vertical-align: top;\n    }\n\n    .dataframe thead th {\n        text-align: right;\n    }\n</style>\n<table border=\"1\" class=\"dataframe\">\n  <thead>\n    <tr style=\"text-align: right;\">\n      <th></th>\n      <th>raw_comment</th>\n      <th>rating</th>\n    </tr>\n  </thead>\n  <tbody>\n    <tr>\n      <th>0</th>\n      <td>Lần đầu mua tại shop nhưng rất ưng ý, vải mặc ...</td>\n      <td>5</td>\n    </tr>\n    <tr>\n      <th>1</th>\n      <td>Giao hàng nhanh, shop xịn xò đặt hàng xong là ...</td>\n      <td>5</td>\n    </tr>\n    <tr>\n      <th>2</th>\n      <td>Size vừa vặn luôn, shop mall mà hàng chất lượn...</td>\n      <td>5</td>\n    </tr>\n    <tr>\n      <th>3</th>\n      <td>Sản phẩm chất lượng.đóng gói kĩ.shop nhiệt tìn...</td>\n      <td>5</td>\n    </tr>\n    <tr>\n      <th>4</th>\n      <td>Chất lượng sản phẩm tuyệt vời giao hàng nhanh ...</td>\n      <td>5</td>\n    </tr>\n    <tr>\n      <th>...</th>\n      <td>...</td>\n      <td>...</td>\n    </tr>\n    <tr>\n      <th>278154</th>\n      <td>Đẹp lắm lun mọi ngừ ơi . Hdhhechhjhshxhdhhxhxh...</td>\n      <td>5</td>\n    </tr>\n    <tr>\n      <th>278155</th>\n      <td>Dởm</td>\n      <td>5</td>\n    </tr>\n    <tr>\n      <th>278156</th>\n      <td>Mua 12 món giao đủ. Vừa rẻ vừa chất lượng rất ...</td>\n      <td>5</td>\n    </tr>\n    <tr>\n      <th>278157</th>\n      <td>Hàng đẹp ạ😍</td>\n      <td>5</td>\n    </tr>\n    <tr>\n      <th>278158</th>\n      <td>Dây buộc siêu dễ thương nha mn, còn được tặng ...</td>\n      <td>5</td>\n    </tr>\n  </tbody>\n</table>\n<p>278159 rows × 2 columns</p>\n</div>"
     },
     "metadata": {},
     "execution_count": 10
    }
   ],
   "source": [
    "raw_data"
   ]
  },
  {
   "source": [
    "### 2. Tạo cột `label` cho `raw_data` theo tiêu chí:\n",
    "* $\\leq 2$: -1 (tiêu cực)\n",
    "* $\\in [3, 4]$: 0 (bình thường)\n",
    "* $= 5$: 1 (tích cực)"
   ],
   "cell_type": "markdown",
   "metadata": {}
  },
  {
   "cell_type": "code",
   "execution_count": 11,
   "metadata": {},
   "outputs": [],
   "source": [
    "raw_data['label'] = raw_data['rating'].apply(lambda rating: Utils.labelRating(rating))"
   ]
  },
  {
   "cell_type": "code",
   "execution_count": 12,
   "metadata": {},
   "outputs": [
    {
     "output_type": "execute_result",
     "data": {
      "text/plain": [
       "                                              raw_comment  rating  label\n",
       "0       Lần đầu mua tại shop nhưng rất ưng ý, vải mặc ...       5      1\n",
       "1       Giao hàng nhanh, shop xịn xò đặt hàng xong là ...       5      1\n",
       "2       Size vừa vặn luôn, shop mall mà hàng chất lượn...       5      1\n",
       "3       Sản phẩm chất lượng.đóng gói kĩ.shop nhiệt tìn...       5      1\n",
       "4       Chất lượng sản phẩm tuyệt vời giao hàng nhanh ...       5      1\n",
       "...                                                   ...     ...    ...\n",
       "278154  Đẹp lắm lun mọi ngừ ơi . Hdhhechhjhshxhdhhxhxh...       5      1\n",
       "278155                                                Dởm       5      1\n",
       "278156  Mua 12 món giao đủ. Vừa rẻ vừa chất lượng rất ...       5      1\n",
       "278157                                        Hàng đẹp ạ😍       5      1\n",
       "278158  Dây buộc siêu dễ thương nha mn, còn được tặng ...       5      1\n",
       "\n",
       "[278159 rows x 3 columns]"
      ],
      "text/html": "<div>\n<style scoped>\n    .dataframe tbody tr th:only-of-type {\n        vertical-align: middle;\n    }\n\n    .dataframe tbody tr th {\n        vertical-align: top;\n    }\n\n    .dataframe thead th {\n        text-align: right;\n    }\n</style>\n<table border=\"1\" class=\"dataframe\">\n  <thead>\n    <tr style=\"text-align: right;\">\n      <th></th>\n      <th>raw_comment</th>\n      <th>rating</th>\n      <th>label</th>\n    </tr>\n  </thead>\n  <tbody>\n    <tr>\n      <th>0</th>\n      <td>Lần đầu mua tại shop nhưng rất ưng ý, vải mặc ...</td>\n      <td>5</td>\n      <td>1</td>\n    </tr>\n    <tr>\n      <th>1</th>\n      <td>Giao hàng nhanh, shop xịn xò đặt hàng xong là ...</td>\n      <td>5</td>\n      <td>1</td>\n    </tr>\n    <tr>\n      <th>2</th>\n      <td>Size vừa vặn luôn, shop mall mà hàng chất lượn...</td>\n      <td>5</td>\n      <td>1</td>\n    </tr>\n    <tr>\n      <th>3</th>\n      <td>Sản phẩm chất lượng.đóng gói kĩ.shop nhiệt tìn...</td>\n      <td>5</td>\n      <td>1</td>\n    </tr>\n    <tr>\n      <th>4</th>\n      <td>Chất lượng sản phẩm tuyệt vời giao hàng nhanh ...</td>\n      <td>5</td>\n      <td>1</td>\n    </tr>\n    <tr>\n      <th>...</th>\n      <td>...</td>\n      <td>...</td>\n      <td>...</td>\n    </tr>\n    <tr>\n      <th>278154</th>\n      <td>Đẹp lắm lun mọi ngừ ơi . Hdhhechhjhshxhdhhxhxh...</td>\n      <td>5</td>\n      <td>1</td>\n    </tr>\n    <tr>\n      <th>278155</th>\n      <td>Dởm</td>\n      <td>5</td>\n      <td>1</td>\n    </tr>\n    <tr>\n      <th>278156</th>\n      <td>Mua 12 món giao đủ. Vừa rẻ vừa chất lượng rất ...</td>\n      <td>5</td>\n      <td>1</td>\n    </tr>\n    <tr>\n      <th>278157</th>\n      <td>Hàng đẹp ạ😍</td>\n      <td>5</td>\n      <td>1</td>\n    </tr>\n    <tr>\n      <th>278158</th>\n      <td>Dây buộc siêu dễ thương nha mn, còn được tặng ...</td>\n      <td>5</td>\n      <td>1</td>\n    </tr>\n  </tbody>\n</table>\n<p>278159 rows × 3 columns</p>\n</div>"
     },
     "metadata": {},
     "execution_count": 12
    }
   ],
   "source": [
    "raw_data"
   ]
  },
  {
   "source": [
    "🚩 **Xóa cột `rating` đi.**"
   ],
   "cell_type": "markdown",
   "metadata": {}
  },
  {
   "cell_type": "code",
   "execution_count": 13,
   "metadata": {},
   "outputs": [],
   "source": [
    "raw_data = raw_data.drop(columns=['rating'])"
   ]
  },
  {
   "cell_type": "code",
   "execution_count": 14,
   "metadata": {},
   "outputs": [
    {
     "output_type": "execute_result",
     "data": {
      "text/plain": [
       "                                              raw_comment  label\n",
       "0       Lần đầu mua tại shop nhưng rất ưng ý, vải mặc ...      1\n",
       "1       Giao hàng nhanh, shop xịn xò đặt hàng xong là ...      1\n",
       "2       Size vừa vặn luôn, shop mall mà hàng chất lượn...      1\n",
       "3       Sản phẩm chất lượng.đóng gói kĩ.shop nhiệt tìn...      1\n",
       "4       Chất lượng sản phẩm tuyệt vời giao hàng nhanh ...      1\n",
       "...                                                   ...    ...\n",
       "278154  Đẹp lắm lun mọi ngừ ơi . Hdhhechhjhshxhdhhxhxh...      1\n",
       "278155                                                Dởm      1\n",
       "278156  Mua 12 món giao đủ. Vừa rẻ vừa chất lượng rất ...      1\n",
       "278157                                        Hàng đẹp ạ😍      1\n",
       "278158  Dây buộc siêu dễ thương nha mn, còn được tặng ...      1\n",
       "\n",
       "[278159 rows x 2 columns]"
      ],
      "text/html": "<div>\n<style scoped>\n    .dataframe tbody tr th:only-of-type {\n        vertical-align: middle;\n    }\n\n    .dataframe tbody tr th {\n        vertical-align: top;\n    }\n\n    .dataframe thead th {\n        text-align: right;\n    }\n</style>\n<table border=\"1\" class=\"dataframe\">\n  <thead>\n    <tr style=\"text-align: right;\">\n      <th></th>\n      <th>raw_comment</th>\n      <th>label</th>\n    </tr>\n  </thead>\n  <tbody>\n    <tr>\n      <th>0</th>\n      <td>Lần đầu mua tại shop nhưng rất ưng ý, vải mặc ...</td>\n      <td>1</td>\n    </tr>\n    <tr>\n      <th>1</th>\n      <td>Giao hàng nhanh, shop xịn xò đặt hàng xong là ...</td>\n      <td>1</td>\n    </tr>\n    <tr>\n      <th>2</th>\n      <td>Size vừa vặn luôn, shop mall mà hàng chất lượn...</td>\n      <td>1</td>\n    </tr>\n    <tr>\n      <th>3</th>\n      <td>Sản phẩm chất lượng.đóng gói kĩ.shop nhiệt tìn...</td>\n      <td>1</td>\n    </tr>\n    <tr>\n      <th>4</th>\n      <td>Chất lượng sản phẩm tuyệt vời giao hàng nhanh ...</td>\n      <td>1</td>\n    </tr>\n    <tr>\n      <th>...</th>\n      <td>...</td>\n      <td>...</td>\n    </tr>\n    <tr>\n      <th>278154</th>\n      <td>Đẹp lắm lun mọi ngừ ơi . Hdhhechhjhshxhdhhxhxh...</td>\n      <td>1</td>\n    </tr>\n    <tr>\n      <th>278155</th>\n      <td>Dởm</td>\n      <td>1</td>\n    </tr>\n    <tr>\n      <th>278156</th>\n      <td>Mua 12 món giao đủ. Vừa rẻ vừa chất lượng rất ...</td>\n      <td>1</td>\n    </tr>\n    <tr>\n      <th>278157</th>\n      <td>Hàng đẹp ạ😍</td>\n      <td>1</td>\n    </tr>\n    <tr>\n      <th>278158</th>\n      <td>Dây buộc siêu dễ thương nha mn, còn được tặng ...</td>\n      <td>1</td>\n    </tr>\n  </tbody>\n</table>\n<p>278159 rows × 2 columns</p>\n</div>"
     },
     "metadata": {},
     "execution_count": 14
    }
   ],
   "source": [
    "raw_data"
   ]
  },
  {
   "source": [
    "### 3. Extract emoji"
   ],
   "cell_type": "markdown",
   "metadata": {}
  },
  {
   "cell_type": "code",
   "execution_count": 15,
   "metadata": {},
   "outputs": [],
   "source": [
    "raw_data['emoji'] = raw_data['raw_comment'].apply(lambda comment: Utils.extractEmoji(comment))"
   ]
  },
  {
   "cell_type": "code",
   "execution_count": 16,
   "metadata": {},
   "outputs": [
    {
     "output_type": "execute_result",
     "data": {
      "text/plain": [
       "                                              raw_comment  label emoji\n",
       "0       Lần đầu mua tại shop nhưng rất ưng ý, vải mặc ...      1      \n",
       "1       Giao hàng nhanh, shop xịn xò đặt hàng xong là ...      1      \n",
       "2       Size vừa vặn luôn, shop mall mà hàng chất lượn...      1      \n",
       "3       Sản phẩm chất lượng.đóng gói kĩ.shop nhiệt tìn...      1      \n",
       "4       Chất lượng sản phẩm tuyệt vời giao hàng nhanh ...      1      \n",
       "...                                                   ...    ...   ...\n",
       "278154  Đẹp lắm lun mọi ngừ ơi . Hdhhechhjhshxhdhhxhxh...      1      \n",
       "278155                                                Dởm      1      \n",
       "278156  Mua 12 món giao đủ. Vừa rẻ vừa chất lượng rất ...      1      \n",
       "278157                                        Hàng đẹp ạ😍      1     😍\n",
       "278158  Dây buộc siêu dễ thương nha mn, còn được tặng ...      1     🥰\n",
       "\n",
       "[278159 rows x 3 columns]"
      ],
      "text/html": "<div>\n<style scoped>\n    .dataframe tbody tr th:only-of-type {\n        vertical-align: middle;\n    }\n\n    .dataframe tbody tr th {\n        vertical-align: top;\n    }\n\n    .dataframe thead th {\n        text-align: right;\n    }\n</style>\n<table border=\"1\" class=\"dataframe\">\n  <thead>\n    <tr style=\"text-align: right;\">\n      <th></th>\n      <th>raw_comment</th>\n      <th>label</th>\n      <th>emoji</th>\n    </tr>\n  </thead>\n  <tbody>\n    <tr>\n      <th>0</th>\n      <td>Lần đầu mua tại shop nhưng rất ưng ý, vải mặc ...</td>\n      <td>1</td>\n      <td></td>\n    </tr>\n    <tr>\n      <th>1</th>\n      <td>Giao hàng nhanh, shop xịn xò đặt hàng xong là ...</td>\n      <td>1</td>\n      <td></td>\n    </tr>\n    <tr>\n      <th>2</th>\n      <td>Size vừa vặn luôn, shop mall mà hàng chất lượn...</td>\n      <td>1</td>\n      <td></td>\n    </tr>\n    <tr>\n      <th>3</th>\n      <td>Sản phẩm chất lượng.đóng gói kĩ.shop nhiệt tìn...</td>\n      <td>1</td>\n      <td></td>\n    </tr>\n    <tr>\n      <th>4</th>\n      <td>Chất lượng sản phẩm tuyệt vời giao hàng nhanh ...</td>\n      <td>1</td>\n      <td></td>\n    </tr>\n    <tr>\n      <th>...</th>\n      <td>...</td>\n      <td>...</td>\n      <td>...</td>\n    </tr>\n    <tr>\n      <th>278154</th>\n      <td>Đẹp lắm lun mọi ngừ ơi . Hdhhechhjhshxhdhhxhxh...</td>\n      <td>1</td>\n      <td></td>\n    </tr>\n    <tr>\n      <th>278155</th>\n      <td>Dởm</td>\n      <td>1</td>\n      <td></td>\n    </tr>\n    <tr>\n      <th>278156</th>\n      <td>Mua 12 món giao đủ. Vừa rẻ vừa chất lượng rất ...</td>\n      <td>1</td>\n      <td></td>\n    </tr>\n    <tr>\n      <th>278157</th>\n      <td>Hàng đẹp ạ😍</td>\n      <td>1</td>\n      <td>😍</td>\n    </tr>\n    <tr>\n      <th>278158</th>\n      <td>Dây buộc siêu dễ thương nha mn, còn được tặng ...</td>\n      <td>1</td>\n      <td>🥰</td>\n    </tr>\n  </tbody>\n</table>\n<p>278159 rows × 3 columns</p>\n</div>"
     },
     "metadata": {},
     "execution_count": 16
    }
   ],
   "source": [
    "raw_data"
   ]
  },
  {
   "source": [
    "### 4. **Tạo cột `processing_comment` bằng cách `.lower()` cột `raw_comment`.**"
   ],
   "cell_type": "markdown",
   "metadata": {}
  },
  {
   "cell_type": "code",
   "execution_count": 17,
   "metadata": {},
   "outputs": [],
   "source": [
    "raw_data['processing_comment'] = raw_data['raw_comment'].apply(lambda comment: comment.lower())"
   ]
  },
  {
   "cell_type": "code",
   "execution_count": 18,
   "metadata": {},
   "outputs": [
    {
     "output_type": "execute_result",
     "data": {
      "text/plain": [
       "                                              raw_comment  label emoji  \\\n",
       "0       Lần đầu mua tại shop nhưng rất ưng ý, vải mặc ...      1         \n",
       "1       Giao hàng nhanh, shop xịn xò đặt hàng xong là ...      1         \n",
       "2       Size vừa vặn luôn, shop mall mà hàng chất lượn...      1         \n",
       "3       Sản phẩm chất lượng.đóng gói kĩ.shop nhiệt tìn...      1         \n",
       "4       Chất lượng sản phẩm tuyệt vời giao hàng nhanh ...      1         \n",
       "...                                                   ...    ...   ...   \n",
       "278154  Đẹp lắm lun mọi ngừ ơi . Hdhhechhjhshxhdhhxhxh...      1         \n",
       "278155                                                Dởm      1         \n",
       "278156  Mua 12 món giao đủ. Vừa rẻ vừa chất lượng rất ...      1         \n",
       "278157                                        Hàng đẹp ạ😍      1     😍   \n",
       "278158  Dây buộc siêu dễ thương nha mn, còn được tặng ...      1     🥰   \n",
       "\n",
       "                                       processing_comment  \n",
       "0       lần đầu mua tại shop nhưng rất ưng ý, vải mặc ...  \n",
       "1       giao hàng nhanh, shop xịn xò đặt hàng xong là ...  \n",
       "2       size vừa vặn luôn, shop mall mà hàng chất lượn...  \n",
       "3       sản phẩm chất lượng.đóng gói kĩ.shop nhiệt tìn...  \n",
       "4       chất lượng sản phẩm tuyệt vời giao hàng nhanh ...  \n",
       "...                                                   ...  \n",
       "278154  đẹp lắm lun mọi ngừ ơi . hdhhechhjhshxhdhhxhxh...  \n",
       "278155                                                dởm  \n",
       "278156  mua 12 món giao đủ. vừa rẻ vừa chất lượng rất ...  \n",
       "278157                                        hàng đẹp ạ😍  \n",
       "278158  dây buộc siêu dễ thương nha mn, còn được tặng ...  \n",
       "\n",
       "[278159 rows x 4 columns]"
      ],
      "text/html": "<div>\n<style scoped>\n    .dataframe tbody tr th:only-of-type {\n        vertical-align: middle;\n    }\n\n    .dataframe tbody tr th {\n        vertical-align: top;\n    }\n\n    .dataframe thead th {\n        text-align: right;\n    }\n</style>\n<table border=\"1\" class=\"dataframe\">\n  <thead>\n    <tr style=\"text-align: right;\">\n      <th></th>\n      <th>raw_comment</th>\n      <th>label</th>\n      <th>emoji</th>\n      <th>processing_comment</th>\n    </tr>\n  </thead>\n  <tbody>\n    <tr>\n      <th>0</th>\n      <td>Lần đầu mua tại shop nhưng rất ưng ý, vải mặc ...</td>\n      <td>1</td>\n      <td></td>\n      <td>lần đầu mua tại shop nhưng rất ưng ý, vải mặc ...</td>\n    </tr>\n    <tr>\n      <th>1</th>\n      <td>Giao hàng nhanh, shop xịn xò đặt hàng xong là ...</td>\n      <td>1</td>\n      <td></td>\n      <td>giao hàng nhanh, shop xịn xò đặt hàng xong là ...</td>\n    </tr>\n    <tr>\n      <th>2</th>\n      <td>Size vừa vặn luôn, shop mall mà hàng chất lượn...</td>\n      <td>1</td>\n      <td></td>\n      <td>size vừa vặn luôn, shop mall mà hàng chất lượn...</td>\n    </tr>\n    <tr>\n      <th>3</th>\n      <td>Sản phẩm chất lượng.đóng gói kĩ.shop nhiệt tìn...</td>\n      <td>1</td>\n      <td></td>\n      <td>sản phẩm chất lượng.đóng gói kĩ.shop nhiệt tìn...</td>\n    </tr>\n    <tr>\n      <th>4</th>\n      <td>Chất lượng sản phẩm tuyệt vời giao hàng nhanh ...</td>\n      <td>1</td>\n      <td></td>\n      <td>chất lượng sản phẩm tuyệt vời giao hàng nhanh ...</td>\n    </tr>\n    <tr>\n      <th>...</th>\n      <td>...</td>\n      <td>...</td>\n      <td>...</td>\n      <td>...</td>\n    </tr>\n    <tr>\n      <th>278154</th>\n      <td>Đẹp lắm lun mọi ngừ ơi . Hdhhechhjhshxhdhhxhxh...</td>\n      <td>1</td>\n      <td></td>\n      <td>đẹp lắm lun mọi ngừ ơi . hdhhechhjhshxhdhhxhxh...</td>\n    </tr>\n    <tr>\n      <th>278155</th>\n      <td>Dởm</td>\n      <td>1</td>\n      <td></td>\n      <td>dởm</td>\n    </tr>\n    <tr>\n      <th>278156</th>\n      <td>Mua 12 món giao đủ. Vừa rẻ vừa chất lượng rất ...</td>\n      <td>1</td>\n      <td></td>\n      <td>mua 12 món giao đủ. vừa rẻ vừa chất lượng rất ...</td>\n    </tr>\n    <tr>\n      <th>278157</th>\n      <td>Hàng đẹp ạ😍</td>\n      <td>1</td>\n      <td>😍</td>\n      <td>hàng đẹp ạ😍</td>\n    </tr>\n    <tr>\n      <th>278158</th>\n      <td>Dây buộc siêu dễ thương nha mn, còn được tặng ...</td>\n      <td>1</td>\n      <td>🥰</td>\n      <td>dây buộc siêu dễ thương nha mn, còn được tặng ...</td>\n    </tr>\n  </tbody>\n</table>\n<p>278159 rows × 4 columns</p>\n</div>"
     },
     "metadata": {},
     "execution_count": 18
    }
   ],
   "source": [
    "raw_data"
   ]
  },
  {
   "source": [
    "### 5. Xóa các mẫu chứa URL (khả năng cao là quảng cáo, spam,...)"
   ],
   "cell_type": "markdown",
   "metadata": {}
  },
  {
   "cell_type": "code",
   "execution_count": 19,
   "metadata": {},
   "outputs": [],
   "source": [
    "raw_data['contain_url'] = raw_data['processing_comment'].apply(lambda comment: 1 if Utils.containsURL(comment) else 0)"
   ]
  },
  {
   "cell_type": "code",
   "execution_count": 20,
   "metadata": {},
   "outputs": [
    {
     "output_type": "execute_result",
     "data": {
      "text/plain": [
       "Counter({0: 277589, 1: 570})"
      ]
     },
     "metadata": {},
     "execution_count": 20
    }
   ],
   "source": [
    "Counter(raw_data['contain_url'])"
   ]
  },
  {
   "source": [
    "> **Nhận xét**:\n",
    "> * Có 570 mẫu tìm ẩn khả năng chứa quảng cáo.<br>\n",
    ">\n",
    "> $\\Rightarrow $ Xóa các mẫu chứa url."
   ],
   "cell_type": "markdown",
   "metadata": {}
  },
  {
   "source": [
    "🚩 **Xóa các mẫu chứa url**"
   ],
   "cell_type": "markdown",
   "metadata": {}
  },
  {
   "cell_type": "code",
   "execution_count": 21,
   "metadata": {},
   "outputs": [],
   "source": [
    "raw_data = raw_data[raw_data['contain_url'] == 0].reset_index(drop=True)"
   ]
  },
  {
   "cell_type": "code",
   "execution_count": 22,
   "metadata": {},
   "outputs": [],
   "source": [
    "raw_data = raw_data.drop(columns=['contain_url'])"
   ]
  },
  {
   "cell_type": "code",
   "execution_count": 23,
   "metadata": {},
   "outputs": [
    {
     "output_type": "execute_result",
     "data": {
      "text/plain": [
       "                                              raw_comment  label emoji  \\\n",
       "0       Lần đầu mua tại shop nhưng rất ưng ý, vải mặc ...      1         \n",
       "1       Giao hàng nhanh, shop xịn xò đặt hàng xong là ...      1         \n",
       "2       Size vừa vặn luôn, shop mall mà hàng chất lượn...      1         \n",
       "3       Sản phẩm chất lượng.đóng gói kĩ.shop nhiệt tìn...      1         \n",
       "4       Chất lượng sản phẩm tuyệt vời giao hàng nhanh ...      1         \n",
       "...                                                   ...    ...   ...   \n",
       "277584  Đẹp lắm lun mọi ngừ ơi . Hdhhechhjhshxhdhhxhxh...      1         \n",
       "277585                                                Dởm      1         \n",
       "277586  Mua 12 món giao đủ. Vừa rẻ vừa chất lượng rất ...      1         \n",
       "277587                                        Hàng đẹp ạ😍      1     😍   \n",
       "277588  Dây buộc siêu dễ thương nha mn, còn được tặng ...      1     🥰   \n",
       "\n",
       "                                       processing_comment  \n",
       "0       lần đầu mua tại shop nhưng rất ưng ý, vải mặc ...  \n",
       "1       giao hàng nhanh, shop xịn xò đặt hàng xong là ...  \n",
       "2       size vừa vặn luôn, shop mall mà hàng chất lượn...  \n",
       "3       sản phẩm chất lượng.đóng gói kĩ.shop nhiệt tìn...  \n",
       "4       chất lượng sản phẩm tuyệt vời giao hàng nhanh ...  \n",
       "...                                                   ...  \n",
       "277584  đẹp lắm lun mọi ngừ ơi . hdhhechhjhshxhdhhxhxh...  \n",
       "277585                                                dởm  \n",
       "277586  mua 12 món giao đủ. vừa rẻ vừa chất lượng rất ...  \n",
       "277587                                        hàng đẹp ạ😍  \n",
       "277588  dây buộc siêu dễ thương nha mn, còn được tặng ...  \n",
       "\n",
       "[277589 rows x 4 columns]"
      ],
      "text/html": "<div>\n<style scoped>\n    .dataframe tbody tr th:only-of-type {\n        vertical-align: middle;\n    }\n\n    .dataframe tbody tr th {\n        vertical-align: top;\n    }\n\n    .dataframe thead th {\n        text-align: right;\n    }\n</style>\n<table border=\"1\" class=\"dataframe\">\n  <thead>\n    <tr style=\"text-align: right;\">\n      <th></th>\n      <th>raw_comment</th>\n      <th>label</th>\n      <th>emoji</th>\n      <th>processing_comment</th>\n    </tr>\n  </thead>\n  <tbody>\n    <tr>\n      <th>0</th>\n      <td>Lần đầu mua tại shop nhưng rất ưng ý, vải mặc ...</td>\n      <td>1</td>\n      <td></td>\n      <td>lần đầu mua tại shop nhưng rất ưng ý, vải mặc ...</td>\n    </tr>\n    <tr>\n      <th>1</th>\n      <td>Giao hàng nhanh, shop xịn xò đặt hàng xong là ...</td>\n      <td>1</td>\n      <td></td>\n      <td>giao hàng nhanh, shop xịn xò đặt hàng xong là ...</td>\n    </tr>\n    <tr>\n      <th>2</th>\n      <td>Size vừa vặn luôn, shop mall mà hàng chất lượn...</td>\n      <td>1</td>\n      <td></td>\n      <td>size vừa vặn luôn, shop mall mà hàng chất lượn...</td>\n    </tr>\n    <tr>\n      <th>3</th>\n      <td>Sản phẩm chất lượng.đóng gói kĩ.shop nhiệt tìn...</td>\n      <td>1</td>\n      <td></td>\n      <td>sản phẩm chất lượng.đóng gói kĩ.shop nhiệt tìn...</td>\n    </tr>\n    <tr>\n      <th>4</th>\n      <td>Chất lượng sản phẩm tuyệt vời giao hàng nhanh ...</td>\n      <td>1</td>\n      <td></td>\n      <td>chất lượng sản phẩm tuyệt vời giao hàng nhanh ...</td>\n    </tr>\n    <tr>\n      <th>...</th>\n      <td>...</td>\n      <td>...</td>\n      <td>...</td>\n      <td>...</td>\n    </tr>\n    <tr>\n      <th>277584</th>\n      <td>Đẹp lắm lun mọi ngừ ơi . Hdhhechhjhshxhdhhxhxh...</td>\n      <td>1</td>\n      <td></td>\n      <td>đẹp lắm lun mọi ngừ ơi . hdhhechhjhshxhdhhxhxh...</td>\n    </tr>\n    <tr>\n      <th>277585</th>\n      <td>Dởm</td>\n      <td>1</td>\n      <td></td>\n      <td>dởm</td>\n    </tr>\n    <tr>\n      <th>277586</th>\n      <td>Mua 12 món giao đủ. Vừa rẻ vừa chất lượng rất ...</td>\n      <td>1</td>\n      <td></td>\n      <td>mua 12 món giao đủ. vừa rẻ vừa chất lượng rất ...</td>\n    </tr>\n    <tr>\n      <th>277587</th>\n      <td>Hàng đẹp ạ😍</td>\n      <td>1</td>\n      <td>😍</td>\n      <td>hàng đẹp ạ😍</td>\n    </tr>\n    <tr>\n      <th>277588</th>\n      <td>Dây buộc siêu dễ thương nha mn, còn được tặng ...</td>\n      <td>1</td>\n      <td>🥰</td>\n      <td>dây buộc siêu dễ thương nha mn, còn được tặng ...</td>\n    </tr>\n  </tbody>\n</table>\n<p>277589 rows × 4 columns</p>\n</div>"
     },
     "metadata": {},
     "execution_count": 23
    }
   ],
   "source": [
    "raw_data"
   ]
  },
  {
   "source": [
    "### 6. Loại bỏ _dấu câu_, _kí tự đặc biệt_, _số_"
   ],
   "cell_type": "markdown",
   "metadata": {}
  },
  {
   "cell_type": "code",
   "execution_count": 24,
   "metadata": {},
   "outputs": [],
   "source": [
    "raw_data['processing_comment'] = raw_data['processing_comment'].apply(lambda comment: Utils.removeNotVietnameseLetters(comment))"
   ]
  },
  {
   "cell_type": "code",
   "execution_count": 25,
   "metadata": {},
   "outputs": [
    {
     "output_type": "execute_result",
     "data": {
      "text/plain": [
       "                                              raw_comment  label emoji  \\\n",
       "0       Lần đầu mua tại shop nhưng rất ưng ý, vải mặc ...      1         \n",
       "1       Giao hàng nhanh, shop xịn xò đặt hàng xong là ...      1         \n",
       "2       Size vừa vặn luôn, shop mall mà hàng chất lượn...      1         \n",
       "3       Sản phẩm chất lượng.đóng gói kĩ.shop nhiệt tìn...      1         \n",
       "4       Chất lượng sản phẩm tuyệt vời giao hàng nhanh ...      1         \n",
       "...                                                   ...    ...   ...   \n",
       "277584  Đẹp lắm lun mọi ngừ ơi . Hdhhechhjhshxhdhhxhxh...      1         \n",
       "277585                                                Dởm      1         \n",
       "277586  Mua 12 món giao đủ. Vừa rẻ vừa chất lượng rất ...      1         \n",
       "277587                                        Hàng đẹp ạ😍      1     😍   \n",
       "277588  Dây buộc siêu dễ thương nha mn, còn được tặng ...      1     🥰   \n",
       "\n",
       "                                       processing_comment  \n",
       "0       lần đầu mua tại shop nhưng rất ưng ý vải mặc m...  \n",
       "1       giao hàng nhanh shop xịn xò đặt hàng xong là c...  \n",
       "2       size vừa vặn luôn shop mall mà hàng chất lượng...  \n",
       "3       sản phẩm chất lượng đóng gói kĩ shop nhiệt tìn...  \n",
       "4       chất lượng sản phẩm tuyệt vời giao hàng nhanh ...  \n",
       "...                                                   ...  \n",
       "277584  đẹp lắm lun mọi ngừ ơi hdhhechhjhshxhdhhxhxhdh...  \n",
       "277585                                                dởm  \n",
       "277586  mua món giao đủ vừa rẻ vừa chất lượng rất thíc...  \n",
       "277587                                         hàng đẹp ạ  \n",
       "277588  dây buộc siêu dễ thương nha mn còn được tặng k...  \n",
       "\n",
       "[277589 rows x 4 columns]"
      ],
      "text/html": "<div>\n<style scoped>\n    .dataframe tbody tr th:only-of-type {\n        vertical-align: middle;\n    }\n\n    .dataframe tbody tr th {\n        vertical-align: top;\n    }\n\n    .dataframe thead th {\n        text-align: right;\n    }\n</style>\n<table border=\"1\" class=\"dataframe\">\n  <thead>\n    <tr style=\"text-align: right;\">\n      <th></th>\n      <th>raw_comment</th>\n      <th>label</th>\n      <th>emoji</th>\n      <th>processing_comment</th>\n    </tr>\n  </thead>\n  <tbody>\n    <tr>\n      <th>0</th>\n      <td>Lần đầu mua tại shop nhưng rất ưng ý, vải mặc ...</td>\n      <td>1</td>\n      <td></td>\n      <td>lần đầu mua tại shop nhưng rất ưng ý vải mặc m...</td>\n    </tr>\n    <tr>\n      <th>1</th>\n      <td>Giao hàng nhanh, shop xịn xò đặt hàng xong là ...</td>\n      <td>1</td>\n      <td></td>\n      <td>giao hàng nhanh shop xịn xò đặt hàng xong là c...</td>\n    </tr>\n    <tr>\n      <th>2</th>\n      <td>Size vừa vặn luôn, shop mall mà hàng chất lượn...</td>\n      <td>1</td>\n      <td></td>\n      <td>size vừa vặn luôn shop mall mà hàng chất lượng...</td>\n    </tr>\n    <tr>\n      <th>3</th>\n      <td>Sản phẩm chất lượng.đóng gói kĩ.shop nhiệt tìn...</td>\n      <td>1</td>\n      <td></td>\n      <td>sản phẩm chất lượng đóng gói kĩ shop nhiệt tìn...</td>\n    </tr>\n    <tr>\n      <th>4</th>\n      <td>Chất lượng sản phẩm tuyệt vời giao hàng nhanh ...</td>\n      <td>1</td>\n      <td></td>\n      <td>chất lượng sản phẩm tuyệt vời giao hàng nhanh ...</td>\n    </tr>\n    <tr>\n      <th>...</th>\n      <td>...</td>\n      <td>...</td>\n      <td>...</td>\n      <td>...</td>\n    </tr>\n    <tr>\n      <th>277584</th>\n      <td>Đẹp lắm lun mọi ngừ ơi . Hdhhechhjhshxhdhhxhxh...</td>\n      <td>1</td>\n      <td></td>\n      <td>đẹp lắm lun mọi ngừ ơi hdhhechhjhshxhdhhxhxhdh...</td>\n    </tr>\n    <tr>\n      <th>277585</th>\n      <td>Dởm</td>\n      <td>1</td>\n      <td></td>\n      <td>dởm</td>\n    </tr>\n    <tr>\n      <th>277586</th>\n      <td>Mua 12 món giao đủ. Vừa rẻ vừa chất lượng rất ...</td>\n      <td>1</td>\n      <td></td>\n      <td>mua món giao đủ vừa rẻ vừa chất lượng rất thíc...</td>\n    </tr>\n    <tr>\n      <th>277587</th>\n      <td>Hàng đẹp ạ😍</td>\n      <td>1</td>\n      <td>😍</td>\n      <td>hàng đẹp ạ</td>\n    </tr>\n    <tr>\n      <th>277588</th>\n      <td>Dây buộc siêu dễ thương nha mn, còn được tặng ...</td>\n      <td>1</td>\n      <td>🥰</td>\n      <td>dây buộc siêu dễ thương nha mn còn được tặng k...</td>\n    </tr>\n  </tbody>\n</table>\n<p>277589 rows × 4 columns</p>\n</div>"
     },
     "metadata": {},
     "execution_count": 25
    }
   ],
   "source": [
    "raw_data"
   ]
  },
  {
   "source": [
    "### 7. Chuẩn lại các từ bị duplicate kí tự lên (ví dụ: \"anh nhớớớớớớớớớớ emmmmmmmmmmmmmmmmmmmmm quááááááááááááááá\" thành \"anh nhớ em quá\")"
   ],
   "cell_type": "markdown",
   "metadata": {}
  },
  {
   "cell_type": "code",
   "execution_count": 26,
   "metadata": {},
   "outputs": [],
   "source": [
    "raw_data['processing_comment'] = raw_data['processing_comment'].apply(lambda comment: Utils.removeDuplicateLetters(comment))"
   ]
  },
  {
   "cell_type": "code",
   "execution_count": 27,
   "metadata": {},
   "outputs": [
    {
     "output_type": "execute_result",
     "data": {
      "text/plain": [
       "                                              raw_comment  label emoji  \\\n",
       "0       Lần đầu mua tại shop nhưng rất ưng ý, vải mặc ...      1         \n",
       "1       Giao hàng nhanh, shop xịn xò đặt hàng xong là ...      1         \n",
       "2       Size vừa vặn luôn, shop mall mà hàng chất lượn...      1         \n",
       "3       Sản phẩm chất lượng.đóng gói kĩ.shop nhiệt tìn...      1         \n",
       "4       Chất lượng sản phẩm tuyệt vời giao hàng nhanh ...      1         \n",
       "...                                                   ...    ...   ...   \n",
       "277584  Đẹp lắm lun mọi ngừ ơi . Hdhhechhjhshxhdhhxhxh...      1         \n",
       "277585                                                Dởm      1         \n",
       "277586  Mua 12 món giao đủ. Vừa rẻ vừa chất lượng rất ...      1         \n",
       "277587                                        Hàng đẹp ạ😍      1     😍   \n",
       "277588  Dây buộc siêu dễ thương nha mn, còn được tặng ...      1     🥰   \n",
       "\n",
       "                                       processing_comment  \n",
       "0       lần đầu mua tại shop nhưng rất ưng ý vải mặc m...  \n",
       "1       giao hàng nhanh shop xịn xò đặt hàng xong là c...  \n",
       "2       size vừa vặn luôn shop mal mà hàng chất lượng ...  \n",
       "3       sản phẩm chất lượng đóng gói kĩ shop nhiệt tìn...  \n",
       "4       chất lượng sản phẩm tuyệt vời giao hàng nhanh ...  \n",
       "...                                                   ...  \n",
       "277584  đẹp lắm lun mọi ngừ ơi hdhechjhshxhdhxhxhdh hs...  \n",
       "277585                                                dởm  \n",
       "277586  mua món giao đủ vừa rẻ vừa chất lượng rất thíc...  \n",
       "277587                                         hàng đẹp ạ  \n",
       "277588  dây buộc siêu dễ thương nha mn còn được tặng k...  \n",
       "\n",
       "[277589 rows x 4 columns]"
      ],
      "text/html": "<div>\n<style scoped>\n    .dataframe tbody tr th:only-of-type {\n        vertical-align: middle;\n    }\n\n    .dataframe tbody tr th {\n        vertical-align: top;\n    }\n\n    .dataframe thead th {\n        text-align: right;\n    }\n</style>\n<table border=\"1\" class=\"dataframe\">\n  <thead>\n    <tr style=\"text-align: right;\">\n      <th></th>\n      <th>raw_comment</th>\n      <th>label</th>\n      <th>emoji</th>\n      <th>processing_comment</th>\n    </tr>\n  </thead>\n  <tbody>\n    <tr>\n      <th>0</th>\n      <td>Lần đầu mua tại shop nhưng rất ưng ý, vải mặc ...</td>\n      <td>1</td>\n      <td></td>\n      <td>lần đầu mua tại shop nhưng rất ưng ý vải mặc m...</td>\n    </tr>\n    <tr>\n      <th>1</th>\n      <td>Giao hàng nhanh, shop xịn xò đặt hàng xong là ...</td>\n      <td>1</td>\n      <td></td>\n      <td>giao hàng nhanh shop xịn xò đặt hàng xong là c...</td>\n    </tr>\n    <tr>\n      <th>2</th>\n      <td>Size vừa vặn luôn, shop mall mà hàng chất lượn...</td>\n      <td>1</td>\n      <td></td>\n      <td>size vừa vặn luôn shop mal mà hàng chất lượng ...</td>\n    </tr>\n    <tr>\n      <th>3</th>\n      <td>Sản phẩm chất lượng.đóng gói kĩ.shop nhiệt tìn...</td>\n      <td>1</td>\n      <td></td>\n      <td>sản phẩm chất lượng đóng gói kĩ shop nhiệt tìn...</td>\n    </tr>\n    <tr>\n      <th>4</th>\n      <td>Chất lượng sản phẩm tuyệt vời giao hàng nhanh ...</td>\n      <td>1</td>\n      <td></td>\n      <td>chất lượng sản phẩm tuyệt vời giao hàng nhanh ...</td>\n    </tr>\n    <tr>\n      <th>...</th>\n      <td>...</td>\n      <td>...</td>\n      <td>...</td>\n      <td>...</td>\n    </tr>\n    <tr>\n      <th>277584</th>\n      <td>Đẹp lắm lun mọi ngừ ơi . Hdhhechhjhshxhdhhxhxh...</td>\n      <td>1</td>\n      <td></td>\n      <td>đẹp lắm lun mọi ngừ ơi hdhechjhshxhdhxhxhdh hs...</td>\n    </tr>\n    <tr>\n      <th>277585</th>\n      <td>Dởm</td>\n      <td>1</td>\n      <td></td>\n      <td>dởm</td>\n    </tr>\n    <tr>\n      <th>277586</th>\n      <td>Mua 12 món giao đủ. Vừa rẻ vừa chất lượng rất ...</td>\n      <td>1</td>\n      <td></td>\n      <td>mua món giao đủ vừa rẻ vừa chất lượng rất thíc...</td>\n    </tr>\n    <tr>\n      <th>277587</th>\n      <td>Hàng đẹp ạ😍</td>\n      <td>1</td>\n      <td>😍</td>\n      <td>hàng đẹp ạ</td>\n    </tr>\n    <tr>\n      <th>277588</th>\n      <td>Dây buộc siêu dễ thương nha mn, còn được tặng ...</td>\n      <td>1</td>\n      <td>🥰</td>\n      <td>dây buộc siêu dễ thương nha mn còn được tặng k...</td>\n    </tr>\n  </tbody>\n</table>\n<p>277589 rows × 4 columns</p>\n</div>"
     },
     "metadata": {},
     "execution_count": 27
    }
   ],
   "source": [
    "raw_data"
   ]
  },
  {
   "source": [
    "### 8. Chuẩn lại một vài từ viết tắt cơ bản"
   ],
   "cell_type": "markdown",
   "metadata": {}
  },
  {
   "cell_type": "code",
   "execution_count": 28,
   "metadata": {},
   "outputs": [],
   "source": [
    "vietnamese_abbreviate = Utils.loadVietnameseAbbreviate()"
   ]
  },
  {
   "cell_type": "code",
   "execution_count": 29,
   "metadata": {},
   "outputs": [],
   "source": [
    "raw_data['processing_comment'] = raw_data['processing_comment'].apply(lambda comment: Utils.standardVietnameseAbbreviate(vietnamese_abbreviate, comment))"
   ]
  },
  {
   "cell_type": "code",
   "execution_count": 30,
   "metadata": {},
   "outputs": [
    {
     "output_type": "execute_result",
     "data": {
      "text/plain": [
       "                                              raw_comment  label emoji  \\\n",
       "0       Lần đầu mua tại shop nhưng rất ưng ý, vải mặc ...      1         \n",
       "1       Giao hàng nhanh, shop xịn xò đặt hàng xong là ...      1         \n",
       "2       Size vừa vặn luôn, shop mall mà hàng chất lượn...      1         \n",
       "3       Sản phẩm chất lượng.đóng gói kĩ.shop nhiệt tìn...      1         \n",
       "4       Chất lượng sản phẩm tuyệt vời giao hàng nhanh ...      1         \n",
       "...                                                   ...    ...   ...   \n",
       "277584  Đẹp lắm lun mọi ngừ ơi . Hdhhechhjhshxhdhhxhxh...      1         \n",
       "277585                                                Dởm      1         \n",
       "277586  Mua 12 món giao đủ. Vừa rẻ vừa chất lượng rất ...      1         \n",
       "277587                                        Hàng đẹp ạ😍      1     😍   \n",
       "277588  Dây buộc siêu dễ thương nha mn, còn được tặng ...      1     🥰   \n",
       "\n",
       "                                       processing_comment  \n",
       "0       lần đầu mua tại shop nhưng rất ưng ý vải mặc m...  \n",
       "1       giao hàng nhanh shop xịn xò đặt hàng xong là c...  \n",
       "2       size vừa vặn luôn shop mal mà hàng chất lượng ...  \n",
       "3       sản phẩm chất lượng đóng gói kĩ shop nhiệt tìn...  \n",
       "4       chất lượng sản phẩm tuyệt vời giao hàng nhanh ...  \n",
       "...                                                   ...  \n",
       "277584  đẹp lắm luôn mọi người ơi hdhechjhshxhdhxhxhdh...  \n",
       "277585                                                dởm  \n",
       "277586  mua món giao đủ vừa rẻ vừa chất lượng rất thíc...  \n",
       "277587                                         hàng đẹp ạ  \n",
       "277588  dây buộc siêu dễ thương nha mọi người còn được...  \n",
       "\n",
       "[277589 rows x 4 columns]"
      ],
      "text/html": "<div>\n<style scoped>\n    .dataframe tbody tr th:only-of-type {\n        vertical-align: middle;\n    }\n\n    .dataframe tbody tr th {\n        vertical-align: top;\n    }\n\n    .dataframe thead th {\n        text-align: right;\n    }\n</style>\n<table border=\"1\" class=\"dataframe\">\n  <thead>\n    <tr style=\"text-align: right;\">\n      <th></th>\n      <th>raw_comment</th>\n      <th>label</th>\n      <th>emoji</th>\n      <th>processing_comment</th>\n    </tr>\n  </thead>\n  <tbody>\n    <tr>\n      <th>0</th>\n      <td>Lần đầu mua tại shop nhưng rất ưng ý, vải mặc ...</td>\n      <td>1</td>\n      <td></td>\n      <td>lần đầu mua tại shop nhưng rất ưng ý vải mặc m...</td>\n    </tr>\n    <tr>\n      <th>1</th>\n      <td>Giao hàng nhanh, shop xịn xò đặt hàng xong là ...</td>\n      <td>1</td>\n      <td></td>\n      <td>giao hàng nhanh shop xịn xò đặt hàng xong là c...</td>\n    </tr>\n    <tr>\n      <th>2</th>\n      <td>Size vừa vặn luôn, shop mall mà hàng chất lượn...</td>\n      <td>1</td>\n      <td></td>\n      <td>size vừa vặn luôn shop mal mà hàng chất lượng ...</td>\n    </tr>\n    <tr>\n      <th>3</th>\n      <td>Sản phẩm chất lượng.đóng gói kĩ.shop nhiệt tìn...</td>\n      <td>1</td>\n      <td></td>\n      <td>sản phẩm chất lượng đóng gói kĩ shop nhiệt tìn...</td>\n    </tr>\n    <tr>\n      <th>4</th>\n      <td>Chất lượng sản phẩm tuyệt vời giao hàng nhanh ...</td>\n      <td>1</td>\n      <td></td>\n      <td>chất lượng sản phẩm tuyệt vời giao hàng nhanh ...</td>\n    </tr>\n    <tr>\n      <th>...</th>\n      <td>...</td>\n      <td>...</td>\n      <td>...</td>\n      <td>...</td>\n    </tr>\n    <tr>\n      <th>277584</th>\n      <td>Đẹp lắm lun mọi ngừ ơi . Hdhhechhjhshxhdhhxhxh...</td>\n      <td>1</td>\n      <td></td>\n      <td>đẹp lắm luôn mọi người ơi hdhechjhshxhdhxhxhdh...</td>\n    </tr>\n    <tr>\n      <th>277585</th>\n      <td>Dởm</td>\n      <td>1</td>\n      <td></td>\n      <td>dởm</td>\n    </tr>\n    <tr>\n      <th>277586</th>\n      <td>Mua 12 món giao đủ. Vừa rẻ vừa chất lượng rất ...</td>\n      <td>1</td>\n      <td></td>\n      <td>mua món giao đủ vừa rẻ vừa chất lượng rất thíc...</td>\n    </tr>\n    <tr>\n      <th>277587</th>\n      <td>Hàng đẹp ạ😍</td>\n      <td>1</td>\n      <td>😍</td>\n      <td>hàng đẹp ạ</td>\n    </tr>\n    <tr>\n      <th>277588</th>\n      <td>Dây buộc siêu dễ thương nha mn, còn được tặng ...</td>\n      <td>1</td>\n      <td>🥰</td>\n      <td>dây buộc siêu dễ thương nha mọi người còn được...</td>\n    </tr>\n  </tbody>\n</table>\n<p>277589 rows × 4 columns</p>\n</div>"
     },
     "metadata": {},
     "execution_count": 30
    }
   ],
   "source": [
    "raw_data"
   ]
  },
  {
   "source": [
    "### 9. Tạo cột `boost_words` chứa các từ chuyên ngành"
   ],
   "cell_type": "markdown",
   "metadata": {}
  },
  {
   "cell_type": "code",
   "execution_count": 31,
   "metadata": {},
   "outputs": [],
   "source": [
    "boost_words = Utils.loadBoostWords()"
   ]
  },
  {
   "cell_type": "code",
   "execution_count": 32,
   "metadata": {},
   "outputs": [],
   "source": [
    "raw_data['boost_words'] = raw_data['processing_comment'].apply(lambda comment: Utils.extractBoostWords(boost_words, comment))"
   ]
  },
  {
   "cell_type": "code",
   "execution_count": 33,
   "metadata": {},
   "outputs": [
    {
     "output_type": "execute_result",
     "data": {
      "text/plain": [
       "                                              raw_comment  label emoji  \\\n",
       "0       Lần đầu mua tại shop nhưng rất ưng ý, vải mặc ...      1         \n",
       "1       Giao hàng nhanh, shop xịn xò đặt hàng xong là ...      1         \n",
       "2       Size vừa vặn luôn, shop mall mà hàng chất lượn...      1         \n",
       "3       Sản phẩm chất lượng.đóng gói kĩ.shop nhiệt tìn...      1         \n",
       "4       Chất lượng sản phẩm tuyệt vời giao hàng nhanh ...      1         \n",
       "...                                                   ...    ...   ...   \n",
       "277584  Đẹp lắm lun mọi ngừ ơi . Hdhhechhjhshxhdhhxhxh...      1         \n",
       "277585                                                Dởm      1         \n",
       "277586  Mua 12 món giao đủ. Vừa rẻ vừa chất lượng rất ...      1         \n",
       "277587                                        Hàng đẹp ạ😍      1     😍   \n",
       "277588  Dây buộc siêu dễ thương nha mn, còn được tặng ...      1     🥰   \n",
       "\n",
       "                                       processing_comment  \\\n",
       "0       lần đầu mua tại shop nhưng rất ưng ý vải mặc m...   \n",
       "1       giao hàng nhanh shop xịn xò đặt hàng xong là c...   \n",
       "2       size vừa vặn luôn shop mal mà hàng chất lượng ...   \n",
       "3       sản phẩm chất lượng đóng gói kĩ shop nhiệt tìn...   \n",
       "4       chất lượng sản phẩm tuyệt vời giao hàng nhanh ...   \n",
       "...                                                   ...   \n",
       "277584  đẹp lắm luôn mọi người ơi hdhechjhshxhdhxhxhdh...   \n",
       "277585                                                dởm   \n",
       "277586  mua món giao đủ vừa rẻ vừa chất lượng rất thíc...   \n",
       "277587                                         hàng đẹp ạ   \n",
       "277588  dây buộc siêu dễ thương nha mọi người còn được...   \n",
       "\n",
       "                                              boost_words  \n",
       "0       giao_hàng giá_tiền ủng_hộ cẩn_thận đóng_gói lâ...  \n",
       "1             giao_hàng_nhanh chất_vải cẩn_thận ok xịn_xò  \n",
       "2                               giá_rẻ chất_lượng vừa_vặn  \n",
       "3                     ủng_hộ đóng_gói chất_lượng sản_phẩm  \n",
       "4       giao_hàng_nhanh ủng_hộ tuyệt_vời chất_lượng sả...  \n",
       "...                                                   ...  \n",
       "277584                             mọi_người đẹp_lắm_luôn  \n",
       "277585                                                     \n",
       "277586                          ủng_hộ chất_lượng giao_đủ  \n",
       "277587                                           hàng_đẹp  \n",
       "277588                                mọi_người dễ_thương  \n",
       "\n",
       "[277589 rows x 5 columns]"
      ],
      "text/html": "<div>\n<style scoped>\n    .dataframe tbody tr th:only-of-type {\n        vertical-align: middle;\n    }\n\n    .dataframe tbody tr th {\n        vertical-align: top;\n    }\n\n    .dataframe thead th {\n        text-align: right;\n    }\n</style>\n<table border=\"1\" class=\"dataframe\">\n  <thead>\n    <tr style=\"text-align: right;\">\n      <th></th>\n      <th>raw_comment</th>\n      <th>label</th>\n      <th>emoji</th>\n      <th>processing_comment</th>\n      <th>boost_words</th>\n    </tr>\n  </thead>\n  <tbody>\n    <tr>\n      <th>0</th>\n      <td>Lần đầu mua tại shop nhưng rất ưng ý, vải mặc ...</td>\n      <td>1</td>\n      <td></td>\n      <td>lần đầu mua tại shop nhưng rất ưng ý vải mặc m...</td>\n      <td>giao_hàng giá_tiền ủng_hộ cẩn_thận đóng_gói lâ...</td>\n    </tr>\n    <tr>\n      <th>1</th>\n      <td>Giao hàng nhanh, shop xịn xò đặt hàng xong là ...</td>\n      <td>1</td>\n      <td></td>\n      <td>giao hàng nhanh shop xịn xò đặt hàng xong là c...</td>\n      <td>giao_hàng_nhanh chất_vải cẩn_thận ok xịn_xò</td>\n    </tr>\n    <tr>\n      <th>2</th>\n      <td>Size vừa vặn luôn, shop mall mà hàng chất lượn...</td>\n      <td>1</td>\n      <td></td>\n      <td>size vừa vặn luôn shop mal mà hàng chất lượng ...</td>\n      <td>giá_rẻ chất_lượng vừa_vặn</td>\n    </tr>\n    <tr>\n      <th>3</th>\n      <td>Sản phẩm chất lượng.đóng gói kĩ.shop nhiệt tìn...</td>\n      <td>1</td>\n      <td></td>\n      <td>sản phẩm chất lượng đóng gói kĩ shop nhiệt tìn...</td>\n      <td>ủng_hộ đóng_gói chất_lượng sản_phẩm</td>\n    </tr>\n    <tr>\n      <th>4</th>\n      <td>Chất lượng sản phẩm tuyệt vời giao hàng nhanh ...</td>\n      <td>1</td>\n      <td></td>\n      <td>chất lượng sản phẩm tuyệt vời giao hàng nhanh ...</td>\n      <td>giao_hàng_nhanh ủng_hộ tuyệt_vời chất_lượng sả...</td>\n    </tr>\n    <tr>\n      <th>...</th>\n      <td>...</td>\n      <td>...</td>\n      <td>...</td>\n      <td>...</td>\n      <td>...</td>\n    </tr>\n    <tr>\n      <th>277584</th>\n      <td>Đẹp lắm lun mọi ngừ ơi . Hdhhechhjhshxhdhhxhxh...</td>\n      <td>1</td>\n      <td></td>\n      <td>đẹp lắm luôn mọi người ơi hdhechjhshxhdhxhxhdh...</td>\n      <td>mọi_người đẹp_lắm_luôn</td>\n    </tr>\n    <tr>\n      <th>277585</th>\n      <td>Dởm</td>\n      <td>1</td>\n      <td></td>\n      <td>dởm</td>\n      <td></td>\n    </tr>\n    <tr>\n      <th>277586</th>\n      <td>Mua 12 món giao đủ. Vừa rẻ vừa chất lượng rất ...</td>\n      <td>1</td>\n      <td></td>\n      <td>mua món giao đủ vừa rẻ vừa chất lượng rất thíc...</td>\n      <td>ủng_hộ chất_lượng giao_đủ</td>\n    </tr>\n    <tr>\n      <th>277587</th>\n      <td>Hàng đẹp ạ😍</td>\n      <td>1</td>\n      <td>😍</td>\n      <td>hàng đẹp ạ</td>\n      <td>hàng_đẹp</td>\n    </tr>\n    <tr>\n      <th>277588</th>\n      <td>Dây buộc siêu dễ thương nha mn, còn được tặng ...</td>\n      <td>1</td>\n      <td>🥰</td>\n      <td>dây buộc siêu dễ thương nha mọi người còn được...</td>\n      <td>mọi_người dễ_thương</td>\n    </tr>\n  </tbody>\n</table>\n<p>277589 rows × 5 columns</p>\n</div>"
     },
     "metadata": {},
     "execution_count": 33
    }
   ],
   "source": [
    "raw_data"
   ]
  },
  {
   "source": [
    "### 10. Loại bỏ các từ rác ra khỏi comment, (ví dụ: \"asfsfskjfhfjkfhf\", \"aaaaaaaaaaaaaaaaaaaaaaaaaaaaaaaaaaaaaaa\")"
   ],
   "cell_type": "markdown",
   "metadata": {}
  },
  {
   "cell_type": "code",
   "execution_count": 34,
   "metadata": {},
   "outputs": [],
   "source": [
    "vietnamese_syllables = Utils.loadVietnameseSyllables()"
   ]
  },
  {
   "cell_type": "code",
   "execution_count": 35,
   "metadata": {},
   "outputs": [],
   "source": [
    "raw_data['processing_comment'] = raw_data['processing_comment'].apply(lambda comment: Utils.removeGibbish(vietnamese_syllables, comment))"
   ]
  },
  {
   "cell_type": "code",
   "execution_count": 36,
   "metadata": {},
   "outputs": [
    {
     "output_type": "execute_result",
     "data": {
      "text/plain": [
       "                                              raw_comment  label emoji  \\\n",
       "0       Lần đầu mua tại shop nhưng rất ưng ý, vải mặc ...      1         \n",
       "1       Giao hàng nhanh, shop xịn xò đặt hàng xong là ...      1         \n",
       "2       Size vừa vặn luôn, shop mall mà hàng chất lượn...      1         \n",
       "3       Sản phẩm chất lượng.đóng gói kĩ.shop nhiệt tìn...      1         \n",
       "4       Chất lượng sản phẩm tuyệt vời giao hàng nhanh ...      1         \n",
       "...                                                   ...    ...   ...   \n",
       "277584  Đẹp lắm lun mọi ngừ ơi . Hdhhechhjhshxhdhhxhxh...      1         \n",
       "277585                                                Dởm      1         \n",
       "277586  Mua 12 món giao đủ. Vừa rẻ vừa chất lượng rất ...      1         \n",
       "277587                                        Hàng đẹp ạ😍      1     😍   \n",
       "277588  Dây buộc siêu dễ thương nha mn, còn được tặng ...      1     🥰   \n",
       "\n",
       "                                       processing_comment  \\\n",
       "0       lần đầu mua tại nhưng rất ưng ý vải mặc mát vì...   \n",
       "1       giao hàng nhanh xịn xò đặt hàng xong là chủ độ...   \n",
       "2       vừa vặn luôn mà hàng chất lượng giá rẻ vầy tội...   \n",
       "3       sản phẩm chất lượng đóng gói kĩ nhiệt tình sẽ ...   \n",
       "4       chất lượng sản phẩm tuyệt vời giao hàng nhanh ...   \n",
       "...                                                   ...   \n",
       "277584                      đẹp lắm luôn mọi người ơi học   \n",
       "277585                                                dởm   \n",
       "277586  mua món giao đủ vừa rẻ vừa chất lượng rất thíc...   \n",
       "277587                                         hàng đẹp ạ   \n",
       "277588  dây buộc siêu dễ thương nha mọi người còn được...   \n",
       "\n",
       "                                              boost_words  \n",
       "0       giao_hàng giá_tiền ủng_hộ cẩn_thận đóng_gói lâ...  \n",
       "1             giao_hàng_nhanh chất_vải cẩn_thận ok xịn_xò  \n",
       "2                               giá_rẻ chất_lượng vừa_vặn  \n",
       "3                     ủng_hộ đóng_gói chất_lượng sản_phẩm  \n",
       "4       giao_hàng_nhanh ủng_hộ tuyệt_vời chất_lượng sả...  \n",
       "...                                                   ...  \n",
       "277584                             mọi_người đẹp_lắm_luôn  \n",
       "277585                                                     \n",
       "277586                          ủng_hộ chất_lượng giao_đủ  \n",
       "277587                                           hàng_đẹp  \n",
       "277588                                mọi_người dễ_thương  \n",
       "\n",
       "[277589 rows x 5 columns]"
      ],
      "text/html": "<div>\n<style scoped>\n    .dataframe tbody tr th:only-of-type {\n        vertical-align: middle;\n    }\n\n    .dataframe tbody tr th {\n        vertical-align: top;\n    }\n\n    .dataframe thead th {\n        text-align: right;\n    }\n</style>\n<table border=\"1\" class=\"dataframe\">\n  <thead>\n    <tr style=\"text-align: right;\">\n      <th></th>\n      <th>raw_comment</th>\n      <th>label</th>\n      <th>emoji</th>\n      <th>processing_comment</th>\n      <th>boost_words</th>\n    </tr>\n  </thead>\n  <tbody>\n    <tr>\n      <th>0</th>\n      <td>Lần đầu mua tại shop nhưng rất ưng ý, vải mặc ...</td>\n      <td>1</td>\n      <td></td>\n      <td>lần đầu mua tại nhưng rất ưng ý vải mặc mát vì...</td>\n      <td>giao_hàng giá_tiền ủng_hộ cẩn_thận đóng_gói lâ...</td>\n    </tr>\n    <tr>\n      <th>1</th>\n      <td>Giao hàng nhanh, shop xịn xò đặt hàng xong là ...</td>\n      <td>1</td>\n      <td></td>\n      <td>giao hàng nhanh xịn xò đặt hàng xong là chủ độ...</td>\n      <td>giao_hàng_nhanh chất_vải cẩn_thận ok xịn_xò</td>\n    </tr>\n    <tr>\n      <th>2</th>\n      <td>Size vừa vặn luôn, shop mall mà hàng chất lượn...</td>\n      <td>1</td>\n      <td></td>\n      <td>vừa vặn luôn mà hàng chất lượng giá rẻ vầy tội...</td>\n      <td>giá_rẻ chất_lượng vừa_vặn</td>\n    </tr>\n    <tr>\n      <th>3</th>\n      <td>Sản phẩm chất lượng.đóng gói kĩ.shop nhiệt tìn...</td>\n      <td>1</td>\n      <td></td>\n      <td>sản phẩm chất lượng đóng gói kĩ nhiệt tình sẽ ...</td>\n      <td>ủng_hộ đóng_gói chất_lượng sản_phẩm</td>\n    </tr>\n    <tr>\n      <th>4</th>\n      <td>Chất lượng sản phẩm tuyệt vời giao hàng nhanh ...</td>\n      <td>1</td>\n      <td></td>\n      <td>chất lượng sản phẩm tuyệt vời giao hàng nhanh ...</td>\n      <td>giao_hàng_nhanh ủng_hộ tuyệt_vời chất_lượng sả...</td>\n    </tr>\n    <tr>\n      <th>...</th>\n      <td>...</td>\n      <td>...</td>\n      <td>...</td>\n      <td>...</td>\n      <td>...</td>\n    </tr>\n    <tr>\n      <th>277584</th>\n      <td>Đẹp lắm lun mọi ngừ ơi . Hdhhechhjhshxhdhhxhxh...</td>\n      <td>1</td>\n      <td></td>\n      <td>đẹp lắm luôn mọi người ơi học</td>\n      <td>mọi_người đẹp_lắm_luôn</td>\n    </tr>\n    <tr>\n      <th>277585</th>\n      <td>Dởm</td>\n      <td>1</td>\n      <td></td>\n      <td>dởm</td>\n      <td></td>\n    </tr>\n    <tr>\n      <th>277586</th>\n      <td>Mua 12 món giao đủ. Vừa rẻ vừa chất lượng rất ...</td>\n      <td>1</td>\n      <td></td>\n      <td>mua món giao đủ vừa rẻ vừa chất lượng rất thíc...</td>\n      <td>ủng_hộ chất_lượng giao_đủ</td>\n    </tr>\n    <tr>\n      <th>277587</th>\n      <td>Hàng đẹp ạ😍</td>\n      <td>1</td>\n      <td>😍</td>\n      <td>hàng đẹp ạ</td>\n      <td>hàng_đẹp</td>\n    </tr>\n    <tr>\n      <th>277588</th>\n      <td>Dây buộc siêu dễ thương nha mn, còn được tặng ...</td>\n      <td>1</td>\n      <td>🥰</td>\n      <td>dây buộc siêu dễ thương nha mọi người còn được...</td>\n      <td>mọi_người dễ_thương</td>\n    </tr>\n  </tbody>\n</table>\n<p>277589 rows × 5 columns</p>\n</div>"
     },
     "metadata": {},
     "execution_count": 36
    }
   ],
   "source": [
    "raw_data"
   ]
  },
  {
   "source": [
    "### 11. Xóa các mẫu bị duplicate"
   ],
   "cell_type": "markdown",
   "metadata": {}
  },
  {
   "cell_type": "code",
   "execution_count": 37,
   "metadata": {},
   "outputs": [],
   "source": [
    "raw_data['tmp_comment'] = raw_data.apply(lambda row: Utils.combineCommentAndEmoji(row['processing_comment'], row['emoji']), axis=1)"
   ]
  },
  {
   "cell_type": "code",
   "execution_count": 38,
   "metadata": {},
   "outputs": [
    {
     "output_type": "execute_result",
     "data": {
      "text/plain": [
       "                                              raw_comment  label emoji  \\\n",
       "0       Lần đầu mua tại shop nhưng rất ưng ý, vải mặc ...      1         \n",
       "1       Giao hàng nhanh, shop xịn xò đặt hàng xong là ...      1         \n",
       "2       Size vừa vặn luôn, shop mall mà hàng chất lượn...      1         \n",
       "3       Sản phẩm chất lượng.đóng gói kĩ.shop nhiệt tìn...      1         \n",
       "4       Chất lượng sản phẩm tuyệt vời giao hàng nhanh ...      1         \n",
       "...                                                   ...    ...   ...   \n",
       "277584  Đẹp lắm lun mọi ngừ ơi . Hdhhechhjhshxhdhhxhxh...      1         \n",
       "277585                                                Dởm      1         \n",
       "277586  Mua 12 món giao đủ. Vừa rẻ vừa chất lượng rất ...      1         \n",
       "277587                                        Hàng đẹp ạ😍      1     😍   \n",
       "277588  Dây buộc siêu dễ thương nha mn, còn được tặng ...      1     🥰   \n",
       "\n",
       "                                       processing_comment  \\\n",
       "0       lần đầu mua tại nhưng rất ưng ý vải mặc mát vì...   \n",
       "1       giao hàng nhanh xịn xò đặt hàng xong là chủ độ...   \n",
       "2       vừa vặn luôn mà hàng chất lượng giá rẻ vầy tội...   \n",
       "3       sản phẩm chất lượng đóng gói kĩ nhiệt tình sẽ ...   \n",
       "4       chất lượng sản phẩm tuyệt vời giao hàng nhanh ...   \n",
       "...                                                   ...   \n",
       "277584                      đẹp lắm luôn mọi người ơi học   \n",
       "277585                                                dởm   \n",
       "277586  mua món giao đủ vừa rẻ vừa chất lượng rất thíc...   \n",
       "277587                                         hàng đẹp ạ   \n",
       "277588  dây buộc siêu dễ thương nha mọi người còn được...   \n",
       "\n",
       "                                              boost_words  \\\n",
       "0       giao_hàng giá_tiền ủng_hộ cẩn_thận đóng_gói lâ...   \n",
       "1             giao_hàng_nhanh chất_vải cẩn_thận ok xịn_xò   \n",
       "2                               giá_rẻ chất_lượng vừa_vặn   \n",
       "3                     ủng_hộ đóng_gói chất_lượng sản_phẩm   \n",
       "4       giao_hàng_nhanh ủng_hộ tuyệt_vời chất_lượng sả...   \n",
       "...                                                   ...   \n",
       "277584                             mọi_người đẹp_lắm_luôn   \n",
       "277585                                                      \n",
       "277586                          ủng_hộ chất_lượng giao_đủ   \n",
       "277587                                           hàng_đẹp   \n",
       "277588                                mọi_người dễ_thương   \n",
       "\n",
       "                                              tmp_comment  \n",
       "0       lần đầu mua tại nhưng rất ưng ý vải mặc mát vì...  \n",
       "1       giao hàng nhanh xịn xò đặt hàng xong là chủ độ...  \n",
       "2       vừa vặn luôn mà hàng chất lượng giá rẻ vầy tội...  \n",
       "3       sản phẩm chất lượng đóng gói kĩ nhiệt tình sẽ ...  \n",
       "4       chất lượng sản phẩm tuyệt vời giao hàng nhanh ...  \n",
       "...                                                   ...  \n",
       "277584                      đẹp lắm luôn mọi người ơi học  \n",
       "277585                                                dởm  \n",
       "277586  mua món giao đủ vừa rẻ vừa chất lượng rất thíc...  \n",
       "277587                                       hàng đẹp ạ 😍  \n",
       "277588  dây buộc siêu dễ thương nha mọi người còn được...  \n",
       "\n",
       "[277589 rows x 6 columns]"
      ],
      "text/html": "<div>\n<style scoped>\n    .dataframe tbody tr th:only-of-type {\n        vertical-align: middle;\n    }\n\n    .dataframe tbody tr th {\n        vertical-align: top;\n    }\n\n    .dataframe thead th {\n        text-align: right;\n    }\n</style>\n<table border=\"1\" class=\"dataframe\">\n  <thead>\n    <tr style=\"text-align: right;\">\n      <th></th>\n      <th>raw_comment</th>\n      <th>label</th>\n      <th>emoji</th>\n      <th>processing_comment</th>\n      <th>boost_words</th>\n      <th>tmp_comment</th>\n    </tr>\n  </thead>\n  <tbody>\n    <tr>\n      <th>0</th>\n      <td>Lần đầu mua tại shop nhưng rất ưng ý, vải mặc ...</td>\n      <td>1</td>\n      <td></td>\n      <td>lần đầu mua tại nhưng rất ưng ý vải mặc mát vì...</td>\n      <td>giao_hàng giá_tiền ủng_hộ cẩn_thận đóng_gói lâ...</td>\n      <td>lần đầu mua tại nhưng rất ưng ý vải mặc mát vì...</td>\n    </tr>\n    <tr>\n      <th>1</th>\n      <td>Giao hàng nhanh, shop xịn xò đặt hàng xong là ...</td>\n      <td>1</td>\n      <td></td>\n      <td>giao hàng nhanh xịn xò đặt hàng xong là chủ độ...</td>\n      <td>giao_hàng_nhanh chất_vải cẩn_thận ok xịn_xò</td>\n      <td>giao hàng nhanh xịn xò đặt hàng xong là chủ độ...</td>\n    </tr>\n    <tr>\n      <th>2</th>\n      <td>Size vừa vặn luôn, shop mall mà hàng chất lượn...</td>\n      <td>1</td>\n      <td></td>\n      <td>vừa vặn luôn mà hàng chất lượng giá rẻ vầy tội...</td>\n      <td>giá_rẻ chất_lượng vừa_vặn</td>\n      <td>vừa vặn luôn mà hàng chất lượng giá rẻ vầy tội...</td>\n    </tr>\n    <tr>\n      <th>3</th>\n      <td>Sản phẩm chất lượng.đóng gói kĩ.shop nhiệt tìn...</td>\n      <td>1</td>\n      <td></td>\n      <td>sản phẩm chất lượng đóng gói kĩ nhiệt tình sẽ ...</td>\n      <td>ủng_hộ đóng_gói chất_lượng sản_phẩm</td>\n      <td>sản phẩm chất lượng đóng gói kĩ nhiệt tình sẽ ...</td>\n    </tr>\n    <tr>\n      <th>4</th>\n      <td>Chất lượng sản phẩm tuyệt vời giao hàng nhanh ...</td>\n      <td>1</td>\n      <td></td>\n      <td>chất lượng sản phẩm tuyệt vời giao hàng nhanh ...</td>\n      <td>giao_hàng_nhanh ủng_hộ tuyệt_vời chất_lượng sả...</td>\n      <td>chất lượng sản phẩm tuyệt vời giao hàng nhanh ...</td>\n    </tr>\n    <tr>\n      <th>...</th>\n      <td>...</td>\n      <td>...</td>\n      <td>...</td>\n      <td>...</td>\n      <td>...</td>\n      <td>...</td>\n    </tr>\n    <tr>\n      <th>277584</th>\n      <td>Đẹp lắm lun mọi ngừ ơi . Hdhhechhjhshxhdhhxhxh...</td>\n      <td>1</td>\n      <td></td>\n      <td>đẹp lắm luôn mọi người ơi học</td>\n      <td>mọi_người đẹp_lắm_luôn</td>\n      <td>đẹp lắm luôn mọi người ơi học</td>\n    </tr>\n    <tr>\n      <th>277585</th>\n      <td>Dởm</td>\n      <td>1</td>\n      <td></td>\n      <td>dởm</td>\n      <td></td>\n      <td>dởm</td>\n    </tr>\n    <tr>\n      <th>277586</th>\n      <td>Mua 12 món giao đủ. Vừa rẻ vừa chất lượng rất ...</td>\n      <td>1</td>\n      <td></td>\n      <td>mua món giao đủ vừa rẻ vừa chất lượng rất thíc...</td>\n      <td>ủng_hộ chất_lượng giao_đủ</td>\n      <td>mua món giao đủ vừa rẻ vừa chất lượng rất thíc...</td>\n    </tr>\n    <tr>\n      <th>277587</th>\n      <td>Hàng đẹp ạ😍</td>\n      <td>1</td>\n      <td>😍</td>\n      <td>hàng đẹp ạ</td>\n      <td>hàng_đẹp</td>\n      <td>hàng đẹp ạ 😍</td>\n    </tr>\n    <tr>\n      <th>277588</th>\n      <td>Dây buộc siêu dễ thương nha mn, còn được tặng ...</td>\n      <td>1</td>\n      <td>🥰</td>\n      <td>dây buộc siêu dễ thương nha mọi người còn được...</td>\n      <td>mọi_người dễ_thương</td>\n      <td>dây buộc siêu dễ thương nha mọi người còn được...</td>\n    </tr>\n  </tbody>\n</table>\n<p>277589 rows × 6 columns</p>\n</div>"
     },
     "metadata": {},
     "execution_count": 38
    }
   ],
   "source": [
    "raw_data"
   ]
  },
  {
   "cell_type": "code",
   "execution_count": 39,
   "metadata": {},
   "outputs": [],
   "source": [
    "raw_data = raw_data.drop_duplicates(subset=['tmp_comment']).drop(columns=['tmp_comment']).reset_index(drop=True)"
   ]
  },
  {
   "cell_type": "code",
   "execution_count": 40,
   "metadata": {},
   "outputs": [
    {
     "output_type": "execute_result",
     "data": {
      "text/plain": [
       "                                              raw_comment  label emoji  \\\n",
       "0       Lần đầu mua tại shop nhưng rất ưng ý, vải mặc ...      1         \n",
       "1       Giao hàng nhanh, shop xịn xò đặt hàng xong là ...      1         \n",
       "2       Size vừa vặn luôn, shop mall mà hàng chất lượn...      1         \n",
       "3       Sản phẩm chất lượng.đóng gói kĩ.shop nhiệt tìn...      1         \n",
       "4       Chất lượng sản phẩm tuyệt vời giao hàng nhanh ...      1         \n",
       "...                                                   ...    ...   ...   \n",
       "220023               Nơ xinh đúng chất công chúa đẹpppppp      1         \n",
       "220024                                 Rất dễ thương, đẹp      1         \n",
       "220025  Đẹp lắm lun mọi ngừ ơi . Hdhhechhjhshxhdhhxhxh...      1         \n",
       "220026  Mua 12 món giao đủ. Vừa rẻ vừa chất lượng rất ...      1         \n",
       "220027  Dây buộc siêu dễ thương nha mn, còn được tặng ...      1     🥰   \n",
       "\n",
       "                                       processing_comment  \\\n",
       "0       lần đầu mua tại nhưng rất ưng ý vải mặc mát vì...   \n",
       "1       giao hàng nhanh xịn xò đặt hàng xong là chủ độ...   \n",
       "2       vừa vặn luôn mà hàng chất lượng giá rẻ vầy tội...   \n",
       "3       sản phẩm chất lượng đóng gói kĩ nhiệt tình sẽ ...   \n",
       "4       chất lượng sản phẩm tuyệt vời giao hàng nhanh ...   \n",
       "...                                                   ...   \n",
       "220023                    nơ xinh đúng chất công chúa đẹp   \n",
       "220024                                  rất dễ thương đẹp   \n",
       "220025                      đẹp lắm luôn mọi người ơi học   \n",
       "220026  mua món giao đủ vừa rẻ vừa chất lượng rất thíc...   \n",
       "220027  dây buộc siêu dễ thương nha mọi người còn được...   \n",
       "\n",
       "                                              boost_words  \n",
       "0       giao_hàng giá_tiền ủng_hộ cẩn_thận đóng_gói lâ...  \n",
       "1             giao_hàng_nhanh chất_vải cẩn_thận ok xịn_xò  \n",
       "2                               giá_rẻ chất_lượng vừa_vặn  \n",
       "3                     ủng_hộ đóng_gói chất_lượng sản_phẩm  \n",
       "4       giao_hàng_nhanh ủng_hộ tuyệt_vời chất_lượng sả...  \n",
       "...                                                   ...  \n",
       "220023                                                     \n",
       "220024                                          dễ_thương  \n",
       "220025                             mọi_người đẹp_lắm_luôn  \n",
       "220026                          ủng_hộ chất_lượng giao_đủ  \n",
       "220027                                mọi_người dễ_thương  \n",
       "\n",
       "[220028 rows x 5 columns]"
      ],
      "text/html": "<div>\n<style scoped>\n    .dataframe tbody tr th:only-of-type {\n        vertical-align: middle;\n    }\n\n    .dataframe tbody tr th {\n        vertical-align: top;\n    }\n\n    .dataframe thead th {\n        text-align: right;\n    }\n</style>\n<table border=\"1\" class=\"dataframe\">\n  <thead>\n    <tr style=\"text-align: right;\">\n      <th></th>\n      <th>raw_comment</th>\n      <th>label</th>\n      <th>emoji</th>\n      <th>processing_comment</th>\n      <th>boost_words</th>\n    </tr>\n  </thead>\n  <tbody>\n    <tr>\n      <th>0</th>\n      <td>Lần đầu mua tại shop nhưng rất ưng ý, vải mặc ...</td>\n      <td>1</td>\n      <td></td>\n      <td>lần đầu mua tại nhưng rất ưng ý vải mặc mát vì...</td>\n      <td>giao_hàng giá_tiền ủng_hộ cẩn_thận đóng_gói lâ...</td>\n    </tr>\n    <tr>\n      <th>1</th>\n      <td>Giao hàng nhanh, shop xịn xò đặt hàng xong là ...</td>\n      <td>1</td>\n      <td></td>\n      <td>giao hàng nhanh xịn xò đặt hàng xong là chủ độ...</td>\n      <td>giao_hàng_nhanh chất_vải cẩn_thận ok xịn_xò</td>\n    </tr>\n    <tr>\n      <th>2</th>\n      <td>Size vừa vặn luôn, shop mall mà hàng chất lượn...</td>\n      <td>1</td>\n      <td></td>\n      <td>vừa vặn luôn mà hàng chất lượng giá rẻ vầy tội...</td>\n      <td>giá_rẻ chất_lượng vừa_vặn</td>\n    </tr>\n    <tr>\n      <th>3</th>\n      <td>Sản phẩm chất lượng.đóng gói kĩ.shop nhiệt tìn...</td>\n      <td>1</td>\n      <td></td>\n      <td>sản phẩm chất lượng đóng gói kĩ nhiệt tình sẽ ...</td>\n      <td>ủng_hộ đóng_gói chất_lượng sản_phẩm</td>\n    </tr>\n    <tr>\n      <th>4</th>\n      <td>Chất lượng sản phẩm tuyệt vời giao hàng nhanh ...</td>\n      <td>1</td>\n      <td></td>\n      <td>chất lượng sản phẩm tuyệt vời giao hàng nhanh ...</td>\n      <td>giao_hàng_nhanh ủng_hộ tuyệt_vời chất_lượng sả...</td>\n    </tr>\n    <tr>\n      <th>...</th>\n      <td>...</td>\n      <td>...</td>\n      <td>...</td>\n      <td>...</td>\n      <td>...</td>\n    </tr>\n    <tr>\n      <th>220023</th>\n      <td>Nơ xinh đúng chất công chúa đẹpppppp</td>\n      <td>1</td>\n      <td></td>\n      <td>nơ xinh đúng chất công chúa đẹp</td>\n      <td></td>\n    </tr>\n    <tr>\n      <th>220024</th>\n      <td>Rất dễ thương, đẹp</td>\n      <td>1</td>\n      <td></td>\n      <td>rất dễ thương đẹp</td>\n      <td>dễ_thương</td>\n    </tr>\n    <tr>\n      <th>220025</th>\n      <td>Đẹp lắm lun mọi ngừ ơi . Hdhhechhjhshxhdhhxhxh...</td>\n      <td>1</td>\n      <td></td>\n      <td>đẹp lắm luôn mọi người ơi học</td>\n      <td>mọi_người đẹp_lắm_luôn</td>\n    </tr>\n    <tr>\n      <th>220026</th>\n      <td>Mua 12 món giao đủ. Vừa rẻ vừa chất lượng rất ...</td>\n      <td>1</td>\n      <td></td>\n      <td>mua món giao đủ vừa rẻ vừa chất lượng rất thíc...</td>\n      <td>ủng_hộ chất_lượng giao_đủ</td>\n    </tr>\n    <tr>\n      <th>220027</th>\n      <td>Dây buộc siêu dễ thương nha mn, còn được tặng ...</td>\n      <td>1</td>\n      <td>🥰</td>\n      <td>dây buộc siêu dễ thương nha mọi người còn được...</td>\n      <td>mọi_người dễ_thương</td>\n    </tr>\n  </tbody>\n</table>\n<p>220028 rows × 5 columns</p>\n</div>"
     },
     "metadata": {},
     "execution_count": 40
    }
   ],
   "source": [
    "raw_data"
   ]
  },
  {
   "source": [
    "### 12. Xóa các `processing_comment` bị `nan` hoặc `\"\"`"
   ],
   "cell_type": "markdown",
   "metadata": {}
  },
  {
   "cell_type": "code",
   "execution_count": 43,
   "metadata": {},
   "outputs": [],
   "source": [
    "raw_data = raw_data.replace(\"\", np.nan)\n",
    "raw_data = raw_data.dropna(subset=['processing_comment']).reset_index(drop=True)"
   ]
  },
  {
   "source": [
    "### 13. Ghi ra file"
   ],
   "cell_type": "markdown",
   "metadata": {}
  },
  {
   "cell_type": "code",
   "execution_count": 44,
   "metadata": {},
   "outputs": [],
   "source": [
    "raw_data.to_csv(\"./data/raw_data.csv\", index=False)"
   ]
  },
  {
   "cell_type": "code",
   "execution_count": null,
   "metadata": {},
   "outputs": [],
   "source": []
  }
 ]
}