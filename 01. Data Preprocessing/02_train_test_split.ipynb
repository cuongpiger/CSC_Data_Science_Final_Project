{
 "metadata": {
  "language_info": {
   "codemirror_mode": {
    "name": "ipython",
    "version": 3
   },
   "file_extension": ".py",
   "mimetype": "text/x-python",
   "name": "python",
   "nbconvert_exporter": "python",
   "pygments_lexer": "ipython3",
   "version": "3.8.5"
  },
  "orig_nbformat": 2,
  "kernelspec": {
   "name": "python385jvsc74a57bd031f2aee4e71d21fbe5cf8b01ff0e069b9275f58929596ceb00d14d90e3e16cd6",
   "display_name": "Python 3.8.5 64-bit"
  },
  "metadata": {
   "interpreter": {
    "hash": "31f2aee4e71d21fbe5cf8b01ff0e069b9275f58929596ceb00d14d90e3e16cd6"
   }
  }
 },
 "nbformat": 4,
 "nbformat_minor": 2,
 "cells": [
  {
   "cell_type": "code",
   "execution_count": 1,
   "metadata": {},
   "outputs": [],
   "source": [
    "%load_ext autoreload\n",
    "%autoreload 2"
   ]
  },
  {
   "cell_type": "code",
   "execution_count": 2,
   "metadata": {},
   "outputs": [],
   "source": [
    "import pandas as pd\n",
    "import numpy as np\n",
    "import re\n",
    "import pickle\n",
    "import modules.utils as Utils\n",
    "from modules.regex_patterns import reviews_paths\n",
    "from collections import Counter\n",
    "from underthesea import word_tokenize\n",
    "from sklearn.utils import shuffle\n",
    "from sklearn.feature_extraction.text import TfidfVectorizer\n",
    "from sklearn.model_selection import train_test_split\n",
    "from imblearn.over_sampling import RandomOverSampler"
   ]
  },
  {
   "source": [
    "### 20. Load file lên và shuffle nó"
   ],
   "cell_type": "markdown",
   "metadata": {}
  },
  {
   "cell_type": "code",
   "execution_count": 3,
   "metadata": {},
   "outputs": [],
   "source": [
    "data = pd.read_csv(\"./data/standard_data.csv\")"
   ]
  },
  {
   "cell_type": "code",
   "execution_count": 4,
   "metadata": {},
   "outputs": [],
   "source": [
    "data = shuffle(data)"
   ]
  },
  {
   "cell_type": "code",
   "execution_count": 5,
   "metadata": {},
   "outputs": [
    {
     "output_type": "execute_result",
     "data": {
      "text/plain": [
       "                                              raw_comment  \\\n",
       "60357   Chất vài khá tốt, mặc khá là thoải mái. Sẽ ủng...   \n",
       "71678   nhan dep hoi rong goi hang chac chan ky cang n...   \n",
       "153505  Kẹp cực xinh, giống hình, màu đậm hơn hình một...   \n",
       "165989  Thời gian giao hơn 10 ngày. Đầy đủ hàng. Đẹp, ...   \n",
       "87145   Quá nhiều chỉ thừa và đường may kém nhưng lên ...   \n",
       "...                                                   ...   \n",
       "51959   Áo đẹp lắm mn. Vải ko mỏng lắm đâu. Bth....   \n",
       "184097                         Ví đẹp nhưng hơi có mùi da   \n",
       "66867   Đóng gói cẩn thận giao hàng nhanh. Hàng chất l...   \n",
       "11382   Săn sale mà rất hài lòng luôn ấy ạ. Shop giao ...   \n",
       "190735  Hàng khá ok quần đẹp nha\\nMua lần 2 chất lượng...   \n",
       "\n",
       "                                         standard_comment  label  \n",
       "60357          chất vài khá thoải_mái tiếp ủng_hộ khá_tốt      1  \n",
       "71678      nhan hoi rong goi hang chan ky cang noi la ung      1  \n",
       "153505               kẹp cực xinh đậm hình xíu giống_hình      1  \n",
       "165989  thời_gian ngày đầy_đủ đẹp hình nên_mua như_hìn...      1  \n",
       "87145   nhiều thừa kém đẹp hơi vọng góp_ý cải_thiện ch...      0  \n",
       "...                                                   ...    ...  \n",
       "51959   a o đe mọi va i mo bo co ne giư cô a o mọi_ngư...      1  \n",
       "184097                                  ví đẹp hơi mùi da      1  \n",
       "66867   nhanh vớ vẻ nhỏ so chân nam chưa thử giao_hàng...      1  \n",
       "11382    săn hài_lòng ấy nhanh dịch_vụ ổn giao_nhanh sale      1  \n",
       "190735              khá đẹp lần cứ chất_lượng quần_đẹp ❤️      1  \n",
       "\n",
       "[219596 rows x 3 columns]"
      ],
      "text/html": "<div>\n<style scoped>\n    .dataframe tbody tr th:only-of-type {\n        vertical-align: middle;\n    }\n\n    .dataframe tbody tr th {\n        vertical-align: top;\n    }\n\n    .dataframe thead th {\n        text-align: right;\n    }\n</style>\n<table border=\"1\" class=\"dataframe\">\n  <thead>\n    <tr style=\"text-align: right;\">\n      <th></th>\n      <th>raw_comment</th>\n      <th>standard_comment</th>\n      <th>label</th>\n    </tr>\n  </thead>\n  <tbody>\n    <tr>\n      <th>60357</th>\n      <td>Chất vài khá tốt, mặc khá là thoải mái. Sẽ ủng...</td>\n      <td>chất vài khá thoải_mái tiếp ủng_hộ khá_tốt</td>\n      <td>1</td>\n    </tr>\n    <tr>\n      <th>71678</th>\n      <td>nhan dep hoi rong goi hang chac chan ky cang n...</td>\n      <td>nhan hoi rong goi hang chan ky cang noi la ung</td>\n      <td>1</td>\n    </tr>\n    <tr>\n      <th>153505</th>\n      <td>Kẹp cực xinh, giống hình, màu đậm hơn hình một...</td>\n      <td>kẹp cực xinh đậm hình xíu giống_hình</td>\n      <td>1</td>\n    </tr>\n    <tr>\n      <th>165989</th>\n      <td>Thời gian giao hơn 10 ngày. Đầy đủ hàng. Đẹp, ...</td>\n      <td>thời_gian ngày đầy_đủ đẹp hình nên_mua như_hìn...</td>\n      <td>1</td>\n    </tr>\n    <tr>\n      <th>87145</th>\n      <td>Quá nhiều chỉ thừa và đường may kém nhưng lên ...</td>\n      <td>nhiều thừa kém đẹp hơi vọng góp_ý cải_thiện ch...</td>\n      <td>0</td>\n    </tr>\n    <tr>\n      <th>...</th>\n      <td>...</td>\n      <td>...</td>\n      <td>...</td>\n    </tr>\n    <tr>\n      <th>51959</th>\n      <td>Áo đẹp lắm mn. Vải ko mỏng lắm đâu. Bth....</td>\n      <td>a o đe mọi va i mo bo co ne giư cô a o mọi_ngư...</td>\n      <td>1</td>\n    </tr>\n    <tr>\n      <th>184097</th>\n      <td>Ví đẹp nhưng hơi có mùi da</td>\n      <td>ví đẹp hơi mùi da</td>\n      <td>1</td>\n    </tr>\n    <tr>\n      <th>66867</th>\n      <td>Đóng gói cẩn thận giao hàng nhanh. Hàng chất l...</td>\n      <td>nhanh vớ vẻ nhỏ so chân nam chưa thử giao_hàng...</td>\n      <td>1</td>\n    </tr>\n    <tr>\n      <th>11382</th>\n      <td>Săn sale mà rất hài lòng luôn ấy ạ. Shop giao ...</td>\n      <td>săn hài_lòng ấy nhanh dịch_vụ ổn giao_nhanh sale</td>\n      <td>1</td>\n    </tr>\n    <tr>\n      <th>190735</th>\n      <td>Hàng khá ok quần đẹp nha\\nMua lần 2 chất lượng...</td>\n      <td>khá đẹp lần cứ chất_lượng quần_đẹp ❤️</td>\n      <td>1</td>\n    </tr>\n  </tbody>\n</table>\n<p>219596 rows × 3 columns</p>\n</div>"
     },
     "metadata": {},
     "execution_count": 5
    }
   ],
   "source": [
    "data"
   ]
  },
  {
   "source": [
    "### 21. Kiểm tra số mẫu giữa các nhóm"
   ],
   "cell_type": "markdown",
   "metadata": {}
  },
  {
   "cell_type": "code",
   "execution_count": 6,
   "metadata": {},
   "outputs": [],
   "source": [
    "no_samples_each_group = data[['label', 'standard_comment']].groupby(['label']).count()"
   ]
  },
  {
   "cell_type": "code",
   "execution_count": 7,
   "metadata": {},
   "outputs": [
    {
     "output_type": "execute_result",
     "data": {
      "text/plain": [
       "       standard_comment\n",
       "label                  \n",
       "-1                 3458\n",
       " 0                11845\n",
       " 1               204293"
      ],
      "text/html": "<div>\n<style scoped>\n    .dataframe tbody tr th:only-of-type {\n        vertical-align: middle;\n    }\n\n    .dataframe tbody tr th {\n        vertical-align: top;\n    }\n\n    .dataframe thead th {\n        text-align: right;\n    }\n</style>\n<table border=\"1\" class=\"dataframe\">\n  <thead>\n    <tr style=\"text-align: right;\">\n      <th></th>\n      <th>standard_comment</th>\n    </tr>\n    <tr>\n      <th>label</th>\n      <th></th>\n    </tr>\n  </thead>\n  <tbody>\n    <tr>\n      <th>-1</th>\n      <td>3458</td>\n    </tr>\n    <tr>\n      <th>0</th>\n      <td>11845</td>\n    </tr>\n    <tr>\n      <th>1</th>\n      <td>204293</td>\n    </tr>\n  </tbody>\n</table>\n</div>"
     },
     "metadata": {},
     "execution_count": 7
    }
   ],
   "source": [
    "no_samples_each_group"
   ]
  },
  {
   "source": [
    "> **Nhận xét**:\n",
    "> * Số lượng mẫu giữa các group không đều.\n",
    ">\n",
    "> $\\Rightarrow$ thực hiện oversampling"
   ],
   "cell_type": "markdown",
   "metadata": {}
  },
  {
   "source": [
    "### 22. Tạo tập `final_data`"
   ],
   "cell_type": "markdown",
   "metadata": {}
  },
  {
   "cell_type": "code",
   "execution_count": 8,
   "metadata": {},
   "outputs": [],
   "source": [
    "no_samples_each_group = no_samples_each_group['standard_comment'].to_list()"
   ]
  },
  {
   "cell_type": "code",
   "execution_count": 9,
   "metadata": {},
   "outputs": [],
   "source": [
    "negative = data.label[data.label.eq(-1)].sample(no_samples_each_group[0]).index\n",
    "normal = data.label[data.label.eq(0)].sample(no_samples_each_group[1]).index\n",
    "positive = data.label[data.label.eq(1)].sample(no_samples_each_group[1] + no_samples_each_group[0]*2).index\n",
    "\n",
    "final_data = data.loc[negative.union(normal).union(positive)]"
   ]
  },
  {
   "cell_type": "code",
   "execution_count": 10,
   "metadata": {},
   "outputs": [],
   "source": [
    "final_data = shuffle(final_data)"
   ]
  },
  {
   "cell_type": "code",
   "execution_count": 11,
   "metadata": {},
   "outputs": [
    {
     "output_type": "execute_result",
     "data": {
      "text/plain": [
       "                                              raw_comment  \\\n",
       "1156                     Chất vải phù hợp giá tiền rất ok   \n",
       "211787  Hàng về hơi lâu 1 chút. Nhưng đẹp miễn bàn đán...   \n",
       "79513                      Chất qua ok so vs 170k nhé ăee   \n",
       "88604   Áo khá đẹp nha, form rộng đẹp. Mỗi tội chất vả...   \n",
       "143505  Chất lượng xứng với giá tiền nhưng lần này gia...   \n",
       "...                                                   ...   \n",
       "280                                                   hâu   \n",
       "89981   Dùng tạm ảnh này ạ\\nChất liệu được, đường may ...   \n",
       "119346                                   Áo đẹp,nên mua ạ   \n",
       "106099  Hàng sale chất ổn nha, 2 đôi 2 màu, giao hàng ...   \n",
       "26886   Có chỉ thừa, quần tạm ổn trong tầm giá \\nSksjs...   \n",
       "\n",
       "                                         standard_comment  label  \n",
       "1156                            phù_hợp giá_tiền chất_vải      1  \n",
       "211787  chút đẹp miễn bàn đáng công chờ_đợi đáng iu cự...      1  \n",
       "79513                                         chất qua so      1  \n",
       "88604   rộng đẹp mỗi tội bí lười chụp ảnh khum liên_qu...      1  \n",
       "143505  xứng lần chậm ơi chậm giao_hàng_chậm giá_tiền ...      1  \n",
       "...                                                   ...    ...  \n",
       "280                                                   hâu      0  \n",
       "89981   dùng tạm ảnh chất_liệu chắc_chắn sổ không_chắc...      0  \n",
       "119346                                 đẹp nên_mua áo_đẹp      1  \n",
       "106099  chất ổn đôi nhanh giao_hàng_nhanh cẩn_thận đón...      1  \n",
       "26886                  thừa trong tầm giá chỉ_thừa tạm_ổn      0  \n",
       "\n",
       "[34064 rows x 3 columns]"
      ],
      "text/html": "<div>\n<style scoped>\n    .dataframe tbody tr th:only-of-type {\n        vertical-align: middle;\n    }\n\n    .dataframe tbody tr th {\n        vertical-align: top;\n    }\n\n    .dataframe thead th {\n        text-align: right;\n    }\n</style>\n<table border=\"1\" class=\"dataframe\">\n  <thead>\n    <tr style=\"text-align: right;\">\n      <th></th>\n      <th>raw_comment</th>\n      <th>standard_comment</th>\n      <th>label</th>\n    </tr>\n  </thead>\n  <tbody>\n    <tr>\n      <th>1156</th>\n      <td>Chất vải phù hợp giá tiền rất ok</td>\n      <td>phù_hợp giá_tiền chất_vải</td>\n      <td>1</td>\n    </tr>\n    <tr>\n      <th>211787</th>\n      <td>Hàng về hơi lâu 1 chút. Nhưng đẹp miễn bàn đán...</td>\n      <td>chút đẹp miễn bàn đáng công chờ_đợi đáng iu cự...</td>\n      <td>1</td>\n    </tr>\n    <tr>\n      <th>79513</th>\n      <td>Chất qua ok so vs 170k nhé ăee</td>\n      <td>chất qua so</td>\n      <td>1</td>\n    </tr>\n    <tr>\n      <th>88604</th>\n      <td>Áo khá đẹp nha, form rộng đẹp. Mỗi tội chất vả...</td>\n      <td>rộng đẹp mỗi tội bí lười chụp ảnh khum liên_qu...</td>\n      <td>1</td>\n    </tr>\n    <tr>\n      <th>143505</th>\n      <td>Chất lượng xứng với giá tiền nhưng lần này gia...</td>\n      <td>xứng lần chậm ơi chậm giao_hàng_chậm giá_tiền ...</td>\n      <td>1</td>\n    </tr>\n    <tr>\n      <th>...</th>\n      <td>...</td>\n      <td>...</td>\n      <td>...</td>\n    </tr>\n    <tr>\n      <th>280</th>\n      <td>hâu</td>\n      <td>hâu</td>\n      <td>0</td>\n    </tr>\n    <tr>\n      <th>89981</th>\n      <td>Dùng tạm ảnh này ạ\\nChất liệu được, đường may ...</td>\n      <td>dùng tạm ảnh chất_liệu chắc_chắn sổ không_chắc...</td>\n      <td>0</td>\n    </tr>\n    <tr>\n      <th>119346</th>\n      <td>Áo đẹp,nên mua ạ</td>\n      <td>đẹp nên_mua áo_đẹp</td>\n      <td>1</td>\n    </tr>\n    <tr>\n      <th>106099</th>\n      <td>Hàng sale chất ổn nha, 2 đôi 2 màu, giao hàng ...</td>\n      <td>chất ổn đôi nhanh giao_hàng_nhanh cẩn_thận đón...</td>\n      <td>1</td>\n    </tr>\n    <tr>\n      <th>26886</th>\n      <td>Có chỉ thừa, quần tạm ổn trong tầm giá \\nSksjs...</td>\n      <td>thừa trong tầm giá chỉ_thừa tạm_ổn</td>\n      <td>0</td>\n    </tr>\n  </tbody>\n</table>\n<p>34064 rows × 3 columns</p>\n</div>"
     },
     "metadata": {},
     "execution_count": 11
    }
   ],
   "source": [
    "final_data"
   ]
  },
  {
   "cell_type": "code",
   "execution_count": 12,
   "metadata": {},
   "outputs": [],
   "source": [
    "final_data = final_data.reset_index(drop=True)"
   ]
  },
  {
   "source": [
    "### 23. Thực hiện TF-IDF với `ngram_range=(1, 4)`"
   ],
   "cell_type": "markdown",
   "metadata": {}
  },
  {
   "cell_type": "code",
   "execution_count": 13,
   "metadata": {},
   "outputs": [
    {
     "output_type": "execute_result",
     "data": {
      "text/plain": [
       "TfidfVectorizer(ngram_range=(1, 4))"
      ]
     },
     "metadata": {},
     "execution_count": 13
    }
   ],
   "source": [
    "tf_idf = TfidfVectorizer(ngram_range=(1, 4))\n",
    "tf_idf.fit(final_data['standard_comment'])"
   ]
  },
  {
   "source": [
    "### 24. Tạo tập input `X` và output `y`"
   ],
   "cell_type": "markdown",
   "metadata": {}
  },
  {
   "cell_type": "code",
   "execution_count": 14,
   "metadata": {},
   "outputs": [],
   "source": [
    "X = tf_idf.transform(final_data['standard_comment'])\n",
    "y = final_data['label']"
   ]
  },
  {
   "source": [
    "### 25. Thực hiện over-sampling"
   ],
   "cell_type": "markdown",
   "metadata": {}
  },
  {
   "cell_type": "code",
   "execution_count": 15,
   "metadata": {},
   "outputs": [],
   "source": [
    "ros = RandomOverSampler()\n",
    "X_ros, y_ros = ros.fit_resample(X, y)"
   ]
  },
  {
   "cell_type": "code",
   "execution_count": 16,
   "metadata": {},
   "outputs": [
    {
     "output_type": "execute_result",
     "data": {
      "text/plain": [
       "Counter({1: 18761, -1: 18761, 0: 18761})"
      ]
     },
     "metadata": {},
     "execution_count": 16
    }
   ],
   "source": [
    "Counter(y_ros)"
   ]
  },
  {
   "source": [
    "### 26. Train test split"
   ],
   "cell_type": "markdown",
   "metadata": {}
  },
  {
   "source": [
    "X_train, X_test, y_train, y_test = train_test_split(X_ros, y_ros, test_size=0.2, random_state=100, shuffle=True)"
   ],
   "cell_type": "code",
   "metadata": {},
   "execution_count": 17,
   "outputs": []
  },
  {
   "source": [
    "### 27. Lưu lại `final_data`, `tf_idf`, `X_train`, `X_test`, `y_train`, `y_test`"
   ],
   "cell_type": "markdown",
   "metadata": {}
  },
  {
   "cell_type": "code",
   "execution_count": 18,
   "metadata": {},
   "outputs": [],
   "source": [
    "final_data.to_csv(\"./data/final_data.csv\", index=False)"
   ]
  },
  {
   "cell_type": "code",
   "execution_count": 19,
   "metadata": {},
   "outputs": [],
   "source": [
    "pickle.dump(tf_idf, open(\"./data/tf_idf.pickle\", \"wb\"))\n",
    "pickle.dump(X_train, open(\"./data/X_train.pickle\", \"wb\"))\n",
    "pickle.dump(X_test, open(\"./data/X_test.pickle\", \"wb\"))\n",
    "pickle.dump(y_train, open(\"./data/y_train.pickle\", \"wb\"))\n",
    "pickle.dump(y_test, open(\"./data/y_test.pickle\", \"wb\"))"
   ]
  }
 ]
}