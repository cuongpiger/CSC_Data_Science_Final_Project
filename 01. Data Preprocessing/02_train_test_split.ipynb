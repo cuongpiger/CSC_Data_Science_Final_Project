{
 "metadata": {
  "language_info": {
   "codemirror_mode": {
    "name": "ipython",
    "version": 3
   },
   "file_extension": ".py",
   "mimetype": "text/x-python",
   "name": "python",
   "nbconvert_exporter": "python",
   "pygments_lexer": "ipython3",
   "version": "3.8.5"
  },
  "orig_nbformat": 2,
  "kernelspec": {
   "name": "python385jvsc74a57bd031f2aee4e71d21fbe5cf8b01ff0e069b9275f58929596ceb00d14d90e3e16cd6",
   "display_name": "Python 3.8.5 64-bit"
  },
  "metadata": {
   "interpreter": {
    "hash": "31f2aee4e71d21fbe5cf8b01ff0e069b9275f58929596ceb00d14d90e3e16cd6"
   }
  }
 },
 "nbformat": 4,
 "nbformat_minor": 2,
 "cells": [
  {
   "cell_type": "code",
   "execution_count": 1,
   "metadata": {},
   "outputs": [],
   "source": [
    "%load_ext autoreload\n",
    "%autoreload 2"
   ]
  },
  {
   "cell_type": "code",
   "execution_count": 2,
   "metadata": {},
   "outputs": [],
   "source": [
    "import pandas as pd\n",
    "import numpy as np\n",
    "import re\n",
    "import pickle\n",
    "import modules.utils as Utils\n",
    "from modules.regex_patterns import reviews_paths\n",
    "from collections import Counter\n",
    "from underthesea import word_tokenize\n",
    "from sklearn.utils import shuffle\n",
    "from sklearn.feature_extraction.text import TfidfVectorizer\n",
    "from sklearn.model_selection import train_test_split\n",
    "from imblearn.over_sampling import RandomOverSampler"
   ]
  },
  {
   "source": [
    "### 20. Load file lên và shuffle nó"
   ],
   "cell_type": "markdown",
   "metadata": {}
  },
  {
   "cell_type": "code",
   "execution_count": 3,
   "metadata": {},
   "outputs": [],
   "source": [
    "data = pd.read_csv(\"./data/standard_data.csv\")"
   ]
  },
  {
   "cell_type": "code",
   "execution_count": 4,
   "metadata": {},
   "outputs": [],
   "source": [
    "data = shuffle(data)"
   ]
  },
  {
   "cell_type": "code",
   "execution_count": 5,
   "metadata": {},
   "outputs": [
    {
     "output_type": "execute_result",
     "data": {
      "text/plain": [
       "                                              raw_comment  \\\n",
       "17678                             Đẹp hơn so vơi giá. Ưng   \n",
       "90738   Đẹp suất sắc dfbvvvbbbb.mua lần thứ ba rồi anz...   \n",
       "187800  Shop làm ăn cẩu thả wa...gsjkdjsjbshdkksvsg xg...   \n",
       "31207   Sản phẩm phù hợp với tầm giá.Mình thích mặc fo...   \n",
       "143457  Cầ nm chắc tay không biết có bị phai màu hay k...   \n",
       "...                                                   ...   \n",
       "153184  Kẹp màu tím rất đẹp và dễ thương shop giao hàn...   \n",
       "115295                         Ok ạ nhưng bề rộng hơi nhỏ   \n",
       "83567   Áo đẹp, vải mềm và mát, shop tư vấn chính xác ...   \n",
       "25088                                        Xịn cực luôn   \n",
       "168141  Giao hàng 14ngày,đợi lâu quá quên mất tiêu đã ...   \n",
       "\n",
       "                                         standard_comment  label  \n",
       "17678                                      so vơi giá ưng      1  \n",
       "90738                                 suất sắc lần thứ ba      1  \n",
       "187800                                  ăn cẩu_thả làm_ăn      1  \n",
       "31207                tầm giá thích rộng chọn tăng phù_hợp      1  \n",
       "143457                                  chắc tay phai hay      1  \n",
       "...                                                   ...    ...  \n",
       "153184           kẹp tím nhanh tặng năm dễ_thương rất_đẹp      1  \n",
       "115295                                    bề_rộng hơi_nhỏ      0  \n",
       "83567   vải mềm mát tư_vấn chính_xác nhanh khác mang g...      1  \n",
       "25088                                             xịn cực      1  \n",
       "168141                         ngày đợi quên mất_tiêu lâu      1  \n",
       "\n",
       "[219278 rows x 3 columns]"
      ],
      "text/html": "<div>\n<style scoped>\n    .dataframe tbody tr th:only-of-type {\n        vertical-align: middle;\n    }\n\n    .dataframe tbody tr th {\n        vertical-align: top;\n    }\n\n    .dataframe thead th {\n        text-align: right;\n    }\n</style>\n<table border=\"1\" class=\"dataframe\">\n  <thead>\n    <tr style=\"text-align: right;\">\n      <th></th>\n      <th>raw_comment</th>\n      <th>standard_comment</th>\n      <th>label</th>\n    </tr>\n  </thead>\n  <tbody>\n    <tr>\n      <th>17678</th>\n      <td>Đẹp hơn so vơi giá. Ưng</td>\n      <td>so vơi giá ưng</td>\n      <td>1</td>\n    </tr>\n    <tr>\n      <th>90738</th>\n      <td>Đẹp suất sắc dfbvvvbbbb.mua lần thứ ba rồi anz...</td>\n      <td>suất sắc lần thứ ba</td>\n      <td>1</td>\n    </tr>\n    <tr>\n      <th>187800</th>\n      <td>Shop làm ăn cẩu thả wa...gsjkdjsjbshdkksvsg xg...</td>\n      <td>ăn cẩu_thả làm_ăn</td>\n      <td>1</td>\n    </tr>\n    <tr>\n      <th>31207</th>\n      <td>Sản phẩm phù hợp với tầm giá.Mình thích mặc fo...</td>\n      <td>tầm giá thích rộng chọn tăng phù_hợp</td>\n      <td>1</td>\n    </tr>\n    <tr>\n      <th>143457</th>\n      <td>Cầ nm chắc tay không biết có bị phai màu hay k...</td>\n      <td>chắc tay phai hay</td>\n      <td>1</td>\n    </tr>\n    <tr>\n      <th>...</th>\n      <td>...</td>\n      <td>...</td>\n      <td>...</td>\n    </tr>\n    <tr>\n      <th>153184</th>\n      <td>Kẹp màu tím rất đẹp và dễ thương shop giao hàn...</td>\n      <td>kẹp tím nhanh tặng năm dễ_thương rất_đẹp</td>\n      <td>1</td>\n    </tr>\n    <tr>\n      <th>115295</th>\n      <td>Ok ạ nhưng bề rộng hơi nhỏ</td>\n      <td>bề_rộng hơi_nhỏ</td>\n      <td>0</td>\n    </tr>\n    <tr>\n      <th>83567</th>\n      <td>Áo đẹp, vải mềm và mát, shop tư vấn chính xác ...</td>\n      <td>vải mềm mát tư_vấn chính_xác nhanh khác mang g...</td>\n      <td>1</td>\n    </tr>\n    <tr>\n      <th>25088</th>\n      <td>Xịn cực luôn</td>\n      <td>xịn cực</td>\n      <td>1</td>\n    </tr>\n    <tr>\n      <th>168141</th>\n      <td>Giao hàng 14ngày,đợi lâu quá quên mất tiêu đã ...</td>\n      <td>ngày đợi quên mất_tiêu lâu</td>\n      <td>1</td>\n    </tr>\n  </tbody>\n</table>\n<p>219278 rows × 3 columns</p>\n</div>"
     },
     "metadata": {},
     "execution_count": 5
    }
   ],
   "source": [
    "data"
   ]
  },
  {
   "source": [
    "### 21. Kiểm tra số mẫu giữa các nhóm"
   ],
   "cell_type": "markdown",
   "metadata": {}
  },
  {
   "cell_type": "code",
   "execution_count": 6,
   "metadata": {},
   "outputs": [],
   "source": [
    "no_samples_each_group = data[['label', 'standard_comment']].groupby(['label']).count()"
   ]
  },
  {
   "cell_type": "code",
   "execution_count": 7,
   "metadata": {},
   "outputs": [
    {
     "output_type": "execute_result",
     "data": {
      "text/plain": [
       "       standard_comment\n",
       "label                  \n",
       "-1                 3456\n",
       " 0                11842\n",
       " 1               203980"
      ],
      "text/html": "<div>\n<style scoped>\n    .dataframe tbody tr th:only-of-type {\n        vertical-align: middle;\n    }\n\n    .dataframe tbody tr th {\n        vertical-align: top;\n    }\n\n    .dataframe thead th {\n        text-align: right;\n    }\n</style>\n<table border=\"1\" class=\"dataframe\">\n  <thead>\n    <tr style=\"text-align: right;\">\n      <th></th>\n      <th>standard_comment</th>\n    </tr>\n    <tr>\n      <th>label</th>\n      <th></th>\n    </tr>\n  </thead>\n  <tbody>\n    <tr>\n      <th>-1</th>\n      <td>3456</td>\n    </tr>\n    <tr>\n      <th>0</th>\n      <td>11842</td>\n    </tr>\n    <tr>\n      <th>1</th>\n      <td>203980</td>\n    </tr>\n  </tbody>\n</table>\n</div>"
     },
     "metadata": {},
     "execution_count": 7
    }
   ],
   "source": [
    "no_samples_each_group"
   ]
  },
  {
   "source": [
    "> **Nhận xét**:\n",
    "> * Số lượng mẫu giữa các group không đều.\n",
    ">\n",
    "> $\\Rightarrow$ thực hiện oversampling"
   ],
   "cell_type": "markdown",
   "metadata": {}
  },
  {
   "source": [
    "### 22. Tạo tập `final_data`"
   ],
   "cell_type": "markdown",
   "metadata": {}
  },
  {
   "cell_type": "code",
   "execution_count": 8,
   "metadata": {},
   "outputs": [],
   "source": [
    "no_samples_each_group = no_samples_each_group['standard_comment'].to_list()"
   ]
  },
  {
   "cell_type": "code",
   "execution_count": 9,
   "metadata": {},
   "outputs": [],
   "source": [
    "negative = data.label[data.label.eq(-1)].sample(no_samples_each_group[0]).index\n",
    "normal = data.label[data.label.eq(0)].sample(no_samples_each_group[1]).index\n",
    "positive = data.label[data.label.eq(1)].sample(no_samples_each_group[1] + no_samples_each_group[0]*2).index\n",
    "\n",
    "final_data = data.loc[negative.union(normal).union(positive)]"
   ]
  },
  {
   "cell_type": "code",
   "execution_count": 10,
   "metadata": {},
   "outputs": [],
   "source": [
    "final_data = shuffle(final_data)"
   ]
  },
  {
   "cell_type": "code",
   "execution_count": 11,
   "metadata": {},
   "outputs": [
    {
     "output_type": "execute_result",
     "data": {
      "text/plain": [
       "                                              raw_comment  \\\n",
       "208014          Dép mang êm chân mẫu sang hàng chất lượng   \n",
       "62994   Nón đẹp lắm ạ. Chất vải dày dặn, đường may đẹp...   \n",
       "194727  Hơi mỏng tí, nhưng giao đúng mẫu, dthg cực é. ...   \n",
       "164937  Kính rất đẹp, shop tư vấn nhiệt tình, trả lời ...   \n",
       "162411  Tính  Tổng mét khối sdung\\n=sumif( vùng dkien,...   \n",
       "...                                                   ...   \n",
       "180170  Sản phẩm giống hình. Chất liệu vải mềm.Giao hà...   \n",
       "103094  Ví bỏ thẻ vào thôi cũng hơi kích 1 chút nhưng ...   \n",
       "74448   Áo mặc khá ổn. Giao hàng nhanh đúng mẫu. Điểm ...   \n",
       "11376   Sản phẩm hơi mỏng nhưng mà vs giá sale 1000d v...   \n",
       "48589   Dây quá mỏng, không đang tiền, không nên mua, ...   \n",
       "\n",
       "                                         standard_comment  label  \n",
       "208014                          dép mang êm chân mẫu sang      1  \n",
       "62994   nón vải dày_dặn chắc_chắn mặt thay_đổi tiện_lợ...      1  \n",
       "194727            tí đúng mẫu cực é hộ hơi_mỏng giao_đúng      0  \n",
       "164937  kính tư_vấn nhiệt_tình trả_lời tin nhắn nhanh ...      1  \n",
       "162411  tính tổng mét_khối vùng vùng tính tổng nhớ bấm...      1  \n",
       "...                                                   ...    ...  \n",
       "180170          liệu vải mềm nhanh ổn đóng_gói giống_hình      0  \n",
       "103094                        ví bỏ thẻ hơi kích chút nỗi      1  \n",
       "74448   nhanh đúng mẫu điểm trừ túi bé túi ngực giao_h...      0  \n",
       "11376                               giá tốt hơi_mỏng sale      0  \n",
       "48589   dây mỏng đang tiền chưa dùng nên_mua không_nên...     -1  \n",
       "\n",
       "[34052 rows x 3 columns]"
      ],
      "text/html": "<div>\n<style scoped>\n    .dataframe tbody tr th:only-of-type {\n        vertical-align: middle;\n    }\n\n    .dataframe tbody tr th {\n        vertical-align: top;\n    }\n\n    .dataframe thead th {\n        text-align: right;\n    }\n</style>\n<table border=\"1\" class=\"dataframe\">\n  <thead>\n    <tr style=\"text-align: right;\">\n      <th></th>\n      <th>raw_comment</th>\n      <th>standard_comment</th>\n      <th>label</th>\n    </tr>\n  </thead>\n  <tbody>\n    <tr>\n      <th>208014</th>\n      <td>Dép mang êm chân mẫu sang hàng chất lượng</td>\n      <td>dép mang êm chân mẫu sang</td>\n      <td>1</td>\n    </tr>\n    <tr>\n      <th>62994</th>\n      <td>Nón đẹp lắm ạ. Chất vải dày dặn, đường may đẹp...</td>\n      <td>nón vải dày_dặn chắc_chắn mặt thay_đổi tiện_lợ...</td>\n      <td>1</td>\n    </tr>\n    <tr>\n      <th>194727</th>\n      <td>Hơi mỏng tí, nhưng giao đúng mẫu, dthg cực é. ...</td>\n      <td>tí đúng mẫu cực é hộ hơi_mỏng giao_đúng</td>\n      <td>0</td>\n    </tr>\n    <tr>\n      <th>164937</th>\n      <td>Kính rất đẹp, shop tư vấn nhiệt tình, trả lời ...</td>\n      <td>kính tư_vấn nhiệt_tình trả_lời tin nhắn nhanh ...</td>\n      <td>1</td>\n    </tr>\n    <tr>\n      <th>162411</th>\n      <td>Tính  Tổng mét khối sdung\\n=sumif( vùng dkien,...</td>\n      <td>tính tổng mét_khối vùng vùng tính tổng nhớ bấm...</td>\n      <td>1</td>\n    </tr>\n    <tr>\n      <th>...</th>\n      <td>...</td>\n      <td>...</td>\n      <td>...</td>\n    </tr>\n    <tr>\n      <th>180170</th>\n      <td>Sản phẩm giống hình. Chất liệu vải mềm.Giao hà...</td>\n      <td>liệu vải mềm nhanh ổn đóng_gói giống_hình</td>\n      <td>0</td>\n    </tr>\n    <tr>\n      <th>103094</th>\n      <td>Ví bỏ thẻ vào thôi cũng hơi kích 1 chút nhưng ...</td>\n      <td>ví bỏ thẻ hơi kích chút nỗi</td>\n      <td>1</td>\n    </tr>\n    <tr>\n      <th>74448</th>\n      <td>Áo mặc khá ổn. Giao hàng nhanh đúng mẫu. Điểm ...</td>\n      <td>nhanh đúng mẫu điểm trừ túi bé túi ngực giao_h...</td>\n      <td>0</td>\n    </tr>\n    <tr>\n      <th>11376</th>\n      <td>Sản phẩm hơi mỏng nhưng mà vs giá sale 1000d v...</td>\n      <td>giá tốt hơi_mỏng sale</td>\n      <td>0</td>\n    </tr>\n    <tr>\n      <th>48589</th>\n      <td>Dây quá mỏng, không đang tiền, không nên mua, ...</td>\n      <td>dây mỏng đang tiền chưa dùng nên_mua không_nên...</td>\n      <td>-1</td>\n    </tr>\n  </tbody>\n</table>\n<p>34052 rows × 3 columns</p>\n</div>"
     },
     "metadata": {},
     "execution_count": 11
    }
   ],
   "source": [
    "final_data"
   ]
  },
  {
   "cell_type": "code",
   "execution_count": 12,
   "metadata": {},
   "outputs": [],
   "source": [
    "final_data = final_data.reset_index(drop=True)"
   ]
  },
  {
   "source": [
    "### 23. Thực hiện TF-IDF với `ngram_range=(1, 4)`"
   ],
   "cell_type": "markdown",
   "metadata": {}
  },
  {
   "cell_type": "code",
   "execution_count": 13,
   "metadata": {},
   "outputs": [
    {
     "output_type": "execute_result",
     "data": {
      "text/plain": [
       "TfidfVectorizer(ngram_range=(1, 4))"
      ]
     },
     "metadata": {},
     "execution_count": 13
    }
   ],
   "source": [
    "tf_idf = TfidfVectorizer(ngram_range=(1, 4))\n",
    "tf_idf.fit(final_data['standard_comment'])"
   ]
  },
  {
   "source": [
    "### 24. Tạo tập input `X` và output `y`"
   ],
   "cell_type": "markdown",
   "metadata": {}
  },
  {
   "cell_type": "code",
   "execution_count": 14,
   "metadata": {},
   "outputs": [],
   "source": [
    "X = tf_idf.transform(final_data['standard_comment'])\n",
    "y = final_data['label']"
   ]
  },
  {
   "source": [
    "### 25. Thực hiện over-sampling"
   ],
   "cell_type": "markdown",
   "metadata": {}
  },
  {
   "cell_type": "code",
   "execution_count": 15,
   "metadata": {},
   "outputs": [],
   "source": [
    "ros = RandomOverSampler()\n",
    "X_ros, y_ros = ros.fit_resample(X, y)"
   ]
  },
  {
   "cell_type": "code",
   "execution_count": 16,
   "metadata": {},
   "outputs": [
    {
     "output_type": "execute_result",
     "data": {
      "text/plain": [
       "Counter({1: 18754, 0: 18754, -1: 18754})"
      ]
     },
     "metadata": {},
     "execution_count": 16
    }
   ],
   "source": [
    "Counter(y_ros)"
   ]
  },
  {
   "source": [
    "### 26. Train test split"
   ],
   "cell_type": "markdown",
   "metadata": {}
  },
  {
   "source": [
    "X_train, X_test, y_train, y_test = train_test_split(X_ros, y_ros, test_size=0.2, random_state=100, shuffle=True)"
   ],
   "cell_type": "code",
   "metadata": {},
   "execution_count": 17,
   "outputs": []
  },
  {
   "source": [
    "### 27. Lưu lại `final_data`, `tf_idf`, `X_train`, `X_test`, `y_train`, `y_test`"
   ],
   "cell_type": "markdown",
   "metadata": {}
  },
  {
   "cell_type": "code",
   "execution_count": 18,
   "metadata": {},
   "outputs": [],
   "source": [
    "final_data.to_csv(\"./data/final_data.csv\", index=False)"
   ]
  },
  {
   "cell_type": "code",
   "execution_count": 19,
   "metadata": {},
   "outputs": [],
   "source": [
    "pickle.dump(tf_idf, open(\"./data/tf_idf.pickle\", \"wb\"))\n",
    "pickle.dump(X_train, open(\"./data/X_train.pickle\", \"wb\"))\n",
    "pickle.dump(X_test, open(\"./data/X_test.pickle\", \"wb\"))\n",
    "pickle.dump(y_train, open(\"./data/y_train.pickle\", \"wb\"))\n",
    "pickle.dump(y_test, open(\"./data/y_test.pickle\", \"wb\"))"
   ]
  }
 ]
}