{
 "metadata": {
  "language_info": {
   "codemirror_mode": {
    "name": "ipython",
    "version": 3
   },
   "file_extension": ".py",
   "mimetype": "text/x-python",
   "name": "python",
   "nbconvert_exporter": "python",
   "pygments_lexer": "ipython3",
   "version": "3.8.5"
  },
  "orig_nbformat": 2,
  "kernelspec": {
   "name": "python385jvsc74a57bd031f2aee4e71d21fbe5cf8b01ff0e069b9275f58929596ceb00d14d90e3e16cd6",
   "display_name": "Python 3.8.5 64-bit"
  },
  "metadata": {
   "interpreter": {
    "hash": "31f2aee4e71d21fbe5cf8b01ff0e069b9275f58929596ceb00d14d90e3e16cd6"
   }
  }
 },
 "nbformat": 4,
 "nbformat_minor": 2,
 "cells": [
  {
   "source": [
    "# 1. Tiến hành đọc hết tất cả các review của các sản phẩm vào một dataframe duy nhất"
   ],
   "cell_type": "markdown",
   "metadata": {}
  },
  {
   "cell_type": "code",
   "execution_count": 1,
   "metadata": {},
   "outputs": [],
   "source": [
    "%load_ext autoreload\n",
    "%autoreload 2"
   ]
  },
  {
   "cell_type": "code",
   "execution_count": 2,
   "metadata": {},
   "outputs": [],
   "source": [
    "import pandas as pd\n",
    "import modules.utils as Utils"
   ]
  },
  {
   "cell_type": "code",
   "execution_count": 3,
   "metadata": {
    "tags": []
   },
   "outputs": [],
   "source": [
    "urls = [\n",
    "    \"../00. Data Scraping/data/shopee_reviews/men/\",\n",
    "    \"../00. Data Scraping/data/shopee_reviews/women/\",\n",
    "    \"../00. Data Scraping/data/shopee_reviews/more/\",\n",
    "    \"../00. Data Scraping/data/shopee_reviews/mor/\"\n",
    "]"
   ]
  },
  {
   "cell_type": "code",
   "execution_count": 4,
   "metadata": {},
   "outputs": [],
   "source": [
    "raw_data = pd.DataFrame(columns=['comment', 'rating'])"
   ]
  },
  {
   "cell_type": "code",
   "execution_count": 5,
   "metadata": {},
   "outputs": [],
   "source": [
    "for url in urls:\n",
    "    products = Utils.getFiles(url)\n",
    "    for product in products:\n",
    "        df = pd.read_csv(url + product)\n",
    "        raw_data = pd.concat([raw_data, df], axis=0).reset_index(drop=True)"
   ]
  },
  {
   "cell_type": "code",
   "execution_count": 6,
   "metadata": {},
   "outputs": [
    {
     "output_type": "execute_result",
     "data": {
      "text/plain": [
       "                                                  comment rating\n",
       "0       Lần đầu mua tại shop nhưng rất ưng ý, vải mặc ...      5\n",
       "1       Giao hàng nhanh, shop xịn xò đặt hàng xong là ...      5\n",
       "2       Size vừa vặn luôn, shop mall mà hàng chất lượn...      5\n",
       "3       Sản phẩm chất lượng.đóng gói kĩ.shop nhiệt tìn...      5\n",
       "4       Chất lượng sản phẩm tuyệt vời giao hàng nhanh ...      5\n",
       "...                                                   ...    ...\n",
       "278154  Đẹp lắm lun mọi ngừ ơi . Hdhhechhjhshxhdhhxhxh...      5\n",
       "278155                                                Dởm      5\n",
       "278156  Mua 12 món giao đủ. Vừa rẻ vừa chất lượng rất ...      5\n",
       "278157                                        Hàng đẹp ạ😍      5\n",
       "278158  Dây buộc siêu dễ thương nha mn, còn được tặng ...      5\n",
       "\n",
       "[278159 rows x 2 columns]"
      ],
      "text/html": "<div>\n<style scoped>\n    .dataframe tbody tr th:only-of-type {\n        vertical-align: middle;\n    }\n\n    .dataframe tbody tr th {\n        vertical-align: top;\n    }\n\n    .dataframe thead th {\n        text-align: right;\n    }\n</style>\n<table border=\"1\" class=\"dataframe\">\n  <thead>\n    <tr style=\"text-align: right;\">\n      <th></th>\n      <th>comment</th>\n      <th>rating</th>\n    </tr>\n  </thead>\n  <tbody>\n    <tr>\n      <th>0</th>\n      <td>Lần đầu mua tại shop nhưng rất ưng ý, vải mặc ...</td>\n      <td>5</td>\n    </tr>\n    <tr>\n      <th>1</th>\n      <td>Giao hàng nhanh, shop xịn xò đặt hàng xong là ...</td>\n      <td>5</td>\n    </tr>\n    <tr>\n      <th>2</th>\n      <td>Size vừa vặn luôn, shop mall mà hàng chất lượn...</td>\n      <td>5</td>\n    </tr>\n    <tr>\n      <th>3</th>\n      <td>Sản phẩm chất lượng.đóng gói kĩ.shop nhiệt tìn...</td>\n      <td>5</td>\n    </tr>\n    <tr>\n      <th>4</th>\n      <td>Chất lượng sản phẩm tuyệt vời giao hàng nhanh ...</td>\n      <td>5</td>\n    </tr>\n    <tr>\n      <th>...</th>\n      <td>...</td>\n      <td>...</td>\n    </tr>\n    <tr>\n      <th>278154</th>\n      <td>Đẹp lắm lun mọi ngừ ơi . Hdhhechhjhshxhdhhxhxh...</td>\n      <td>5</td>\n    </tr>\n    <tr>\n      <th>278155</th>\n      <td>Dởm</td>\n      <td>5</td>\n    </tr>\n    <tr>\n      <th>278156</th>\n      <td>Mua 12 món giao đủ. Vừa rẻ vừa chất lượng rất ...</td>\n      <td>5</td>\n    </tr>\n    <tr>\n      <th>278157</th>\n      <td>Hàng đẹp ạ😍</td>\n      <td>5</td>\n    </tr>\n    <tr>\n      <th>278158</th>\n      <td>Dây buộc siêu dễ thương nha mn, còn được tặng ...</td>\n      <td>5</td>\n    </tr>\n  </tbody>\n</table>\n<p>278159 rows × 2 columns</p>\n</div>"
     },
     "metadata": {},
     "execution_count": 6
    }
   ],
   "source": [
    "raw_data"
   ]
  },
  {
   "source": [
    "> **Nhận xét**\n",
    "> * Có tổng cộng 278159 reviews"
   ],
   "cell_type": "markdown",
   "metadata": {}
  },
  {
   "source": [
    "🚩 Ghi ra file csv"
   ],
   "cell_type": "markdown",
   "metadata": {}
  },
  {
   "cell_type": "code",
   "execution_count": 7,
   "metadata": {},
   "outputs": [],
   "source": [
    "raw_data.to_csv(\"./data/raw_data.csv\", index=False)"
   ]
  },
  {
   "source": [
    "<hr>"
   ],
   "cell_type": "markdown",
   "metadata": {}
  },
  {
   "source": [
    "# 2. Tìm hiểu dữ liệu"
   ],
   "cell_type": "markdown",
   "metadata": {}
  },
  {
   "source": [
    "🚩 Đánh nhãn cho dữ liệu, nếu rating của khách hàng là:\n",
    "* $\\leq 2$: Tiêu cực\n",
    "* $\\in [3, 4]$: Bình thường\n",
    "* $= 5$: Tích cực"
   ],
   "cell_type": "markdown",
   "metadata": {}
  },
  {
   "cell_type": "code",
   "execution_count": 8,
   "metadata": {},
   "outputs": [
    {
     "output_type": "stream",
     "name": "stdout",
     "text": [
      "The autoreload extension is already loaded. To reload it, use:\n  %reload_ext autoreload\n"
     ]
    }
   ],
   "source": [
    "%load_ext autoreload\n",
    "%autoreload 2"
   ]
  },
  {
   "cell_type": "code",
   "execution_count": 9,
   "metadata": {},
   "outputs": [],
   "source": [
    "import pandas as pd"
   ]
  },
  {
   "cell_type": "code",
   "execution_count": 10,
   "metadata": {},
   "outputs": [],
   "source": [
    "def rating(pScore):\n",
    "    if pScore <= 2:\n",
    "        return -1\n",
    "    \n",
    "    if pScore <= 4:\n",
    "        return 0\n",
    "    \n",
    "    return 1"
   ]
  },
  {
   "cell_type": "code",
   "execution_count": 11,
   "metadata": {},
   "outputs": [],
   "source": [
    "raw_data = pd.read_csv(\"./data/raw_data.csv\")"
   ]
  },
  {
   "cell_type": "code",
   "execution_count": 12,
   "metadata": {},
   "outputs": [],
   "source": [
    "raw_data['label'] = raw_data['rating'].apply(lambda score: rating(score))"
   ]
  },
  {
   "cell_type": "code",
   "execution_count": 13,
   "metadata": {},
   "outputs": [
    {
     "output_type": "execute_result",
     "data": {
      "text/plain": [
       "                                                  comment  rating  label\n",
       "0       Lần đầu mua tại shop nhưng rất ưng ý, vải mặc ...       5      1\n",
       "1       Giao hàng nhanh, shop xịn xò đặt hàng xong là ...       5      1\n",
       "2       Size vừa vặn luôn, shop mall mà hàng chất lượn...       5      1\n",
       "3       Sản phẩm chất lượng.đóng gói kĩ.shop nhiệt tìn...       5      1\n",
       "4       Chất lượng sản phẩm tuyệt vời giao hàng nhanh ...       5      1\n",
       "...                                                   ...     ...    ...\n",
       "278154  Đẹp lắm lun mọi ngừ ơi . Hdhhechhjhshxhdhhxhxh...       5      1\n",
       "278155                                                Dởm       5      1\n",
       "278156  Mua 12 món giao đủ. Vừa rẻ vừa chất lượng rất ...       5      1\n",
       "278157                                        Hàng đẹp ạ😍       5      1\n",
       "278158  Dây buộc siêu dễ thương nha mn, còn được tặng ...       5      1\n",
       "\n",
       "[278159 rows x 3 columns]"
      ],
      "text/html": "<div>\n<style scoped>\n    .dataframe tbody tr th:only-of-type {\n        vertical-align: middle;\n    }\n\n    .dataframe tbody tr th {\n        vertical-align: top;\n    }\n\n    .dataframe thead th {\n        text-align: right;\n    }\n</style>\n<table border=\"1\" class=\"dataframe\">\n  <thead>\n    <tr style=\"text-align: right;\">\n      <th></th>\n      <th>comment</th>\n      <th>rating</th>\n      <th>label</th>\n    </tr>\n  </thead>\n  <tbody>\n    <tr>\n      <th>0</th>\n      <td>Lần đầu mua tại shop nhưng rất ưng ý, vải mặc ...</td>\n      <td>5</td>\n      <td>1</td>\n    </tr>\n    <tr>\n      <th>1</th>\n      <td>Giao hàng nhanh, shop xịn xò đặt hàng xong là ...</td>\n      <td>5</td>\n      <td>1</td>\n    </tr>\n    <tr>\n      <th>2</th>\n      <td>Size vừa vặn luôn, shop mall mà hàng chất lượn...</td>\n      <td>5</td>\n      <td>1</td>\n    </tr>\n    <tr>\n      <th>3</th>\n      <td>Sản phẩm chất lượng.đóng gói kĩ.shop nhiệt tìn...</td>\n      <td>5</td>\n      <td>1</td>\n    </tr>\n    <tr>\n      <th>4</th>\n      <td>Chất lượng sản phẩm tuyệt vời giao hàng nhanh ...</td>\n      <td>5</td>\n      <td>1</td>\n    </tr>\n    <tr>\n      <th>...</th>\n      <td>...</td>\n      <td>...</td>\n      <td>...</td>\n    </tr>\n    <tr>\n      <th>278154</th>\n      <td>Đẹp lắm lun mọi ngừ ơi . Hdhhechhjhshxhdhhxhxh...</td>\n      <td>5</td>\n      <td>1</td>\n    </tr>\n    <tr>\n      <th>278155</th>\n      <td>Dởm</td>\n      <td>5</td>\n      <td>1</td>\n    </tr>\n    <tr>\n      <th>278156</th>\n      <td>Mua 12 món giao đủ. Vừa rẻ vừa chất lượng rất ...</td>\n      <td>5</td>\n      <td>1</td>\n    </tr>\n    <tr>\n      <th>278157</th>\n      <td>Hàng đẹp ạ😍</td>\n      <td>5</td>\n      <td>1</td>\n    </tr>\n    <tr>\n      <th>278158</th>\n      <td>Dây buộc siêu dễ thương nha mn, còn được tặng ...</td>\n      <td>5</td>\n      <td>1</td>\n    </tr>\n  </tbody>\n</table>\n<p>278159 rows × 3 columns</p>\n</div>"
     },
     "metadata": {},
     "execution_count": 13
    }
   ],
   "source": [
    "raw_data"
   ]
  },
  {
   "source": [],
   "cell_type": "markdown",
   "metadata": {}
  },
  {
   "source": [
    "🚩 Đếm nhóm theo `label` và đếm xem có bao nhiêu phần từ thuộc nhóm đó"
   ],
   "cell_type": "markdown",
   "metadata": {}
  },
  {
   "cell_type": "code",
   "execution_count": 14,
   "metadata": {},
   "outputs": [
    {
     "output_type": "execute_result",
     "data": {
      "text/plain": [
       "       comment  rating\n",
       "label                 \n",
       "-1        3764    3764\n",
       " 0       13840   13840\n",
       " 1      260555  260555"
      ],
      "text/html": "<div>\n<style scoped>\n    .dataframe tbody tr th:only-of-type {\n        vertical-align: middle;\n    }\n\n    .dataframe tbody tr th {\n        vertical-align: top;\n    }\n\n    .dataframe thead th {\n        text-align: right;\n    }\n</style>\n<table border=\"1\" class=\"dataframe\">\n  <thead>\n    <tr style=\"text-align: right;\">\n      <th></th>\n      <th>comment</th>\n      <th>rating</th>\n    </tr>\n    <tr>\n      <th>label</th>\n      <th></th>\n      <th></th>\n    </tr>\n  </thead>\n  <tbody>\n    <tr>\n      <th>-1</th>\n      <td>3764</td>\n      <td>3764</td>\n    </tr>\n    <tr>\n      <th>0</th>\n      <td>13840</td>\n      <td>13840</td>\n    </tr>\n    <tr>\n      <th>1</th>\n      <td>260555</td>\n      <td>260555</td>\n    </tr>\n  </tbody>\n</table>\n</div>"
     },
     "metadata": {},
     "execution_count": 14
    }
   ],
   "source": [
    "raw_data.groupby('label').agg('count')"
   ]
  },
  {
   "source": [
    "> **Nhận xét:**\n",
    "> * Có sự chênh lệch lớn giữa các mẫu"
   ],
   "cell_type": "markdown",
   "metadata": {}
  },
  {
   "source": [
    "🚩 Lưu data"
   ],
   "cell_type": "markdown",
   "metadata": {}
  },
  {
   "cell_type": "code",
   "execution_count": 15,
   "metadata": {},
   "outputs": [],
   "source": [
    "raw_data.to_csv(\"./data/labeled_data.csv\", index=False)"
   ]
  },
  {
   "source": [
    "# 3. Tiền xử lí dữ liệu"
   ],
   "cell_type": "markdown",
   "metadata": {}
  },
  {
   "source": [
    "* Các bước cần quan tâm:\n",
    "  * Extract emoji\n",
    "  * Chuẩn hết về chữ thường\n",
    "  * Remove các mẫu chứa các URL (khả năng cao là quảng cáo)\n",
    "  * Loại bỏ dấu câu và các kí tự đặc biệt.\n",
    "  * Xử lí các trường hợp từ láy láy âm tiết (ví dụ: ngonnnnn quáááááááááááá điiiiiiiiiii)\n",
    "  * Chuẩn hóa các từ viết tắt.\n",
    "  * Tác từ (underthesea hoặc VnCoreNLP)"
   ],
   "cell_type": "markdown",
   "metadata": {}
  },
  {
   "cell_type": "code",
   "execution_count": 16,
   "metadata": {},
   "outputs": [
    {
     "output_type": "stream",
     "name": "stdout",
     "text": [
      "The autoreload extension is already loaded. To reload it, use:\n  %reload_ext autoreload\n"
     ]
    }
   ],
   "source": [
    "%load_ext autoreload\n",
    "%autoreload 2"
   ]
  },
  {
   "cell_type": "code",
   "execution_count": 17,
   "metadata": {},
   "outputs": [],
   "source": [
    "import pandas as pd\n",
    "import modules.utils as Utils\n",
    "import pickle"
   ]
  },
  {
   "cell_type": "code",
   "execution_count": 18,
   "metadata": {},
   "outputs": [],
   "source": [
    "data = pd.read_csv(\"./data/labeled_data.csv\")"
   ]
  },
  {
   "source": [
    "🚩 Extract emoji"
   ],
   "cell_type": "markdown",
   "metadata": {}
  },
  {
   "cell_type": "code",
   "execution_count": 19,
   "metadata": {},
   "outputs": [],
   "source": [
    "data['emoji'] = data['comment'].apply(lambda comment: Utils.extract_emoji(comment))"
   ]
  },
  {
   "cell_type": "code",
   "execution_count": 20,
   "metadata": {},
   "outputs": [
    {
     "output_type": "execute_result",
     "data": {
      "text/plain": [
       "                                                  comment  rating  label emoji\n",
       "0       Lần đầu mua tại shop nhưng rất ưng ý, vải mặc ...       5      1    []\n",
       "1       Giao hàng nhanh, shop xịn xò đặt hàng xong là ...       5      1    []\n",
       "2       Size vừa vặn luôn, shop mall mà hàng chất lượn...       5      1    []\n",
       "3       Sản phẩm chất lượng.đóng gói kĩ.shop nhiệt tìn...       5      1    []\n",
       "4       Chất lượng sản phẩm tuyệt vời giao hàng nhanh ...       5      1    []\n",
       "...                                                   ...     ...    ...   ...\n",
       "278154  Đẹp lắm lun mọi ngừ ơi . Hdhhechhjhshxhdhhxhxh...       5      1    []\n",
       "278155                                                Dởm       5      1    []\n",
       "278156  Mua 12 món giao đủ. Vừa rẻ vừa chất lượng rất ...       5      1    []\n",
       "278157                                        Hàng đẹp ạ😍       5      1   [😍]\n",
       "278158  Dây buộc siêu dễ thương nha mn, còn được tặng ...       5      1   [🥰]\n",
       "\n",
       "[278159 rows x 4 columns]"
      ],
      "text/html": "<div>\n<style scoped>\n    .dataframe tbody tr th:only-of-type {\n        vertical-align: middle;\n    }\n\n    .dataframe tbody tr th {\n        vertical-align: top;\n    }\n\n    .dataframe thead th {\n        text-align: right;\n    }\n</style>\n<table border=\"1\" class=\"dataframe\">\n  <thead>\n    <tr style=\"text-align: right;\">\n      <th></th>\n      <th>comment</th>\n      <th>rating</th>\n      <th>label</th>\n      <th>emoji</th>\n    </tr>\n  </thead>\n  <tbody>\n    <tr>\n      <th>0</th>\n      <td>Lần đầu mua tại shop nhưng rất ưng ý, vải mặc ...</td>\n      <td>5</td>\n      <td>1</td>\n      <td>[]</td>\n    </tr>\n    <tr>\n      <th>1</th>\n      <td>Giao hàng nhanh, shop xịn xò đặt hàng xong là ...</td>\n      <td>5</td>\n      <td>1</td>\n      <td>[]</td>\n    </tr>\n    <tr>\n      <th>2</th>\n      <td>Size vừa vặn luôn, shop mall mà hàng chất lượn...</td>\n      <td>5</td>\n      <td>1</td>\n      <td>[]</td>\n    </tr>\n    <tr>\n      <th>3</th>\n      <td>Sản phẩm chất lượng.đóng gói kĩ.shop nhiệt tìn...</td>\n      <td>5</td>\n      <td>1</td>\n      <td>[]</td>\n    </tr>\n    <tr>\n      <th>4</th>\n      <td>Chất lượng sản phẩm tuyệt vời giao hàng nhanh ...</td>\n      <td>5</td>\n      <td>1</td>\n      <td>[]</td>\n    </tr>\n    <tr>\n      <th>...</th>\n      <td>...</td>\n      <td>...</td>\n      <td>...</td>\n      <td>...</td>\n    </tr>\n    <tr>\n      <th>278154</th>\n      <td>Đẹp lắm lun mọi ngừ ơi . Hdhhechhjhshxhdhhxhxh...</td>\n      <td>5</td>\n      <td>1</td>\n      <td>[]</td>\n    </tr>\n    <tr>\n      <th>278155</th>\n      <td>Dởm</td>\n      <td>5</td>\n      <td>1</td>\n      <td>[]</td>\n    </tr>\n    <tr>\n      <th>278156</th>\n      <td>Mua 12 món giao đủ. Vừa rẻ vừa chất lượng rất ...</td>\n      <td>5</td>\n      <td>1</td>\n      <td>[]</td>\n    </tr>\n    <tr>\n      <th>278157</th>\n      <td>Hàng đẹp ạ😍</td>\n      <td>5</td>\n      <td>1</td>\n      <td>[😍]</td>\n    </tr>\n    <tr>\n      <th>278158</th>\n      <td>Dây buộc siêu dễ thương nha mn, còn được tặng ...</td>\n      <td>5</td>\n      <td>1</td>\n      <td>[🥰]</td>\n    </tr>\n  </tbody>\n</table>\n<p>278159 rows × 4 columns</p>\n</div>"
     },
     "metadata": {},
     "execution_count": 20
    }
   ],
   "source": [
    "data"
   ]
  },
  {
   "source": [
    "🚩 Chuẩn hóa `comment` về chữ thường"
   ],
   "cell_type": "markdown",
   "metadata": {}
  },
  {
   "cell_type": "code",
   "execution_count": 21,
   "metadata": {},
   "outputs": [],
   "source": [
    "data['lowercase_comment'] = data['comment'].apply(lambda comment: comment.lower())"
   ]
  },
  {
   "cell_type": "code",
   "execution_count": 22,
   "metadata": {},
   "outputs": [
    {
     "output_type": "execute_result",
     "data": {
      "text/plain": [
       "                                                  comment  rating  label  \\\n",
       "0       Lần đầu mua tại shop nhưng rất ưng ý, vải mặc ...       5      1   \n",
       "1       Giao hàng nhanh, shop xịn xò đặt hàng xong là ...       5      1   \n",
       "2       Size vừa vặn luôn, shop mall mà hàng chất lượn...       5      1   \n",
       "3       Sản phẩm chất lượng.đóng gói kĩ.shop nhiệt tìn...       5      1   \n",
       "4       Chất lượng sản phẩm tuyệt vời giao hàng nhanh ...       5      1   \n",
       "...                                                   ...     ...    ...   \n",
       "278154  Đẹp lắm lun mọi ngừ ơi . Hdhhechhjhshxhdhhxhxh...       5      1   \n",
       "278155                                                Dởm       5      1   \n",
       "278156  Mua 12 món giao đủ. Vừa rẻ vừa chất lượng rất ...       5      1   \n",
       "278157                                        Hàng đẹp ạ😍       5      1   \n",
       "278158  Dây buộc siêu dễ thương nha mn, còn được tặng ...       5      1   \n",
       "\n",
       "       emoji                                  lowercase_comment  \n",
       "0         []  lần đầu mua tại shop nhưng rất ưng ý, vải mặc ...  \n",
       "1         []  giao hàng nhanh, shop xịn xò đặt hàng xong là ...  \n",
       "2         []  size vừa vặn luôn, shop mall mà hàng chất lượn...  \n",
       "3         []  sản phẩm chất lượng.đóng gói kĩ.shop nhiệt tìn...  \n",
       "4         []  chất lượng sản phẩm tuyệt vời giao hàng nhanh ...  \n",
       "...      ...                                                ...  \n",
       "278154    []  đẹp lắm lun mọi ngừ ơi . hdhhechhjhshxhdhhxhxh...  \n",
       "278155    []                                                dởm  \n",
       "278156    []  mua 12 món giao đủ. vừa rẻ vừa chất lượng rất ...  \n",
       "278157   [😍]                                        hàng đẹp ạ😍  \n",
       "278158   [🥰]  dây buộc siêu dễ thương nha mn, còn được tặng ...  \n",
       "\n",
       "[278159 rows x 5 columns]"
      ],
      "text/html": "<div>\n<style scoped>\n    .dataframe tbody tr th:only-of-type {\n        vertical-align: middle;\n    }\n\n    .dataframe tbody tr th {\n        vertical-align: top;\n    }\n\n    .dataframe thead th {\n        text-align: right;\n    }\n</style>\n<table border=\"1\" class=\"dataframe\">\n  <thead>\n    <tr style=\"text-align: right;\">\n      <th></th>\n      <th>comment</th>\n      <th>rating</th>\n      <th>label</th>\n      <th>emoji</th>\n      <th>lowercase_comment</th>\n    </tr>\n  </thead>\n  <tbody>\n    <tr>\n      <th>0</th>\n      <td>Lần đầu mua tại shop nhưng rất ưng ý, vải mặc ...</td>\n      <td>5</td>\n      <td>1</td>\n      <td>[]</td>\n      <td>lần đầu mua tại shop nhưng rất ưng ý, vải mặc ...</td>\n    </tr>\n    <tr>\n      <th>1</th>\n      <td>Giao hàng nhanh, shop xịn xò đặt hàng xong là ...</td>\n      <td>5</td>\n      <td>1</td>\n      <td>[]</td>\n      <td>giao hàng nhanh, shop xịn xò đặt hàng xong là ...</td>\n    </tr>\n    <tr>\n      <th>2</th>\n      <td>Size vừa vặn luôn, shop mall mà hàng chất lượn...</td>\n      <td>5</td>\n      <td>1</td>\n      <td>[]</td>\n      <td>size vừa vặn luôn, shop mall mà hàng chất lượn...</td>\n    </tr>\n    <tr>\n      <th>3</th>\n      <td>Sản phẩm chất lượng.đóng gói kĩ.shop nhiệt tìn...</td>\n      <td>5</td>\n      <td>1</td>\n      <td>[]</td>\n      <td>sản phẩm chất lượng.đóng gói kĩ.shop nhiệt tìn...</td>\n    </tr>\n    <tr>\n      <th>4</th>\n      <td>Chất lượng sản phẩm tuyệt vời giao hàng nhanh ...</td>\n      <td>5</td>\n      <td>1</td>\n      <td>[]</td>\n      <td>chất lượng sản phẩm tuyệt vời giao hàng nhanh ...</td>\n    </tr>\n    <tr>\n      <th>...</th>\n      <td>...</td>\n      <td>...</td>\n      <td>...</td>\n      <td>...</td>\n      <td>...</td>\n    </tr>\n    <tr>\n      <th>278154</th>\n      <td>Đẹp lắm lun mọi ngừ ơi . Hdhhechhjhshxhdhhxhxh...</td>\n      <td>5</td>\n      <td>1</td>\n      <td>[]</td>\n      <td>đẹp lắm lun mọi ngừ ơi . hdhhechhjhshxhdhhxhxh...</td>\n    </tr>\n    <tr>\n      <th>278155</th>\n      <td>Dởm</td>\n      <td>5</td>\n      <td>1</td>\n      <td>[]</td>\n      <td>dởm</td>\n    </tr>\n    <tr>\n      <th>278156</th>\n      <td>Mua 12 món giao đủ. Vừa rẻ vừa chất lượng rất ...</td>\n      <td>5</td>\n      <td>1</td>\n      <td>[]</td>\n      <td>mua 12 món giao đủ. vừa rẻ vừa chất lượng rất ...</td>\n    </tr>\n    <tr>\n      <th>278157</th>\n      <td>Hàng đẹp ạ😍</td>\n      <td>5</td>\n      <td>1</td>\n      <td>[😍]</td>\n      <td>hàng đẹp ạ😍</td>\n    </tr>\n    <tr>\n      <th>278158</th>\n      <td>Dây buộc siêu dễ thương nha mn, còn được tặng ...</td>\n      <td>5</td>\n      <td>1</td>\n      <td>[🥰]</td>\n      <td>dây buộc siêu dễ thương nha mn, còn được tặng ...</td>\n    </tr>\n  </tbody>\n</table>\n<p>278159 rows × 5 columns</p>\n</div>"
     },
     "metadata": {},
     "execution_count": 22
    }
   ],
   "source": [
    "data"
   ]
  },
  {
   "source": [
    "🚩 Đánh dấu các mẫu chứa các URL (khả năng cao là quảng cáo)"
   ],
   "cell_type": "markdown",
   "metadata": {}
  },
  {
   "cell_type": "code",
   "execution_count": 23,
   "metadata": {},
   "outputs": [],
   "source": [
    "data['contain_url'] = data['lowercase_comment'].apply(lambda comment: 1 if Utils.containsURL(comment) == True else 0)"
   ]
  },
  {
   "cell_type": "code",
   "execution_count": 24,
   "metadata": {},
   "outputs": [
    {
     "output_type": "execute_result",
     "data": {
      "text/plain": [
       "                                                  comment  rating  label  \\\n",
       "0       Lần đầu mua tại shop nhưng rất ưng ý, vải mặc ...       5      1   \n",
       "1       Giao hàng nhanh, shop xịn xò đặt hàng xong là ...       5      1   \n",
       "2       Size vừa vặn luôn, shop mall mà hàng chất lượn...       5      1   \n",
       "3       Sản phẩm chất lượng.đóng gói kĩ.shop nhiệt tìn...       5      1   \n",
       "4       Chất lượng sản phẩm tuyệt vời giao hàng nhanh ...       5      1   \n",
       "...                                                   ...     ...    ...   \n",
       "278154  Đẹp lắm lun mọi ngừ ơi . Hdhhechhjhshxhdhhxhxh...       5      1   \n",
       "278155                                                Dởm       5      1   \n",
       "278156  Mua 12 món giao đủ. Vừa rẻ vừa chất lượng rất ...       5      1   \n",
       "278157                                        Hàng đẹp ạ😍       5      1   \n",
       "278158  Dây buộc siêu dễ thương nha mn, còn được tặng ...       5      1   \n",
       "\n",
       "       emoji                                  lowercase_comment  contain_url  \n",
       "0         []  lần đầu mua tại shop nhưng rất ưng ý, vải mặc ...            0  \n",
       "1         []  giao hàng nhanh, shop xịn xò đặt hàng xong là ...            0  \n",
       "2         []  size vừa vặn luôn, shop mall mà hàng chất lượn...            0  \n",
       "3         []  sản phẩm chất lượng.đóng gói kĩ.shop nhiệt tìn...            0  \n",
       "4         []  chất lượng sản phẩm tuyệt vời giao hàng nhanh ...            0  \n",
       "...      ...                                                ...          ...  \n",
       "278154    []  đẹp lắm lun mọi ngừ ơi . hdhhechhjhshxhdhhxhxh...            0  \n",
       "278155    []                                                dởm            0  \n",
       "278156    []  mua 12 món giao đủ. vừa rẻ vừa chất lượng rất ...            0  \n",
       "278157   [😍]                                        hàng đẹp ạ😍            0  \n",
       "278158   [🥰]  dây buộc siêu dễ thương nha mn, còn được tặng ...            0  \n",
       "\n",
       "[278159 rows x 6 columns]"
      ],
      "text/html": "<div>\n<style scoped>\n    .dataframe tbody tr th:only-of-type {\n        vertical-align: middle;\n    }\n\n    .dataframe tbody tr th {\n        vertical-align: top;\n    }\n\n    .dataframe thead th {\n        text-align: right;\n    }\n</style>\n<table border=\"1\" class=\"dataframe\">\n  <thead>\n    <tr style=\"text-align: right;\">\n      <th></th>\n      <th>comment</th>\n      <th>rating</th>\n      <th>label</th>\n      <th>emoji</th>\n      <th>lowercase_comment</th>\n      <th>contain_url</th>\n    </tr>\n  </thead>\n  <tbody>\n    <tr>\n      <th>0</th>\n      <td>Lần đầu mua tại shop nhưng rất ưng ý, vải mặc ...</td>\n      <td>5</td>\n      <td>1</td>\n      <td>[]</td>\n      <td>lần đầu mua tại shop nhưng rất ưng ý, vải mặc ...</td>\n      <td>0</td>\n    </tr>\n    <tr>\n      <th>1</th>\n      <td>Giao hàng nhanh, shop xịn xò đặt hàng xong là ...</td>\n      <td>5</td>\n      <td>1</td>\n      <td>[]</td>\n      <td>giao hàng nhanh, shop xịn xò đặt hàng xong là ...</td>\n      <td>0</td>\n    </tr>\n    <tr>\n      <th>2</th>\n      <td>Size vừa vặn luôn, shop mall mà hàng chất lượn...</td>\n      <td>5</td>\n      <td>1</td>\n      <td>[]</td>\n      <td>size vừa vặn luôn, shop mall mà hàng chất lượn...</td>\n      <td>0</td>\n    </tr>\n    <tr>\n      <th>3</th>\n      <td>Sản phẩm chất lượng.đóng gói kĩ.shop nhiệt tìn...</td>\n      <td>5</td>\n      <td>1</td>\n      <td>[]</td>\n      <td>sản phẩm chất lượng.đóng gói kĩ.shop nhiệt tìn...</td>\n      <td>0</td>\n    </tr>\n    <tr>\n      <th>4</th>\n      <td>Chất lượng sản phẩm tuyệt vời giao hàng nhanh ...</td>\n      <td>5</td>\n      <td>1</td>\n      <td>[]</td>\n      <td>chất lượng sản phẩm tuyệt vời giao hàng nhanh ...</td>\n      <td>0</td>\n    </tr>\n    <tr>\n      <th>...</th>\n      <td>...</td>\n      <td>...</td>\n      <td>...</td>\n      <td>...</td>\n      <td>...</td>\n      <td>...</td>\n    </tr>\n    <tr>\n      <th>278154</th>\n      <td>Đẹp lắm lun mọi ngừ ơi . Hdhhechhjhshxhdhhxhxh...</td>\n      <td>5</td>\n      <td>1</td>\n      <td>[]</td>\n      <td>đẹp lắm lun mọi ngừ ơi . hdhhechhjhshxhdhhxhxh...</td>\n      <td>0</td>\n    </tr>\n    <tr>\n      <th>278155</th>\n      <td>Dởm</td>\n      <td>5</td>\n      <td>1</td>\n      <td>[]</td>\n      <td>dởm</td>\n      <td>0</td>\n    </tr>\n    <tr>\n      <th>278156</th>\n      <td>Mua 12 món giao đủ. Vừa rẻ vừa chất lượng rất ...</td>\n      <td>5</td>\n      <td>1</td>\n      <td>[]</td>\n      <td>mua 12 món giao đủ. vừa rẻ vừa chất lượng rất ...</td>\n      <td>0</td>\n    </tr>\n    <tr>\n      <th>278157</th>\n      <td>Hàng đẹp ạ😍</td>\n      <td>5</td>\n      <td>1</td>\n      <td>[😍]</td>\n      <td>hàng đẹp ạ😍</td>\n      <td>0</td>\n    </tr>\n    <tr>\n      <th>278158</th>\n      <td>Dây buộc siêu dễ thương nha mn, còn được tặng ...</td>\n      <td>5</td>\n      <td>1</td>\n      <td>[🥰]</td>\n      <td>dây buộc siêu dễ thương nha mn, còn được tặng ...</td>\n      <td>0</td>\n    </tr>\n  </tbody>\n</table>\n<p>278159 rows × 6 columns</p>\n</div>"
     },
     "metadata": {},
     "execution_count": 24
    }
   ],
   "source": [
    "data"
   ]
  },
  {
   "cell_type": "code",
   "execution_count": 25,
   "metadata": {},
   "outputs": [
    {
     "output_type": "execute_result",
     "data": {
      "text/plain": [
       "                                                  comment  rating  label  \\\n",
       "22      Mình bán Khăn Giấy Ướt CÓ GIẤY KIỂM NGHIỆM 80 ...       5      1   \n",
       "100     (MOBIFONE) MOI LUC MOI NOI, KHONG LO DICH BENH...       5      1   \n",
       "115     [TB] TẶNG 20% GIÁ TRỊ TẤT CẢ THẺ NẠP trong ng...       5      1   \n",
       "163     Quy khach duoc cong them 500 diem Viettel++ bo...       5      1   \n",
       "596     https://facebook.com/103325964856698/posts/273...       5      1   \n",
       "...                                                   ...     ...    ...   \n",
       "276515  https://www.facebook.com/groups/PUBGMobileGrou...       5      1   \n",
       "277197  ☘️☘️☘️☘️☘️\\nxin lỗi đã làm phiền và cảm ơn đã ...       5      1   \n",
       "277389  Siêu dễ thương,bé rất thích. Em bán son lì khô...       5      1   \n",
       "277735  https://www.facebook.com/1525957184368292/post...       5      1   \n",
       "277809  [TB] Tích cực tham gia Cuộc thi trực tuyến \"Tì...       5      1   \n",
       "\n",
       "             emoji                                  lowercase_comment  \\\n",
       "22              []  mình bán khăn giấy ướt có giấy kiểm nghiệm 80 ...   \n",
       "100             []  (mobifone) moi luc moi noi, khong lo dich benh...   \n",
       "115             []  [tb] tặng 20% giá trị tất cả thẻ nạp trong ng...   \n",
       "163             []  quy khach duoc cong them 500 diem viettel++ bo...   \n",
       "596             []  https://facebook.com/103325964856698/posts/273...   \n",
       "...            ...                                                ...   \n",
       "276515          []  https://www.facebook.com/groups/pubgmobilegrou...   \n",
       "277197  [💖, 💕, ☘️]  ☘️☘️☘️☘️☘️\\nxin lỗi đã làm phiền và cảm ơn đã ...   \n",
       "277389          []  siêu dễ thương,bé rất thích. em bán son lì khô...   \n",
       "277735          []  https://www.facebook.com/1525957184368292/post...   \n",
       "277809          []  [tb] tích cực tham gia cuộc thi trực tuyến \"tì...   \n",
       "\n",
       "        contain_url  \n",
       "22                1  \n",
       "100               1  \n",
       "115               1  \n",
       "163               1  \n",
       "596               1  \n",
       "...             ...  \n",
       "276515            1  \n",
       "277197            1  \n",
       "277389            1  \n",
       "277735            1  \n",
       "277809            1  \n",
       "\n",
       "[570 rows x 6 columns]"
      ],
      "text/html": "<div>\n<style scoped>\n    .dataframe tbody tr th:only-of-type {\n        vertical-align: middle;\n    }\n\n    .dataframe tbody tr th {\n        vertical-align: top;\n    }\n\n    .dataframe thead th {\n        text-align: right;\n    }\n</style>\n<table border=\"1\" class=\"dataframe\">\n  <thead>\n    <tr style=\"text-align: right;\">\n      <th></th>\n      <th>comment</th>\n      <th>rating</th>\n      <th>label</th>\n      <th>emoji</th>\n      <th>lowercase_comment</th>\n      <th>contain_url</th>\n    </tr>\n  </thead>\n  <tbody>\n    <tr>\n      <th>22</th>\n      <td>Mình bán Khăn Giấy Ướt CÓ GIẤY KIỂM NGHIỆM 80 ...</td>\n      <td>5</td>\n      <td>1</td>\n      <td>[]</td>\n      <td>mình bán khăn giấy ướt có giấy kiểm nghiệm 80 ...</td>\n      <td>1</td>\n    </tr>\n    <tr>\n      <th>100</th>\n      <td>(MOBIFONE) MOI LUC MOI NOI, KHONG LO DICH BENH...</td>\n      <td>5</td>\n      <td>1</td>\n      <td>[]</td>\n      <td>(mobifone) moi luc moi noi, khong lo dich benh...</td>\n      <td>1</td>\n    </tr>\n    <tr>\n      <th>115</th>\n      <td>[TB] TẶNG 20% GIÁ TRỊ TẤT CẢ THẺ NẠP trong ng...</td>\n      <td>5</td>\n      <td>1</td>\n      <td>[]</td>\n      <td>[tb] tặng 20% giá trị tất cả thẻ nạp trong ng...</td>\n      <td>1</td>\n    </tr>\n    <tr>\n      <th>163</th>\n      <td>Quy khach duoc cong them 500 diem Viettel++ bo...</td>\n      <td>5</td>\n      <td>1</td>\n      <td>[]</td>\n      <td>quy khach duoc cong them 500 diem viettel++ bo...</td>\n      <td>1</td>\n    </tr>\n    <tr>\n      <th>596</th>\n      <td>https://facebook.com/103325964856698/posts/273...</td>\n      <td>5</td>\n      <td>1</td>\n      <td>[]</td>\n      <td>https://facebook.com/103325964856698/posts/273...</td>\n      <td>1</td>\n    </tr>\n    <tr>\n      <th>...</th>\n      <td>...</td>\n      <td>...</td>\n      <td>...</td>\n      <td>...</td>\n      <td>...</td>\n      <td>...</td>\n    </tr>\n    <tr>\n      <th>276515</th>\n      <td>https://www.facebook.com/groups/PUBGMobileGrou...</td>\n      <td>5</td>\n      <td>1</td>\n      <td>[]</td>\n      <td>https://www.facebook.com/groups/pubgmobilegrou...</td>\n      <td>1</td>\n    </tr>\n    <tr>\n      <th>277197</th>\n      <td>☘️☘️☘️☘️☘️\\nxin lỗi đã làm phiền và cảm ơn đã ...</td>\n      <td>5</td>\n      <td>1</td>\n      <td>[💖, 💕, ☘️]</td>\n      <td>☘️☘️☘️☘️☘️\\nxin lỗi đã làm phiền và cảm ơn đã ...</td>\n      <td>1</td>\n    </tr>\n    <tr>\n      <th>277389</th>\n      <td>Siêu dễ thương,bé rất thích. Em bán son lì khô...</td>\n      <td>5</td>\n      <td>1</td>\n      <td>[]</td>\n      <td>siêu dễ thương,bé rất thích. em bán son lì khô...</td>\n      <td>1</td>\n    </tr>\n    <tr>\n      <th>277735</th>\n      <td>https://www.facebook.com/1525957184368292/post...</td>\n      <td>5</td>\n      <td>1</td>\n      <td>[]</td>\n      <td>https://www.facebook.com/1525957184368292/post...</td>\n      <td>1</td>\n    </tr>\n    <tr>\n      <th>277809</th>\n      <td>[TB] Tích cực tham gia Cuộc thi trực tuyến \"Tì...</td>\n      <td>5</td>\n      <td>1</td>\n      <td>[]</td>\n      <td>[tb] tích cực tham gia cuộc thi trực tuyến \"tì...</td>\n      <td>1</td>\n    </tr>\n  </tbody>\n</table>\n<p>570 rows × 6 columns</p>\n</div>"
     },
     "metadata": {},
     "execution_count": 25
    }
   ],
   "source": [
    "data.loc[data['contain_url'] == 1]"
   ]
  },
  {
   "source": [
    "> **Nhận xét**:\n",
    "> * Có đến 570 mẫu chứa khả năng cao là có quảng cáo"
   ],
   "cell_type": "markdown",
   "metadata": {}
  },
  {
   "source": [
    "🚩 Loại bỏ dấu câu và các kí tự đặc biệt và số"
   ],
   "cell_type": "markdown",
   "metadata": {}
  },
  {
   "cell_type": "code",
   "execution_count": 26,
   "metadata": {},
   "outputs": [],
   "source": [
    "data['lowercase_comment'] = data['lowercase_comment'].apply(lambda comment: Utils.removeSpecialCharacters(comment))"
   ]
  },
  {
   "cell_type": "code",
   "execution_count": 27,
   "metadata": {},
   "outputs": [
    {
     "output_type": "execute_result",
     "data": {
      "text/plain": [
       "                                                  comment  rating  label  \\\n",
       "0       Lần đầu mua tại shop nhưng rất ưng ý, vải mặc ...       5      1   \n",
       "1       Giao hàng nhanh, shop xịn xò đặt hàng xong là ...       5      1   \n",
       "2       Size vừa vặn luôn, shop mall mà hàng chất lượn...       5      1   \n",
       "3       Sản phẩm chất lượng.đóng gói kĩ.shop nhiệt tìn...       5      1   \n",
       "4       Chất lượng sản phẩm tuyệt vời giao hàng nhanh ...       5      1   \n",
       "...                                                   ...     ...    ...   \n",
       "278154  Đẹp lắm lun mọi ngừ ơi . Hdhhechhjhshxhdhhxhxh...       5      1   \n",
       "278155                                                Dởm       5      1   \n",
       "278156  Mua 12 món giao đủ. Vừa rẻ vừa chất lượng rất ...       5      1   \n",
       "278157                                        Hàng đẹp ạ😍       5      1   \n",
       "278158  Dây buộc siêu dễ thương nha mn, còn được tặng ...       5      1   \n",
       "\n",
       "       emoji                                  lowercase_comment  contain_url  \n",
       "0         []  lần đầu mua tại shop nhưng rất ưng vải mặc mát...            0  \n",
       "1         []  giao hàng nhanh shop xịn xò đặt hàng xong là c...            0  \n",
       "2         []  size vừa vặn luôn shop mall mà hàng chất lượng...            0  \n",
       "3         []  sản phẩm chất lượng đóng gói kĩ shop nhiệt tìn...            0  \n",
       "4         []  chất lượng sản phẩm tuyệt vời giao hàng nhanh ...            0  \n",
       "...      ...                                                ...          ...  \n",
       "278154    []  đẹp lắm lun mọi ngừ ơi hdhhechhjhshxhdhhxhxhdh...            0  \n",
       "278155    []                                                dởm            0  \n",
       "278156    []  mua món giao đủ vừa rẻ vừa chất lượng rất thíc...            0  \n",
       "278157   [😍]                                         hàng đẹp ạ            0  \n",
       "278158   [🥰]  dây buộc siêu dễ thương nha mn còn được tặng k...            0  \n",
       "\n",
       "[278159 rows x 6 columns]"
      ],
      "text/html": "<div>\n<style scoped>\n    .dataframe tbody tr th:only-of-type {\n        vertical-align: middle;\n    }\n\n    .dataframe tbody tr th {\n        vertical-align: top;\n    }\n\n    .dataframe thead th {\n        text-align: right;\n    }\n</style>\n<table border=\"1\" class=\"dataframe\">\n  <thead>\n    <tr style=\"text-align: right;\">\n      <th></th>\n      <th>comment</th>\n      <th>rating</th>\n      <th>label</th>\n      <th>emoji</th>\n      <th>lowercase_comment</th>\n      <th>contain_url</th>\n    </tr>\n  </thead>\n  <tbody>\n    <tr>\n      <th>0</th>\n      <td>Lần đầu mua tại shop nhưng rất ưng ý, vải mặc ...</td>\n      <td>5</td>\n      <td>1</td>\n      <td>[]</td>\n      <td>lần đầu mua tại shop nhưng rất ưng vải mặc mát...</td>\n      <td>0</td>\n    </tr>\n    <tr>\n      <th>1</th>\n      <td>Giao hàng nhanh, shop xịn xò đặt hàng xong là ...</td>\n      <td>5</td>\n      <td>1</td>\n      <td>[]</td>\n      <td>giao hàng nhanh shop xịn xò đặt hàng xong là c...</td>\n      <td>0</td>\n    </tr>\n    <tr>\n      <th>2</th>\n      <td>Size vừa vặn luôn, shop mall mà hàng chất lượn...</td>\n      <td>5</td>\n      <td>1</td>\n      <td>[]</td>\n      <td>size vừa vặn luôn shop mall mà hàng chất lượng...</td>\n      <td>0</td>\n    </tr>\n    <tr>\n      <th>3</th>\n      <td>Sản phẩm chất lượng.đóng gói kĩ.shop nhiệt tìn...</td>\n      <td>5</td>\n      <td>1</td>\n      <td>[]</td>\n      <td>sản phẩm chất lượng đóng gói kĩ shop nhiệt tìn...</td>\n      <td>0</td>\n    </tr>\n    <tr>\n      <th>4</th>\n      <td>Chất lượng sản phẩm tuyệt vời giao hàng nhanh ...</td>\n      <td>5</td>\n      <td>1</td>\n      <td>[]</td>\n      <td>chất lượng sản phẩm tuyệt vời giao hàng nhanh ...</td>\n      <td>0</td>\n    </tr>\n    <tr>\n      <th>...</th>\n      <td>...</td>\n      <td>...</td>\n      <td>...</td>\n      <td>...</td>\n      <td>...</td>\n      <td>...</td>\n    </tr>\n    <tr>\n      <th>278154</th>\n      <td>Đẹp lắm lun mọi ngừ ơi . Hdhhechhjhshxhdhhxhxh...</td>\n      <td>5</td>\n      <td>1</td>\n      <td>[]</td>\n      <td>đẹp lắm lun mọi ngừ ơi hdhhechhjhshxhdhhxhxhdh...</td>\n      <td>0</td>\n    </tr>\n    <tr>\n      <th>278155</th>\n      <td>Dởm</td>\n      <td>5</td>\n      <td>1</td>\n      <td>[]</td>\n      <td>dởm</td>\n      <td>0</td>\n    </tr>\n    <tr>\n      <th>278156</th>\n      <td>Mua 12 món giao đủ. Vừa rẻ vừa chất lượng rất ...</td>\n      <td>5</td>\n      <td>1</td>\n      <td>[]</td>\n      <td>mua món giao đủ vừa rẻ vừa chất lượng rất thíc...</td>\n      <td>0</td>\n    </tr>\n    <tr>\n      <th>278157</th>\n      <td>Hàng đẹp ạ😍</td>\n      <td>5</td>\n      <td>1</td>\n      <td>[😍]</td>\n      <td>hàng đẹp ạ</td>\n      <td>0</td>\n    </tr>\n    <tr>\n      <th>278158</th>\n      <td>Dây buộc siêu dễ thương nha mn, còn được tặng ...</td>\n      <td>5</td>\n      <td>1</td>\n      <td>[🥰]</td>\n      <td>dây buộc siêu dễ thương nha mn còn được tặng k...</td>\n      <td>0</td>\n    </tr>\n  </tbody>\n</table>\n<p>278159 rows × 6 columns</p>\n</div>"
     },
     "metadata": {},
     "execution_count": 27
    }
   ],
   "source": [
    "data"
   ]
  },
  {
   "source": [
    "🚩 Chuẩn lại các từ bị duplicate kí tự lên (ví dụ: \"anh nhớớớớớớớớớớ emmmmmmmmmmmmmmmmmmmmm quááááááááááááááá\" thành \"anh nhớ em quá\")"
   ],
   "cell_type": "markdown",
   "metadata": {}
  },
  {
   "cell_type": "code",
   "execution_count": 28,
   "metadata": {},
   "outputs": [],
   "source": [
    "data['lowercase_comment'] = data['lowercase_comment'].apply(lambda comment: Utils.removeDupplicateLetters(comment))"
   ]
  },
  {
   "cell_type": "code",
   "execution_count": 29,
   "metadata": {},
   "outputs": [
    {
     "output_type": "execute_result",
     "data": {
      "text/plain": [
       "                                                  comment  rating  label  \\\n",
       "0       Lần đầu mua tại shop nhưng rất ưng ý, vải mặc ...       5      1   \n",
       "1       Giao hàng nhanh, shop xịn xò đặt hàng xong là ...       5      1   \n",
       "2       Size vừa vặn luôn, shop mall mà hàng chất lượn...       5      1   \n",
       "3       Sản phẩm chất lượng.đóng gói kĩ.shop nhiệt tìn...       5      1   \n",
       "4       Chất lượng sản phẩm tuyệt vời giao hàng nhanh ...       5      1   \n",
       "...                                                   ...     ...    ...   \n",
       "278154  Đẹp lắm lun mọi ngừ ơi . Hdhhechhjhshxhdhhxhxh...       5      1   \n",
       "278155                                                Dởm       5      1   \n",
       "278156  Mua 12 món giao đủ. Vừa rẻ vừa chất lượng rất ...       5      1   \n",
       "278157                                        Hàng đẹp ạ😍       5      1   \n",
       "278158  Dây buộc siêu dễ thương nha mn, còn được tặng ...       5      1   \n",
       "\n",
       "       emoji                                  lowercase_comment  contain_url  \n",
       "0         []  lần đầu mua tại shop nhưng rất ưng vải mặc mát...            0  \n",
       "1         []  giao hàng nhanh shop xịn xò đặt hàng xong là c...            0  \n",
       "2         []  size vừa vặn luôn shop mal mà hàng chất lượng ...            0  \n",
       "3         []  sản phẩm chất lượng đóng gói kĩ shop nhiệt tìn...            0  \n",
       "4         []  chất lượng sản phẩm tuyệt vời giao hàng nhanh ...            0  \n",
       "...      ...                                                ...          ...  \n",
       "278154    []  đẹp lắm lun mọi ngừ ơi hdhechjhshxhdhxhxhdh hs...            0  \n",
       "278155    []                                                dởm            0  \n",
       "278156    []  mua món giao đủ vừa rẻ vừa chất lượng rất thíc...            0  \n",
       "278157   [😍]                                         hàng đẹp ạ            0  \n",
       "278158   [🥰]  dây buộc siêu dễ thương nha mn còn được tặng k...            0  \n",
       "\n",
       "[278159 rows x 6 columns]"
      ],
      "text/html": "<div>\n<style scoped>\n    .dataframe tbody tr th:only-of-type {\n        vertical-align: middle;\n    }\n\n    .dataframe tbody tr th {\n        vertical-align: top;\n    }\n\n    .dataframe thead th {\n        text-align: right;\n    }\n</style>\n<table border=\"1\" class=\"dataframe\">\n  <thead>\n    <tr style=\"text-align: right;\">\n      <th></th>\n      <th>comment</th>\n      <th>rating</th>\n      <th>label</th>\n      <th>emoji</th>\n      <th>lowercase_comment</th>\n      <th>contain_url</th>\n    </tr>\n  </thead>\n  <tbody>\n    <tr>\n      <th>0</th>\n      <td>Lần đầu mua tại shop nhưng rất ưng ý, vải mặc ...</td>\n      <td>5</td>\n      <td>1</td>\n      <td>[]</td>\n      <td>lần đầu mua tại shop nhưng rất ưng vải mặc mát...</td>\n      <td>0</td>\n    </tr>\n    <tr>\n      <th>1</th>\n      <td>Giao hàng nhanh, shop xịn xò đặt hàng xong là ...</td>\n      <td>5</td>\n      <td>1</td>\n      <td>[]</td>\n      <td>giao hàng nhanh shop xịn xò đặt hàng xong là c...</td>\n      <td>0</td>\n    </tr>\n    <tr>\n      <th>2</th>\n      <td>Size vừa vặn luôn, shop mall mà hàng chất lượn...</td>\n      <td>5</td>\n      <td>1</td>\n      <td>[]</td>\n      <td>size vừa vặn luôn shop mal mà hàng chất lượng ...</td>\n      <td>0</td>\n    </tr>\n    <tr>\n      <th>3</th>\n      <td>Sản phẩm chất lượng.đóng gói kĩ.shop nhiệt tìn...</td>\n      <td>5</td>\n      <td>1</td>\n      <td>[]</td>\n      <td>sản phẩm chất lượng đóng gói kĩ shop nhiệt tìn...</td>\n      <td>0</td>\n    </tr>\n    <tr>\n      <th>4</th>\n      <td>Chất lượng sản phẩm tuyệt vời giao hàng nhanh ...</td>\n      <td>5</td>\n      <td>1</td>\n      <td>[]</td>\n      <td>chất lượng sản phẩm tuyệt vời giao hàng nhanh ...</td>\n      <td>0</td>\n    </tr>\n    <tr>\n      <th>...</th>\n      <td>...</td>\n      <td>...</td>\n      <td>...</td>\n      <td>...</td>\n      <td>...</td>\n      <td>...</td>\n    </tr>\n    <tr>\n      <th>278154</th>\n      <td>Đẹp lắm lun mọi ngừ ơi . Hdhhechhjhshxhdhhxhxh...</td>\n      <td>5</td>\n      <td>1</td>\n      <td>[]</td>\n      <td>đẹp lắm lun mọi ngừ ơi hdhechjhshxhdhxhxhdh hs...</td>\n      <td>0</td>\n    </tr>\n    <tr>\n      <th>278155</th>\n      <td>Dởm</td>\n      <td>5</td>\n      <td>1</td>\n      <td>[]</td>\n      <td>dởm</td>\n      <td>0</td>\n    </tr>\n    <tr>\n      <th>278156</th>\n      <td>Mua 12 món giao đủ. Vừa rẻ vừa chất lượng rất ...</td>\n      <td>5</td>\n      <td>1</td>\n      <td>[]</td>\n      <td>mua món giao đủ vừa rẻ vừa chất lượng rất thíc...</td>\n      <td>0</td>\n    </tr>\n    <tr>\n      <th>278157</th>\n      <td>Hàng đẹp ạ😍</td>\n      <td>5</td>\n      <td>1</td>\n      <td>[😍]</td>\n      <td>hàng đẹp ạ</td>\n      <td>0</td>\n    </tr>\n    <tr>\n      <th>278158</th>\n      <td>Dây buộc siêu dễ thương nha mn, còn được tặng ...</td>\n      <td>5</td>\n      <td>1</td>\n      <td>[🥰]</td>\n      <td>dây buộc siêu dễ thương nha mn còn được tặng k...</td>\n      <td>0</td>\n    </tr>\n  </tbody>\n</table>\n<p>278159 rows × 6 columns</p>\n</div>"
     },
     "metadata": {},
     "execution_count": 29
    }
   ],
   "source": [
    "data"
   ]
  },
  {
   "source": [
    "🚩 Chuẩn lại các từ bị viết tắt (ví dụ: \"hk\" thành \"không\")"
   ],
   "cell_type": "markdown",
   "metadata": {}
  },
  {
   "cell_type": "code",
   "execution_count": 30,
   "metadata": {},
   "outputs": [],
   "source": [
    "vietnamese_acronym_words = None\n",
    "\n",
    "with open('./legacy/vietnamese_acronym_words.pickle', 'rb') as reader:\n",
    "    vietnamese_acronym_words = pickle.load(reader)"
   ]
  },
  {
   "cell_type": "code",
   "execution_count": 31,
   "metadata": {},
   "outputs": [],
   "source": [
    "data['lowercase_comment'] = data['lowercase_comment'].apply(lambda comment: Utils.fixAcronymWords(vietnamese_acronym_words, comment))"
   ]
  },
  {
   "cell_type": "code",
   "execution_count": 32,
   "metadata": {},
   "outputs": [
    {
     "output_type": "execute_result",
     "data": {
      "text/plain": [
       "                                                  comment  rating  label  \\\n",
       "0       Lần đầu mua tại shop nhưng rất ưng ý, vải mặc ...       5      1   \n",
       "1       Giao hàng nhanh, shop xịn xò đặt hàng xong là ...       5      1   \n",
       "2       Size vừa vặn luôn, shop mall mà hàng chất lượn...       5      1   \n",
       "3       Sản phẩm chất lượng.đóng gói kĩ.shop nhiệt tìn...       5      1   \n",
       "4       Chất lượng sản phẩm tuyệt vời giao hàng nhanh ...       5      1   \n",
       "...                                                   ...     ...    ...   \n",
       "278154  Đẹp lắm lun mọi ngừ ơi . Hdhhechhjhshxhdhhxhxh...       5      1   \n",
       "278155                                                Dởm       5      1   \n",
       "278156  Mua 12 món giao đủ. Vừa rẻ vừa chất lượng rất ...       5      1   \n",
       "278157                                        Hàng đẹp ạ😍       5      1   \n",
       "278158  Dây buộc siêu dễ thương nha mn, còn được tặng ...       5      1   \n",
       "\n",
       "       emoji                                  lowercase_comment  contain_url  \n",
       "0         []  lần đầu mua tại shop nhưng rất ưng vải mặc mát...            0  \n",
       "1         []  giao hàng nhanh shop xịn xò đặt hàng xong là c...            0  \n",
       "2         []  size vừa vặn luôn shop mal mà hàng chất lượng ...            0  \n",
       "3         []  sản phẩm chất lượng đóng gói kĩ shop nhiệt tìn...            0  \n",
       "4         []  chất lượng sản phẩm tuyệt vời giao hàng nhanh ...            0  \n",
       "...      ...                                                ...          ...  \n",
       "278154    []  đẹp lắm luôn mọi người ơi hdhechjhshxhdhxhxhdh...            0  \n",
       "278155    []                                                dởm            0  \n",
       "278156    []  mua món giao đủ vừa rẻ vừa chất lượng rất thíc...            0  \n",
       "278157   [😍]                                         hàng đẹp ạ            0  \n",
       "278158   [🥰]  dây buộc siêu dễ thương nha mọi người còn được...            0  \n",
       "\n",
       "[278159 rows x 6 columns]"
      ],
      "text/html": "<div>\n<style scoped>\n    .dataframe tbody tr th:only-of-type {\n        vertical-align: middle;\n    }\n\n    .dataframe tbody tr th {\n        vertical-align: top;\n    }\n\n    .dataframe thead th {\n        text-align: right;\n    }\n</style>\n<table border=\"1\" class=\"dataframe\">\n  <thead>\n    <tr style=\"text-align: right;\">\n      <th></th>\n      <th>comment</th>\n      <th>rating</th>\n      <th>label</th>\n      <th>emoji</th>\n      <th>lowercase_comment</th>\n      <th>contain_url</th>\n    </tr>\n  </thead>\n  <tbody>\n    <tr>\n      <th>0</th>\n      <td>Lần đầu mua tại shop nhưng rất ưng ý, vải mặc ...</td>\n      <td>5</td>\n      <td>1</td>\n      <td>[]</td>\n      <td>lần đầu mua tại shop nhưng rất ưng vải mặc mát...</td>\n      <td>0</td>\n    </tr>\n    <tr>\n      <th>1</th>\n      <td>Giao hàng nhanh, shop xịn xò đặt hàng xong là ...</td>\n      <td>5</td>\n      <td>1</td>\n      <td>[]</td>\n      <td>giao hàng nhanh shop xịn xò đặt hàng xong là c...</td>\n      <td>0</td>\n    </tr>\n    <tr>\n      <th>2</th>\n      <td>Size vừa vặn luôn, shop mall mà hàng chất lượn...</td>\n      <td>5</td>\n      <td>1</td>\n      <td>[]</td>\n      <td>size vừa vặn luôn shop mal mà hàng chất lượng ...</td>\n      <td>0</td>\n    </tr>\n    <tr>\n      <th>3</th>\n      <td>Sản phẩm chất lượng.đóng gói kĩ.shop nhiệt tìn...</td>\n      <td>5</td>\n      <td>1</td>\n      <td>[]</td>\n      <td>sản phẩm chất lượng đóng gói kĩ shop nhiệt tìn...</td>\n      <td>0</td>\n    </tr>\n    <tr>\n      <th>4</th>\n      <td>Chất lượng sản phẩm tuyệt vời giao hàng nhanh ...</td>\n      <td>5</td>\n      <td>1</td>\n      <td>[]</td>\n      <td>chất lượng sản phẩm tuyệt vời giao hàng nhanh ...</td>\n      <td>0</td>\n    </tr>\n    <tr>\n      <th>...</th>\n      <td>...</td>\n      <td>...</td>\n      <td>...</td>\n      <td>...</td>\n      <td>...</td>\n      <td>...</td>\n    </tr>\n    <tr>\n      <th>278154</th>\n      <td>Đẹp lắm lun mọi ngừ ơi . Hdhhechhjhshxhdhhxhxh...</td>\n      <td>5</td>\n      <td>1</td>\n      <td>[]</td>\n      <td>đẹp lắm luôn mọi người ơi hdhechjhshxhdhxhxhdh...</td>\n      <td>0</td>\n    </tr>\n    <tr>\n      <th>278155</th>\n      <td>Dởm</td>\n      <td>5</td>\n      <td>1</td>\n      <td>[]</td>\n      <td>dởm</td>\n      <td>0</td>\n    </tr>\n    <tr>\n      <th>278156</th>\n      <td>Mua 12 món giao đủ. Vừa rẻ vừa chất lượng rất ...</td>\n      <td>5</td>\n      <td>1</td>\n      <td>[]</td>\n      <td>mua món giao đủ vừa rẻ vừa chất lượng rất thíc...</td>\n      <td>0</td>\n    </tr>\n    <tr>\n      <th>278157</th>\n      <td>Hàng đẹp ạ😍</td>\n      <td>5</td>\n      <td>1</td>\n      <td>[😍]</td>\n      <td>hàng đẹp ạ</td>\n      <td>0</td>\n    </tr>\n    <tr>\n      <th>278158</th>\n      <td>Dây buộc siêu dễ thương nha mn, còn được tặng ...</td>\n      <td>5</td>\n      <td>1</td>\n      <td>[🥰]</td>\n      <td>dây buộc siêu dễ thương nha mọi người còn được...</td>\n      <td>0</td>\n    </tr>\n  </tbody>\n</table>\n<p>278159 rows × 6 columns</p>\n</div>"
     },
     "metadata": {},
     "execution_count": 32
    }
   ],
   "source": [
    "data"
   ]
  },
  {
   "source": [
    "🚩 Loại bỏ các từ rác ra khỏi comment, (ví dụ: \"asfsfskjfhfjkfhf\", \"aaaaaaaaaaaaaaaaaaaaaaaaaaaaaaaaaaaaaaa\")"
   ],
   "cell_type": "markdown",
   "metadata": {}
  },
  {
   "cell_type": "code",
   "execution_count": 33,
   "metadata": {},
   "outputs": [],
   "source": [
    "vietnamese_words = None\n",
    "\n",
    "with open('./legacy/vietnamese_words.pickle', 'rb') as reader:\n",
    "    vietnamese_words = pickle.load(reader)"
   ]
  },
  {
   "cell_type": "code",
   "execution_count": 34,
   "metadata": {
    "tags": []
   },
   "outputs": [
    {
     "output_type": "stream",
     "name": "stdout",
     "text": [
      "['a', 'ba', 'boa', 'ca', 'cha']\n"
     ]
    }
   ],
   "source": [
    "keys = list(vietnamese_words.keys())\n",
    "print(keys[:5])"
   ]
  },
  {
   "cell_type": "code",
   "execution_count": null,
   "metadata": {},
   "outputs": [],
   "source": []
  },
  {
   "cell_type": "code",
   "execution_count": 35,
   "metadata": {},
   "outputs": [],
   "source": [
    "data['lowercase_comment'] = data['lowercase_comment'].apply(lambda comment: Utils.removeGibbish(vietnamese_words, comment))"
   ]
  },
  {
   "cell_type": "code",
   "execution_count": 36,
   "metadata": {},
   "outputs": [
    {
     "output_type": "execute_result",
     "data": {
      "text/plain": [
       "                                                  comment  rating  label  \\\n",
       "0       Lần đầu mua tại shop nhưng rất ưng ý, vải mặc ...       5      1   \n",
       "1       Giao hàng nhanh, shop xịn xò đặt hàng xong là ...       5      1   \n",
       "2       Size vừa vặn luôn, shop mall mà hàng chất lượn...       5      1   \n",
       "3       Sản phẩm chất lượng.đóng gói kĩ.shop nhiệt tìn...       5      1   \n",
       "4       Chất lượng sản phẩm tuyệt vời giao hàng nhanh ...       5      1   \n",
       "...                                                   ...     ...    ...   \n",
       "278154  Đẹp lắm lun mọi ngừ ơi . Hdhhechhjhshxhdhhxhxh...       5      1   \n",
       "278155                                                Dởm       5      1   \n",
       "278156  Mua 12 món giao đủ. Vừa rẻ vừa chất lượng rất ...       5      1   \n",
       "278157                                        Hàng đẹp ạ😍       5      1   \n",
       "278158  Dây buộc siêu dễ thương nha mn, còn được tặng ...       5      1   \n",
       "\n",
       "       emoji                                  lowercase_comment  contain_url  \n",
       "0         []  lần đầu mua tại shop nhưng rất ưng vải mặc mát...            0  \n",
       "1         []  giao hàng nhanh shop đặt hàng xong là chủ động...            0  \n",
       "2         []  size vừa vặn luôn shop mà hàng chất lượng giá ...            0  \n",
       "3         []  sản phẩm chất lượng đóng gói kĩ shop nhiệt tìn...            0  \n",
       "4         []  chất lượng sản phẩm tuyệt vời giao hàng nhanh ...            0  \n",
       "...      ...                                                ...          ...  \n",
       "278154    []                      đẹp lắm luôn mọi người ơi học            0  \n",
       "278155    []                                                dởm            0  \n",
       "278156    []  mua món giao đủ vừa rẻ vừa chất lượng rất thíc...            0  \n",
       "278157   [😍]                                         hàng đẹp ạ            0  \n",
       "278158   [🥰]  dây buộc siêu dễ thương nha mọi người còn được...            0  \n",
       "\n",
       "[278159 rows x 6 columns]"
      ],
      "text/html": "<div>\n<style scoped>\n    .dataframe tbody tr th:only-of-type {\n        vertical-align: middle;\n    }\n\n    .dataframe tbody tr th {\n        vertical-align: top;\n    }\n\n    .dataframe thead th {\n        text-align: right;\n    }\n</style>\n<table border=\"1\" class=\"dataframe\">\n  <thead>\n    <tr style=\"text-align: right;\">\n      <th></th>\n      <th>comment</th>\n      <th>rating</th>\n      <th>label</th>\n      <th>emoji</th>\n      <th>lowercase_comment</th>\n      <th>contain_url</th>\n    </tr>\n  </thead>\n  <tbody>\n    <tr>\n      <th>0</th>\n      <td>Lần đầu mua tại shop nhưng rất ưng ý, vải mặc ...</td>\n      <td>5</td>\n      <td>1</td>\n      <td>[]</td>\n      <td>lần đầu mua tại shop nhưng rất ưng vải mặc mát...</td>\n      <td>0</td>\n    </tr>\n    <tr>\n      <th>1</th>\n      <td>Giao hàng nhanh, shop xịn xò đặt hàng xong là ...</td>\n      <td>5</td>\n      <td>1</td>\n      <td>[]</td>\n      <td>giao hàng nhanh shop đặt hàng xong là chủ động...</td>\n      <td>0</td>\n    </tr>\n    <tr>\n      <th>2</th>\n      <td>Size vừa vặn luôn, shop mall mà hàng chất lượn...</td>\n      <td>5</td>\n      <td>1</td>\n      <td>[]</td>\n      <td>size vừa vặn luôn shop mà hàng chất lượng giá ...</td>\n      <td>0</td>\n    </tr>\n    <tr>\n      <th>3</th>\n      <td>Sản phẩm chất lượng.đóng gói kĩ.shop nhiệt tìn...</td>\n      <td>5</td>\n      <td>1</td>\n      <td>[]</td>\n      <td>sản phẩm chất lượng đóng gói kĩ shop nhiệt tìn...</td>\n      <td>0</td>\n    </tr>\n    <tr>\n      <th>4</th>\n      <td>Chất lượng sản phẩm tuyệt vời giao hàng nhanh ...</td>\n      <td>5</td>\n      <td>1</td>\n      <td>[]</td>\n      <td>chất lượng sản phẩm tuyệt vời giao hàng nhanh ...</td>\n      <td>0</td>\n    </tr>\n    <tr>\n      <th>...</th>\n      <td>...</td>\n      <td>...</td>\n      <td>...</td>\n      <td>...</td>\n      <td>...</td>\n      <td>...</td>\n    </tr>\n    <tr>\n      <th>278154</th>\n      <td>Đẹp lắm lun mọi ngừ ơi . Hdhhechhjhshxhdhhxhxh...</td>\n      <td>5</td>\n      <td>1</td>\n      <td>[]</td>\n      <td>đẹp lắm luôn mọi người ơi học</td>\n      <td>0</td>\n    </tr>\n    <tr>\n      <th>278155</th>\n      <td>Dởm</td>\n      <td>5</td>\n      <td>1</td>\n      <td>[]</td>\n      <td>dởm</td>\n      <td>0</td>\n    </tr>\n    <tr>\n      <th>278156</th>\n      <td>Mua 12 món giao đủ. Vừa rẻ vừa chất lượng rất ...</td>\n      <td>5</td>\n      <td>1</td>\n      <td>[]</td>\n      <td>mua món giao đủ vừa rẻ vừa chất lượng rất thíc...</td>\n      <td>0</td>\n    </tr>\n    <tr>\n      <th>278157</th>\n      <td>Hàng đẹp ạ😍</td>\n      <td>5</td>\n      <td>1</td>\n      <td>[😍]</td>\n      <td>hàng đẹp ạ</td>\n      <td>0</td>\n    </tr>\n    <tr>\n      <th>278158</th>\n      <td>Dây buộc siêu dễ thương nha mn, còn được tặng ...</td>\n      <td>5</td>\n      <td>1</td>\n      <td>[🥰]</td>\n      <td>dây buộc siêu dễ thương nha mọi người còn được...</td>\n      <td>0</td>\n    </tr>\n  </tbody>\n</table>\n<p>278159 rows × 6 columns</p>\n</div>"
     },
     "metadata": {},
     "execution_count": 36
    }
   ],
   "source": [
    "data"
   ]
  },
  {
   "source": [
    "🚩 Ghép cột `lowercase_comment` với `emoji` lại thành cột `standard_comment`"
   ],
   "cell_type": "markdown",
   "metadata": {}
  },
  {
   "cell_type": "code",
   "execution_count": 37,
   "metadata": {},
   "outputs": [],
   "source": [
    "data['standard_comment'] = data.apply(lambda row: Utils.combineCommentAnnEmoji(row['lowercase_comment'], row['emoji']), axis=1)"
   ]
  },
  {
   "cell_type": "code",
   "execution_count": 38,
   "metadata": {},
   "outputs": [
    {
     "output_type": "execute_result",
     "data": {
      "text/plain": [
       "                                                  comment  rating  label  \\\n",
       "0       Lần đầu mua tại shop nhưng rất ưng ý, vải mặc ...       5      1   \n",
       "1       Giao hàng nhanh, shop xịn xò đặt hàng xong là ...       5      1   \n",
       "2       Size vừa vặn luôn, shop mall mà hàng chất lượn...       5      1   \n",
       "3       Sản phẩm chất lượng.đóng gói kĩ.shop nhiệt tìn...       5      1   \n",
       "4       Chất lượng sản phẩm tuyệt vời giao hàng nhanh ...       5      1   \n",
       "...                                                   ...     ...    ...   \n",
       "278154  Đẹp lắm lun mọi ngừ ơi . Hdhhechhjhshxhdhhxhxh...       5      1   \n",
       "278155                                                Dởm       5      1   \n",
       "278156  Mua 12 món giao đủ. Vừa rẻ vừa chất lượng rất ...       5      1   \n",
       "278157                                        Hàng đẹp ạ😍       5      1   \n",
       "278158  Dây buộc siêu dễ thương nha mn, còn được tặng ...       5      1   \n",
       "\n",
       "       emoji                                  lowercase_comment  contain_url  \\\n",
       "0         []  lần đầu mua tại shop nhưng rất ưng vải mặc mát...            0   \n",
       "1         []  giao hàng nhanh shop đặt hàng xong là chủ động...            0   \n",
       "2         []  size vừa vặn luôn shop mà hàng chất lượng giá ...            0   \n",
       "3         []  sản phẩm chất lượng đóng gói kĩ shop nhiệt tìn...            0   \n",
       "4         []  chất lượng sản phẩm tuyệt vời giao hàng nhanh ...            0   \n",
       "...      ...                                                ...          ...   \n",
       "278154    []                      đẹp lắm luôn mọi người ơi học            0   \n",
       "278155    []                                                dởm            0   \n",
       "278156    []  mua món giao đủ vừa rẻ vừa chất lượng rất thíc...            0   \n",
       "278157   [😍]                                         hàng đẹp ạ            0   \n",
       "278158   [🥰]  dây buộc siêu dễ thương nha mọi người còn được...            0   \n",
       "\n",
       "                                         standard_comment  \n",
       "0       lần đầu mua tại shop nhưng rất ưng vải mặc mát...  \n",
       "1       giao hàng nhanh shop đặt hàng xong là chủ động...  \n",
       "2       size vừa vặn luôn shop mà hàng chất lượng giá ...  \n",
       "3       sản phẩm chất lượng đóng gói kĩ shop nhiệt tìn...  \n",
       "4       chất lượng sản phẩm tuyệt vời giao hàng nhanh ...  \n",
       "...                                                   ...  \n",
       "278154                     đẹp lắm luôn mọi người ơi học   \n",
       "278155                                               dởm   \n",
       "278156  mua món giao đủ vừa rẻ vừa chất lượng rất thíc...  \n",
       "278157                                       hàng đẹp ạ 😍  \n",
       "278158  dây buộc siêu dễ thương nha mọi người còn được...  \n",
       "\n",
       "[278159 rows x 7 columns]"
      ],
      "text/html": "<div>\n<style scoped>\n    .dataframe tbody tr th:only-of-type {\n        vertical-align: middle;\n    }\n\n    .dataframe tbody tr th {\n        vertical-align: top;\n    }\n\n    .dataframe thead th {\n        text-align: right;\n    }\n</style>\n<table border=\"1\" class=\"dataframe\">\n  <thead>\n    <tr style=\"text-align: right;\">\n      <th></th>\n      <th>comment</th>\n      <th>rating</th>\n      <th>label</th>\n      <th>emoji</th>\n      <th>lowercase_comment</th>\n      <th>contain_url</th>\n      <th>standard_comment</th>\n    </tr>\n  </thead>\n  <tbody>\n    <tr>\n      <th>0</th>\n      <td>Lần đầu mua tại shop nhưng rất ưng ý, vải mặc ...</td>\n      <td>5</td>\n      <td>1</td>\n      <td>[]</td>\n      <td>lần đầu mua tại shop nhưng rất ưng vải mặc mát...</td>\n      <td>0</td>\n      <td>lần đầu mua tại shop nhưng rất ưng vải mặc mát...</td>\n    </tr>\n    <tr>\n      <th>1</th>\n      <td>Giao hàng nhanh, shop xịn xò đặt hàng xong là ...</td>\n      <td>5</td>\n      <td>1</td>\n      <td>[]</td>\n      <td>giao hàng nhanh shop đặt hàng xong là chủ động...</td>\n      <td>0</td>\n      <td>giao hàng nhanh shop đặt hàng xong là chủ động...</td>\n    </tr>\n    <tr>\n      <th>2</th>\n      <td>Size vừa vặn luôn, shop mall mà hàng chất lượn...</td>\n      <td>5</td>\n      <td>1</td>\n      <td>[]</td>\n      <td>size vừa vặn luôn shop mà hàng chất lượng giá ...</td>\n      <td>0</td>\n      <td>size vừa vặn luôn shop mà hàng chất lượng giá ...</td>\n    </tr>\n    <tr>\n      <th>3</th>\n      <td>Sản phẩm chất lượng.đóng gói kĩ.shop nhiệt tìn...</td>\n      <td>5</td>\n      <td>1</td>\n      <td>[]</td>\n      <td>sản phẩm chất lượng đóng gói kĩ shop nhiệt tìn...</td>\n      <td>0</td>\n      <td>sản phẩm chất lượng đóng gói kĩ shop nhiệt tìn...</td>\n    </tr>\n    <tr>\n      <th>4</th>\n      <td>Chất lượng sản phẩm tuyệt vời giao hàng nhanh ...</td>\n      <td>5</td>\n      <td>1</td>\n      <td>[]</td>\n      <td>chất lượng sản phẩm tuyệt vời giao hàng nhanh ...</td>\n      <td>0</td>\n      <td>chất lượng sản phẩm tuyệt vời giao hàng nhanh ...</td>\n    </tr>\n    <tr>\n      <th>...</th>\n      <td>...</td>\n      <td>...</td>\n      <td>...</td>\n      <td>...</td>\n      <td>...</td>\n      <td>...</td>\n      <td>...</td>\n    </tr>\n    <tr>\n      <th>278154</th>\n      <td>Đẹp lắm lun mọi ngừ ơi . Hdhhechhjhshxhdhhxhxh...</td>\n      <td>5</td>\n      <td>1</td>\n      <td>[]</td>\n      <td>đẹp lắm luôn mọi người ơi học</td>\n      <td>0</td>\n      <td>đẹp lắm luôn mọi người ơi học</td>\n    </tr>\n    <tr>\n      <th>278155</th>\n      <td>Dởm</td>\n      <td>5</td>\n      <td>1</td>\n      <td>[]</td>\n      <td>dởm</td>\n      <td>0</td>\n      <td>dởm</td>\n    </tr>\n    <tr>\n      <th>278156</th>\n      <td>Mua 12 món giao đủ. Vừa rẻ vừa chất lượng rất ...</td>\n      <td>5</td>\n      <td>1</td>\n      <td>[]</td>\n      <td>mua món giao đủ vừa rẻ vừa chất lượng rất thíc...</td>\n      <td>0</td>\n      <td>mua món giao đủ vừa rẻ vừa chất lượng rất thíc...</td>\n    </tr>\n    <tr>\n      <th>278157</th>\n      <td>Hàng đẹp ạ😍</td>\n      <td>5</td>\n      <td>1</td>\n      <td>[😍]</td>\n      <td>hàng đẹp ạ</td>\n      <td>0</td>\n      <td>hàng đẹp ạ 😍</td>\n    </tr>\n    <tr>\n      <th>278158</th>\n      <td>Dây buộc siêu dễ thương nha mn, còn được tặng ...</td>\n      <td>5</td>\n      <td>1</td>\n      <td>[🥰]</td>\n      <td>dây buộc siêu dễ thương nha mọi người còn được...</td>\n      <td>0</td>\n      <td>dây buộc siêu dễ thương nha mọi người còn được...</td>\n    </tr>\n  </tbody>\n</table>\n<p>278159 rows × 7 columns</p>\n</div>"
     },
     "metadata": {},
     "execution_count": 38
    }
   ],
   "source": [
    "data"
   ]
  },
  {
   "source": [
    "🚩 Xóa các sample có `standard_comment` duplicate"
   ],
   "cell_type": "markdown",
   "metadata": {}
  },
  {
   "cell_type": "code",
   "execution_count": 40,
   "metadata": {},
   "outputs": [],
   "source": [
    "data = data.drop_duplicates(subset=['standard_comment'])"
   ]
  },
  {
   "cell_type": "code",
   "execution_count": 41,
   "metadata": {},
   "outputs": [
    {
     "output_type": "execute_result",
     "data": {
      "text/plain": [
       "                                                  comment  rating  label  \\\n",
       "0       Lần đầu mua tại shop nhưng rất ưng ý, vải mặc ...       5      1   \n",
       "1       Giao hàng nhanh, shop xịn xò đặt hàng xong là ...       5      1   \n",
       "2       Size vừa vặn luôn, shop mall mà hàng chất lượn...       5      1   \n",
       "3       Sản phẩm chất lượng.đóng gói kĩ.shop nhiệt tìn...       5      1   \n",
       "4       Chất lượng sản phẩm tuyệt vời giao hàng nhanh ...       5      1   \n",
       "...                                                   ...     ...    ...   \n",
       "278153                                 Rất dễ thương, đẹp       5      1   \n",
       "278154  Đẹp lắm lun mọi ngừ ơi . Hdhhechhjhshxhdhhxhxh...       5      1   \n",
       "278155                                                Dởm       5      1   \n",
       "278156  Mua 12 món giao đủ. Vừa rẻ vừa chất lượng rất ...       5      1   \n",
       "278158  Dây buộc siêu dễ thương nha mn, còn được tặng ...       5      1   \n",
       "\n",
       "       emoji                                  lowercase_comment  contain_url  \\\n",
       "0         []  lần đầu mua tại shop nhưng rất ưng vải mặc mát...            0   \n",
       "1         []  giao hàng nhanh shop đặt hàng xong là chủ động...            0   \n",
       "2         []  size vừa vặn luôn shop mà hàng chất lượng giá ...            0   \n",
       "3         []  sản phẩm chất lượng đóng gói kĩ shop nhiệt tìn...            0   \n",
       "4         []  chất lượng sản phẩm tuyệt vời giao hàng nhanh ...            0   \n",
       "...      ...                                                ...          ...   \n",
       "278153    []                                  rất dễ thương đẹp            0   \n",
       "278154    []                      đẹp lắm luôn mọi người ơi học            0   \n",
       "278155    []                                                dởm            0   \n",
       "278156    []  mua món giao đủ vừa rẻ vừa chất lượng rất thíc...            0   \n",
       "278158   [🥰]  dây buộc siêu dễ thương nha mọi người còn được...            0   \n",
       "\n",
       "                                         standard_comment  \n",
       "0       lần đầu mua tại shop nhưng rất ưng vải mặc mát...  \n",
       "1       giao hàng nhanh shop đặt hàng xong là chủ động...  \n",
       "2       size vừa vặn luôn shop mà hàng chất lượng giá ...  \n",
       "3       sản phẩm chất lượng đóng gói kĩ shop nhiệt tìn...  \n",
       "4       chất lượng sản phẩm tuyệt vời giao hàng nhanh ...  \n",
       "...                                                   ...  \n",
       "278153                                 rất dễ thương đẹp   \n",
       "278154                     đẹp lắm luôn mọi người ơi học   \n",
       "278155                                               dởm   \n",
       "278156  mua món giao đủ vừa rẻ vừa chất lượng rất thíc...  \n",
       "278158  dây buộc siêu dễ thương nha mọi người còn được...  \n",
       "\n",
       "[221317 rows x 7 columns]"
      ],
      "text/html": "<div>\n<style scoped>\n    .dataframe tbody tr th:only-of-type {\n        vertical-align: middle;\n    }\n\n    .dataframe tbody tr th {\n        vertical-align: top;\n    }\n\n    .dataframe thead th {\n        text-align: right;\n    }\n</style>\n<table border=\"1\" class=\"dataframe\">\n  <thead>\n    <tr style=\"text-align: right;\">\n      <th></th>\n      <th>comment</th>\n      <th>rating</th>\n      <th>label</th>\n      <th>emoji</th>\n      <th>lowercase_comment</th>\n      <th>contain_url</th>\n      <th>standard_comment</th>\n    </tr>\n  </thead>\n  <tbody>\n    <tr>\n      <th>0</th>\n      <td>Lần đầu mua tại shop nhưng rất ưng ý, vải mặc ...</td>\n      <td>5</td>\n      <td>1</td>\n      <td>[]</td>\n      <td>lần đầu mua tại shop nhưng rất ưng vải mặc mát...</td>\n      <td>0</td>\n      <td>lần đầu mua tại shop nhưng rất ưng vải mặc mát...</td>\n    </tr>\n    <tr>\n      <th>1</th>\n      <td>Giao hàng nhanh, shop xịn xò đặt hàng xong là ...</td>\n      <td>5</td>\n      <td>1</td>\n      <td>[]</td>\n      <td>giao hàng nhanh shop đặt hàng xong là chủ động...</td>\n      <td>0</td>\n      <td>giao hàng nhanh shop đặt hàng xong là chủ động...</td>\n    </tr>\n    <tr>\n      <th>2</th>\n      <td>Size vừa vặn luôn, shop mall mà hàng chất lượn...</td>\n      <td>5</td>\n      <td>1</td>\n      <td>[]</td>\n      <td>size vừa vặn luôn shop mà hàng chất lượng giá ...</td>\n      <td>0</td>\n      <td>size vừa vặn luôn shop mà hàng chất lượng giá ...</td>\n    </tr>\n    <tr>\n      <th>3</th>\n      <td>Sản phẩm chất lượng.đóng gói kĩ.shop nhiệt tìn...</td>\n      <td>5</td>\n      <td>1</td>\n      <td>[]</td>\n      <td>sản phẩm chất lượng đóng gói kĩ shop nhiệt tìn...</td>\n      <td>0</td>\n      <td>sản phẩm chất lượng đóng gói kĩ shop nhiệt tìn...</td>\n    </tr>\n    <tr>\n      <th>4</th>\n      <td>Chất lượng sản phẩm tuyệt vời giao hàng nhanh ...</td>\n      <td>5</td>\n      <td>1</td>\n      <td>[]</td>\n      <td>chất lượng sản phẩm tuyệt vời giao hàng nhanh ...</td>\n      <td>0</td>\n      <td>chất lượng sản phẩm tuyệt vời giao hàng nhanh ...</td>\n    </tr>\n    <tr>\n      <th>...</th>\n      <td>...</td>\n      <td>...</td>\n      <td>...</td>\n      <td>...</td>\n      <td>...</td>\n      <td>...</td>\n      <td>...</td>\n    </tr>\n    <tr>\n      <th>278153</th>\n      <td>Rất dễ thương, đẹp</td>\n      <td>5</td>\n      <td>1</td>\n      <td>[]</td>\n      <td>rất dễ thương đẹp</td>\n      <td>0</td>\n      <td>rất dễ thương đẹp</td>\n    </tr>\n    <tr>\n      <th>278154</th>\n      <td>Đẹp lắm lun mọi ngừ ơi . Hdhhechhjhshxhdhhxhxh...</td>\n      <td>5</td>\n      <td>1</td>\n      <td>[]</td>\n      <td>đẹp lắm luôn mọi người ơi học</td>\n      <td>0</td>\n      <td>đẹp lắm luôn mọi người ơi học</td>\n    </tr>\n    <tr>\n      <th>278155</th>\n      <td>Dởm</td>\n      <td>5</td>\n      <td>1</td>\n      <td>[]</td>\n      <td>dởm</td>\n      <td>0</td>\n      <td>dởm</td>\n    </tr>\n    <tr>\n      <th>278156</th>\n      <td>Mua 12 món giao đủ. Vừa rẻ vừa chất lượng rất ...</td>\n      <td>5</td>\n      <td>1</td>\n      <td>[]</td>\n      <td>mua món giao đủ vừa rẻ vừa chất lượng rất thíc...</td>\n      <td>0</td>\n      <td>mua món giao đủ vừa rẻ vừa chất lượng rất thíc...</td>\n    </tr>\n    <tr>\n      <th>278158</th>\n      <td>Dây buộc siêu dễ thương nha mn, còn được tặng ...</td>\n      <td>5</td>\n      <td>1</td>\n      <td>[🥰]</td>\n      <td>dây buộc siêu dễ thương nha mọi người còn được...</td>\n      <td>0</td>\n      <td>dây buộc siêu dễ thương nha mọi người còn được...</td>\n    </tr>\n  </tbody>\n</table>\n<p>221317 rows × 7 columns</p>\n</div>"
     },
     "metadata": {},
     "execution_count": 41
    }
   ],
   "source": [
    "data"
   ]
  },
  {
   "cell_type": "code",
   "execution_count": 43,
   "metadata": {},
   "outputs": [
    {
     "output_type": "execute_result",
     "data": {
      "text/plain": [
       "label\n",
       "-1      3487\n",
       " 0     11931\n",
       " 1    205899\n",
       "Name: standard_comment, dtype: int64"
      ]
     },
     "metadata": {},
     "execution_count": 43
    }
   ],
   "source": [
    "data.groupby('label').count()['standard_comment']"
   ]
  },
  {
   "source": [
    "> **Nhận xét**:\n",
    "> * -1: tiêu cực, 0 bình thường và 1 là tích cực"
   ],
   "cell_type": "markdown",
   "metadata": {}
  },
  {
   "source": [
    "🚩 Ghi ra file "
   ],
   "cell_type": "markdown",
   "metadata": {}
  },
  {
   "cell_type": "code",
   "execution_count": 44,
   "metadata": {},
   "outputs": [],
   "source": [
    "data.to_csv(\"./data/standard_data.csv\", index=False)"
   ]
  },
  {
   "cell_type": "code",
   "execution_count": null,
   "metadata": {},
   "outputs": [],
   "source": []
  }
 ]
}