{
 "metadata": {
  "language_info": {
   "codemirror_mode": {
    "name": "ipython",
    "version": 3
   },
   "file_extension": ".py",
   "mimetype": "text/x-python",
   "name": "python",
   "nbconvert_exporter": "python",
   "pygments_lexer": "ipython3",
   "version": "3.8.5"
  },
  "orig_nbformat": 2,
  "kernelspec": {
   "name": "python385jvsc74a57bd031f2aee4e71d21fbe5cf8b01ff0e069b9275f58929596ceb00d14d90e3e16cd6",
   "display_name": "Python 3.8.5 64-bit"
  },
  "metadata": {
   "interpreter": {
    "hash": "31f2aee4e71d21fbe5cf8b01ff0e069b9275f58929596ceb00d14d90e3e16cd6"
   }
  }
 },
 "nbformat": 4,
 "nbformat_minor": 2,
 "cells": [
  {
   "cell_type": "code",
   "execution_count": 1,
   "metadata": {},
   "outputs": [],
   "source": [
    "%load_ext autoreload\n",
    "%autoreload 2"
   ]
  },
  {
   "source": [
    "# 1. Tiến hành đọc hết tất cả các review của các sản phẩm vào một dataframe duy nhất"
   ],
   "cell_type": "markdown",
   "metadata": {}
  },
  {
   "cell_type": "code",
   "execution_count": 2,
   "metadata": {},
   "outputs": [],
   "source": [
    "import pandas as pd\n",
    "import modules.utils as Utils"
   ]
  },
  {
   "cell_type": "code",
   "execution_count": 3,
   "metadata": {
    "tags": []
   },
   "outputs": [],
   "source": [
    "men_reviews = Utils.getFiles(\"../00. Data Scraping/data/shopee_reviews/men/\")\n",
    "women_reviews = Utils.getFiles(\"../00. Data Scraping/data/shopee_reviews/women/\")"
   ]
  },
  {
   "cell_type": "code",
   "execution_count": 4,
   "metadata": {},
   "outputs": [
    {
     "output_type": "execute_result",
     "data": {
      "text/plain": [
       "2151"
      ]
     },
     "metadata": {},
     "execution_count": 4
    }
   ],
   "source": [
    "len(men_reviews) + len(women_reviews)"
   ]
  },
  {
   "source": [
    "> **Nhận xét**\n",
    "> * Có tổng cộng 2151 sản phẩm"
   ],
   "cell_type": "markdown",
   "metadata": {}
  },
  {
   "cell_type": "code",
   "execution_count": 5,
   "metadata": {},
   "outputs": [
    {
     "output_type": "execute_result",
     "data": {
      "text/plain": [
       "['product_71.csv',\n",
       " 'product_694.csv',\n",
       " 'product_898.csv',\n",
       " 'product_1075.csv',\n",
       " 'product_702.csv']"
      ]
     },
     "metadata": {},
     "execution_count": 5
    }
   ],
   "source": [
    "men_reviews[:5]"
   ]
  },
  {
   "cell_type": "code",
   "execution_count": 6,
   "metadata": {},
   "outputs": [],
   "source": [
    "df = pd.read_csv(\"../00. Data Scraping/data/shopee_reviews/men/\" + men_reviews[0])"
   ]
  },
  {
   "cell_type": "code",
   "execution_count": 7,
   "metadata": {},
   "outputs": [],
   "source": [
    "for path in men_reviews[1:]:\n",
    "    tmp_df = pd.read_csv(\"../00. Data Scraping/data/shopee_reviews/men/\" + path)\n",
    "    df = pd.concat([df, tmp_df], axis=0).reset_index(drop=True)"
   ]
  },
  {
   "cell_type": "code",
   "execution_count": 8,
   "metadata": {},
   "outputs": [],
   "source": [
    "for path in women_reviews:\n",
    "    tmp_df = pd.read_csv(\"../00. Data Scraping/data/shopee_reviews/women/\" + path)\n",
    "    df = pd.concat([df, tmp_df], axis=0).reset_index(drop=True)"
   ]
  },
  {
   "cell_type": "code",
   "execution_count": 9,
   "metadata": {},
   "outputs": [
    {
     "output_type": "execute_result",
     "data": {
      "text/plain": [
       "(376706, 2)"
      ]
     },
     "metadata": {},
     "execution_count": 9
    }
   ],
   "source": [
    "df.shape"
   ]
  },
  {
   "cell_type": "code",
   "execution_count": 11,
   "metadata": {},
   "outputs": [
    {
     "output_type": "execute_result",
     "data": {
      "text/plain": [
       "                                                  comment rating\n",
       "0       Lần đầu mua tại shop nhưng rất ưng ý, vải mặc ...      5\n",
       "1       Giao hàng nhanh, shop xịn xò đặt hàng xong là ...      5\n",
       "2       Size vừa vặn luôn, shop mall mà hàng chất lượn...      5\n",
       "3       Sản phẩm chất lượng.đóng gói kĩ.shop nhiệt tìn...      5\n",
       "4       Chất lượng sản phẩm tuyệt vời giao hàng nhanh ...      5\n",
       "...                                                   ...    ...\n",
       "376701  Giao hàng quá chậm. 10 ngày mới có hàng. Sản p...      5\n",
       "376702  Thời gian giao hàng dài. Chất vải tạm ổn với g...      4\n",
       "376703                               Cũng ổn nhìn hay hay      4\n",
       "376704                  nhỏ xíu , ship 2 tuần , thất vọng      5\n",
       "376705                                            Quá oke      5\n",
       "\n",
       "[376706 rows x 2 columns]"
      ],
      "text/html": "<div>\n<style scoped>\n    .dataframe tbody tr th:only-of-type {\n        vertical-align: middle;\n    }\n\n    .dataframe tbody tr th {\n        vertical-align: top;\n    }\n\n    .dataframe thead th {\n        text-align: right;\n    }\n</style>\n<table border=\"1\" class=\"dataframe\">\n  <thead>\n    <tr style=\"text-align: right;\">\n      <th></th>\n      <th>comment</th>\n      <th>rating</th>\n    </tr>\n  </thead>\n  <tbody>\n    <tr>\n      <th>0</th>\n      <td>Lần đầu mua tại shop nhưng rất ưng ý, vải mặc ...</td>\n      <td>5</td>\n    </tr>\n    <tr>\n      <th>1</th>\n      <td>Giao hàng nhanh, shop xịn xò đặt hàng xong là ...</td>\n      <td>5</td>\n    </tr>\n    <tr>\n      <th>2</th>\n      <td>Size vừa vặn luôn, shop mall mà hàng chất lượn...</td>\n      <td>5</td>\n    </tr>\n    <tr>\n      <th>3</th>\n      <td>Sản phẩm chất lượng.đóng gói kĩ.shop nhiệt tìn...</td>\n      <td>5</td>\n    </tr>\n    <tr>\n      <th>4</th>\n      <td>Chất lượng sản phẩm tuyệt vời giao hàng nhanh ...</td>\n      <td>5</td>\n    </tr>\n    <tr>\n      <th>...</th>\n      <td>...</td>\n      <td>...</td>\n    </tr>\n    <tr>\n      <th>376701</th>\n      <td>Giao hàng quá chậm. 10 ngày mới có hàng. Sản p...</td>\n      <td>5</td>\n    </tr>\n    <tr>\n      <th>376702</th>\n      <td>Thời gian giao hàng dài. Chất vải tạm ổn với g...</td>\n      <td>4</td>\n    </tr>\n    <tr>\n      <th>376703</th>\n      <td>Cũng ổn nhìn hay hay</td>\n      <td>4</td>\n    </tr>\n    <tr>\n      <th>376704</th>\n      <td>nhỏ xíu , ship 2 tuần , thất vọng</td>\n      <td>5</td>\n    </tr>\n    <tr>\n      <th>376705</th>\n      <td>Quá oke</td>\n      <td>5</td>\n    </tr>\n  </tbody>\n</table>\n<p>376706 rows × 2 columns</p>\n</div>"
     },
     "metadata": {},
     "execution_count": 11
    }
   ],
   "source": [
    "df"
   ]
  },
  {
   "source": [
    "> **Nhận xét**:\n",
    "> * Có tổng cộng 376,706 review"
   ],
   "cell_type": "markdown",
   "metadata": {}
  },
  {
   "source": [
    "🚩 Ghi ra file csv"
   ],
   "cell_type": "markdown",
   "metadata": {}
  },
  {
   "cell_type": "code",
   "execution_count": 13,
   "metadata": {},
   "outputs": [],
   "source": [
    "df.to_csv(\"./data/data.csv\")"
   ]
  },
  {
   "source": [
    "<hr>"
   ],
   "cell_type": "markdown",
   "metadata": {}
  },
  {
   "source": [
    "# 2. Tìm hiểu dữ liệu"
   ],
   "cell_type": "markdown",
   "metadata": {}
  },
  {
   "source": [
    "🚩 Đánh nhãn cho dữ liệu, nếu rating của khách hàng là:\n",
    "* $\\leq 2$: Tiêu cực\n",
    "* $\\in [3, 4]$: Bình thường\n",
    "* $= 5$: Tích cực"
   ],
   "cell_type": "markdown",
   "metadata": {}
  },
  {
   "cell_type": "code",
   "execution_count": 1,
   "metadata": {},
   "outputs": [],
   "source": [
    "import pandas as pd"
   ]
  },
  {
   "cell_type": "code",
   "execution_count": 4,
   "metadata": {},
   "outputs": [],
   "source": [
    "def rating(pScore):\n",
    "    if pScore <= 2:\n",
    "        return -1\n",
    "    \n",
    "    if pScore <= 4:\n",
    "        return 0\n",
    "    \n",
    "    return 1"
   ]
  },
  {
   "cell_type": "code",
   "execution_count": 2,
   "metadata": {},
   "outputs": [],
   "source": [
    "df = pd.read_csv(\"./data/data.csv\")"
   ]
  },
  {
   "cell_type": "code",
   "execution_count": 5,
   "metadata": {},
   "outputs": [],
   "source": [
    "df['label'] = df['rating'].apply(lambda score: rating(score))"
   ]
  },
  {
   "cell_type": "code",
   "execution_count": 6,
   "metadata": {},
   "outputs": [
    {
     "output_type": "execute_result",
     "data": {
      "text/plain": [
       "        Unnamed: 0                                            comment  rating  \\\n",
       "0                0  Lần đầu mua tại shop nhưng rất ưng ý, vải mặc ...       5   \n",
       "1                1  Giao hàng nhanh, shop xịn xò đặt hàng xong là ...       5   \n",
       "2                2  Size vừa vặn luôn, shop mall mà hàng chất lượn...       5   \n",
       "3                3  Sản phẩm chất lượng.đóng gói kĩ.shop nhiệt tìn...       5   \n",
       "4                4  Chất lượng sản phẩm tuyệt vời giao hàng nhanh ...       5   \n",
       "...            ...                                                ...     ...   \n",
       "376701      376701  Giao hàng quá chậm. 10 ngày mới có hàng. Sản p...       5   \n",
       "376702      376702  Thời gian giao hàng dài. Chất vải tạm ổn với g...       4   \n",
       "376703      376703                               Cũng ổn nhìn hay hay       4   \n",
       "376704      376704                  nhỏ xíu , ship 2 tuần , thất vọng       5   \n",
       "376705      376705                                            Quá oke       5   \n",
       "\n",
       "        label  \n",
       "0           1  \n",
       "1           1  \n",
       "2           1  \n",
       "3           1  \n",
       "4           1  \n",
       "...       ...  \n",
       "376701      1  \n",
       "376702      0  \n",
       "376703      0  \n",
       "376704      1  \n",
       "376705      1  \n",
       "\n",
       "[376706 rows x 4 columns]"
      ],
      "text/html": "<div>\n<style scoped>\n    .dataframe tbody tr th:only-of-type {\n        vertical-align: middle;\n    }\n\n    .dataframe tbody tr th {\n        vertical-align: top;\n    }\n\n    .dataframe thead th {\n        text-align: right;\n    }\n</style>\n<table border=\"1\" class=\"dataframe\">\n  <thead>\n    <tr style=\"text-align: right;\">\n      <th></th>\n      <th>Unnamed: 0</th>\n      <th>comment</th>\n      <th>rating</th>\n      <th>label</th>\n    </tr>\n  </thead>\n  <tbody>\n    <tr>\n      <th>0</th>\n      <td>0</td>\n      <td>Lần đầu mua tại shop nhưng rất ưng ý, vải mặc ...</td>\n      <td>5</td>\n      <td>1</td>\n    </tr>\n    <tr>\n      <th>1</th>\n      <td>1</td>\n      <td>Giao hàng nhanh, shop xịn xò đặt hàng xong là ...</td>\n      <td>5</td>\n      <td>1</td>\n    </tr>\n    <tr>\n      <th>2</th>\n      <td>2</td>\n      <td>Size vừa vặn luôn, shop mall mà hàng chất lượn...</td>\n      <td>5</td>\n      <td>1</td>\n    </tr>\n    <tr>\n      <th>3</th>\n      <td>3</td>\n      <td>Sản phẩm chất lượng.đóng gói kĩ.shop nhiệt tìn...</td>\n      <td>5</td>\n      <td>1</td>\n    </tr>\n    <tr>\n      <th>4</th>\n      <td>4</td>\n      <td>Chất lượng sản phẩm tuyệt vời giao hàng nhanh ...</td>\n      <td>5</td>\n      <td>1</td>\n    </tr>\n    <tr>\n      <th>...</th>\n      <td>...</td>\n      <td>...</td>\n      <td>...</td>\n      <td>...</td>\n    </tr>\n    <tr>\n      <th>376701</th>\n      <td>376701</td>\n      <td>Giao hàng quá chậm. 10 ngày mới có hàng. Sản p...</td>\n      <td>5</td>\n      <td>1</td>\n    </tr>\n    <tr>\n      <th>376702</th>\n      <td>376702</td>\n      <td>Thời gian giao hàng dài. Chất vải tạm ổn với g...</td>\n      <td>4</td>\n      <td>0</td>\n    </tr>\n    <tr>\n      <th>376703</th>\n      <td>376703</td>\n      <td>Cũng ổn nhìn hay hay</td>\n      <td>4</td>\n      <td>0</td>\n    </tr>\n    <tr>\n      <th>376704</th>\n      <td>376704</td>\n      <td>nhỏ xíu , ship 2 tuần , thất vọng</td>\n      <td>5</td>\n      <td>1</td>\n    </tr>\n    <tr>\n      <th>376705</th>\n      <td>376705</td>\n      <td>Quá oke</td>\n      <td>5</td>\n      <td>1</td>\n    </tr>\n  </tbody>\n</table>\n<p>376706 rows × 4 columns</p>\n</div>"
     },
     "metadata": {},
     "execution_count": 6
    }
   ],
   "source": [
    "df"
   ]
  },
  {
   "source": [],
   "cell_type": "markdown",
   "metadata": {}
  },
  {
   "source": [
    "🚩 Đếm nhóm theo `label` và đếm xem có bao nhiêu phần từ thuộc nhóm đó"
   ],
   "cell_type": "markdown",
   "metadata": {}
  },
  {
   "cell_type": "code",
   "execution_count": 9,
   "metadata": {},
   "outputs": [
    {
     "output_type": "execute_result",
     "data": {
      "text/plain": [
       "       Unnamed: 0  comment  rating\n",
       "label                             \n",
       "-1           5525     5525    5525\n",
       " 0          20822    20822   20822\n",
       " 1         350359   350359  350359"
      ],
      "text/html": "<div>\n<style scoped>\n    .dataframe tbody tr th:only-of-type {\n        vertical-align: middle;\n    }\n\n    .dataframe tbody tr th {\n        vertical-align: top;\n    }\n\n    .dataframe thead th {\n        text-align: right;\n    }\n</style>\n<table border=\"1\" class=\"dataframe\">\n  <thead>\n    <tr style=\"text-align: right;\">\n      <th></th>\n      <th>Unnamed: 0</th>\n      <th>comment</th>\n      <th>rating</th>\n    </tr>\n    <tr>\n      <th>label</th>\n      <th></th>\n      <th></th>\n      <th></th>\n    </tr>\n  </thead>\n  <tbody>\n    <tr>\n      <th>-1</th>\n      <td>5525</td>\n      <td>5525</td>\n      <td>5525</td>\n    </tr>\n    <tr>\n      <th>0</th>\n      <td>20822</td>\n      <td>20822</td>\n      <td>20822</td>\n    </tr>\n    <tr>\n      <th>1</th>\n      <td>350359</td>\n      <td>350359</td>\n      <td>350359</td>\n    </tr>\n  </tbody>\n</table>\n</div>"
     },
     "metadata": {},
     "execution_count": 9
    }
   ],
   "source": [
    "df.groupby('label').agg('count')"
   ]
  },
  {
   "cell_type": "code",
   "execution_count": null,
   "metadata": {},
   "outputs": [],
   "source": []
  },
  {
   "cell_type": "code",
   "execution_count": null,
   "metadata": {},
   "outputs": [],
   "source": []
  },
  {
   "cell_type": "code",
   "execution_count": null,
   "metadata": {},
   "outputs": [],
   "source": []
  },
  {
   "cell_type": "code",
   "execution_count": null,
   "metadata": {},
   "outputs": [],
   "source": []
  },
  {
   "cell_type": "code",
   "execution_count": null,
   "metadata": {},
   "outputs": [],
   "source": []
  },
  {
   "cell_type": "code",
   "execution_count": null,
   "metadata": {},
   "outputs": [],
   "source": []
  },
  {
   "cell_type": "code",
   "execution_count": 10,
   "metadata": {},
   "outputs": [],
   "source": [
    "# a['emoji'] = a['comment'].apply(lambda comment: extract_emoji(comment))\n"
   ]
  }
 ]
}