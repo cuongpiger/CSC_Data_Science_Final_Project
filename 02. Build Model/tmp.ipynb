{
 "metadata": {
  "language_info": {
   "codemirror_mode": {
    "name": "ipython",
    "version": 3
   },
   "file_extension": ".py",
   "mimetype": "text/x-python",
   "name": "python",
   "nbconvert_exporter": "python",
   "pygments_lexer": "ipython3",
   "version": "3.8.5"
  },
  "orig_nbformat": 2,
  "kernelspec": {
   "name": "python3",
   "display_name": "Python 3",
   "language": "python"
  }
 },
 "nbformat": 4,
 "nbformat_minor": 2,
 "cells": [
  {
   "cell_type": "code",
   "execution_count": 35,
   "metadata": {},
   "outputs": [],
   "source": [
    "import pandas as pd\n",
    "from sklearn.utils import shuffle"
   ]
  },
  {
   "cell_type": "code",
   "execution_count": 36,
   "metadata": {},
   "outputs": [],
   "source": [
    "data = pd.read_csv(\"../01. Data Preprocessing/data/tokenize_pyvi.csv\")"
   ]
  },
  {
   "cell_type": "code",
   "execution_count": 37,
   "metadata": {},
   "outputs": [
    {
     "output_type": "execute_result",
     "data": {
      "text/plain": [
       "                                                  comment  label  contain_url  \\\n",
       "0       Lần đầu mua tại shop nhưng rất ưng ý, vải mặc ...      1            0   \n",
       "1       Giao hàng nhanh, shop xịn xò đặt hàng xong là ...      1            0   \n",
       "2       Size vừa vặn luôn, shop mall mà hàng chất lượn...      1            0   \n",
       "3       Sản phẩm chất lượng.đóng gói kĩ.shop nhiệt tìn...      1            0   \n",
       "4       Chất lượng sản phẩm tuyệt vời giao hàng nhanh ...      1            0   \n",
       "...                                                   ...    ...          ...   \n",
       "221609                                 Rất dễ thương, đẹp      1            0   \n",
       "221610  Đẹp lắm lun mọi ngừ ơi . Hdhhechhjhshxhdhhxhxh...      1            0   \n",
       "221611                                                Dởm      1            0   \n",
       "221612  Mua 12 món giao đủ. Vừa rẻ vừa chất lượng rất ...      1            0   \n",
       "221613  Dây buộc siêu dễ thương nha mn, còn được tặng ...      1            0   \n",
       "\n",
       "                                                   review  \n",
       "0       lần đầu mua tại shop nhưng rất ưng_ý vải mặc m...  \n",
       "1       giao hàng nhanh shop xịn xò đặt_hàng xong là c...  \n",
       "2       size vừa_vặn luôn shop mà hàng chất_lượng giá ...  \n",
       "3       sản_phẩm_chất_lượng đóng_gói kĩ shop nhiệt_tìn...  \n",
       "4       chất_lượng sản_phẩm tuyệt_vời giao hàng nhanh ...  \n",
       "...                                                   ...  \n",
       "221609                                  rất dễ_thương đẹp  \n",
       "221610                      đẹp lắm luôn mọi người ơi học  \n",
       "221611                                                dởm  \n",
       "221612  mua món giao đủ vừa rẻ vừa chất_lượng rất thíc...  \n",
       "221613  dây buộc siêu dễ_thương nha mọi người còn được...  \n",
       "\n",
       "[221614 rows x 4 columns]"
      ],
      "text/html": "<div>\n<style scoped>\n    .dataframe tbody tr th:only-of-type {\n        vertical-align: middle;\n    }\n\n    .dataframe tbody tr th {\n        vertical-align: top;\n    }\n\n    .dataframe thead th {\n        text-align: right;\n    }\n</style>\n<table border=\"1\" class=\"dataframe\">\n  <thead>\n    <tr style=\"text-align: right;\">\n      <th></th>\n      <th>comment</th>\n      <th>label</th>\n      <th>contain_url</th>\n      <th>review</th>\n    </tr>\n  </thead>\n  <tbody>\n    <tr>\n      <th>0</th>\n      <td>Lần đầu mua tại shop nhưng rất ưng ý, vải mặc ...</td>\n      <td>1</td>\n      <td>0</td>\n      <td>lần đầu mua tại shop nhưng rất ưng_ý vải mặc m...</td>\n    </tr>\n    <tr>\n      <th>1</th>\n      <td>Giao hàng nhanh, shop xịn xò đặt hàng xong là ...</td>\n      <td>1</td>\n      <td>0</td>\n      <td>giao hàng nhanh shop xịn xò đặt_hàng xong là c...</td>\n    </tr>\n    <tr>\n      <th>2</th>\n      <td>Size vừa vặn luôn, shop mall mà hàng chất lượn...</td>\n      <td>1</td>\n      <td>0</td>\n      <td>size vừa_vặn luôn shop mà hàng chất_lượng giá ...</td>\n    </tr>\n    <tr>\n      <th>3</th>\n      <td>Sản phẩm chất lượng.đóng gói kĩ.shop nhiệt tìn...</td>\n      <td>1</td>\n      <td>0</td>\n      <td>sản_phẩm_chất_lượng đóng_gói kĩ shop nhiệt_tìn...</td>\n    </tr>\n    <tr>\n      <th>4</th>\n      <td>Chất lượng sản phẩm tuyệt vời giao hàng nhanh ...</td>\n      <td>1</td>\n      <td>0</td>\n      <td>chất_lượng sản_phẩm tuyệt_vời giao hàng nhanh ...</td>\n    </tr>\n    <tr>\n      <th>...</th>\n      <td>...</td>\n      <td>...</td>\n      <td>...</td>\n      <td>...</td>\n    </tr>\n    <tr>\n      <th>221609</th>\n      <td>Rất dễ thương, đẹp</td>\n      <td>1</td>\n      <td>0</td>\n      <td>rất dễ_thương đẹp</td>\n    </tr>\n    <tr>\n      <th>221610</th>\n      <td>Đẹp lắm lun mọi ngừ ơi . Hdhhechhjhshxhdhhxhxh...</td>\n      <td>1</td>\n      <td>0</td>\n      <td>đẹp lắm luôn mọi người ơi học</td>\n    </tr>\n    <tr>\n      <th>221611</th>\n      <td>Dởm</td>\n      <td>1</td>\n      <td>0</td>\n      <td>dởm</td>\n    </tr>\n    <tr>\n      <th>221612</th>\n      <td>Mua 12 món giao đủ. Vừa rẻ vừa chất lượng rất ...</td>\n      <td>1</td>\n      <td>0</td>\n      <td>mua món giao đủ vừa rẻ vừa chất_lượng rất thíc...</td>\n    </tr>\n    <tr>\n      <th>221613</th>\n      <td>Dây buộc siêu dễ thương nha mn, còn được tặng ...</td>\n      <td>1</td>\n      <td>0</td>\n      <td>dây buộc siêu dễ_thương nha mọi người còn được...</td>\n    </tr>\n  </tbody>\n</table>\n<p>221614 rows × 4 columns</p>\n</div>"
     },
     "metadata": {},
     "execution_count": 37
    }
   ],
   "source": [
    "data"
   ]
  },
  {
   "cell_type": "code",
   "execution_count": 38,
   "metadata": {},
   "outputs": [],
   "source": [
    "data = shuffle(data)"
   ]
  },
  {
   "cell_type": "code",
   "execution_count": 39,
   "metadata": {},
   "outputs": [
    {
     "output_type": "execute_result",
     "data": {
      "text/plain": [
       "                                                  comment  label  contain_url  \\\n",
       "16024   Giao hàng nhanh chóng. Gói cẩn thận. Vải rất o...      1            0   \n",
       "63587   Giao hàng nhanh, chất vải ổn, mặc lên form Ng ...      1            0   \n",
       "202034  Gh nhanh chất lượng vừa túi tiền đường may kém...     -1            0   \n",
       "12823   Tất đẹp, đi thoải mái. Đi 1 buổi đúng là ko hô...      1            0   \n",
       "132303  Cảm ơn shop đã gửi hàng. Quần cỡ hơi nhỏ so vớ...      1            0   \n",
       "...                                                   ...    ...          ...   \n",
       "138478  Chân váy y hình. Đẹp và thơm\\nĐáng mua nhé mn\\...      1            0   \n",
       "55701   Hàng tốt giao hàng nhanh giá thành rẻ rất đáng...      1            0   \n",
       "166319  Dễ thương ma rẽ nua ne .tsidpuflydkysktaktaoya...      1            0   \n",
       "174027  giaoo hàmg hơi lâu lắc. quần lưng cao. nói xhu...      1            0   \n",
       "80173   Đã nhận được hàng, shop đóng gói cẩn thận. Săn...      1            0   \n",
       "\n",
       "                                                   review  \n",
       "16024   giao hàng nhanh_chóng gói cẩn_thận vải rất đán...  \n",
       "63587   giao hàng nhanh chất vải ổn mặc lên đẹp áo đán...  \n",
       "202034  gh nhanh chất_lượng vừa túi tiền_đường may kém...  \n",
       "12823   tất đẹp đi thoải_mái đi buổi đúng là không hôi...  \n",
       "132303  cảm_ơn shop đã gửi hàng quần cỡ hơi nhỏ so với...  \n",
       "...                                                   ...  \n",
       "138478  chân váy y hình đẹp và thơm đáng mua nhé mọi n...  \n",
       "55701   hàng tốt giao hàng nhanh giá_thành rẻ rất đáng...  \n",
       "166319                             dễ_thương ma rẽ nua ne  \n",
       "174027        giao hơi lâu_lắc quần lưng cao nói cũng tạm  \n",
       "80173   đã nhận được hàng shop đóng_gói cẩn_thận săn k...  \n",
       "\n",
       "[221614 rows x 4 columns]"
      ],
      "text/html": "<div>\n<style scoped>\n    .dataframe tbody tr th:only-of-type {\n        vertical-align: middle;\n    }\n\n    .dataframe tbody tr th {\n        vertical-align: top;\n    }\n\n    .dataframe thead th {\n        text-align: right;\n    }\n</style>\n<table border=\"1\" class=\"dataframe\">\n  <thead>\n    <tr style=\"text-align: right;\">\n      <th></th>\n      <th>comment</th>\n      <th>label</th>\n      <th>contain_url</th>\n      <th>review</th>\n    </tr>\n  </thead>\n  <tbody>\n    <tr>\n      <th>16024</th>\n      <td>Giao hàng nhanh chóng. Gói cẩn thận. Vải rất o...</td>\n      <td>1</td>\n      <td>0</td>\n      <td>giao hàng nhanh_chóng gói cẩn_thận vải rất đán...</td>\n    </tr>\n    <tr>\n      <th>63587</th>\n      <td>Giao hàng nhanh, chất vải ổn, mặc lên form Ng ...</td>\n      <td>1</td>\n      <td>0</td>\n      <td>giao hàng nhanh chất vải ổn mặc lên đẹp áo đán...</td>\n    </tr>\n    <tr>\n      <th>202034</th>\n      <td>Gh nhanh chất lượng vừa túi tiền đường may kém...</td>\n      <td>-1</td>\n      <td>0</td>\n      <td>gh nhanh chất_lượng vừa túi tiền_đường may kém...</td>\n    </tr>\n    <tr>\n      <th>12823</th>\n      <td>Tất đẹp, đi thoải mái. Đi 1 buổi đúng là ko hô...</td>\n      <td>1</td>\n      <td>0</td>\n      <td>tất đẹp đi thoải_mái đi buổi đúng là không hôi...</td>\n    </tr>\n    <tr>\n      <th>132303</th>\n      <td>Cảm ơn shop đã gửi hàng. Quần cỡ hơi nhỏ so vớ...</td>\n      <td>1</td>\n      <td>0</td>\n      <td>cảm_ơn shop đã gửi hàng quần cỡ hơi nhỏ so với...</td>\n    </tr>\n    <tr>\n      <th>...</th>\n      <td>...</td>\n      <td>...</td>\n      <td>...</td>\n      <td>...</td>\n    </tr>\n    <tr>\n      <th>138478</th>\n      <td>Chân váy y hình. Đẹp và thơm\\nĐáng mua nhé mn\\...</td>\n      <td>1</td>\n      <td>0</td>\n      <td>chân váy y hình đẹp và thơm đáng mua nhé mọi n...</td>\n    </tr>\n    <tr>\n      <th>55701</th>\n      <td>Hàng tốt giao hàng nhanh giá thành rẻ rất đáng...</td>\n      <td>1</td>\n      <td>0</td>\n      <td>hàng tốt giao hàng nhanh giá_thành rẻ rất đáng...</td>\n    </tr>\n    <tr>\n      <th>166319</th>\n      <td>Dễ thương ma rẽ nua ne .tsidpuflydkysktaktaoya...</td>\n      <td>1</td>\n      <td>0</td>\n      <td>dễ_thương ma rẽ nua ne</td>\n    </tr>\n    <tr>\n      <th>174027</th>\n      <td>giaoo hàmg hơi lâu lắc. quần lưng cao. nói xhu...</td>\n      <td>1</td>\n      <td>0</td>\n      <td>giao hơi lâu_lắc quần lưng cao nói cũng tạm</td>\n    </tr>\n    <tr>\n      <th>80173</th>\n      <td>Đã nhận được hàng, shop đóng gói cẩn thận. Săn...</td>\n      <td>1</td>\n      <td>0</td>\n      <td>đã nhận được hàng shop đóng_gói cẩn_thận săn k...</td>\n    </tr>\n  </tbody>\n</table>\n<p>221614 rows × 4 columns</p>\n</div>"
     },
     "metadata": {},
     "execution_count": 39
    }
   ],
   "source": [
    "data"
   ]
  },
  {
   "cell_type": "code",
   "execution_count": 40,
   "metadata": {},
   "outputs": [],
   "source": [
    "data = data.loc[data['contain_url'] == 0]"
   ]
  },
  {
   "cell_type": "code",
   "execution_count": 41,
   "metadata": {},
   "outputs": [
    {
     "output_type": "execute_result",
     "data": {
      "text/plain": [
       "                                                  comment  label  contain_url  \\\n",
       "16024   Giao hàng nhanh chóng. Gói cẩn thận. Vải rất o...      1            0   \n",
       "63587   Giao hàng nhanh, chất vải ổn, mặc lên form Ng ...      1            0   \n",
       "202034  Gh nhanh chất lượng vừa túi tiền đường may kém...     -1            0   \n",
       "12823   Tất đẹp, đi thoải mái. Đi 1 buổi đúng là ko hô...      1            0   \n",
       "132303  Cảm ơn shop đã gửi hàng. Quần cỡ hơi nhỏ so vớ...      1            0   \n",
       "...                                                   ...    ...          ...   \n",
       "138478  Chân váy y hình. Đẹp và thơm\\nĐáng mua nhé mn\\...      1            0   \n",
       "55701   Hàng tốt giao hàng nhanh giá thành rẻ rất đáng...      1            0   \n",
       "166319  Dễ thương ma rẽ nua ne .tsidpuflydkysktaktaoya...      1            0   \n",
       "174027  giaoo hàmg hơi lâu lắc. quần lưng cao. nói xhu...      1            0   \n",
       "80173   Đã nhận được hàng, shop đóng gói cẩn thận. Săn...      1            0   \n",
       "\n",
       "                                                   review  \n",
       "16024   giao hàng nhanh_chóng gói cẩn_thận vải rất đán...  \n",
       "63587   giao hàng nhanh chất vải ổn mặc lên đẹp áo đán...  \n",
       "202034  gh nhanh chất_lượng vừa túi tiền_đường may kém...  \n",
       "12823   tất đẹp đi thoải_mái đi buổi đúng là không hôi...  \n",
       "132303  cảm_ơn shop đã gửi hàng quần cỡ hơi nhỏ so với...  \n",
       "...                                                   ...  \n",
       "138478  chân váy y hình đẹp và thơm đáng mua nhé mọi n...  \n",
       "55701   hàng tốt giao hàng nhanh giá_thành rẻ rất đáng...  \n",
       "166319                             dễ_thương ma rẽ nua ne  \n",
       "174027        giao hơi lâu_lắc quần lưng cao nói cũng tạm  \n",
       "80173   đã nhận được hàng shop đóng_gói cẩn_thận săn k...  \n",
       "\n",
       "[221165 rows x 4 columns]"
      ],
      "text/html": "<div>\n<style scoped>\n    .dataframe tbody tr th:only-of-type {\n        vertical-align: middle;\n    }\n\n    .dataframe tbody tr th {\n        vertical-align: top;\n    }\n\n    .dataframe thead th {\n        text-align: right;\n    }\n</style>\n<table border=\"1\" class=\"dataframe\">\n  <thead>\n    <tr style=\"text-align: right;\">\n      <th></th>\n      <th>comment</th>\n      <th>label</th>\n      <th>contain_url</th>\n      <th>review</th>\n    </tr>\n  </thead>\n  <tbody>\n    <tr>\n      <th>16024</th>\n      <td>Giao hàng nhanh chóng. Gói cẩn thận. Vải rất o...</td>\n      <td>1</td>\n      <td>0</td>\n      <td>giao hàng nhanh_chóng gói cẩn_thận vải rất đán...</td>\n    </tr>\n    <tr>\n      <th>63587</th>\n      <td>Giao hàng nhanh, chất vải ổn, mặc lên form Ng ...</td>\n      <td>1</td>\n      <td>0</td>\n      <td>giao hàng nhanh chất vải ổn mặc lên đẹp áo đán...</td>\n    </tr>\n    <tr>\n      <th>202034</th>\n      <td>Gh nhanh chất lượng vừa túi tiền đường may kém...</td>\n      <td>-1</td>\n      <td>0</td>\n      <td>gh nhanh chất_lượng vừa túi tiền_đường may kém...</td>\n    </tr>\n    <tr>\n      <th>12823</th>\n      <td>Tất đẹp, đi thoải mái. Đi 1 buổi đúng là ko hô...</td>\n      <td>1</td>\n      <td>0</td>\n      <td>tất đẹp đi thoải_mái đi buổi đúng là không hôi...</td>\n    </tr>\n    <tr>\n      <th>132303</th>\n      <td>Cảm ơn shop đã gửi hàng. Quần cỡ hơi nhỏ so vớ...</td>\n      <td>1</td>\n      <td>0</td>\n      <td>cảm_ơn shop đã gửi hàng quần cỡ hơi nhỏ so với...</td>\n    </tr>\n    <tr>\n      <th>...</th>\n      <td>...</td>\n      <td>...</td>\n      <td>...</td>\n      <td>...</td>\n    </tr>\n    <tr>\n      <th>138478</th>\n      <td>Chân váy y hình. Đẹp và thơm\\nĐáng mua nhé mn\\...</td>\n      <td>1</td>\n      <td>0</td>\n      <td>chân váy y hình đẹp và thơm đáng mua nhé mọi n...</td>\n    </tr>\n    <tr>\n      <th>55701</th>\n      <td>Hàng tốt giao hàng nhanh giá thành rẻ rất đáng...</td>\n      <td>1</td>\n      <td>0</td>\n      <td>hàng tốt giao hàng nhanh giá_thành rẻ rất đáng...</td>\n    </tr>\n    <tr>\n      <th>166319</th>\n      <td>Dễ thương ma rẽ nua ne .tsidpuflydkysktaktaoya...</td>\n      <td>1</td>\n      <td>0</td>\n      <td>dễ_thương ma rẽ nua ne</td>\n    </tr>\n    <tr>\n      <th>174027</th>\n      <td>giaoo hàmg hơi lâu lắc. quần lưng cao. nói xhu...</td>\n      <td>1</td>\n      <td>0</td>\n      <td>giao hơi lâu_lắc quần lưng cao nói cũng tạm</td>\n    </tr>\n    <tr>\n      <th>80173</th>\n      <td>Đã nhận được hàng, shop đóng gói cẩn thận. Săn...</td>\n      <td>1</td>\n      <td>0</td>\n      <td>đã nhận được hàng shop đóng_gói cẩn_thận săn k...</td>\n    </tr>\n  </tbody>\n</table>\n<p>221165 rows × 4 columns</p>\n</div>"
     },
     "metadata": {},
     "execution_count": 41
    }
   ],
   "source": [
    "data"
   ]
  },
  {
   "cell_type": "code",
   "execution_count": 42,
   "metadata": {},
   "outputs": [],
   "source": [
    "tmp = data[['label', 'review']].groupby(['label']).count()"
   ]
  },
  {
   "cell_type": "code",
   "execution_count": 43,
   "metadata": {},
   "outputs": [
    {
     "output_type": "execute_result",
     "data": {
      "text/plain": [
       "       review\n",
       "label        \n",
       "-1       3486\n",
       " 0      11928\n",
       " 1     205749"
      ],
      "text/html": "<div>\n<style scoped>\n    .dataframe tbody tr th:only-of-type {\n        vertical-align: middle;\n    }\n\n    .dataframe tbody tr th {\n        vertical-align: top;\n    }\n\n    .dataframe thead th {\n        text-align: right;\n    }\n</style>\n<table border=\"1\" class=\"dataframe\">\n  <thead>\n    <tr style=\"text-align: right;\">\n      <th></th>\n      <th>review</th>\n    </tr>\n    <tr>\n      <th>label</th>\n      <th></th>\n    </tr>\n  </thead>\n  <tbody>\n    <tr>\n      <th>-1</th>\n      <td>3486</td>\n    </tr>\n    <tr>\n      <th>0</th>\n      <td>11928</td>\n    </tr>\n    <tr>\n      <th>1</th>\n      <td>205749</td>\n    </tr>\n  </tbody>\n</table>\n</div>"
     },
     "metadata": {},
     "execution_count": 43
    }
   ],
   "source": [
    "tmp"
   ]
  },
  {
   "cell_type": "code",
   "execution_count": 44,
   "metadata": {},
   "outputs": [],
   "source": [
    "negative = data.label[data.label.eq(-1)].sample(3486).index\n",
    "normal = data.label[data.label.eq(0)].sample(11928).index\n",
    "positive = data.label[data.label.eq(1)].sample(11928) .index\n",
    "\n",
    "final_data = data.loc[negative.union(normal).union(positive)]"
   ]
  },
  {
   "cell_type": "code",
   "execution_count": 45,
   "metadata": {},
   "outputs": [
    {
     "output_type": "execute_result",
     "data": {
      "text/plain": [
       "                                                  comment  label  contain_url  \\\n",
       "20      giao hàng nhanh chóng đóng gói cẩn thận chất l...      1            0   \n",
       "44      Quần lót bên trong không có vải miếng vải cott...     -1            0   \n",
       "50      Chưa dùng nên mình tạm để 4 sao nha. Dùng rồi ...      0            0   \n",
       "78      Giao hàng nhanh, shiper cực kì thân thiện. Sản...      1            0   \n",
       "93      Hàng đúng như quảng cáo , chất lượng rất tốt ,...      1            0   \n",
       "...                                                   ...    ...          ...   \n",
       "221561                   Ok lắm ạ\\nHỉnh mang kh liên quan      0            0   \n",
       "221591                         Sản phẩm bị lỗi ở nút váy.      0            0   \n",
       "221592                       Shop giao không đúng với mẫu     -1            0   \n",
       "221597            K như mong muốn chỉ thừa nhiều vãi xoăn      0            0   \n",
       "221609                                 Rất dễ thương, đẹp      1            0   \n",
       "\n",
       "                                                   review  \n",
       "20      giao hàng nhanh_chóng đóng_gói cẩn_thận chất_l...  \n",
       "44      quần_lót bên trong không có vải mi vải không c...  \n",
       "50      chưa dùng nên mình tạm để sao nha dùng rồi mìn...  \n",
       "78      giao hàng nhanh cực_kì thân_thiện sản_phẩm màu...  \n",
       "93      hàng đúng như quảng_cáo chất_lượng rất tốt rất...  \n",
       "...                                                   ...  \n",
       "221561                       lắm ạ hỉnh mang kh liên_quan  \n",
       "221591                          sản_phẩm bị lỗi ở nút váy  \n",
       "221592                       shop giao không đúng với mẫu  \n",
       "221597        không như mong_muốn chỉ thừa nhiều vãi xoăn  \n",
       "221609                                  rất dễ_thương đẹp  \n",
       "\n",
       "[27342 rows x 4 columns]"
      ],
      "text/html": "<div>\n<style scoped>\n    .dataframe tbody tr th:only-of-type {\n        vertical-align: middle;\n    }\n\n    .dataframe tbody tr th {\n        vertical-align: top;\n    }\n\n    .dataframe thead th {\n        text-align: right;\n    }\n</style>\n<table border=\"1\" class=\"dataframe\">\n  <thead>\n    <tr style=\"text-align: right;\">\n      <th></th>\n      <th>comment</th>\n      <th>label</th>\n      <th>contain_url</th>\n      <th>review</th>\n    </tr>\n  </thead>\n  <tbody>\n    <tr>\n      <th>20</th>\n      <td>giao hàng nhanh chóng đóng gói cẩn thận chất l...</td>\n      <td>1</td>\n      <td>0</td>\n      <td>giao hàng nhanh_chóng đóng_gói cẩn_thận chất_l...</td>\n    </tr>\n    <tr>\n      <th>44</th>\n      <td>Quần lót bên trong không có vải miếng vải cott...</td>\n      <td>-1</td>\n      <td>0</td>\n      <td>quần_lót bên trong không có vải mi vải không c...</td>\n    </tr>\n    <tr>\n      <th>50</th>\n      <td>Chưa dùng nên mình tạm để 4 sao nha. Dùng rồi ...</td>\n      <td>0</td>\n      <td>0</td>\n      <td>chưa dùng nên mình tạm để sao nha dùng rồi mìn...</td>\n    </tr>\n    <tr>\n      <th>78</th>\n      <td>Giao hàng nhanh, shiper cực kì thân thiện. Sản...</td>\n      <td>1</td>\n      <td>0</td>\n      <td>giao hàng nhanh cực_kì thân_thiện sản_phẩm màu...</td>\n    </tr>\n    <tr>\n      <th>93</th>\n      <td>Hàng đúng như quảng cáo , chất lượng rất tốt ,...</td>\n      <td>1</td>\n      <td>0</td>\n      <td>hàng đúng như quảng_cáo chất_lượng rất tốt rất...</td>\n    </tr>\n    <tr>\n      <th>...</th>\n      <td>...</td>\n      <td>...</td>\n      <td>...</td>\n      <td>...</td>\n    </tr>\n    <tr>\n      <th>221561</th>\n      <td>Ok lắm ạ\\nHỉnh mang kh liên quan</td>\n      <td>0</td>\n      <td>0</td>\n      <td>lắm ạ hỉnh mang kh liên_quan</td>\n    </tr>\n    <tr>\n      <th>221591</th>\n      <td>Sản phẩm bị lỗi ở nút váy.</td>\n      <td>0</td>\n      <td>0</td>\n      <td>sản_phẩm bị lỗi ở nút váy</td>\n    </tr>\n    <tr>\n      <th>221592</th>\n      <td>Shop giao không đúng với mẫu</td>\n      <td>-1</td>\n      <td>0</td>\n      <td>shop giao không đúng với mẫu</td>\n    </tr>\n    <tr>\n      <th>221597</th>\n      <td>K như mong muốn chỉ thừa nhiều vãi xoăn</td>\n      <td>0</td>\n      <td>0</td>\n      <td>không như mong_muốn chỉ thừa nhiều vãi xoăn</td>\n    </tr>\n    <tr>\n      <th>221609</th>\n      <td>Rất dễ thương, đẹp</td>\n      <td>1</td>\n      <td>0</td>\n      <td>rất dễ_thương đẹp</td>\n    </tr>\n  </tbody>\n</table>\n<p>27342 rows × 4 columns</p>\n</div>"
     },
     "metadata": {},
     "execution_count": 45
    }
   ],
   "source": [
    "final_data"
   ]
  },
  {
   "cell_type": "code",
   "execution_count": 46,
   "metadata": {},
   "outputs": [],
   "source": [
    "final_data = final_data.reset_index(drop=True)"
   ]
  },
  {
   "cell_type": "code",
   "execution_count": 47,
   "metadata": {},
   "outputs": [
    {
     "output_type": "execute_result",
     "data": {
      "text/plain": [
       "                                                 comment  label  contain_url  \\\n",
       "0      giao hàng nhanh chóng đóng gói cẩn thận chất l...      1            0   \n",
       "1      Quần lót bên trong không có vải miếng vải cott...     -1            0   \n",
       "2      Chưa dùng nên mình tạm để 4 sao nha. Dùng rồi ...      0            0   \n",
       "3      Giao hàng nhanh, shiper cực kì thân thiện. Sản...      1            0   \n",
       "4      Hàng đúng như quảng cáo , chất lượng rất tốt ,...      1            0   \n",
       "...                                                  ...    ...          ...   \n",
       "27337                   Ok lắm ạ\\nHỉnh mang kh liên quan      0            0   \n",
       "27338                         Sản phẩm bị lỗi ở nút váy.      0            0   \n",
       "27339                       Shop giao không đúng với mẫu     -1            0   \n",
       "27340            K như mong muốn chỉ thừa nhiều vãi xoăn      0            0   \n",
       "27341                                 Rất dễ thương, đẹp      1            0   \n",
       "\n",
       "                                                  review  \n",
       "0      giao hàng nhanh_chóng đóng_gói cẩn_thận chất_l...  \n",
       "1      quần_lót bên trong không có vải mi vải không c...  \n",
       "2      chưa dùng nên mình tạm để sao nha dùng rồi mìn...  \n",
       "3      giao hàng nhanh cực_kì thân_thiện sản_phẩm màu...  \n",
       "4      hàng đúng như quảng_cáo chất_lượng rất tốt rất...  \n",
       "...                                                  ...  \n",
       "27337                       lắm ạ hỉnh mang kh liên_quan  \n",
       "27338                          sản_phẩm bị lỗi ở nút váy  \n",
       "27339                       shop giao không đúng với mẫu  \n",
       "27340        không như mong_muốn chỉ thừa nhiều vãi xoăn  \n",
       "27341                                  rất dễ_thương đẹp  \n",
       "\n",
       "[27342 rows x 4 columns]"
      ],
      "text/html": "<div>\n<style scoped>\n    .dataframe tbody tr th:only-of-type {\n        vertical-align: middle;\n    }\n\n    .dataframe tbody tr th {\n        vertical-align: top;\n    }\n\n    .dataframe thead th {\n        text-align: right;\n    }\n</style>\n<table border=\"1\" class=\"dataframe\">\n  <thead>\n    <tr style=\"text-align: right;\">\n      <th></th>\n      <th>comment</th>\n      <th>label</th>\n      <th>contain_url</th>\n      <th>review</th>\n    </tr>\n  </thead>\n  <tbody>\n    <tr>\n      <th>0</th>\n      <td>giao hàng nhanh chóng đóng gói cẩn thận chất l...</td>\n      <td>1</td>\n      <td>0</td>\n      <td>giao hàng nhanh_chóng đóng_gói cẩn_thận chất_l...</td>\n    </tr>\n    <tr>\n      <th>1</th>\n      <td>Quần lót bên trong không có vải miếng vải cott...</td>\n      <td>-1</td>\n      <td>0</td>\n      <td>quần_lót bên trong không có vải mi vải không c...</td>\n    </tr>\n    <tr>\n      <th>2</th>\n      <td>Chưa dùng nên mình tạm để 4 sao nha. Dùng rồi ...</td>\n      <td>0</td>\n      <td>0</td>\n      <td>chưa dùng nên mình tạm để sao nha dùng rồi mìn...</td>\n    </tr>\n    <tr>\n      <th>3</th>\n      <td>Giao hàng nhanh, shiper cực kì thân thiện. Sản...</td>\n      <td>1</td>\n      <td>0</td>\n      <td>giao hàng nhanh cực_kì thân_thiện sản_phẩm màu...</td>\n    </tr>\n    <tr>\n      <th>4</th>\n      <td>Hàng đúng như quảng cáo , chất lượng rất tốt ,...</td>\n      <td>1</td>\n      <td>0</td>\n      <td>hàng đúng như quảng_cáo chất_lượng rất tốt rất...</td>\n    </tr>\n    <tr>\n      <th>...</th>\n      <td>...</td>\n      <td>...</td>\n      <td>...</td>\n      <td>...</td>\n    </tr>\n    <tr>\n      <th>27337</th>\n      <td>Ok lắm ạ\\nHỉnh mang kh liên quan</td>\n      <td>0</td>\n      <td>0</td>\n      <td>lắm ạ hỉnh mang kh liên_quan</td>\n    </tr>\n    <tr>\n      <th>27338</th>\n      <td>Sản phẩm bị lỗi ở nút váy.</td>\n      <td>0</td>\n      <td>0</td>\n      <td>sản_phẩm bị lỗi ở nút váy</td>\n    </tr>\n    <tr>\n      <th>27339</th>\n      <td>Shop giao không đúng với mẫu</td>\n      <td>-1</td>\n      <td>0</td>\n      <td>shop giao không đúng với mẫu</td>\n    </tr>\n    <tr>\n      <th>27340</th>\n      <td>K như mong muốn chỉ thừa nhiều vãi xoăn</td>\n      <td>0</td>\n      <td>0</td>\n      <td>không như mong_muốn chỉ thừa nhiều vãi xoăn</td>\n    </tr>\n    <tr>\n      <th>27341</th>\n      <td>Rất dễ thương, đẹp</td>\n      <td>1</td>\n      <td>0</td>\n      <td>rất dễ_thương đẹp</td>\n    </tr>\n  </tbody>\n</table>\n<p>27342 rows × 4 columns</p>\n</div>"
     },
     "metadata": {},
     "execution_count": 47
    }
   ],
   "source": [
    "final_data"
   ]
  },
  {
   "source": [
    "🚩 Thực hiện tfidf"
   ],
   "cell_type": "markdown",
   "metadata": {}
  },
  {
   "cell_type": "code",
   "execution_count": 48,
   "metadata": {},
   "outputs": [],
   "source": [
    "from sklearn.feature_extraction.text import TfidfVectorizer"
   ]
  },
  {
   "cell_type": "code",
   "execution_count": 49,
   "metadata": {},
   "outputs": [],
   "source": [
    "tf_idf = TfidfVectorizer(min_df=10, max_df=0.8, max_features=5000, sublinear_tf=True)\n",
    "tf_idf.fit(final_data['review'])\n",
    "X = tf_idf.transform(final_data['review'])"
   ]
  },
  {
   "cell_type": "code",
   "execution_count": 51,
   "metadata": {},
   "outputs": [
    {
     "output_type": "execute_result",
     "data": {
      "text/plain": [
       "(27342, 1597)"
      ]
     },
     "metadata": {},
     "execution_count": 51
    }
   ],
   "source": [
    "X.shape"
   ]
  },
  {
   "cell_type": "code",
   "execution_count": 52,
   "metadata": {},
   "outputs": [],
   "source": [
    "y = final_data['label']"
   ]
  },
  {
   "cell_type": "code",
   "execution_count": 56,
   "metadata": {},
   "outputs": [],
   "source": [
    "from sklearn.linear_model import LogisticRegression\n",
    "from sklearn.model_selection import train_test_split\n",
    "from sklearn.metrics import classification_report"
   ]
  },
  {
   "cell_type": "code",
   "execution_count": 55,
   "metadata": {},
   "outputs": [],
   "source": [
    "X_train, X_test, y_train, y_test = train_test_split(X, y, test_size=0.2, random_state=10, shuffle=True)"
   ]
  },
  {
   "cell_type": "code",
   "execution_count": 58,
   "metadata": {},
   "outputs": [
    {
     "output_type": "stream",
     "name": "stderr",
     "text": [
      "/home/manhcuong/.local/lib/python3.8/site-packages/sklearn/linear_model/_logistic.py:763: ConvergenceWarning: lbfgs failed to converge (status=1):\nSTOP: TOTAL NO. of ITERATIONS REACHED LIMIT.\n\nIncrease the number of iterations (max_iter) or scale the data as shown in:\n    https://scikit-learn.org/stable/modules/preprocessing.html\nPlease also refer to the documentation for alternative solver options:\n    https://scikit-learn.org/stable/modules/linear_model.html#logistic-regression\n  n_iter_i = _check_optimize_result(\n"
     ]
    }
   ],
   "source": [
    "model = LogisticRegression()\n",
    "model.fit(X_train, y_train)\n",
    "y_pre = model.predict(X_test)"
   ]
  },
  {
   "cell_type": "code",
   "execution_count": 59,
   "metadata": {},
   "outputs": [
    {
     "output_type": "stream",
     "name": "stdout",
     "text": [
      "              precision    recall  f1-score   support\n\n          -1       0.63      0.40      0.49       700\n           0       0.69      0.78      0.73      2406\n           1       0.82      0.80      0.81      2363\n\n    accuracy                           0.74      5469\n   macro avg       0.71      0.66      0.68      5469\nweighted avg       0.74      0.74      0.74      5469\n\n"
     ]
    }
   ],
   "source": [
    "print(classification_report(y_test,y_pre))"
   ]
  },
  {
   "source": [
    "<hr>"
   ],
   "cell_type": "markdown",
   "metadata": {}
  },
  {
   "source": [
    "🚩 Over-sampling"
   ],
   "cell_type": "markdown",
   "metadata": {}
  },
  {
   "cell_type": "code",
   "execution_count": 29,
   "metadata": {},
   "outputs": [],
   "source": [
    "from imblearn.over_sampling import RandomOverSampler"
   ]
  },
  {
   "cell_type": "code",
   "execution_count": 60,
   "metadata": {},
   "outputs": [],
   "source": [
    "ros = RandomOverSampler()\n",
    "X_ros, y_ros = ros.fit_resample(X, y)"
   ]
  },
  {
   "cell_type": "code",
   "execution_count": 62,
   "metadata": {},
   "outputs": [
    {
     "output_type": "execute_result",
     "data": {
      "text/plain": [
       "(35784, 1597)"
      ]
     },
     "metadata": {},
     "execution_count": 62
    }
   ],
   "source": [
    "X_ros.shape"
   ]
  },
  {
   "cell_type": "code",
   "execution_count": 63,
   "metadata": {},
   "outputs": [],
   "source": [
    "from collections import Counter"
   ]
  },
  {
   "cell_type": "code",
   "execution_count": 64,
   "metadata": {},
   "outputs": [
    {
     "output_type": "stream",
     "name": "stdout",
     "text": [
      "Counter({1: 11928, -1: 11928, 0: 11928})\n"
     ]
    }
   ],
   "source": [
    "print(Counter(y_ros))"
   ]
  },
  {
   "cell_type": "code",
   "execution_count": 68,
   "metadata": {},
   "outputs": [],
   "source": [
    "X_train, X_test, y_train, y_test = train_test_split(X_ros, y_ros, test_size=0.2, random_state=10, shuffle=True)"
   ]
  },
  {
   "cell_type": "code",
   "execution_count": 69,
   "metadata": {},
   "outputs": [
    {
     "output_type": "stream",
     "name": "stderr",
     "text": [
      "/home/manhcuong/.local/lib/python3.8/site-packages/sklearn/linear_model/_logistic.py:763: ConvergenceWarning: lbfgs failed to converge (status=1):\nSTOP: TOTAL NO. of ITERATIONS REACHED LIMIT.\n\nIncrease the number of iterations (max_iter) or scale the data as shown in:\n    https://scikit-learn.org/stable/modules/preprocessing.html\nPlease also refer to the documentation for alternative solver options:\n    https://scikit-learn.org/stable/modules/linear_model.html#logistic-regression\n  n_iter_i = _check_optimize_result(\n"
     ]
    }
   ],
   "source": [
    "model = LogisticRegression()\n",
    "model.fit(X_train, y_train)\n",
    "y_pre = model.predict(X_test)"
   ]
  },
  {
   "cell_type": "code",
   "execution_count": 70,
   "metadata": {},
   "outputs": [
    {
     "output_type": "stream",
     "name": "stdout",
     "text": [
      "              precision    recall  f1-score   support\n\n          -1       0.74      0.82      0.78      2356\n           0       0.65      0.59      0.62      2415\n           1       0.81      0.78      0.80      2386\n\n    accuracy                           0.73      7157\n   macro avg       0.73      0.73      0.73      7157\nweighted avg       0.73      0.73      0.73      7157\n\n"
     ]
    }
   ],
   "source": [
    "print(classification_report(y_test,y_pre))"
   ]
  },
  {
   "cell_type": "code",
   "execution_count": null,
   "metadata": {},
   "outputs": [],
   "source": []
  }
 ]
}