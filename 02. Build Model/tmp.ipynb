{
 "metadata": {
  "language_info": {
   "codemirror_mode": {
    "name": "ipython",
    "version": 3
   },
   "file_extension": ".py",
   "mimetype": "text/x-python",
   "name": "python",
   "nbconvert_exporter": "python",
   "pygments_lexer": "ipython3",
   "version": "3.8.5"
  },
  "orig_nbformat": 2,
  "kernelspec": {
   "name": "python3",
   "display_name": "Python 3",
   "language": "python"
  }
 },
 "nbformat": 4,
 "nbformat_minor": 2,
 "cells": [
  {
   "cell_type": "code",
   "execution_count": 19,
   "metadata": {},
   "outputs": [],
   "source": [
    "import pandas as pd\n",
    "from sklearn.utils import shuffle"
   ]
  },
  {
   "cell_type": "code",
   "execution_count": 20,
   "metadata": {},
   "outputs": [],
   "source": [
    "data = pd.read_csv(\"../01. Data Preprocessing/data/tokenize_pyvi.csv\")"
   ]
  },
  {
   "cell_type": "code",
   "execution_count": 21,
   "metadata": {},
   "outputs": [
    {
     "output_type": "execute_result",
     "data": {
      "text/plain": [
       "                                                  comment  rating  label  \\\n",
       "0       Lần đầu mua tại shop nhưng rất ưng ý, vải mặc ...       5      1   \n",
       "1       Giao hàng nhanh, shop xịn xò đặt hàng xong là ...       5      1   \n",
       "2       Size vừa vặn luôn, shop mall mà hàng chất lượn...       5      1   \n",
       "3       Sản phẩm chất lượng.đóng gói kĩ.shop nhiệt tìn...       5      1   \n",
       "4       Chất lượng sản phẩm tuyệt vời giao hàng nhanh ...       5      1   \n",
       "...                                                   ...     ...    ...   \n",
       "221609                                 Rất dễ thương, đẹp       5      1   \n",
       "221610  Đẹp lắm lun mọi ngừ ơi . Hdhhechhjhshxhdhhxhxh...       5      1   \n",
       "221611                                                Dởm       5      1   \n",
       "221612  Mua 12 món giao đủ. Vừa rẻ vừa chất lượng rất ...       5      1   \n",
       "221613  Dây buộc siêu dễ thương nha mn, còn được tặng ...       5      1   \n",
       "\n",
       "        emoji                                  lowercase_comment  contain_url  \\\n",
       "0          []  lần đầu mua tại shop nhưng rất ưng ý vải mặc m...            0   \n",
       "1          []  giao hàng nhanh shop xịn xò đặt hàng xong là c...            0   \n",
       "2          []  size vừa vặn luôn shop mà hàng chất lượng giá ...            0   \n",
       "3          []  sản phẩm chất lượng đóng gói kĩ shop nhiệt tìn...            0   \n",
       "4          []  chất lượng sản phẩm tuyệt vời giao hàng nhanh ...            0   \n",
       "...       ...                                                ...          ...   \n",
       "221609     []                                  rất dễ thương đẹp            0   \n",
       "221610     []                      đẹp lắm luôn mọi người ơi học            0   \n",
       "221611     []                                                dởm            0   \n",
       "221612     []  mua món giao đủ vừa rẻ vừa chất lượng rất thíc...            0   \n",
       "221613  ['🥰']  dây buộc siêu dễ thương nha mọi người còn được...            0   \n",
       "\n",
       "                                         standard_comment  \\\n",
       "0       lần đầu mua tại shop nhưng rất ưng ý vải mặc m...   \n",
       "1       giao hàng nhanh shop xịn xò đặt hàng xong là c...   \n",
       "2       size vừa vặn luôn shop mà hàng chất lượng giá ...   \n",
       "3       sản phẩm chất lượng đóng gói kĩ shop nhiệt tìn...   \n",
       "4       chất lượng sản phẩm tuyệt vời giao hàng nhanh ...   \n",
       "...                                                   ...   \n",
       "221609                                 rất dễ thương đẹp    \n",
       "221610                     đẹp lắm luôn mọi người ơi học    \n",
       "221611                                               dởm    \n",
       "221612  mua món giao đủ vừa rẻ vừa chất lượng rất thíc...   \n",
       "221613  dây buộc siêu dễ thương nha mọi người còn được...   \n",
       "\n",
       "                                                 tokenize  \n",
       "0       ['lần', 'đầu', 'mua', 'tại', 'shop', 'nhưng', ...  \n",
       "1       ['giao', 'hàng', 'nhanh', 'shop', 'xịn', 'xò',...  \n",
       "2       ['size', 'vừa_vặn', 'luôn', 'shop', 'mà', 'hàn...  \n",
       "3       ['sản_phẩm_chất_lượng', 'đóng_gói', 'kĩ', 'sho...  \n",
       "4       ['chất_lượng', 'sản_phẩm', 'tuyệt_vời', 'giao'...  \n",
       "...                                                   ...  \n",
       "221609                        ['rất', 'dễ_thương', 'đẹp']  \n",
       "221610  ['đẹp', 'lắm', 'luôn', 'mọi', 'người', 'ơi', '...  \n",
       "221611                                            ['dởm']  \n",
       "221612  ['mua', 'món', 'giao', 'đủ', 'vừa', 'rẻ', 'vừa...  \n",
       "221613  ['dây', 'buộc', 'siêu', 'dễ_thương', 'nha', 'm...  \n",
       "\n",
       "[221614 rows x 8 columns]"
      ],
      "text/html": "<div>\n<style scoped>\n    .dataframe tbody tr th:only-of-type {\n        vertical-align: middle;\n    }\n\n    .dataframe tbody tr th {\n        vertical-align: top;\n    }\n\n    .dataframe thead th {\n        text-align: right;\n    }\n</style>\n<table border=\"1\" class=\"dataframe\">\n  <thead>\n    <tr style=\"text-align: right;\">\n      <th></th>\n      <th>comment</th>\n      <th>rating</th>\n      <th>label</th>\n      <th>emoji</th>\n      <th>lowercase_comment</th>\n      <th>contain_url</th>\n      <th>standard_comment</th>\n      <th>tokenize</th>\n    </tr>\n  </thead>\n  <tbody>\n    <tr>\n      <th>0</th>\n      <td>Lần đầu mua tại shop nhưng rất ưng ý, vải mặc ...</td>\n      <td>5</td>\n      <td>1</td>\n      <td>[]</td>\n      <td>lần đầu mua tại shop nhưng rất ưng ý vải mặc m...</td>\n      <td>0</td>\n      <td>lần đầu mua tại shop nhưng rất ưng ý vải mặc m...</td>\n      <td>['lần', 'đầu', 'mua', 'tại', 'shop', 'nhưng', ...</td>\n    </tr>\n    <tr>\n      <th>1</th>\n      <td>Giao hàng nhanh, shop xịn xò đặt hàng xong là ...</td>\n      <td>5</td>\n      <td>1</td>\n      <td>[]</td>\n      <td>giao hàng nhanh shop xịn xò đặt hàng xong là c...</td>\n      <td>0</td>\n      <td>giao hàng nhanh shop xịn xò đặt hàng xong là c...</td>\n      <td>['giao', 'hàng', 'nhanh', 'shop', 'xịn', 'xò',...</td>\n    </tr>\n    <tr>\n      <th>2</th>\n      <td>Size vừa vặn luôn, shop mall mà hàng chất lượn...</td>\n      <td>5</td>\n      <td>1</td>\n      <td>[]</td>\n      <td>size vừa vặn luôn shop mà hàng chất lượng giá ...</td>\n      <td>0</td>\n      <td>size vừa vặn luôn shop mà hàng chất lượng giá ...</td>\n      <td>['size', 'vừa_vặn', 'luôn', 'shop', 'mà', 'hàn...</td>\n    </tr>\n    <tr>\n      <th>3</th>\n      <td>Sản phẩm chất lượng.đóng gói kĩ.shop nhiệt tìn...</td>\n      <td>5</td>\n      <td>1</td>\n      <td>[]</td>\n      <td>sản phẩm chất lượng đóng gói kĩ shop nhiệt tìn...</td>\n      <td>0</td>\n      <td>sản phẩm chất lượng đóng gói kĩ shop nhiệt tìn...</td>\n      <td>['sản_phẩm_chất_lượng', 'đóng_gói', 'kĩ', 'sho...</td>\n    </tr>\n    <tr>\n      <th>4</th>\n      <td>Chất lượng sản phẩm tuyệt vời giao hàng nhanh ...</td>\n      <td>5</td>\n      <td>1</td>\n      <td>[]</td>\n      <td>chất lượng sản phẩm tuyệt vời giao hàng nhanh ...</td>\n      <td>0</td>\n      <td>chất lượng sản phẩm tuyệt vời giao hàng nhanh ...</td>\n      <td>['chất_lượng', 'sản_phẩm', 'tuyệt_vời', 'giao'...</td>\n    </tr>\n    <tr>\n      <th>...</th>\n      <td>...</td>\n      <td>...</td>\n      <td>...</td>\n      <td>...</td>\n      <td>...</td>\n      <td>...</td>\n      <td>...</td>\n      <td>...</td>\n    </tr>\n    <tr>\n      <th>221609</th>\n      <td>Rất dễ thương, đẹp</td>\n      <td>5</td>\n      <td>1</td>\n      <td>[]</td>\n      <td>rất dễ thương đẹp</td>\n      <td>0</td>\n      <td>rất dễ thương đẹp</td>\n      <td>['rất', 'dễ_thương', 'đẹp']</td>\n    </tr>\n    <tr>\n      <th>221610</th>\n      <td>Đẹp lắm lun mọi ngừ ơi . Hdhhechhjhshxhdhhxhxh...</td>\n      <td>5</td>\n      <td>1</td>\n      <td>[]</td>\n      <td>đẹp lắm luôn mọi người ơi học</td>\n      <td>0</td>\n      <td>đẹp lắm luôn mọi người ơi học</td>\n      <td>['đẹp', 'lắm', 'luôn', 'mọi', 'người', 'ơi', '...</td>\n    </tr>\n    <tr>\n      <th>221611</th>\n      <td>Dởm</td>\n      <td>5</td>\n      <td>1</td>\n      <td>[]</td>\n      <td>dởm</td>\n      <td>0</td>\n      <td>dởm</td>\n      <td>['dởm']</td>\n    </tr>\n    <tr>\n      <th>221612</th>\n      <td>Mua 12 món giao đủ. Vừa rẻ vừa chất lượng rất ...</td>\n      <td>5</td>\n      <td>1</td>\n      <td>[]</td>\n      <td>mua món giao đủ vừa rẻ vừa chất lượng rất thíc...</td>\n      <td>0</td>\n      <td>mua món giao đủ vừa rẻ vừa chất lượng rất thíc...</td>\n      <td>['mua', 'món', 'giao', 'đủ', 'vừa', 'rẻ', 'vừa...</td>\n    </tr>\n    <tr>\n      <th>221613</th>\n      <td>Dây buộc siêu dễ thương nha mn, còn được tặng ...</td>\n      <td>5</td>\n      <td>1</td>\n      <td>['🥰']</td>\n      <td>dây buộc siêu dễ thương nha mọi người còn được...</td>\n      <td>0</td>\n      <td>dây buộc siêu dễ thương nha mọi người còn được...</td>\n      <td>['dây', 'buộc', 'siêu', 'dễ_thương', 'nha', 'm...</td>\n    </tr>\n  </tbody>\n</table>\n<p>221614 rows × 8 columns</p>\n</div>"
     },
     "metadata": {},
     "execution_count": 21
    }
   ],
   "source": [
    "data"
   ]
  },
  {
   "cell_type": "code",
   "execution_count": 22,
   "metadata": {},
   "outputs": [],
   "source": [
    "data = shuffle(data)"
   ]
  },
  {
   "cell_type": "code",
   "execution_count": 23,
   "metadata": {},
   "outputs": [
    {
     "output_type": "execute_result",
     "data": {
      "text/plain": [
       "                                                  comment  rating  label  \\\n",
       "35408   Ừ thì đẹp lắm, hợp giad tiền nhưng lười review...       5      1   \n",
       "162297  Vòng đẹp lắm nhưng thời gian giao hàng hơi lâu...       5      1   \n",
       "61621   Chất lượng sản phẩm tốt đóng gói cẩn thận. Đượ...       5      1   \n",
       "24363   Vải dày ấm vừa phải và dáng rất đẹp 👍 \\nNhưng ...       5      1   \n",
       "90368                 Hàng rất tuyệt, sẽ ủng hộ lâu dài 👏       5      1   \n",
       "...                                                   ...     ...    ...   \n",
       "188942  Giao đúng sản phẩm , chưa dùng nên chưa biết c...       5      1   \n",
       "79739   Đẹp lắm luôn!! Từ form đến chất mặc vừa in. Sh...       5      1   \n",
       "104728  Ví mỏng. Đường may xấu, chỉ thừa nhiều, K đáng...       3      0   \n",
       "218289   Hàng đẹp, chất lượng, giao hàng nhanh, cho 5 sao       5      1   \n",
       "13024   Nhìn hình mình nghĩ chất liệu khác. Khi nhận h...       5      1   \n",
       "\n",
       "        emoji                                  lowercase_comment  contain_url  \\\n",
       "35408      []              ừ thì đẹp lắm hợp tiền nhưng lười quá            0   \n",
       "162297     []  vòng đẹp lắm nhưng thời gian giao hàng hơi lâu...            0   \n",
       "61621      []  chất lượng sản phẩm tốt đóng gói cẩn thận được...            0   \n",
       "24363   ['👍']  vải dày ấm vừa phải và dáng rất đẹp nhưng đợi ...            0   \n",
       "90368   ['👏']                   hàng rất tuyệt sẽ ủng hộ lâu dài            0   \n",
       "...       ...                                                ...          ...   \n",
       "188942  ['👌']  giao đúng sản phẩm chưa dùng nên chưa bi t chấ...            0   \n",
       "79739   ['🌟']  đẹp lắm luôn từ đ chất mặc vừa in shop nhiệt t...            0   \n",
       "104728     []  ví mỏng đường may xấu chỉ thừa nhiều không đán...            0   \n",
       "218289     []        hàng đẹp chất lượng giao hàng nhanh cho sao            0   \n",
       "13024      []  nhìn hình mình nghĩ chất liệu khác khi nhận hà...            0   \n",
       "\n",
       "                                         standard_comment  \\\n",
       "35408              ừ thì đẹp lắm hợp tiền nhưng lười quá    \n",
       "162297  vòng đẹp lắm nhưng thời gian giao hàng hơi lâu...   \n",
       "61621   chất lượng sản phẩm tốt đóng gói cẩn thận được...   \n",
       "24363   vải dày ấm vừa phải và dáng rất đẹp nhưng đợi ...   \n",
       "90368                  hàng rất tuyệt sẽ ủng hộ lâu dài 👏   \n",
       "...                                                   ...   \n",
       "188942  giao đúng sản phẩm chưa dùng nên chưa bi t chấ...   \n",
       "79739   đẹp lắm luôn từ đ chất mặc vừa in shop nhiệt t...   \n",
       "104728  ví mỏng đường may xấu chỉ thừa nhiều không đán...   \n",
       "218289       hàng đẹp chất lượng giao hàng nhanh cho sao    \n",
       "13024   nhìn hình mình nghĩ chất liệu khác khi nhận hà...   \n",
       "\n",
       "                                                 tokenize  \n",
       "35408   ['ừ', 'thì', 'đẹp', 'lắm', 'hợp', 'tiền', 'như...  \n",
       "162297  ['vòng', 'đẹp', 'lắm', 'nhưng', 'thời_gian', '...  \n",
       "61621   ['chất_lượng', 'sản_phẩm', 'tốt', 'đóng_gói', ...  \n",
       "24363   ['vải', 'dày', 'ấm', 'vừa_phải', 'và', 'dáng',...  \n",
       "90368   ['hàng', 'rất', 'tuyệt', 'sẽ', 'ủng_hộ', 'lâu_...  \n",
       "...                                                   ...  \n",
       "188942  ['giao', 'đúng', 'sản_phẩm', 'chưa', 'dùng', '...  \n",
       "79739   ['đẹp', 'lắm', 'luôn', 'từ', 'đ', 'chất', 'mặc...  \n",
       "104728  ['ví', 'mỏng', 'đường', 'may', 'xấu', 'chỉ', '...  \n",
       "218289  ['hàng', 'đẹp', 'chất_lượng', 'giao', 'hàng', ...  \n",
       "13024   ['nhìn', 'hình', 'mình', 'nghĩ', 'chất_liệu', ...  \n",
       "\n",
       "[221614 rows x 8 columns]"
      ],
      "text/html": "<div>\n<style scoped>\n    .dataframe tbody tr th:only-of-type {\n        vertical-align: middle;\n    }\n\n    .dataframe tbody tr th {\n        vertical-align: top;\n    }\n\n    .dataframe thead th {\n        text-align: right;\n    }\n</style>\n<table border=\"1\" class=\"dataframe\">\n  <thead>\n    <tr style=\"text-align: right;\">\n      <th></th>\n      <th>comment</th>\n      <th>rating</th>\n      <th>label</th>\n      <th>emoji</th>\n      <th>lowercase_comment</th>\n      <th>contain_url</th>\n      <th>standard_comment</th>\n      <th>tokenize</th>\n    </tr>\n  </thead>\n  <tbody>\n    <tr>\n      <th>35408</th>\n      <td>Ừ thì đẹp lắm, hợp giad tiền nhưng lười review...</td>\n      <td>5</td>\n      <td>1</td>\n      <td>[]</td>\n      <td>ừ thì đẹp lắm hợp tiền nhưng lười quá</td>\n      <td>0</td>\n      <td>ừ thì đẹp lắm hợp tiền nhưng lười quá</td>\n      <td>['ừ', 'thì', 'đẹp', 'lắm', 'hợp', 'tiền', 'như...</td>\n    </tr>\n    <tr>\n      <th>162297</th>\n      <td>Vòng đẹp lắm nhưng thời gian giao hàng hơi lâu...</td>\n      <td>5</td>\n      <td>1</td>\n      <td>[]</td>\n      <td>vòng đẹp lắm nhưng thời gian giao hàng hơi lâu...</td>\n      <td>0</td>\n      <td>vòng đẹp lắm nhưng thời gian giao hàng hơi lâu...</td>\n      <td>['vòng', 'đẹp', 'lắm', 'nhưng', 'thời_gian', '...</td>\n    </tr>\n    <tr>\n      <th>61621</th>\n      <td>Chất lượng sản phẩm tốt đóng gói cẩn thận. Đượ...</td>\n      <td>5</td>\n      <td>1</td>\n      <td>[]</td>\n      <td>chất lượng sản phẩm tốt đóng gói cẩn thận được...</td>\n      <td>0</td>\n      <td>chất lượng sản phẩm tốt đóng gói cẩn thận được...</td>\n      <td>['chất_lượng', 'sản_phẩm', 'tốt', 'đóng_gói', ...</td>\n    </tr>\n    <tr>\n      <th>24363</th>\n      <td>Vải dày ấm vừa phải và dáng rất đẹp 👍 \\nNhưng ...</td>\n      <td>5</td>\n      <td>1</td>\n      <td>['👍']</td>\n      <td>vải dày ấm vừa phải và dáng rất đẹp nhưng đợi ...</td>\n      <td>0</td>\n      <td>vải dày ấm vừa phải và dáng rất đẹp nhưng đợi ...</td>\n      <td>['vải', 'dày', 'ấm', 'vừa_phải', 'và', 'dáng',...</td>\n    </tr>\n    <tr>\n      <th>90368</th>\n      <td>Hàng rất tuyệt, sẽ ủng hộ lâu dài 👏</td>\n      <td>5</td>\n      <td>1</td>\n      <td>['👏']</td>\n      <td>hàng rất tuyệt sẽ ủng hộ lâu dài</td>\n      <td>0</td>\n      <td>hàng rất tuyệt sẽ ủng hộ lâu dài 👏</td>\n      <td>['hàng', 'rất', 'tuyệt', 'sẽ', 'ủng_hộ', 'lâu_...</td>\n    </tr>\n    <tr>\n      <th>...</th>\n      <td>...</td>\n      <td>...</td>\n      <td>...</td>\n      <td>...</td>\n      <td>...</td>\n      <td>...</td>\n      <td>...</td>\n      <td>...</td>\n    </tr>\n    <tr>\n      <th>188942</th>\n      <td>Giao đúng sản phẩm , chưa dùng nên chưa biết c...</td>\n      <td>5</td>\n      <td>1</td>\n      <td>['👌']</td>\n      <td>giao đúng sản phẩm chưa dùng nên chưa bi t chấ...</td>\n      <td>0</td>\n      <td>giao đúng sản phẩm chưa dùng nên chưa bi t chấ...</td>\n      <td>['giao', 'đúng', 'sản_phẩm', 'chưa', 'dùng', '...</td>\n    </tr>\n    <tr>\n      <th>79739</th>\n      <td>Đẹp lắm luôn!! Từ form đến chất mặc vừa in. Sh...</td>\n      <td>5</td>\n      <td>1</td>\n      <td>['🌟']</td>\n      <td>đẹp lắm luôn từ đ chất mặc vừa in shop nhiệt t...</td>\n      <td>0</td>\n      <td>đẹp lắm luôn từ đ chất mặc vừa in shop nhiệt t...</td>\n      <td>['đẹp', 'lắm', 'luôn', 'từ', 'đ', 'chất', 'mặc...</td>\n    </tr>\n    <tr>\n      <th>104728</th>\n      <td>Ví mỏng. Đường may xấu, chỉ thừa nhiều, K đáng...</td>\n      <td>3</td>\n      <td>0</td>\n      <td>[]</td>\n      <td>ví mỏng đường may xấu chỉ thừa nhiều không đán...</td>\n      <td>0</td>\n      <td>ví mỏng đường may xấu chỉ thừa nhiều không đán...</td>\n      <td>['ví', 'mỏng', 'đường', 'may', 'xấu', 'chỉ', '...</td>\n    </tr>\n    <tr>\n      <th>218289</th>\n      <td>Hàng đẹp, chất lượng, giao hàng nhanh, cho 5 sao</td>\n      <td>5</td>\n      <td>1</td>\n      <td>[]</td>\n      <td>hàng đẹp chất lượng giao hàng nhanh cho sao</td>\n      <td>0</td>\n      <td>hàng đẹp chất lượng giao hàng nhanh cho sao</td>\n      <td>['hàng', 'đẹp', 'chất_lượng', 'giao', 'hàng', ...</td>\n    </tr>\n    <tr>\n      <th>13024</th>\n      <td>Nhìn hình mình nghĩ chất liệu khác. Khi nhận h...</td>\n      <td>5</td>\n      <td>1</td>\n      <td>[]</td>\n      <td>nhìn hình mình nghĩ chất liệu khác khi nhận hà...</td>\n      <td>0</td>\n      <td>nhìn hình mình nghĩ chất liệu khác khi nhận hà...</td>\n      <td>['nhìn', 'hình', 'mình', 'nghĩ', 'chất_liệu', ...</td>\n    </tr>\n  </tbody>\n</table>\n<p>221614 rows × 8 columns</p>\n</div>"
     },
     "metadata": {},
     "execution_count": 23
    }
   ],
   "source": [
    "data"
   ]
  },
  {
   "cell_type": "code",
   "execution_count": 26,
   "metadata": {},
   "outputs": [],
   "source": [
    "tmp = data[['label', 'standard_comment']].groupby(['label']).count()"
   ]
  },
  {
   "cell_type": "code",
   "execution_count": 27,
   "metadata": {},
   "outputs": [
    {
     "output_type": "execute_result",
     "data": {
      "text/plain": [
       "       standard_comment\n",
       "label                  \n",
       "-1                 3487\n",
       " 0                11934\n",
       " 1               206193"
      ],
      "text/html": "<div>\n<style scoped>\n    .dataframe tbody tr th:only-of-type {\n        vertical-align: middle;\n    }\n\n    .dataframe tbody tr th {\n        vertical-align: top;\n    }\n\n    .dataframe thead th {\n        text-align: right;\n    }\n</style>\n<table border=\"1\" class=\"dataframe\">\n  <thead>\n    <tr style=\"text-align: right;\">\n      <th></th>\n      <th>standard_comment</th>\n    </tr>\n    <tr>\n      <th>label</th>\n      <th></th>\n    </tr>\n  </thead>\n  <tbody>\n    <tr>\n      <th>-1</th>\n      <td>3487</td>\n    </tr>\n    <tr>\n      <th>0</th>\n      <td>11934</td>\n    </tr>\n    <tr>\n      <th>1</th>\n      <td>206193</td>\n    </tr>\n  </tbody>\n</table>\n</div>"
     },
     "metadata": {},
     "execution_count": 27
    }
   ],
   "source": [
    "tmp"
   ]
  },
  {
   "cell_type": "code",
   "execution_count": 28,
   "metadata": {},
   "outputs": [],
   "source": [
    "no_sample = min(tmp['standard_comment'])"
   ]
  },
  {
   "cell_type": "code",
   "execution_count": 29,
   "metadata": {},
   "outputs": [
    {
     "output_type": "execute_result",
     "data": {
      "text/plain": [
       "3487"
      ]
     },
     "metadata": {},
     "execution_count": 29
    }
   ],
   "source": [
    "no_sample"
   ]
  },
  {
   "cell_type": "code",
   "execution_count": 30,
   "metadata": {},
   "outputs": [],
   "source": [
    "negative = data.label[data.label.eq(-1)].sample(no_sample).index\n",
    "normal = data.label[data.label.eq(0)].sample(no_sample).index\n",
    "positive = data.label[data.label.eq(1)].sample(no_sample) .index\n",
    "\n",
    "final_data = data.loc[negative.union(normal).union(positive)]"
   ]
  },
  {
   "cell_type": "code",
   "execution_count": 31,
   "metadata": {},
   "outputs": [
    {
     "output_type": "execute_result",
     "data": {
      "text/plain": [
       "                                                  comment  rating  label  \\\n",
       "44      Quần lót bên trong không có vải miếng vải cott...       2     -1   \n",
       "61      Giao hàng nhanh, chất mỏng mát. Mua sale 1k nê...       5      1   \n",
       "68      Đã nhận được hàng\\nĐóng gói cẩn thận\\nShip nha...       5      1   \n",
       "82      Hết màu đen nên shop có đt hỏi mình đổi màu. P...       5      1   \n",
       "125     Quần cũng được, giá như này là hợp lý, đựng tr...       5      1   \n",
       "...                                                   ...     ...    ...   \n",
       "221443                        Phom\\nNhỏ ,ko dáng tiền mua       1     -1   \n",
       "221465           Tiền nào của đấy.  Không phải giảm giá !       1     -1   \n",
       "221470  Shop ko trung thực\\nMình nhìn thấy shop để địa...       2     -1   \n",
       "221527  Kính được. Nhưng mình đặt màu trắng lại giao m...       2     -1   \n",
       "221592                       Shop giao không đúng với mẫu       1     -1   \n",
       "\n",
       "       emoji                                  lowercase_comment  contain_url  \\\n",
       "44        []  quần lót bên trong không có vải mi vải không c...            0   \n",
       "61        []  giao hàng nhanh chất mỏng mát mua không nên rấ...            0   \n",
       "68        []  đã nhận được hàng đóng gói cẩn thận ship nhanh...            0   \n",
       "82        []  t màu đen nên shop có hỏi mình đổi màu phục vụ...            0   \n",
       "125       []  quần cũng được giá như này là hợp đựng trong t...            0   \n",
       "...      ...                                                ...          ...   \n",
       "221443    []                            nhỏ không dáng tiền mua            0   \n",
       "221465    []               tiền nào của đấy không phải giảm giá            0   \n",
       "221470    []  shop không trung thực mình nhìn thấy shop để đ...            0   \n",
       "221527    []  kính được nhưng mình đặt màu trắng lại giao mà...            0   \n",
       "221592    []                       shop giao không đúng với mẫu            0   \n",
       "\n",
       "                                         standard_comment  \\\n",
       "44      quần lót bên trong không có vải mi vải không c...   \n",
       "61      giao hàng nhanh chất mỏng mát mua không nên rấ...   \n",
       "68      đã nhận được hàng đóng gói cẩn thận ship nhanh...   \n",
       "82      t màu đen nên shop có hỏi mình đổi màu phục vụ...   \n",
       "125     quần cũng được giá như này là hợp đựng trong t...   \n",
       "...                                                   ...   \n",
       "221443                           nhỏ không dáng tiền mua    \n",
       "221465              tiền nào của đấy không phải giảm giá    \n",
       "221470  shop không trung thực mình nhìn thấy shop để đ...   \n",
       "221527  kính được nhưng mình đặt màu trắng lại giao mà...   \n",
       "221592                      shop giao không đúng với mẫu    \n",
       "\n",
       "                                                 tokenize  \n",
       "44      ['quần_lót', 'bên', 'trong', 'không', 'có', 'v...  \n",
       "61      ['giao', 'hàng', 'nhanh', 'chất', 'mỏng', 'mát...  \n",
       "68      ['đã', 'nhận', 'được', 'hàng', 'đóng_gói', 'cẩ...  \n",
       "82      ['t', 'màu', 'đen', 'nên', 'shop', 'có', 'hỏi'...  \n",
       "125     ['quần', 'cũng', 'được', 'giá_như', 'này', 'là...  \n",
       "...                                                   ...  \n",
       "221443            ['nhỏ', 'không', 'dáng', 'tiền', 'mua']  \n",
       "221465  ['tiền', 'nào', 'của', 'đấy', 'không', 'phải',...  \n",
       "221470  ['shop', 'không_trung_thực', 'mình', 'nhìn', '...  \n",
       "221527  ['kính', 'được', 'nhưng', 'mình', 'đặt', 'màu'...  \n",
       "221592    ['shop', 'giao', 'không', 'đúng', 'với', 'mẫu']  \n",
       "\n",
       "[10461 rows x 8 columns]"
      ],
      "text/html": "<div>\n<style scoped>\n    .dataframe tbody tr th:only-of-type {\n        vertical-align: middle;\n    }\n\n    .dataframe tbody tr th {\n        vertical-align: top;\n    }\n\n    .dataframe thead th {\n        text-align: right;\n    }\n</style>\n<table border=\"1\" class=\"dataframe\">\n  <thead>\n    <tr style=\"text-align: right;\">\n      <th></th>\n      <th>comment</th>\n      <th>rating</th>\n      <th>label</th>\n      <th>emoji</th>\n      <th>lowercase_comment</th>\n      <th>contain_url</th>\n      <th>standard_comment</th>\n      <th>tokenize</th>\n    </tr>\n  </thead>\n  <tbody>\n    <tr>\n      <th>44</th>\n      <td>Quần lót bên trong không có vải miếng vải cott...</td>\n      <td>2</td>\n      <td>-1</td>\n      <td>[]</td>\n      <td>quần lót bên trong không có vải mi vải không c...</td>\n      <td>0</td>\n      <td>quần lót bên trong không có vải mi vải không c...</td>\n      <td>['quần_lót', 'bên', 'trong', 'không', 'có', 'v...</td>\n    </tr>\n    <tr>\n      <th>61</th>\n      <td>Giao hàng nhanh, chất mỏng mát. Mua sale 1k nê...</td>\n      <td>5</td>\n      <td>1</td>\n      <td>[]</td>\n      <td>giao hàng nhanh chất mỏng mát mua không nên rấ...</td>\n      <td>0</td>\n      <td>giao hàng nhanh chất mỏng mát mua không nên rấ...</td>\n      <td>['giao', 'hàng', 'nhanh', 'chất', 'mỏng', 'mát...</td>\n    </tr>\n    <tr>\n      <th>68</th>\n      <td>Đã nhận được hàng\\nĐóng gói cẩn thận\\nShip nha...</td>\n      <td>5</td>\n      <td>1</td>\n      <td>[]</td>\n      <td>đã nhận được hàng đóng gói cẩn thận ship nhanh...</td>\n      <td>0</td>\n      <td>đã nhận được hàng đóng gói cẩn thận ship nhanh...</td>\n      <td>['đã', 'nhận', 'được', 'hàng', 'đóng_gói', 'cẩ...</td>\n    </tr>\n    <tr>\n      <th>82</th>\n      <td>Hết màu đen nên shop có đt hỏi mình đổi màu. P...</td>\n      <td>5</td>\n      <td>1</td>\n      <td>[]</td>\n      <td>t màu đen nên shop có hỏi mình đổi màu phục vụ...</td>\n      <td>0</td>\n      <td>t màu đen nên shop có hỏi mình đổi màu phục vụ...</td>\n      <td>['t', 'màu', 'đen', 'nên', 'shop', 'có', 'hỏi'...</td>\n    </tr>\n    <tr>\n      <th>125</th>\n      <td>Quần cũng được, giá như này là hợp lý, đựng tr...</td>\n      <td>5</td>\n      <td>1</td>\n      <td>[]</td>\n      <td>quần cũng được giá như này là hợp đựng trong t...</td>\n      <td>0</td>\n      <td>quần cũng được giá như này là hợp đựng trong t...</td>\n      <td>['quần', 'cũng', 'được', 'giá_như', 'này', 'là...</td>\n    </tr>\n    <tr>\n      <th>...</th>\n      <td>...</td>\n      <td>...</td>\n      <td>...</td>\n      <td>...</td>\n      <td>...</td>\n      <td>...</td>\n      <td>...</td>\n      <td>...</td>\n    </tr>\n    <tr>\n      <th>221443</th>\n      <td>Phom\\nNhỏ ,ko dáng tiền mua</td>\n      <td>1</td>\n      <td>-1</td>\n      <td>[]</td>\n      <td>nhỏ không dáng tiền mua</td>\n      <td>0</td>\n      <td>nhỏ không dáng tiền mua</td>\n      <td>['nhỏ', 'không', 'dáng', 'tiền', 'mua']</td>\n    </tr>\n    <tr>\n      <th>221465</th>\n      <td>Tiền nào của đấy.  Không phải giảm giá !</td>\n      <td>1</td>\n      <td>-1</td>\n      <td>[]</td>\n      <td>tiền nào của đấy không phải giảm giá</td>\n      <td>0</td>\n      <td>tiền nào của đấy không phải giảm giá</td>\n      <td>['tiền', 'nào', 'của', 'đấy', 'không', 'phải',...</td>\n    </tr>\n    <tr>\n      <th>221470</th>\n      <td>Shop ko trung thực\\nMình nhìn thấy shop để địa...</td>\n      <td>2</td>\n      <td>-1</td>\n      <td>[]</td>\n      <td>shop không trung thực mình nhìn thấy shop để đ...</td>\n      <td>0</td>\n      <td>shop không trung thực mình nhìn thấy shop để đ...</td>\n      <td>['shop', 'không_trung_thực', 'mình', 'nhìn', '...</td>\n    </tr>\n    <tr>\n      <th>221527</th>\n      <td>Kính được. Nhưng mình đặt màu trắng lại giao m...</td>\n      <td>2</td>\n      <td>-1</td>\n      <td>[]</td>\n      <td>kính được nhưng mình đặt màu trắng lại giao mà...</td>\n      <td>0</td>\n      <td>kính được nhưng mình đặt màu trắng lại giao mà...</td>\n      <td>['kính', 'được', 'nhưng', 'mình', 'đặt', 'màu'...</td>\n    </tr>\n    <tr>\n      <th>221592</th>\n      <td>Shop giao không đúng với mẫu</td>\n      <td>1</td>\n      <td>-1</td>\n      <td>[]</td>\n      <td>shop giao không đúng với mẫu</td>\n      <td>0</td>\n      <td>shop giao không đúng với mẫu</td>\n      <td>['shop', 'giao', 'không', 'đúng', 'với', 'mẫu']</td>\n    </tr>\n  </tbody>\n</table>\n<p>10461 rows × 8 columns</p>\n</div>"
     },
     "metadata": {},
     "execution_count": 31
    }
   ],
   "source": [
    "final_data"
   ]
  },
  {
   "cell_type": "code",
   "execution_count": 32,
   "metadata": {},
   "outputs": [],
   "source": [
    "final_data = final_data.reset_index(drop=True)"
   ]
  },
  {
   "cell_type": "code",
   "execution_count": 33,
   "metadata": {},
   "outputs": [
    {
     "output_type": "execute_result",
     "data": {
      "text/plain": [
       "                                                 comment  rating  label emoji  \\\n",
       "0      Quần lót bên trong không có vải miếng vải cott...       2     -1    []   \n",
       "1      Giao hàng nhanh, chất mỏng mát. Mua sale 1k nê...       5      1    []   \n",
       "2      Đã nhận được hàng\\nĐóng gói cẩn thận\\nShip nha...       5      1    []   \n",
       "3      Hết màu đen nên shop có đt hỏi mình đổi màu. P...       5      1    []   \n",
       "4      Quần cũng được, giá như này là hợp lý, đựng tr...       5      1    []   \n",
       "...                                                  ...     ...    ...   ...   \n",
       "10456                        Phom\\nNhỏ ,ko dáng tiền mua       1     -1    []   \n",
       "10457           Tiền nào của đấy.  Không phải giảm giá !       1     -1    []   \n",
       "10458  Shop ko trung thực\\nMình nhìn thấy shop để địa...       2     -1    []   \n",
       "10459  Kính được. Nhưng mình đặt màu trắng lại giao m...       2     -1    []   \n",
       "10460                       Shop giao không đúng với mẫu       1     -1    []   \n",
       "\n",
       "                                       lowercase_comment  contain_url  \\\n",
       "0      quần lót bên trong không có vải mi vải không c...            0   \n",
       "1      giao hàng nhanh chất mỏng mát mua không nên rấ...            0   \n",
       "2      đã nhận được hàng đóng gói cẩn thận ship nhanh...            0   \n",
       "3      t màu đen nên shop có hỏi mình đổi màu phục vụ...            0   \n",
       "4      quần cũng được giá như này là hợp đựng trong t...            0   \n",
       "...                                                  ...          ...   \n",
       "10456                            nhỏ không dáng tiền mua            0   \n",
       "10457               tiền nào của đấy không phải giảm giá            0   \n",
       "10458  shop không trung thực mình nhìn thấy shop để đ...            0   \n",
       "10459  kính được nhưng mình đặt màu trắng lại giao mà...            0   \n",
       "10460                       shop giao không đúng với mẫu            0   \n",
       "\n",
       "                                        standard_comment  \\\n",
       "0      quần lót bên trong không có vải mi vải không c...   \n",
       "1      giao hàng nhanh chất mỏng mát mua không nên rấ...   \n",
       "2      đã nhận được hàng đóng gói cẩn thận ship nhanh...   \n",
       "3      t màu đen nên shop có hỏi mình đổi màu phục vụ...   \n",
       "4      quần cũng được giá như này là hợp đựng trong t...   \n",
       "...                                                  ...   \n",
       "10456                           nhỏ không dáng tiền mua    \n",
       "10457              tiền nào của đấy không phải giảm giá    \n",
       "10458  shop không trung thực mình nhìn thấy shop để đ...   \n",
       "10459  kính được nhưng mình đặt màu trắng lại giao mà...   \n",
       "10460                      shop giao không đúng với mẫu    \n",
       "\n",
       "                                                tokenize  \n",
       "0      ['quần_lót', 'bên', 'trong', 'không', 'có', 'v...  \n",
       "1      ['giao', 'hàng', 'nhanh', 'chất', 'mỏng', 'mát...  \n",
       "2      ['đã', 'nhận', 'được', 'hàng', 'đóng_gói', 'cẩ...  \n",
       "3      ['t', 'màu', 'đen', 'nên', 'shop', 'có', 'hỏi'...  \n",
       "4      ['quần', 'cũng', 'được', 'giá_như', 'này', 'là...  \n",
       "...                                                  ...  \n",
       "10456            ['nhỏ', 'không', 'dáng', 'tiền', 'mua']  \n",
       "10457  ['tiền', 'nào', 'của', 'đấy', 'không', 'phải',...  \n",
       "10458  ['shop', 'không_trung_thực', 'mình', 'nhìn', '...  \n",
       "10459  ['kính', 'được', 'nhưng', 'mình', 'đặt', 'màu'...  \n",
       "10460    ['shop', 'giao', 'không', 'đúng', 'với', 'mẫu']  \n",
       "\n",
       "[10461 rows x 8 columns]"
      ],
      "text/html": "<div>\n<style scoped>\n    .dataframe tbody tr th:only-of-type {\n        vertical-align: middle;\n    }\n\n    .dataframe tbody tr th {\n        vertical-align: top;\n    }\n\n    .dataframe thead th {\n        text-align: right;\n    }\n</style>\n<table border=\"1\" class=\"dataframe\">\n  <thead>\n    <tr style=\"text-align: right;\">\n      <th></th>\n      <th>comment</th>\n      <th>rating</th>\n      <th>label</th>\n      <th>emoji</th>\n      <th>lowercase_comment</th>\n      <th>contain_url</th>\n      <th>standard_comment</th>\n      <th>tokenize</th>\n    </tr>\n  </thead>\n  <tbody>\n    <tr>\n      <th>0</th>\n      <td>Quần lót bên trong không có vải miếng vải cott...</td>\n      <td>2</td>\n      <td>-1</td>\n      <td>[]</td>\n      <td>quần lót bên trong không có vải mi vải không c...</td>\n      <td>0</td>\n      <td>quần lót bên trong không có vải mi vải không c...</td>\n      <td>['quần_lót', 'bên', 'trong', 'không', 'có', 'v...</td>\n    </tr>\n    <tr>\n      <th>1</th>\n      <td>Giao hàng nhanh, chất mỏng mát. Mua sale 1k nê...</td>\n      <td>5</td>\n      <td>1</td>\n      <td>[]</td>\n      <td>giao hàng nhanh chất mỏng mát mua không nên rấ...</td>\n      <td>0</td>\n      <td>giao hàng nhanh chất mỏng mát mua không nên rấ...</td>\n      <td>['giao', 'hàng', 'nhanh', 'chất', 'mỏng', 'mát...</td>\n    </tr>\n    <tr>\n      <th>2</th>\n      <td>Đã nhận được hàng\\nĐóng gói cẩn thận\\nShip nha...</td>\n      <td>5</td>\n      <td>1</td>\n      <td>[]</td>\n      <td>đã nhận được hàng đóng gói cẩn thận ship nhanh...</td>\n      <td>0</td>\n      <td>đã nhận được hàng đóng gói cẩn thận ship nhanh...</td>\n      <td>['đã', 'nhận', 'được', 'hàng', 'đóng_gói', 'cẩ...</td>\n    </tr>\n    <tr>\n      <th>3</th>\n      <td>Hết màu đen nên shop có đt hỏi mình đổi màu. P...</td>\n      <td>5</td>\n      <td>1</td>\n      <td>[]</td>\n      <td>t màu đen nên shop có hỏi mình đổi màu phục vụ...</td>\n      <td>0</td>\n      <td>t màu đen nên shop có hỏi mình đổi màu phục vụ...</td>\n      <td>['t', 'màu', 'đen', 'nên', 'shop', 'có', 'hỏi'...</td>\n    </tr>\n    <tr>\n      <th>4</th>\n      <td>Quần cũng được, giá như này là hợp lý, đựng tr...</td>\n      <td>5</td>\n      <td>1</td>\n      <td>[]</td>\n      <td>quần cũng được giá như này là hợp đựng trong t...</td>\n      <td>0</td>\n      <td>quần cũng được giá như này là hợp đựng trong t...</td>\n      <td>['quần', 'cũng', 'được', 'giá_như', 'này', 'là...</td>\n    </tr>\n    <tr>\n      <th>...</th>\n      <td>...</td>\n      <td>...</td>\n      <td>...</td>\n      <td>...</td>\n      <td>...</td>\n      <td>...</td>\n      <td>...</td>\n      <td>...</td>\n    </tr>\n    <tr>\n      <th>10456</th>\n      <td>Phom\\nNhỏ ,ko dáng tiền mua</td>\n      <td>1</td>\n      <td>-1</td>\n      <td>[]</td>\n      <td>nhỏ không dáng tiền mua</td>\n      <td>0</td>\n      <td>nhỏ không dáng tiền mua</td>\n      <td>['nhỏ', 'không', 'dáng', 'tiền', 'mua']</td>\n    </tr>\n    <tr>\n      <th>10457</th>\n      <td>Tiền nào của đấy.  Không phải giảm giá !</td>\n      <td>1</td>\n      <td>-1</td>\n      <td>[]</td>\n      <td>tiền nào của đấy không phải giảm giá</td>\n      <td>0</td>\n      <td>tiền nào của đấy không phải giảm giá</td>\n      <td>['tiền', 'nào', 'của', 'đấy', 'không', 'phải',...</td>\n    </tr>\n    <tr>\n      <th>10458</th>\n      <td>Shop ko trung thực\\nMình nhìn thấy shop để địa...</td>\n      <td>2</td>\n      <td>-1</td>\n      <td>[]</td>\n      <td>shop không trung thực mình nhìn thấy shop để đ...</td>\n      <td>0</td>\n      <td>shop không trung thực mình nhìn thấy shop để đ...</td>\n      <td>['shop', 'không_trung_thực', 'mình', 'nhìn', '...</td>\n    </tr>\n    <tr>\n      <th>10459</th>\n      <td>Kính được. Nhưng mình đặt màu trắng lại giao m...</td>\n      <td>2</td>\n      <td>-1</td>\n      <td>[]</td>\n      <td>kính được nhưng mình đặt màu trắng lại giao mà...</td>\n      <td>0</td>\n      <td>kính được nhưng mình đặt màu trắng lại giao mà...</td>\n      <td>['kính', 'được', 'nhưng', 'mình', 'đặt', 'màu'...</td>\n    </tr>\n    <tr>\n      <th>10460</th>\n      <td>Shop giao không đúng với mẫu</td>\n      <td>1</td>\n      <td>-1</td>\n      <td>[]</td>\n      <td>shop giao không đúng với mẫu</td>\n      <td>0</td>\n      <td>shop giao không đúng với mẫu</td>\n      <td>['shop', 'giao', 'không', 'đúng', 'với', 'mẫu']</td>\n    </tr>\n  </tbody>\n</table>\n<p>10461 rows × 8 columns</p>\n</div>"
     },
     "metadata": {},
     "execution_count": 33
    }
   ],
   "source": [
    "final_data"
   ]
  },
  {
   "cell_type": "code",
   "execution_count": 43,
   "metadata": {},
   "outputs": [],
   "source": [
    "def combine(pText, pEmoji):\n",
    "    text = \" \".join(pText)\n",
    "    emoji = \" \".join(pEmoji)\n",
    "    return text + \" \" + emoji"
   ]
  },
  {
   "cell_type": "code",
   "execution_count": 44,
   "metadata": {},
   "outputs": [],
   "source": [
    "final_data['review'] = final_data.apply(lambda row: combine(row.tokenize, row.emoji), axis=1)"
   ]
  },
  {
   "cell_type": "code",
   "execution_count": 45,
   "metadata": {},
   "outputs": [
    {
     "output_type": "execute_result",
     "data": {
      "text/plain": [
       "                                                 comment  rating  label emoji  \\\n",
       "0      Quần lót bên trong không có vải miếng vải cott...       2     -1    []   \n",
       "1      Giao hàng nhanh, chất mỏng mát. Mua sale 1k nê...       5      1    []   \n",
       "2      Đã nhận được hàng\\nĐóng gói cẩn thận\\nShip nha...       5      1    []   \n",
       "3      Hết màu đen nên shop có đt hỏi mình đổi màu. P...       5      1    []   \n",
       "4      Quần cũng được, giá như này là hợp lý, đựng tr...       5      1    []   \n",
       "...                                                  ...     ...    ...   ...   \n",
       "10456                        Phom\\nNhỏ ,ko dáng tiền mua       1     -1    []   \n",
       "10457           Tiền nào của đấy.  Không phải giảm giá !       1     -1    []   \n",
       "10458  Shop ko trung thực\\nMình nhìn thấy shop để địa...       2     -1    []   \n",
       "10459  Kính được. Nhưng mình đặt màu trắng lại giao m...       2     -1    []   \n",
       "10460                       Shop giao không đúng với mẫu       1     -1    []   \n",
       "\n",
       "                                       lowercase_comment  contain_url  \\\n",
       "0      quần lót bên trong không có vải mi vải không c...            0   \n",
       "1      giao hàng nhanh chất mỏng mát mua không nên rấ...            0   \n",
       "2      đã nhận được hàng đóng gói cẩn thận ship nhanh...            0   \n",
       "3      t màu đen nên shop có hỏi mình đổi màu phục vụ...            0   \n",
       "4      quần cũng được giá như này là hợp đựng trong t...            0   \n",
       "...                                                  ...          ...   \n",
       "10456                            nhỏ không dáng tiền mua            0   \n",
       "10457               tiền nào của đấy không phải giảm giá            0   \n",
       "10458  shop không trung thực mình nhìn thấy shop để đ...            0   \n",
       "10459  kính được nhưng mình đặt màu trắng lại giao mà...            0   \n",
       "10460                       shop giao không đúng với mẫu            0   \n",
       "\n",
       "                                        standard_comment  \\\n",
       "0      quần lót bên trong không có vải mi vải không c...   \n",
       "1      giao hàng nhanh chất mỏng mát mua không nên rấ...   \n",
       "2      đã nhận được hàng đóng gói cẩn thận ship nhanh...   \n",
       "3      t màu đen nên shop có hỏi mình đổi màu phục vụ...   \n",
       "4      quần cũng được giá như này là hợp đựng trong t...   \n",
       "...                                                  ...   \n",
       "10456                           nhỏ không dáng tiền mua    \n",
       "10457              tiền nào của đấy không phải giảm giá    \n",
       "10458  shop không trung thực mình nhìn thấy shop để đ...   \n",
       "10459  kính được nhưng mình đặt màu trắng lại giao mà...   \n",
       "10460                      shop giao không đúng với mẫu    \n",
       "\n",
       "                                                tokenize  \\\n",
       "0      ['quần_lót', 'bên', 'trong', 'không', 'có', 'v...   \n",
       "1      ['giao', 'hàng', 'nhanh', 'chất', 'mỏng', 'mát...   \n",
       "2      ['đã', 'nhận', 'được', 'hàng', 'đóng_gói', 'cẩ...   \n",
       "3      ['t', 'màu', 'đen', 'nên', 'shop', 'có', 'hỏi'...   \n",
       "4      ['quần', 'cũng', 'được', 'giá_như', 'này', 'là...   \n",
       "...                                                  ...   \n",
       "10456            ['nhỏ', 'không', 'dáng', 'tiền', 'mua']   \n",
       "10457  ['tiền', 'nào', 'của', 'đấy', 'không', 'phải',...   \n",
       "10458  ['shop', 'không_trung_thực', 'mình', 'nhìn', '...   \n",
       "10459  ['kính', 'được', 'nhưng', 'mình', 'đặt', 'màu'...   \n",
       "10460    ['shop', 'giao', 'không', 'đúng', 'với', 'mẫu']   \n",
       "\n",
       "                                                  review  \n",
       "0      [ ' q u ầ n _ l ó t ' ,   ' b ê n ' ,   ' t r ...  \n",
       "1      [ ' g i a o ' ,   ' h à n g ' ,   ' n h a n h ...  \n",
       "2      [ ' đ ã ' ,   ' n h ậ n ' ,   ' đ ư ợ c ' ,   ...  \n",
       "3      [ ' t ' ,   ' m à u ' ,   ' đ e n ' ,   ' n ê ...  \n",
       "4      [ ' q u ầ n ' ,   ' c ũ n g ' ,   ' đ ư ợ c ' ...  \n",
       "...                                                  ...  \n",
       "10456  [ ' n h ỏ ' ,   ' k h ô n g ' ,   ' d á n g ' ...  \n",
       "10457  [ ' t i ề n ' ,   ' n à o ' ,   ' c ủ a ' ,   ...  \n",
       "10458  [ ' s h o p ' ,   ' k h ô n g _ t r u n g _ t ...  \n",
       "10459  [ ' k í n h ' ,   ' đ ư ợ c ' ,   ' n h ư n g ...  \n",
       "10460  [ ' s h o p ' ,   ' g i a o ' ,   ' k h ô n g ...  \n",
       "\n",
       "[10461 rows x 9 columns]"
      ],
      "text/html": "<div>\n<style scoped>\n    .dataframe tbody tr th:only-of-type {\n        vertical-align: middle;\n    }\n\n    .dataframe tbody tr th {\n        vertical-align: top;\n    }\n\n    .dataframe thead th {\n        text-align: right;\n    }\n</style>\n<table border=\"1\" class=\"dataframe\">\n  <thead>\n    <tr style=\"text-align: right;\">\n      <th></th>\n      <th>comment</th>\n      <th>rating</th>\n      <th>label</th>\n      <th>emoji</th>\n      <th>lowercase_comment</th>\n      <th>contain_url</th>\n      <th>standard_comment</th>\n      <th>tokenize</th>\n      <th>review</th>\n    </tr>\n  </thead>\n  <tbody>\n    <tr>\n      <th>0</th>\n      <td>Quần lót bên trong không có vải miếng vải cott...</td>\n      <td>2</td>\n      <td>-1</td>\n      <td>[]</td>\n      <td>quần lót bên trong không có vải mi vải không c...</td>\n      <td>0</td>\n      <td>quần lót bên trong không có vải mi vải không c...</td>\n      <td>['quần_lót', 'bên', 'trong', 'không', 'có', 'v...</td>\n      <td>[ ' q u ầ n _ l ó t ' ,   ' b ê n ' ,   ' t r ...</td>\n    </tr>\n    <tr>\n      <th>1</th>\n      <td>Giao hàng nhanh, chất mỏng mát. Mua sale 1k nê...</td>\n      <td>5</td>\n      <td>1</td>\n      <td>[]</td>\n      <td>giao hàng nhanh chất mỏng mát mua không nên rấ...</td>\n      <td>0</td>\n      <td>giao hàng nhanh chất mỏng mát mua không nên rấ...</td>\n      <td>['giao', 'hàng', 'nhanh', 'chất', 'mỏng', 'mát...</td>\n      <td>[ ' g i a o ' ,   ' h à n g ' ,   ' n h a n h ...</td>\n    </tr>\n    <tr>\n      <th>2</th>\n      <td>Đã nhận được hàng\\nĐóng gói cẩn thận\\nShip nha...</td>\n      <td>5</td>\n      <td>1</td>\n      <td>[]</td>\n      <td>đã nhận được hàng đóng gói cẩn thận ship nhanh...</td>\n      <td>0</td>\n      <td>đã nhận được hàng đóng gói cẩn thận ship nhanh...</td>\n      <td>['đã', 'nhận', 'được', 'hàng', 'đóng_gói', 'cẩ...</td>\n      <td>[ ' đ ã ' ,   ' n h ậ n ' ,   ' đ ư ợ c ' ,   ...</td>\n    </tr>\n    <tr>\n      <th>3</th>\n      <td>Hết màu đen nên shop có đt hỏi mình đổi màu. P...</td>\n      <td>5</td>\n      <td>1</td>\n      <td>[]</td>\n      <td>t màu đen nên shop có hỏi mình đổi màu phục vụ...</td>\n      <td>0</td>\n      <td>t màu đen nên shop có hỏi mình đổi màu phục vụ...</td>\n      <td>['t', 'màu', 'đen', 'nên', 'shop', 'có', 'hỏi'...</td>\n      <td>[ ' t ' ,   ' m à u ' ,   ' đ e n ' ,   ' n ê ...</td>\n    </tr>\n    <tr>\n      <th>4</th>\n      <td>Quần cũng được, giá như này là hợp lý, đựng tr...</td>\n      <td>5</td>\n      <td>1</td>\n      <td>[]</td>\n      <td>quần cũng được giá như này là hợp đựng trong t...</td>\n      <td>0</td>\n      <td>quần cũng được giá như này là hợp đựng trong t...</td>\n      <td>['quần', 'cũng', 'được', 'giá_như', 'này', 'là...</td>\n      <td>[ ' q u ầ n ' ,   ' c ũ n g ' ,   ' đ ư ợ c ' ...</td>\n    </tr>\n    <tr>\n      <th>...</th>\n      <td>...</td>\n      <td>...</td>\n      <td>...</td>\n      <td>...</td>\n      <td>...</td>\n      <td>...</td>\n      <td>...</td>\n      <td>...</td>\n      <td>...</td>\n    </tr>\n    <tr>\n      <th>10456</th>\n      <td>Phom\\nNhỏ ,ko dáng tiền mua</td>\n      <td>1</td>\n      <td>-1</td>\n      <td>[]</td>\n      <td>nhỏ không dáng tiền mua</td>\n      <td>0</td>\n      <td>nhỏ không dáng tiền mua</td>\n      <td>['nhỏ', 'không', 'dáng', 'tiền', 'mua']</td>\n      <td>[ ' n h ỏ ' ,   ' k h ô n g ' ,   ' d á n g ' ...</td>\n    </tr>\n    <tr>\n      <th>10457</th>\n      <td>Tiền nào của đấy.  Không phải giảm giá !</td>\n      <td>1</td>\n      <td>-1</td>\n      <td>[]</td>\n      <td>tiền nào của đấy không phải giảm giá</td>\n      <td>0</td>\n      <td>tiền nào của đấy không phải giảm giá</td>\n      <td>['tiền', 'nào', 'của', 'đấy', 'không', 'phải',...</td>\n      <td>[ ' t i ề n ' ,   ' n à o ' ,   ' c ủ a ' ,   ...</td>\n    </tr>\n    <tr>\n      <th>10458</th>\n      <td>Shop ko trung thực\\nMình nhìn thấy shop để địa...</td>\n      <td>2</td>\n      <td>-1</td>\n      <td>[]</td>\n      <td>shop không trung thực mình nhìn thấy shop để đ...</td>\n      <td>0</td>\n      <td>shop không trung thực mình nhìn thấy shop để đ...</td>\n      <td>['shop', 'không_trung_thực', 'mình', 'nhìn', '...</td>\n      <td>[ ' s h o p ' ,   ' k h ô n g _ t r u n g _ t ...</td>\n    </tr>\n    <tr>\n      <th>10459</th>\n      <td>Kính được. Nhưng mình đặt màu trắng lại giao m...</td>\n      <td>2</td>\n      <td>-1</td>\n      <td>[]</td>\n      <td>kính được nhưng mình đặt màu trắng lại giao mà...</td>\n      <td>0</td>\n      <td>kính được nhưng mình đặt màu trắng lại giao mà...</td>\n      <td>['kính', 'được', 'nhưng', 'mình', 'đặt', 'màu'...</td>\n      <td>[ ' k í n h ' ,   ' đ ư ợ c ' ,   ' n h ư n g ...</td>\n    </tr>\n    <tr>\n      <th>10460</th>\n      <td>Shop giao không đúng với mẫu</td>\n      <td>1</td>\n      <td>-1</td>\n      <td>[]</td>\n      <td>shop giao không đúng với mẫu</td>\n      <td>0</td>\n      <td>shop giao không đúng với mẫu</td>\n      <td>['shop', 'giao', 'không', 'đúng', 'với', 'mẫu']</td>\n      <td>[ ' s h o p ' ,   ' g i a o ' ,   ' k h ô n g ...</td>\n    </tr>\n  </tbody>\n</table>\n<p>10461 rows × 9 columns</p>\n</div>"
     },
     "metadata": {},
     "execution_count": 45
    }
   ],
   "source": [
    "final_data"
   ]
  },
  {
   "cell_type": "code",
   "execution_count": null,
   "metadata": {},
   "outputs": [],
   "source": []
  }
 ]
}