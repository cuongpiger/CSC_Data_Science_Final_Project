{
 "cells": [
  {
   "cell_type": "code",
   "execution_count": 1,
   "metadata": {},
   "outputs": [],
   "source": [
    "with open('link_sp.txt') as f:\n",
    "    raw_links = f.read()\n",
    "f.close()"
   ]
  },
  {
   "cell_type": "code",
   "execution_count": 2,
   "metadata": {},
   "outputs": [],
   "source": [
    "product_code = []\n",
    "shop_code = []\n",
    "for link in raw_links.split('\\n'):\n",
    "    product_code.append(link.split('.')[-1])\n",
    "    shop_code.append(link.split('.')[-2])"
   ]
  },
  {
   "cell_type": "code",
   "execution_count": 3,
   "metadata": {},
   "outputs": [],
   "source": [
    "import requests\n",
    "import pandas as pd"
   ]
  },
  {
   "cell_type": "code",
   "execution_count": 4,
   "metadata": {},
   "outputs": [],
   "source": [
    "headers = {\n",
    "    'User-Agent': 'Mozilla/5.0 (Windows NT 6.3; Win64; x64; rv:88.0) Gecko/20100101 Firefox/88.0',\n",
    "}"
   ]
  },
  {
   "cell_type": "code",
   "execution_count": 5,
   "metadata": {},
   "outputs": [],
   "source": [
    "def collect_comment(page, product_code, shop_code):\n",
    "    params = (\n",
    "    ('filter', '0'),\n",
    "    ('flag', '1'),\n",
    "    ('itemid', product_code),\n",
    "    ('limit', '6'),\n",
    "    ('offset', page),\n",
    "    ('shopid', shop_code),\n",
    "    ('type', '0'),\n",
    "    )\n",
    "\n",
    "    response = requests.get('https://shopee.vn/api/v2/item/get_ratings', headers=headers, params=params)\n",
    "    r = response.json().get('data').get('ratings')\n",
    "    return r"
   ]
  },
  {
   "cell_type": "code",
   "execution_count": 6,
   "metadata": {},
   "outputs": [],
   "source": [
    "def parse_comment(r):\n",
    "    ratting = []\n",
    "    comment = []\n",
    "    for i in r:\n",
    "        ratting.append(i.get('rating_star'))\n",
    "        comment.append(i.get('comment'))\n",
    "    return ratting, comment"
   ]
  },
  {
   "cell_type": "code",
   "execution_count": 12,
   "metadata": {},
   "outputs": [
    {
     "name": "stdout",
     "output_type": "stream",
     "text": [
      "Collect comment for 7717788173-228352686 at comment 0\n",
      "Collect comment for 7717788173-228352686 at comment 6\n",
      "Collect comment for 7717788173-228352686 at comment 12\n",
      "Collect comment for 7717788173-228352686 at comment 18\n",
      "Collect comment for 7717788173-228352686 at comment 24\n",
      "Collect comment for 7717788173-228352686 at comment 30\n",
      "Collect comment for 7717788173-228352686 at comment 36\n",
      "Collect comment for 7717788173-228352686 at comment 42\n",
      "Collect comment for 7717788173-228352686 at comment 48\n",
      "Collect comment for 7717788173-228352686 at comment 54\n",
      "Collect comment for 3260645015-14746382 at comment 0\n",
      "Collect comment for 3260645015-14746382 at comment 6\n",
      "Collect comment for 3260645015-14746382 at comment 12\n",
      "Collect comment for 3260645015-14746382 at comment 18\n",
      "Collect comment for 3260645015-14746382 at comment 24\n",
      "Collect comment for 3260645015-14746382 at comment 30\n",
      "Collect comment for 3260645015-14746382 at comment 36\n",
      "Collect comment for 3260645015-14746382 at comment 42\n",
      "Collect comment for 3260645015-14746382 at comment 48\n",
      "Collect comment for 3260645015-14746382 at comment 54\n",
      "Collect comment for 8538742482-225909574 at comment 0\n",
      "Collect comment for 8538742482-225909574 at comment 6\n",
      "Collect comment for 8538742482-225909574 at comment 12\n",
      "Collect comment for 8538742482-225909574 at comment 18\n",
      "Collect comment for 8538742482-225909574 at comment 24\n",
      "Collect comment for 8538742482-225909574 at comment 30\n",
      "Collect comment for 8538742482-225909574 at comment 36\n",
      "Collect comment for 8538742482-225909574 at comment 42\n",
      "Collect comment for 8538742482-225909574 at comment 48\n",
      "Collect comment for 8538742482-225909574 at comment 54\n",
      "Collect comment for 6519318270-14746382 at comment 0\n",
      "Collect comment for 6519318270-14746382 at comment 6\n",
      "Collect comment for 6519318270-14746382 at comment 12\n",
      "Collect comment for 6519318270-14746382 at comment 18\n",
      "Collect comment for 6519318270-14746382 at comment 24\n",
      "Collect comment for 6519318270-14746382 at comment 30\n",
      "Collect comment for 6519318270-14746382 at comment 36\n",
      "Collect comment for 6519318270-14746382 at comment 42\n",
      "Collect comment for 6519318270-14746382 at comment 48\n",
      "Collect comment for 6519318270-14746382 at comment 54\n",
      "Collect comment for 7667038382-14746382 at comment 0\n",
      "Collect comment for 7667038382-14746382 at comment 6\n",
      "Collect comment for 7667038382-14746382 at comment 12\n",
      "Collect comment for 7667038382-14746382 at comment 18\n",
      "Collect comment for 7667038382-14746382 at comment 24\n",
      "Collect comment for 7667038382-14746382 at comment 30\n",
      "Collect comment for 7667038382-14746382 at comment 36\n",
      "Collect comment for 7667038382-14746382 at comment 42\n",
      "Collect comment for 7667038382-14746382 at comment 48\n",
      "Collect comment for 7667038382-14746382 at comment 54\n",
      "Collect comment for 7333191035-14746382 at comment 0\n",
      "Collect comment for 7333191035-14746382 at comment 6\n",
      "Collect comment for 7333191035-14746382 at comment 12\n",
      "Collect comment for 7333191035-14746382 at comment 18\n",
      "Collect comment for 7333191035-14746382 at comment 24\n",
      "Collect comment for 7333191035-14746382 at comment 30\n",
      "Collect comment for 7333191035-14746382 at comment 36\n",
      "Collect comment for 7333191035-14746382 at comment 42\n",
      "Collect comment for 7333191035-14746382 at comment 48\n",
      "Collect comment for 7333191035-14746382 at comment 54\n",
      "Collect comment for 3880086000-174605355 at comment 0\n",
      "Collect comment for 3880086000-174605355 at comment 6\n",
      "Collect comment for 3880086000-174605355 at comment 12\n",
      "Collect comment for 3880086000-174605355 at comment 18\n",
      "Collect comment for 3880086000-174605355 at comment 24\n",
      "Collect comment for 3880086000-174605355 at comment 30\n",
      "Collect comment for 3880086000-174605355 at comment 36\n",
      "Collect comment for 3880086000-174605355 at comment 42\n",
      "Collect comment for 3880086000-174605355 at comment 48\n",
      "Collect comment for 3880086000-174605355 at comment 54\n",
      "Collect comment for 2419150197-44151683 at comment 0\n",
      "Collect comment for 2419150197-44151683 at comment 6\n",
      "Collect comment for 2419150197-44151683 at comment 12\n",
      "Collect comment for 2419150197-44151683 at comment 18\n",
      "Collect comment for 2419150197-44151683 at comment 24\n",
      "Collect comment for 2419150197-44151683 at comment 30\n",
      "Collect comment for 2419150197-44151683 at comment 36\n",
      "Collect comment for 2419150197-44151683 at comment 42\n",
      "Collect comment for 2419150197-44151683 at comment 48\n",
      "Collect comment for 2419150197-44151683 at comment 54\n",
      "Collect comment for 7120363345-14746382 at comment 0\n",
      "Collect comment for 7120363345-14746382 at comment 6\n",
      "Collect comment for 7120363345-14746382 at comment 12\n",
      "Collect comment for 7120363345-14746382 at comment 18\n",
      "Collect comment for 7120363345-14746382 at comment 24\n",
      "Collect comment for 7120363345-14746382 at comment 30\n",
      "Collect comment for 7120363345-14746382 at comment 36\n",
      "Collect comment for 7120363345-14746382 at comment 42\n",
      "Collect comment for 7120363345-14746382 at comment 48\n",
      "Collect comment for 7120363345-14746382 at comment 54\n",
      "Collect comment for 6322997840-14746382 at comment 0\n",
      "Collect comment for 6322997840-14746382 at comment 6\n",
      "Collect comment for 6322997840-14746382 at comment 12\n",
      "Collect comment for 6322997840-14746382 at comment 18\n",
      "Collect comment for 6322997840-14746382 at comment 24\n",
      "Collect comment for 6322997840-14746382 at comment 30\n",
      "Collect comment for 6322997840-14746382 at comment 36\n",
      "Collect comment for 6322997840-14746382 at comment 42\n",
      "Collect comment for 6322997840-14746382 at comment 48\n",
      "Collect comment for 6322997840-14746382 at comment 54\n",
      "Collect comment for 6965910895-37671552 at comment 0\n",
      "Collect comment for 6965910895-37671552 at comment 6\n",
      "Collect comment for 6965910895-37671552 at comment 12\n",
      "Collect comment for 6965910895-37671552 at comment 18\n",
      "Collect comment for 6965910895-37671552 at comment 24\n",
      "Collect comment for 6965910895-37671552 at comment 30\n",
      "Collect comment for 6965910895-37671552 at comment 36\n",
      "Collect comment for 6965910895-37671552 at comment 42\n",
      "Collect comment for 6965910895-37671552 at comment 48\n",
      "Collect comment for 6965910895-37671552 at comment 54\n",
      "Collect comment for 6316854787-225909574 at comment 0\n",
      "Collect comment for 6316854787-225909574 at comment 6\n",
      "Collect comment for 6316854787-225909574 at comment 12\n",
      "Collect comment for 6316854787-225909574 at comment 18\n",
      "Collect comment for 6316854787-225909574 at comment 24\n",
      "Collect comment for 6316854787-225909574 at comment 30\n",
      "Collect comment for 6316854787-225909574 at comment 36\n",
      "Collect comment for 6316854787-225909574 at comment 42\n",
      "Collect comment for 6316854787-225909574 at comment 48\n",
      "Collect comment for 6316854787-225909574 at comment 54\n",
      "Collect comment for 7148005549-296694982 at comment 0\n",
      "Collect comment for 7148005549-296694982 at comment 6\n",
      "Collect comment for 7148005549-296694982 at comment 12\n",
      "Collect comment for 7148005549-296694982 at comment 18\n",
      "Collect comment for 7148005549-296694982 at comment 24\n",
      "Collect comment for 7148005549-296694982 at comment 30\n",
      "Collect comment for 7148005549-296694982 at comment 36\n",
      "Collect comment for 7148005549-296694982 at comment 42\n",
      "Collect comment for 7148005549-296694982 at comment 48\n",
      "Collect comment for 7148005549-296694982 at comment 54\n"
     ]
    }
   ],
   "source": [
    "rattings = []\n",
    "comments = []\n",
    "for pro_id, shop_id in zip(product_code, shop_code):\n",
    "    for p in range(10):\n",
    "        print(f'Collect comment for {pro_id}-{shop_id} at comment {p*6}')\n",
    "        r = collect_comment(p*6, pro_id, shop_id)\n",
    "        ratting, comment = parse_comment(r)\n",
    "        rattings+= ratting\n",
    "        comments+= comment"
   ]
  },
  {
   "cell_type": "code",
   "execution_count": 13,
   "metadata": {},
   "outputs": [
    {
     "data": {
      "text/html": [
       "<div>\n",
       "<style scoped>\n",
       "    .dataframe tbody tr th:only-of-type {\n",
       "        vertical-align: middle;\n",
       "    }\n",
       "\n",
       "    .dataframe tbody tr th {\n",
       "        vertical-align: top;\n",
       "    }\n",
       "\n",
       "    .dataframe thead th {\n",
       "        text-align: right;\n",
       "    }\n",
       "</style>\n",
       "<table border=\"1\" class=\"dataframe\">\n",
       "  <thead>\n",
       "    <tr style=\"text-align: right;\">\n",
       "      <th></th>\n",
       "      <th>ratting</th>\n",
       "      <th>comment</th>\n",
       "    </tr>\n",
       "  </thead>\n",
       "  <tbody>\n",
       "    <tr>\n",
       "      <th>0</th>\n",
       "      <td>5</td>\n",
       "      <td>Shop nhiệt tính nha mọi người. Giao hàng hơi l...</td>\n",
       "    </tr>\n",
       "    <tr>\n",
       "      <th>1</th>\n",
       "      <td>5</td>\n",
       "      <td>Ví ổn. To có hộp đầy đủ. Đc tặng kèm bấm móng ...</td>\n",
       "    </tr>\n",
       "    <tr>\n",
       "      <th>2</th>\n",
       "      <td>5</td>\n",
       "      <td>Giao hàng nhanh\\nVí da mềm. Ko bị mùi quá\\nTro...</td>\n",
       "    </tr>\n",
       "    <tr>\n",
       "      <th>3</th>\n",
       "      <td>5</td>\n",
       "      <td>Sjsjssjjjjjjjjjjhhjjjvjvuv Sjsjssjjjjjjjjjjhh...</td>\n",
       "    </tr>\n",
       "    <tr>\n",
       "      <th>4</th>\n",
       "      <td>5</td>\n",
       "      <td>Giao hàng xiêu nhanh\\nVí mền . Ko bị mùi\\nHậba...</td>\n",
       "    </tr>\n",
       "  </tbody>\n",
       "</table>\n",
       "</div>"
      ],
      "text/plain": [
       "   ratting                                            comment\n",
       "0        5  Shop nhiệt tính nha mọi người. Giao hàng hơi l...\n",
       "1        5  Ví ổn. To có hộp đầy đủ. Đc tặng kèm bấm móng ...\n",
       "2        5  Giao hàng nhanh\\nVí da mềm. Ko bị mùi quá\\nTro...\n",
       "3        5   Sjsjssjjjjjjjjjjhhjjjvjvuv Sjsjssjjjjjjjjjjhh...\n",
       "4        5  Giao hàng xiêu nhanh\\nVí mền . Ko bị mùi\\nHậba..."
      ]
     },
     "execution_count": 13,
     "metadata": {},
     "output_type": "execute_result"
    }
   ],
   "source": [
    "df = pd.DataFrame({'ratting': rattings, 'comment':comments})\n",
    "df.head()"
   ]
  },
  {
   "cell_type": "code",
   "execution_count": 14,
   "metadata": {},
   "outputs": [
    {
     "data": {
      "text/plain": [
       "(780, 2)"
      ]
     },
     "execution_count": 14,
     "metadata": {},
     "output_type": "execute_result"
    }
   ],
   "source": [
    "df.shape"
   ]
  },
  {
   "cell_type": "code",
   "execution_count": null,
   "metadata": {},
   "outputs": [],
   "source": []
  },
  {
   "cell_type": "code",
   "execution_count": null,
   "metadata": {},
   "outputs": [],
   "source": []
  },
  {
   "cell_type": "code",
   "execution_count": null,
   "metadata": {},
   "outputs": [],
   "source": []
  }
 ],
 "metadata": {
  "kernelspec": {
   "display_name": "Python 3",
   "language": "python",
   "name": "python3"
  },
  "language_info": {
   "codemirror_mode": {
    "name": "ipython",
    "version": 3
   },
   "file_extension": ".py",
   "mimetype": "text/x-python",
   "name": "python",
   "nbconvert_exporter": "python",
   "pygments_lexer": "ipython3",
   "version": "3.6.7"
  }
 },
 "nbformat": 4,
 "nbformat_minor": 4
}
