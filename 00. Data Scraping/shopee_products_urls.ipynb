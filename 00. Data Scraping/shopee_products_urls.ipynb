{
 "metadata": {
  "language_info": {
   "codemirror_mode": {
    "name": "ipython",
    "version": 3
   },
   "file_extension": ".py",
   "mimetype": "text/x-python",
   "name": "python",
   "nbconvert_exporter": "python",
   "pygments_lexer": "ipython3",
   "version": "3.8.5"
  },
  "orig_nbformat": 2,
  "kernelspec": {
   "name": "python3",
   "display_name": "Python 3",
   "language": "python"
  }
 },
 "nbformat": 4,
 "nbformat_minor": 2,
 "cells": [
  {
   "source": [
    "# CRAWL PRODUCTS URLS TỪ SHOPEE"
   ],
   "cell_type": "markdown",
   "metadata": {}
  },
  {
   "source": [
    "# 1. Crawl dữ liệu từ nhóm hàng thời trang nam\n",
    "* Nhóm hàng thời trang nam có URL tại [https://shopee.vn/Th%E1%BB%9Di-Trang-Nam-cat.78?page=0](https://shopee.vn/Th%E1%BB%9Di-Trang-Nam-cat.78?page=0) với trang được thiết kế dạng pagination. Cụ thể gồm 100 trang được đánh số từ $[0, 99]$, có thể thay số này vào URL trên tại thuộc tính `page`.\n",
    "* Mỗi trang như vậy hiển thị 50 sản phẩm, nằm trong thẻ `<div>` có `class=shopee-search-item-result__item` từ đây có thể lấy thẻ `<a>` để truy cập vào landing page của sản phẩm thông qua thuộc tính `href`.\n",
    "* Shopee sử dụng cơ chế AJAX để gửi dữ liệu nên ko thể áp dụng các thư viện crawl dữ liệu như `requests` hay `scrapy` được mà phải sử dụng thư viện `selenium`."
   ],
   "cell_type": "markdown",
   "metadata": {}
  },
  {
   "cell_type": "code",
   "execution_count": 19,
   "metadata": {},
   "outputs": [
    {
     "output_type": "stream",
     "name": "stdout",
     "text": [
      "The autoreload extension is already loaded. To reload it, use:\n  %reload_ext autoreload\n"
     ]
    }
   ],
   "source": [
    "%load_ext autoreload\n",
    "%autoreload 2"
   ]
  },
  {
   "cell_type": "code",
   "execution_count": 20,
   "metadata": {},
   "outputs": [],
   "source": [
    "import modules.shopee_crawler as ShopeeCrawler"
   ]
  },
  {
   "cell_type": "code",
   "execution_count": 12,
   "metadata": {},
   "outputs": [],
   "source": [
    "men_products_urls = ShopeeCrawler.loadProductsURL(\"https://shopee.vn/Th%E1%BB%9Di-Trang-Nam-cat.78?page=\", (0, 100), \"div.shopee-search-item-result__item > a\")"
   ]
  },
  {
   "cell_type": "code",
   "execution_count": 14,
   "metadata": {},
   "outputs": [
    {
     "output_type": "execute_result",
     "data": {
      "text/plain": [
       "['https://shopee.vn/-DA-B%C3%92-TH%E1%BA%ACT-100-V%C3%AD-da-nam-B%C3%B3p-da-nam-cao-c%E1%BA%A5p-t%E1%BA%B7ng-h%E1%BB%99p-%C4%91%E1%BB%B1ng-AL018-i.228352686.7717788173',\n",
       " 'https://shopee.vn/-M%C3%A3-FAMAYMA2-gi%E1%BA%A3m-10K-%C4%91%C6%A1n-50K-%C3%81o-thun-b%C3%B2-s%E1%BB%AFa-tay-l%E1%BB%A1-form-r%E1%BB%99ng-Unisex-ATLBO-i.14746382.3260645015',\n",
       " 'https://shopee.vn/%C3%81o-thun-nam-c%E1%BB%95-tr%C3%B2n-POLOMAN-v%E1%BA%A3i-Cotton-co-gi%C3%A3n-d%C3%A0y-d%E1%BA%B7n-form-regular-fit-tho%E1%BA%A3i-m%C3%A1i-i.225909574.8538742482',\n",
       " 'https://shopee.vn/-M%C3%A3-FAMAYMA2-gi%E1%BA%A3m-10K-%C4%91%C6%A1n-50K-%C3%81o-thun-nam-n%E1%BB%AF-form-r%E1%BB%99ng-Yinxx-%C3%A1o-ph%C3%B4ng-tay-l%E1%BB%A1-ATL43-i.14746382.6519318270',\n",
       " 'https://shopee.vn/-M%C3%A3-FAMAYMA2-gi%E1%BA%A3m-10K-%C4%91%C6%A1n-50K-%C3%81o-thun-tay-l%E1%BB%A1-Unisex-Yinxx-%C3%A1o-ph%C3%B4ng-form-r%E1%BB%99ng-ATL138-i.14746382.7667038382',\n",
       " 'https://shopee.vn/-M%C3%A3-FAMAYMA2-gi%E1%BA%A3m-10K-%C4%91%C6%A1n-50K-%C3%81o-thun-tay-l%E1%BB%A1-unisex-Yinxx-%C3%A1o-ph%C3%B4ng-form-r%E1%BB%99ng-ATL187-i.14746382.7333191035',\n",
       " 'https://shopee.vn/Qu%E1%BA%A7n-%C4%91%C3%B9i-th%E1%BB%83-thao-nam-Fasvin-Q21450.HN-v%E1%BA%A3i-gi%C3%B3-chun-tr%C6%A1n-m%C3%A1t-co-gi%C3%A3n-tho%E1%BA%A3i-m%C3%A1i.-i.174605355.3880086000',\n",
       " 'https://shopee.vn/%C3%81o-Thun-Nam-Th%E1%BB%83-Thao-D%E1%BA%ADp-V%C3%A2n-CT-AN298-i.44151683.2419150197',\n",
       " 'https://shopee.vn/-M%C3%A3-FAMAYMA2-gi%E1%BA%A3m-10K-%C4%91%C6%A1n-50K-%C3%81o-thun-nam-n%E1%BB%AF-form-r%E1%BB%99ng-Yinxx-%C3%A1o-ph%C3%B4ng-tay-l%E1%BB%A1-ATL81-i.14746382.7120363345',\n",
       " 'https://shopee.vn/-M%C3%A3-FAMAYMA2-gi%E1%BA%A3m-10K-%C4%91%C6%A1n-50K-%C3%81o-thun-nam-n%E1%BB%AF-tay-l%E1%BB%A1-Yinxx-%C3%A1o-ph%C3%B4ng-form-r%E1%BB%99ng-ATL167-i.14746382.6322997840']"
      ]
     },
     "metadata": {},
     "execution_count": 14
    }
   ],
   "source": [
    "men_products_urls[:10]"
   ]
  },
  {
   "cell_type": "code",
   "execution_count": 16,
   "metadata": {},
   "outputs": [
    {
     "output_type": "stream",
     "name": "stdout",
     "text": [
      "✅ Done.\n"
     ]
    }
   ],
   "source": [
    "ShopeeCrawler.saveProductsURL(\"./data/shopee_products_urls/shopee_men_products_urls.txt\", men_products_urls)"
   ]
  },
  {
   "source": [
    "# 2. Craw dữ liệu từ nhóm hàng thời trang nữ\n",
    "* URL tại [https://shopee.vn/Th%E1%BB%9Di-Trang-N%E1%BB%AF-cat.77?page=0](https://shopee.vn/Th%E1%BB%9Di-Trang-N%E1%BB%AF-cat.77?page=0)"
   ],
   "cell_type": "markdown",
   "metadata": {}
  },
  {
   "cell_type": "code",
   "execution_count": 17,
   "metadata": {},
   "outputs": [],
   "source": [
    "women_products_urls = ShopeeCrawler.loadProductsURL(\"https://shopee.vn/Th%E1%BB%9Di-Trang-N%E1%BB%AF-cat.77?page=\", (0, 100), \"div.shopee-search-item-result__item > a\")"
   ]
  },
  {
   "cell_type": "code",
   "execution_count": 18,
   "metadata": {},
   "outputs": [
    {
     "output_type": "execute_result",
     "data": {
      "text/plain": [
       "['https://shopee.vn/Ch%C3%A2n-v%C3%A1y-x%E1%BA%BFp-ly-d%C3%A1ng-d%C3%A0i-c%E1%BA%A1p-chun-si%C3%AAu-%C4%91%E1%BA%B9p-i.383300809.4489430153',\n",
       " 'https://shopee.vn/-QU%C3%80-T%E1%BA%B6NG-D%C3%82Y-BU%E1%BB%98C-T%C3%93C-HOA-C%C3%9AC-B%E1%BA%A0N-NHA-%C3%81O-B%C3%88O-PH%E1%BB%90I-QU%E1%BA%A6N-%C4%90%C3%99I-Set-Trang-Ph%E1%BB%A5c-N%E1%BB%AF-Set-%C4%90%E1%BB%93-%C3%81o-Tim-B%C3%A8o-Ph%E1%BB%91i-Qu%E1%BA%A7n-Ph%E1%BB%93ng-Ng%E1%BA%AFn-i.36981035.9256973993',\n",
       " 'https://shopee.vn/-QU%E1%BA%A6N-L%E1%BB%ACNG-Qu%E1%BA%A7n-L%E1%BB%ADng-N%E1%BB%AF-Qu%E1%BA%A7n-Ng%E1%BB%91-%E1%BB%90ng-R%E1%BB%99ng-Phong-C%C3%A1ch-Reto-N%E1%BB%AF_M%C3%A0u-C%E1%BB%B1c-Xinh-i.36981035.4589388604',\n",
       " 'https://shopee.vn/-QU%C3%80-T%E1%BA%B6NG-D%C3%82Y-BU%E1%BB%98C-T%C3%93C-HOA-C%C3%9AC-B%E1%BB%98-M%E1%BA%B6C-NH%C3%80-PIJAMA-B%E1%BB%98-%C4%90%E1%BB%92-L%E1%BB%A4A-SI%C3%8AU-M%C3%81T-%C3%81O-C%E1%BB%98C-QU%E1%BA%A6N-C%E1%BB%98C-H%C3%8CNH-SI%C3%8AU-XINH-K%C3%88M-D%C3%82Y-BU%E1%BB%98C-T%C3%93C-i.36981035.2958380781',\n",
       " 'https://shopee.vn/%C3%81o-thun-tr%C6%A1n-nam-n%E1%BB%AF-AGE2X-LO%E1%BA%A0I-1-i.19429389.227910151',\n",
       " 'https://shopee.vn/%C3%81o-croptop-n%E1%BB%AF-c%E1%BB%95-tim-%C3%A1o-croptop-tay-ng%E1%BA%AFn-MADELA-i.383300809.7385042399',\n",
       " 'https://shopee.vn/Qu%E1%BA%A7n-jogger-bo-g%C3%A2n-AGE2X-i.19429389.269541305',\n",
       " 'https://shopee.vn/S%E1%BB%A3i-D%E1%BB%87t-Tr%C6%A1n-(25k-%E1%BB%91ng)-i.17426161.1133617479',\n",
       " 'https://shopee.vn/-%C3%81o-croptop-%C3%81o-croptop-n%E1%BB%AF-ki%E1%BB%83u-tay-ng%E1%BA%AFn-c%C3%B3-c%E1%BB%95-i.383300809.8627336699',\n",
       " 'https://shopee.vn/Len-Jeans-YarnArt-(M%C3%A3-01-%C4%91%E1%BA%BFn-42)-i.42271520.683982964']"
      ]
     },
     "metadata": {},
     "execution_count": 18
    }
   ],
   "source": [
    "women_products_urls[:10]"
   ]
  },
  {
   "cell_type": "code",
   "execution_count": 19,
   "metadata": {},
   "outputs": [
    {
     "output_type": "stream",
     "name": "stdout",
     "text": [
      "✅ Done.\n"
     ]
    }
   ],
   "source": [
    "ShopeeCrawler.saveProductsURL(\"./data/shopee_products_urls/shopee_women_products_urls.txt\", women_products_urls)"
   ]
  },
  {
   "cell_type": "code",
   "execution_count": null,
   "metadata": {},
   "outputs": [],
   "source": []
  }
 ]
}