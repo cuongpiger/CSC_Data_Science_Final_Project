{
 "metadata": {
  "language_info": {
   "codemirror_mode": {
    "name": "ipython",
    "version": 3
   },
   "file_extension": ".py",
   "mimetype": "text/x-python",
   "name": "python",
   "nbconvert_exporter": "python",
   "pygments_lexer": "ipython3",
   "version": "3.8.5"
  },
  "orig_nbformat": 2,
  "kernelspec": {
   "name": "python3",
   "display_name": "Python 3",
   "language": "python"
  }
 },
 "nbformat": 4,
 "nbformat_minor": 2,
 "cells": [
  {
   "source": [
    "# CRAWL PRODUCTS URLS TỪ SHOPEE"
   ],
   "cell_type": "markdown",
   "metadata": {}
  },
  {
   "source": [
    "# 1. Crawl dữ liệu từ nhóm hàng thời trang nam\n",
    "* Nhóm hàng thời trang nam có URL tại [https://shopee.vn/Th%E1%BB%9Di-Trang-Nam-cat.78?page=0](https://shopee.vn/Th%E1%BB%9Di-Trang-Nam-cat.78?page=0) với trang được thiết kế dạng pagination. Cụ thể gồm 100 trang được đánh số từ $[0, 99]$, có thể thay số này vào URL trên tại thuộc tính `page`.\n",
    "* Mỗi trang như vậy hiển thị 50 sản phẩm, nằm trong thẻ `<div>` có `class=shopee-search-item-result__item` từ đây có thể lấy thẻ `<a>` để truy cập vào landing page của sản phẩm thông qua thuộc tính `href`.\n",
    "* Shopee sử dụng cơ chế AJAX để gửi dữ liệu nên ko thể áp dụng các thư viện crawl dữ liệu như `requests` hay `scrapy` được mà phải sử dụng thư viện `selenium`."
   ],
   "cell_type": "markdown",
   "metadata": {}
  },
  {
   "cell_type": "code",
   "execution_count": 1,
   "metadata": {},
   "outputs": [],
   "source": [
    "%load_ext autoreload\n",
    "%autoreload 2"
   ]
  },
  {
   "cell_type": "code",
   "execution_count": 2,
   "metadata": {},
   "outputs": [],
   "source": [
    "import modules.shopee_crawler as ShopeeCrawler"
   ]
  },
  {
   "cell_type": "code",
   "execution_count": 3,
   "metadata": {},
   "outputs": [
    {
     "output_type": "error",
     "ename": "WebDriverException",
     "evalue": "Message: Failed to decode response from marionette\n",
     "traceback": [
      "\u001b[0;31m---------------------------------------------------------------------------\u001b[0m",
      "\u001b[0;31mWebDriverException\u001b[0m                        Traceback (most recent call last)",
      "\u001b[0;32m<ipython-input-3-2b13c5877600>\u001b[0m in \u001b[0;36m<module>\u001b[0;34m\u001b[0m\n\u001b[0;32m----> 1\u001b[0;31m \u001b[0mmen_products_urls\u001b[0m \u001b[0;34m=\u001b[0m \u001b[0mShopeeCrawler\u001b[0m\u001b[0;34m.\u001b[0m\u001b[0mloadProductsURL\u001b[0m\u001b[0;34m(\u001b[0m\u001b[0;34m\"https://shopee.vn/Th%E1%BB%9Di-Trang-Nam-cat.78?page=\"\u001b[0m\u001b[0;34m,\u001b[0m \u001b[0;34m(\u001b[0m\u001b[0;36m0\u001b[0m\u001b[0;34m,\u001b[0m \u001b[0;36m100\u001b[0m\u001b[0;34m)\u001b[0m\u001b[0;34m,\u001b[0m \u001b[0;34m\"div.shopee-search-item-result__item > a\"\u001b[0m\u001b[0;34m)\u001b[0m\u001b[0;34m\u001b[0m\u001b[0;34m\u001b[0m\u001b[0m\n\u001b[0m",
      "\u001b[0;32m~/Documents/CSC_Data_Science_Final_Project/00. Data Scraping/modules/shopee_crawler.py\u001b[0m in \u001b[0;36mloadProductsURL\u001b[0;34m(pUrlPattern, pRange, pProductPattern)\u001b[0m\n\u001b[1;32m     29\u001b[0m         \u001b[0mgoToFooterTag\u001b[0m\u001b[0;34m(\u001b[0m\u001b[0mdriver\u001b[0m\u001b[0;34m)\u001b[0m\u001b[0;34m\u001b[0m\u001b[0;34m\u001b[0m\u001b[0m\n\u001b[1;32m     30\u001b[0m \u001b[0;34m\u001b[0m\u001b[0m\n\u001b[0;32m---> 31\u001b[0;31m         \u001b[0murls\u001b[0m \u001b[0;34m=\u001b[0m \u001b[0;34m[\u001b[0m\u001b[0ma_tag\u001b[0m\u001b[0;34m.\u001b[0m\u001b[0mget_attribute\u001b[0m\u001b[0;34m(\u001b[0m\u001b[0;34m'href'\u001b[0m\u001b[0;34m)\u001b[0m \u001b[0;32mfor\u001b[0m \u001b[0ma_tag\u001b[0m \u001b[0;32min\u001b[0m \u001b[0mdriver\u001b[0m\u001b[0;34m.\u001b[0m\u001b[0mfind_elements_by_css_selector\u001b[0m\u001b[0;34m(\u001b[0m\u001b[0mpProductPattern\u001b[0m\u001b[0;34m)\u001b[0m\u001b[0;34m]\u001b[0m\u001b[0;31m# lấy các địa chỉ URL đến sản phẩm\u001b[0m\u001b[0;34m\u001b[0m\u001b[0;34m\u001b[0m\u001b[0m\n\u001b[0m\u001b[1;32m     32\u001b[0m         \u001b[0mproducts_url\u001b[0m \u001b[0;34m+=\u001b[0m \u001b[0murls\u001b[0m\u001b[0;34m\u001b[0m\u001b[0;34m\u001b[0m\u001b[0m\n\u001b[1;32m     33\u001b[0m \u001b[0;34m\u001b[0m\u001b[0m\n",
      "\u001b[0;32m~/Documents/CSC_Data_Science_Final_Project/00. Data Scraping/modules/shopee_crawler.py\u001b[0m in \u001b[0;36m<listcomp>\u001b[0;34m(.0)\u001b[0m\n\u001b[1;32m     29\u001b[0m         \u001b[0mgoToFooterTag\u001b[0m\u001b[0;34m(\u001b[0m\u001b[0mdriver\u001b[0m\u001b[0;34m)\u001b[0m\u001b[0;34m\u001b[0m\u001b[0;34m\u001b[0m\u001b[0m\n\u001b[1;32m     30\u001b[0m \u001b[0;34m\u001b[0m\u001b[0m\n\u001b[0;32m---> 31\u001b[0;31m         \u001b[0murls\u001b[0m \u001b[0;34m=\u001b[0m \u001b[0;34m[\u001b[0m\u001b[0ma_tag\u001b[0m\u001b[0;34m.\u001b[0m\u001b[0mget_attribute\u001b[0m\u001b[0;34m(\u001b[0m\u001b[0;34m'href'\u001b[0m\u001b[0;34m)\u001b[0m \u001b[0;32mfor\u001b[0m \u001b[0ma_tag\u001b[0m \u001b[0;32min\u001b[0m \u001b[0mdriver\u001b[0m\u001b[0;34m.\u001b[0m\u001b[0mfind_elements_by_css_selector\u001b[0m\u001b[0;34m(\u001b[0m\u001b[0mpProductPattern\u001b[0m\u001b[0;34m)\u001b[0m\u001b[0;34m]\u001b[0m\u001b[0;31m# lấy các địa chỉ URL đến sản phẩm\u001b[0m\u001b[0;34m\u001b[0m\u001b[0;34m\u001b[0m\u001b[0m\n\u001b[0m\u001b[1;32m     32\u001b[0m         \u001b[0mproducts_url\u001b[0m \u001b[0;34m+=\u001b[0m \u001b[0murls\u001b[0m\u001b[0;34m\u001b[0m\u001b[0;34m\u001b[0m\u001b[0m\n\u001b[1;32m     33\u001b[0m \u001b[0;34m\u001b[0m\u001b[0m\n",
      "\u001b[0;32m~/.local/lib/python3.8/site-packages/selenium/webdriver/remote/webelement.py\u001b[0m in \u001b[0;36mget_attribute\u001b[0;34m(self, name)\u001b[0m\n\u001b[1;32m    137\u001b[0m         \u001b[0mattributeValue\u001b[0m \u001b[0;34m=\u001b[0m \u001b[0;34m''\u001b[0m\u001b[0;34m\u001b[0m\u001b[0;34m\u001b[0m\u001b[0m\n\u001b[1;32m    138\u001b[0m         \u001b[0;32mif\u001b[0m \u001b[0mself\u001b[0m\u001b[0;34m.\u001b[0m\u001b[0m_w3c\u001b[0m\u001b[0;34m:\u001b[0m\u001b[0;34m\u001b[0m\u001b[0;34m\u001b[0m\u001b[0m\n\u001b[0;32m--> 139\u001b[0;31m             attributeValue = self.parent.execute_script(\n\u001b[0m\u001b[1;32m    140\u001b[0m                 \u001b[0;34m\"return (%s).apply(null, arguments);\"\u001b[0m \u001b[0;34m%\u001b[0m \u001b[0mgetAttribute_js\u001b[0m\u001b[0;34m,\u001b[0m\u001b[0;34m\u001b[0m\u001b[0;34m\u001b[0m\u001b[0m\n\u001b[1;32m    141\u001b[0m                 self, name)\n",
      "\u001b[0;32m~/.local/lib/python3.8/site-packages/selenium/webdriver/remote/webdriver.py\u001b[0m in \u001b[0;36mexecute_script\u001b[0;34m(self, script, *args)\u001b[0m\n\u001b[1;32m    632\u001b[0m             \u001b[0mcommand\u001b[0m \u001b[0;34m=\u001b[0m \u001b[0mCommand\u001b[0m\u001b[0;34m.\u001b[0m\u001b[0mEXECUTE_SCRIPT\u001b[0m\u001b[0;34m\u001b[0m\u001b[0;34m\u001b[0m\u001b[0m\n\u001b[1;32m    633\u001b[0m \u001b[0;34m\u001b[0m\u001b[0m\n\u001b[0;32m--> 634\u001b[0;31m         return self.execute(command, {\n\u001b[0m\u001b[1;32m    635\u001b[0m             \u001b[0;34m'script'\u001b[0m\u001b[0;34m:\u001b[0m \u001b[0mscript\u001b[0m\u001b[0;34m,\u001b[0m\u001b[0;34m\u001b[0m\u001b[0;34m\u001b[0m\u001b[0m\n\u001b[1;32m    636\u001b[0m             'args': converted_args})['value']\n",
      "\u001b[0;32m~/.local/lib/python3.8/site-packages/selenium/webdriver/remote/webdriver.py\u001b[0m in \u001b[0;36mexecute\u001b[0;34m(self, driver_command, params)\u001b[0m\n\u001b[1;32m    319\u001b[0m         \u001b[0mresponse\u001b[0m \u001b[0;34m=\u001b[0m \u001b[0mself\u001b[0m\u001b[0;34m.\u001b[0m\u001b[0mcommand_executor\u001b[0m\u001b[0;34m.\u001b[0m\u001b[0mexecute\u001b[0m\u001b[0;34m(\u001b[0m\u001b[0mdriver_command\u001b[0m\u001b[0;34m,\u001b[0m \u001b[0mparams\u001b[0m\u001b[0;34m)\u001b[0m\u001b[0;34m\u001b[0m\u001b[0;34m\u001b[0m\u001b[0m\n\u001b[1;32m    320\u001b[0m         \u001b[0;32mif\u001b[0m \u001b[0mresponse\u001b[0m\u001b[0;34m:\u001b[0m\u001b[0;34m\u001b[0m\u001b[0;34m\u001b[0m\u001b[0m\n\u001b[0;32m--> 321\u001b[0;31m             \u001b[0mself\u001b[0m\u001b[0;34m.\u001b[0m\u001b[0merror_handler\u001b[0m\u001b[0;34m.\u001b[0m\u001b[0mcheck_response\u001b[0m\u001b[0;34m(\u001b[0m\u001b[0mresponse\u001b[0m\u001b[0;34m)\u001b[0m\u001b[0;34m\u001b[0m\u001b[0;34m\u001b[0m\u001b[0m\n\u001b[0m\u001b[1;32m    322\u001b[0m             response['value'] = self._unwrap_value(\n\u001b[1;32m    323\u001b[0m                 response.get('value', None))\n",
      "\u001b[0;32m~/.local/lib/python3.8/site-packages/selenium/webdriver/remote/errorhandler.py\u001b[0m in \u001b[0;36mcheck_response\u001b[0;34m(self, response)\u001b[0m\n\u001b[1;32m    240\u001b[0m                 \u001b[0malert_text\u001b[0m \u001b[0;34m=\u001b[0m \u001b[0mvalue\u001b[0m\u001b[0;34m[\u001b[0m\u001b[0;34m'alert'\u001b[0m\u001b[0;34m]\u001b[0m\u001b[0;34m.\u001b[0m\u001b[0mget\u001b[0m\u001b[0;34m(\u001b[0m\u001b[0;34m'text'\u001b[0m\u001b[0;34m)\u001b[0m\u001b[0;34m\u001b[0m\u001b[0;34m\u001b[0m\u001b[0m\n\u001b[1;32m    241\u001b[0m             \u001b[0;32mraise\u001b[0m \u001b[0mexception_class\u001b[0m\u001b[0;34m(\u001b[0m\u001b[0mmessage\u001b[0m\u001b[0;34m,\u001b[0m \u001b[0mscreen\u001b[0m\u001b[0;34m,\u001b[0m \u001b[0mstacktrace\u001b[0m\u001b[0;34m,\u001b[0m \u001b[0malert_text\u001b[0m\u001b[0;34m)\u001b[0m\u001b[0;34m\u001b[0m\u001b[0;34m\u001b[0m\u001b[0m\n\u001b[0;32m--> 242\u001b[0;31m         \u001b[0;32mraise\u001b[0m \u001b[0mexception_class\u001b[0m\u001b[0;34m(\u001b[0m\u001b[0mmessage\u001b[0m\u001b[0;34m,\u001b[0m \u001b[0mscreen\u001b[0m\u001b[0;34m,\u001b[0m \u001b[0mstacktrace\u001b[0m\u001b[0;34m)\u001b[0m\u001b[0;34m\u001b[0m\u001b[0;34m\u001b[0m\u001b[0m\n\u001b[0m\u001b[1;32m    243\u001b[0m \u001b[0;34m\u001b[0m\u001b[0m\n\u001b[1;32m    244\u001b[0m     \u001b[0;32mdef\u001b[0m \u001b[0m_value_or_default\u001b[0m\u001b[0;34m(\u001b[0m\u001b[0mself\u001b[0m\u001b[0;34m,\u001b[0m \u001b[0mobj\u001b[0m\u001b[0;34m,\u001b[0m \u001b[0mkey\u001b[0m\u001b[0;34m,\u001b[0m \u001b[0mdefault\u001b[0m\u001b[0;34m)\u001b[0m\u001b[0;34m:\u001b[0m\u001b[0;34m\u001b[0m\u001b[0;34m\u001b[0m\u001b[0m\n",
      "\u001b[0;31mWebDriverException\u001b[0m: Message: Failed to decode response from marionette\n"
     ]
    }
   ],
   "source": [
    "men_products_urls = ShopeeCrawler.loadProductsURL(\"https://shopee.vn/Th%E1%BB%9Di-Trang-Nam-cat.78?page=\", (0, 100), \"div.shopee-search-item-result__item > a\")"
   ]
  },
  {
   "cell_type": "code",
   "execution_count": null,
   "metadata": {},
   "outputs": [],
   "source": [
    "men_products_urls[:10]"
   ]
  },
  {
   "cell_type": "code",
   "execution_count": 16,
   "metadata": {},
   "outputs": [
    {
     "output_type": "stream",
     "name": "stdout",
     "text": [
      "✅ Done.\n"
     ]
    }
   ],
   "source": [
    "ShopeeCrawler.saveProductsURL(\"./data/shopee_products_urls/shopee_men_products_urls.txt\", men_products_urls)"
   ]
  },
  {
   "source": [
    "# 2. Craw dữ liệu từ nhóm hàng thời trang nữ\n",
    "* URL tại [https://shopee.vn/Th%E1%BB%9Di-Trang-N%E1%BB%AF-cat.77?page=0](https://shopee.vn/Th%E1%BB%9Di-Trang-N%E1%BB%AF-cat.77?page=0)"
   ],
   "cell_type": "markdown",
   "metadata": {}
  },
  {
   "cell_type": "code",
   "execution_count": 3,
   "metadata": {},
   "outputs": [],
   "source": [
    "women_products_urls = ShopeeCrawler.loadProductsURL(\"https://shopee.vn/search?keyword=th%E1%BB%9Di%20trang&page=\", (0, 100), \"div.shopee-search-item-result__item > a\")"
   ]
  },
  {
   "cell_type": "code",
   "execution_count": 4,
   "metadata": {},
   "outputs": [
    {
     "output_type": "execute_result",
     "data": {
      "text/plain": [
       "['https://shopee.vn/M%E1%BA%AFt-K%C3%ADnh-G%E1%BB%8Dng-Tr%C3%B2n-Th%E1%BB%9Di-Trang-D%C3%A0nh-Cho-Nam-V%C3%A0-N%E1%BB%AF-i.404426727.6185455002',\n",
       " 'https://shopee.vn/V%E1%BB%9B-d%C3%A0i-ngang-g%E1%BB%91i-in-ho%E1%BA%A1-ti%E1%BA%BFt-ho%E1%BA%A1t-h%C3%ACnh-phong-c%C3%A1ch-th%E1%BB%9Di-trang-harajuku-cho-n%E1%BB%AF-i.290992077.7747494886',\n",
       " 'https://shopee.vn/%C3%81o-v%C3%A1y-cho-ch%C3%B3-m%C3%A8o-HIPIPETT-ch%E1%BA%A5t-coton-x%E1%BB%8Bn-th%C3%AAu-hoa-c%C3%BAc-tr%E1%BA%AFng-th%E1%BB%9Di-trang-xu%C3%A2n-h%C3%A8-cho-ch%C3%B3-m%C3%A8o-i.267600482.2935028048',\n",
       " 'https://shopee.vn/M%C5%A9-N%C3%B3n-L%C6%B0%E1%BB%A1i-Trai-Th%E1%BB%9Di-Trang-%F0%9D%90%92%F0%9D%90%9A%F0%9D%90%A6%F0%9D%90%AE%F0%9D%90%AB%F0%9D%90%9A%F0%9D%90%A2-Th%E1%BB%9Di-Trang-i.84620544.8702146499',\n",
       " 'https://shopee.vn/D%C3%A2y-th%E1%BA%AFt-l%C6%B0ng-da-PU-thi%E1%BA%BFt-k%E1%BA%BF-th%E1%BB%9Di-trang-tr%E1%BA%BB-trung-cho-n%E1%BB%AF-i.262172240.4743889566',\n",
       " 'https://shopee.vn/V%C3%B2ng-c%E1%BB%95-choker-m%E1%BA%AFt-x%C3%ADch-v%C3%A0ng-m%E1%BA%B7t-h%C3%ACnh-b%C6%B0%E1%BB%9Bm-th%E1%BB%9Di-trang-xinh-x%E1%BA%AFn-cho-n%E1%BB%AF-i.242702931.5451773462',\n",
       " 'https://shopee.vn/V%E1%BB%9B-C%E1%BB%95-Th%E1%BA%A5p-M%C3%A0u-S%E1%BA%AFc-Ng%E1%BB%8Dt-Ng%C3%A0o-Th%E1%BB%9Di-Trang-Cho-N%E1%BB%AF-i.157848773.6363832520',\n",
       " 'https://shopee.vn/D%C3%A2y-Bu%E1%BB%99c-T%C3%B3c-H%E1%BB%8Da-Ti%E1%BA%BFt-Caro-Th%E1%BB%9Di-Trang-H%C3%A0n-Qu%E1%BB%91c-MMT-i.74804504.5151559033',\n",
       " 'https://shopee.vn/C%C3%A0i-t%C3%B3c-MM-thi%E1%BA%BFt-k%E1%BA%BF-ph%E1%BB%91i-tai-g%E1%BA%A5u-t%E1%BB%AB-v%E1%BA%A3i-nhung-th%E1%BB%9Di-trang-thu-%C4%91%C3%B4ng-cho-n%E1%BB%AF-i.74804504.5462267531',\n",
       " 'https://shopee.vn/Khuy%C3%AAn-tai-kim-lo%E1%BA%A1i-h%C3%ACnh-tr%C3%B2n-phong-c%C3%A1ch-vintage-th%E1%BB%9Di-trang-cho-n%E1%BB%AF-i.234425278.5719891472']"
      ]
     },
     "metadata": {},
     "execution_count": 4
    }
   ],
   "source": [
    "women_products_urls[:10]"
   ]
  },
  {
   "cell_type": "code",
   "execution_count": 5,
   "metadata": {},
   "outputs": [
    {
     "output_type": "stream",
     "name": "stdout",
     "text": [
      "✅ Done.\n"
     ]
    }
   ],
   "source": [
    "ShopeeCrawler.saveProductsURL(\"./data/shopee_products_urls/shopee_women_products_urls.txt\", women_products_urls)"
   ]
  },
  {
   "source": [
    "# Crawl thêm dữ liệu đánh giá dưới 5*"
   ],
   "cell_type": "markdown",
   "metadata": {}
  },
  {
   "cell_type": "code",
   "execution_count": 7,
   "metadata": {},
   "outputs": [],
   "source": [
    "more_products_urls = ShopeeCrawler.loadProductsURL2(\"https://shopee.vn/search?keyword=qu%E1%BA%A7n%20%C3%A1o&noCorrection=true&page={}&ratingFilter=1\", (0, 100), \"div.shopee-search-item-result__item > a\")"
   ]
  },
  {
   "cell_type": "code",
   "execution_count": 8,
   "metadata": {},
   "outputs": [
    {
     "output_type": "stream",
     "name": "stdout",
     "text": [
      "✅ Done.\n"
     ]
    }
   ],
   "source": [
    "ShopeeCrawler.saveProductsURL(\"./data/shopee_products_urls/shopee_more_products_urls.txt\", more_products_urls)"
   ]
  },
  {
   "cell_type": "code",
   "execution_count": null,
   "metadata": {},
   "outputs": [],
   "source": [
    "product-rating-overview__filter"
   ]
  }
 ]
}