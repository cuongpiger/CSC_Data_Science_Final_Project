{
 "metadata": {
  "language_info": {
   "codemirror_mode": {
    "name": "ipython",
    "version": 3
   },
   "file_extension": ".py",
   "mimetype": "text/x-python",
   "name": "python",
   "nbconvert_exporter": "python",
   "pygments_lexer": "ipython3",
   "version": "3.8.5"
  },
  "orig_nbformat": 2,
  "kernelspec": {
   "name": "python3",
   "display_name": "Python 3",
   "language": "python"
  }
 },
 "nbformat": 4,
 "nbformat_minor": 2,
 "cells": [
  {
   "cell_type": "code",
   "execution_count": 1,
   "metadata": {},
   "outputs": [],
   "source": [
    "%load_ext autoreload\n",
    "%autoreload 2"
   ]
  },
  {
   "cell_type": "code",
   "execution_count": 2,
   "metadata": {},
   "outputs": [],
   "source": [
    "import modules.utils as Utils\n",
    "import numpy as np\n",
    "import pandas as pd\n",
    "import os\n",
    "\n",
    "from typing import List"
   ]
  },
  {
   "cell_type": "code",
   "execution_count": 3,
   "metadata": {},
   "outputs": [],
   "source": [
    "shopee_dirs = \"./data/shopee_reviews/\"\n",
    "signal_sound = \"../misc/signal.mp3\""
   ]
  },
  {
   "source": [
    "# 0. Đọc tất cả dữ liệu vào một dataframe duy nhất"
   ],
   "cell_type": "markdown",
   "metadata": {}
  },
  {
   "cell_type": "code",
   "execution_count": 4,
   "metadata": {},
   "outputs": [],
   "source": [
    "dir_paths = Utils.getAllDirname(shopee_dirs)"
   ]
  },
  {
   "cell_type": "code",
   "execution_count": 5,
   "metadata": {},
   "outputs": [
    {
     "output_type": "execute_result",
     "data": {
      "text/plain": [
       "['./data/shopee_reviews/women/',\n",
       " './data/shopee_reviews/more/',\n",
       " './data/shopee_reviews/mor/',\n",
       " './data/shopee_reviews/men/']"
      ]
     },
     "metadata": {},
     "execution_count": 5
    }
   ],
   "source": [
    "dir_paths"
   ]
  },
  {
   "cell_type": "code",
   "execution_count": 6,
   "metadata": {},
   "outputs": [],
   "source": [
    "def readReviews(pPaths: List[str]):\n",
    "    reviews = pd.DataFrame(columns=['comment', 'rating'])\n",
    "\n",
    "    for path in pPaths:\n",
    "        products = Utils.getFilenames(path)\n",
    "        for product in products:\n",
    "            df = pd.read_csv(path + product)\n",
    "            reviews = pd.concat([reviews, df], axis=0).reset_index(drop=True)\n",
    "\n",
    "    return reviews.rename(columns={\"comment\":\"raw_comment\"})"
   ]
  },
  {
   "cell_type": "code",
   "execution_count": 7,
   "metadata": {},
   "outputs": [],
   "source": [
    "reviews = readReviews(dir_paths)"
   ]
  },
  {
   "cell_type": "code",
   "execution_count": 8,
   "metadata": {},
   "outputs": [
    {
     "output_type": "execute_result",
     "data": {
      "text/plain": [
       "                                              raw_comment rating\n",
       "0       Hàng đẹp y ảnh. Nên mua nha mọi người. Shop gi...      5\n",
       "1       Đóng gói sản phẩm rất đẹp và chắc chắn. Sản ph...      5\n",
       "2       ♛Welcome to SeaWheat Life Store!♛\\n⚡✨ Happy sh...      5\n",
       "3       Khá xinh nha các bạn, chất lượng quá tuyệt vời...      5\n",
       "4       Chất lượng quá oke ngoài sức mong đợi luôn ạ q...      5\n",
       "...                                                   ...    ...\n",
       "278154  Giao hàng quá chậm. 10 ngày mới có hàng. Sản p...      5\n",
       "278155  Thời gian giao hàng dài. Chất vải tạm ổn với g...      4\n",
       "278156                               Cũng ổn nhìn hay hay      4\n",
       "278157                  nhỏ xíu , ship 2 tuần , thất vọng      5\n",
       "278158                                            Quá oke      5\n",
       "\n",
       "[278159 rows x 2 columns]"
      ],
      "text/html": "<div>\n<style scoped>\n    .dataframe tbody tr th:only-of-type {\n        vertical-align: middle;\n    }\n\n    .dataframe tbody tr th {\n        vertical-align: top;\n    }\n\n    .dataframe thead th {\n        text-align: right;\n    }\n</style>\n<table border=\"1\" class=\"dataframe\">\n  <thead>\n    <tr style=\"text-align: right;\">\n      <th></th>\n      <th>raw_comment</th>\n      <th>rating</th>\n    </tr>\n  </thead>\n  <tbody>\n    <tr>\n      <th>0</th>\n      <td>Hàng đẹp y ảnh. Nên mua nha mọi người. Shop gi...</td>\n      <td>5</td>\n    </tr>\n    <tr>\n      <th>1</th>\n      <td>Đóng gói sản phẩm rất đẹp và chắc chắn. Sản ph...</td>\n      <td>5</td>\n    </tr>\n    <tr>\n      <th>2</th>\n      <td>♛Welcome to SeaWheat Life Store!♛\\n⚡✨ Happy sh...</td>\n      <td>5</td>\n    </tr>\n    <tr>\n      <th>3</th>\n      <td>Khá xinh nha các bạn, chất lượng quá tuyệt vời...</td>\n      <td>5</td>\n    </tr>\n    <tr>\n      <th>4</th>\n      <td>Chất lượng quá oke ngoài sức mong đợi luôn ạ q...</td>\n      <td>5</td>\n    </tr>\n    <tr>\n      <th>...</th>\n      <td>...</td>\n      <td>...</td>\n    </tr>\n    <tr>\n      <th>278154</th>\n      <td>Giao hàng quá chậm. 10 ngày mới có hàng. Sản p...</td>\n      <td>5</td>\n    </tr>\n    <tr>\n      <th>278155</th>\n      <td>Thời gian giao hàng dài. Chất vải tạm ổn với g...</td>\n      <td>4</td>\n    </tr>\n    <tr>\n      <th>278156</th>\n      <td>Cũng ổn nhìn hay hay</td>\n      <td>4</td>\n    </tr>\n    <tr>\n      <th>278157</th>\n      <td>nhỏ xíu , ship 2 tuần , thất vọng</td>\n      <td>5</td>\n    </tr>\n    <tr>\n      <th>278158</th>\n      <td>Quá oke</td>\n      <td>5</td>\n    </tr>\n  </tbody>\n</table>\n<p>278159 rows × 2 columns</p>\n</div>"
     },
     "metadata": {},
     "execution_count": 8
    }
   ],
   "source": [
    "reviews"
   ]
  },
  {
   "source": [
    "# 1. Tạo cột `label` sau đó xóa cột `rating`\n",
    "* Cột `label` dựa theo tiêu chí:\n",
    "  * $\\leq 2$: -1 (tiêu cực)\n",
    "  * $\\in [3, 4]$: 0 (bình thường)\n",
    "  * $= 5$: 1 (tích cực)"
   ],
   "cell_type": "markdown",
   "metadata": {}
  },
  {
   "cell_type": "code",
   "execution_count": 9,
   "metadata": {},
   "outputs": [],
   "source": [
    "reviews['label'] = reviews['rating'].apply(lambda rating: Utils.labelRating(rating)).drop(columns=['rating'])"
   ]
  },
  {
   "cell_type": "code",
   "execution_count": 10,
   "metadata": {},
   "outputs": [],
   "source": [
    "reviews = reviews.drop(columns=['rating'])"
   ]
  },
  {
   "cell_type": "code",
   "execution_count": 11,
   "metadata": {},
   "outputs": [
    {
     "output_type": "execute_result",
     "data": {
      "text/plain": [
       "                                              raw_comment  label\n",
       "0       Hàng đẹp y ảnh. Nên mua nha mọi người. Shop gi...      1\n",
       "1       Đóng gói sản phẩm rất đẹp và chắc chắn. Sản ph...      1\n",
       "2       ♛Welcome to SeaWheat Life Store!♛\\n⚡✨ Happy sh...      1\n",
       "3       Khá xinh nha các bạn, chất lượng quá tuyệt vời...      1\n",
       "4       Chất lượng quá oke ngoài sức mong đợi luôn ạ q...      1\n",
       "...                                                   ...    ...\n",
       "278154  Giao hàng quá chậm. 10 ngày mới có hàng. Sản p...      1\n",
       "278155  Thời gian giao hàng dài. Chất vải tạm ổn với g...      0\n",
       "278156                               Cũng ổn nhìn hay hay      0\n",
       "278157                  nhỏ xíu , ship 2 tuần , thất vọng      1\n",
       "278158                                            Quá oke      1\n",
       "\n",
       "[278159 rows x 2 columns]"
      ],
      "text/html": "<div>\n<style scoped>\n    .dataframe tbody tr th:only-of-type {\n        vertical-align: middle;\n    }\n\n    .dataframe tbody tr th {\n        vertical-align: top;\n    }\n\n    .dataframe thead th {\n        text-align: right;\n    }\n</style>\n<table border=\"1\" class=\"dataframe\">\n  <thead>\n    <tr style=\"text-align: right;\">\n      <th></th>\n      <th>raw_comment</th>\n      <th>label</th>\n    </tr>\n  </thead>\n  <tbody>\n    <tr>\n      <th>0</th>\n      <td>Hàng đẹp y ảnh. Nên mua nha mọi người. Shop gi...</td>\n      <td>1</td>\n    </tr>\n    <tr>\n      <th>1</th>\n      <td>Đóng gói sản phẩm rất đẹp và chắc chắn. Sản ph...</td>\n      <td>1</td>\n    </tr>\n    <tr>\n      <th>2</th>\n      <td>♛Welcome to SeaWheat Life Store!♛\\n⚡✨ Happy sh...</td>\n      <td>1</td>\n    </tr>\n    <tr>\n      <th>3</th>\n      <td>Khá xinh nha các bạn, chất lượng quá tuyệt vời...</td>\n      <td>1</td>\n    </tr>\n    <tr>\n      <th>4</th>\n      <td>Chất lượng quá oke ngoài sức mong đợi luôn ạ q...</td>\n      <td>1</td>\n    </tr>\n    <tr>\n      <th>...</th>\n      <td>...</td>\n      <td>...</td>\n    </tr>\n    <tr>\n      <th>278154</th>\n      <td>Giao hàng quá chậm. 10 ngày mới có hàng. Sản p...</td>\n      <td>1</td>\n    </tr>\n    <tr>\n      <th>278155</th>\n      <td>Thời gian giao hàng dài. Chất vải tạm ổn với g...</td>\n      <td>0</td>\n    </tr>\n    <tr>\n      <th>278156</th>\n      <td>Cũng ổn nhìn hay hay</td>\n      <td>0</td>\n    </tr>\n    <tr>\n      <th>278157</th>\n      <td>nhỏ xíu , ship 2 tuần , thất vọng</td>\n      <td>1</td>\n    </tr>\n    <tr>\n      <th>278158</th>\n      <td>Quá oke</td>\n      <td>1</td>\n    </tr>\n  </tbody>\n</table>\n<p>278159 rows × 2 columns</p>\n</div>"
     },
     "metadata": {},
     "execution_count": 11
    }
   ],
   "source": [
    "reviews"
   ]
  },
  {
   "source": [
    "# 2. Ghi ra file"
   ],
   "cell_type": "markdown",
   "metadata": {}
  },
  {
   "cell_type": "code",
   "execution_count": 12,
   "metadata": {},
   "outputs": [],
   "source": [
    "reviews.to_csv(\"./data/reviews.csv\", index=False)"
   ]
  },
  {
   "cell_type": "code",
   "execution_count": 13,
   "metadata": {},
   "outputs": [
    {
     "output_type": "execute_result",
     "data": {
      "text/plain": [
       "0"
      ]
     },
     "metadata": {},
     "execution_count": 13
    }
   ],
   "source": [
    "os.system(f\"vlc {signal_sound}\")"
   ]
  },
  {
   "cell_type": "code",
   "execution_count": null,
   "metadata": {},
   "outputs": [],
   "source": []
  }
 ]
}