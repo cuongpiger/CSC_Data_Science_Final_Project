{
 "metadata": {
  "language_info": {
   "codemirror_mode": {
    "name": "ipython",
    "version": 3
   },
   "file_extension": ".py",
   "mimetype": "text/x-python",
   "name": "python",
   "nbconvert_exporter": "python",
   "pygments_lexer": "ipython3",
   "version": "3.8.5"
  },
  "orig_nbformat": 2,
  "kernelspec": {
   "name": "python3",
   "display_name": "Python 3",
   "language": "python"
  }
 },
 "nbformat": 4,
 "nbformat_minor": 2,
 "cells": [
  {
   "cell_type": "code",
   "execution_count": 1,
   "metadata": {},
   "outputs": [],
   "source": [
    "%load_ext autoreload\n",
    "%autoreload 2"
   ]
  },
  {
   "cell_type": "code",
   "execution_count": 7,
   "metadata": {},
   "outputs": [],
   "source": [
    "import numpy as np\n",
    "import pandas as pd\n",
    "import os\n",
    "import modules.hack as Hack\n",
    "\n",
    "from collections import Counter\n",
    "from typing import List"
   ]
  },
  {
   "source": [
    "# 1. Đọc dữ liệu"
   ],
   "cell_type": "markdown",
   "metadata": {}
  },
  {
   "cell_type": "code",
   "execution_count": 4,
   "metadata": {},
   "outputs": [],
   "source": [
    "reviews = pd.read_csv(\"./data/reviews.csv\")"
   ]
  },
  {
   "cell_type": "code",
   "execution_count": 6,
   "metadata": {},
   "outputs": [
    {
     "output_type": "execute_result",
     "data": {
      "text/plain": [
       "Counter({1: 260555, 0: 13840, -1: 3764})"
      ]
     },
     "metadata": {},
     "execution_count": 6
    }
   ],
   "source": [
    "Counter(reviews['label'])"
   ]
  },
  {
   "source": [
    "# 2. Xóa các mẫu chứa url"
   ],
   "cell_type": "markdown",
   "metadata": {}
  },
  {
   "cell_type": "code",
   "execution_count": 9,
   "metadata": {},
   "outputs": [],
   "source": [
    "reviews['contain_url'] = reviews['raw_comment'].apply(lambda comment: 1 if Hack.containsURL(comment.lower()) else 0)"
   ]
  },
  {
   "cell_type": "code",
   "execution_count": 10,
   "metadata": {},
   "outputs": [
    {
     "output_type": "execute_result",
     "data": {
      "text/plain": [
       "                                              raw_comment  label  contain_url\n",
       "0       Hàng đẹp y ảnh. Nên mua nha mọi người. Shop gi...      1            0\n",
       "1       Đóng gói sản phẩm rất đẹp và chắc chắn. Sản ph...      1            0\n",
       "2       ♛Welcome to SeaWheat Life Store!♛\\n⚡✨ Happy sh...      1            0\n",
       "3       Khá xinh nha các bạn, chất lượng quá tuyệt vời...      1            0\n",
       "4       Chất lượng quá oke ngoài sức mong đợi luôn ạ q...      1            0\n",
       "...                                                   ...    ...          ...\n",
       "278154  Giao hàng quá chậm. 10 ngày mới có hàng. Sản p...      1            0\n",
       "278155  Thời gian giao hàng dài. Chất vải tạm ổn với g...      0            0\n",
       "278156                               Cũng ổn nhìn hay hay      0            0\n",
       "278157                  nhỏ xíu , ship 2 tuần , thất vọng      1            0\n",
       "278158                                            Quá oke      1            0\n",
       "\n",
       "[278159 rows x 3 columns]"
      ],
      "text/html": "<div>\n<style scoped>\n    .dataframe tbody tr th:only-of-type {\n        vertical-align: middle;\n    }\n\n    .dataframe tbody tr th {\n        vertical-align: top;\n    }\n\n    .dataframe thead th {\n        text-align: right;\n    }\n</style>\n<table border=\"1\" class=\"dataframe\">\n  <thead>\n    <tr style=\"text-align: right;\">\n      <th></th>\n      <th>raw_comment</th>\n      <th>label</th>\n      <th>contain_url</th>\n    </tr>\n  </thead>\n  <tbody>\n    <tr>\n      <th>0</th>\n      <td>Hàng đẹp y ảnh. Nên mua nha mọi người. Shop gi...</td>\n      <td>1</td>\n      <td>0</td>\n    </tr>\n    <tr>\n      <th>1</th>\n      <td>Đóng gói sản phẩm rất đẹp và chắc chắn. Sản ph...</td>\n      <td>1</td>\n      <td>0</td>\n    </tr>\n    <tr>\n      <th>2</th>\n      <td>♛Welcome to SeaWheat Life Store!♛\\n⚡✨ Happy sh...</td>\n      <td>1</td>\n      <td>0</td>\n    </tr>\n    <tr>\n      <th>3</th>\n      <td>Khá xinh nha các bạn, chất lượng quá tuyệt vời...</td>\n      <td>1</td>\n      <td>0</td>\n    </tr>\n    <tr>\n      <th>4</th>\n      <td>Chất lượng quá oke ngoài sức mong đợi luôn ạ q...</td>\n      <td>1</td>\n      <td>0</td>\n    </tr>\n    <tr>\n      <th>...</th>\n      <td>...</td>\n      <td>...</td>\n      <td>...</td>\n    </tr>\n    <tr>\n      <th>278154</th>\n      <td>Giao hàng quá chậm. 10 ngày mới có hàng. Sản p...</td>\n      <td>1</td>\n      <td>0</td>\n    </tr>\n    <tr>\n      <th>278155</th>\n      <td>Thời gian giao hàng dài. Chất vải tạm ổn với g...</td>\n      <td>0</td>\n      <td>0</td>\n    </tr>\n    <tr>\n      <th>278156</th>\n      <td>Cũng ổn nhìn hay hay</td>\n      <td>0</td>\n      <td>0</td>\n    </tr>\n    <tr>\n      <th>278157</th>\n      <td>nhỏ xíu , ship 2 tuần , thất vọng</td>\n      <td>1</td>\n      <td>0</td>\n    </tr>\n    <tr>\n      <th>278158</th>\n      <td>Quá oke</td>\n      <td>1</td>\n      <td>0</td>\n    </tr>\n  </tbody>\n</table>\n<p>278159 rows × 3 columns</p>\n</div>"
     },
     "metadata": {},
     "execution_count": 10
    }
   ],
   "source": [
    "reviews"
   ]
  },
  {
   "cell_type": "code",
   "execution_count": 11,
   "metadata": {},
   "outputs": [],
   "source": [
    "reviews = reviews[reviews['contain_url'] == 0]"
   ]
  },
  {
   "cell_type": "code",
   "execution_count": 12,
   "metadata": {},
   "outputs": [
    {
     "output_type": "execute_result",
     "data": {
      "text/plain": [
       "                                              raw_comment  label  contain_url\n",
       "0       Hàng đẹp y ảnh. Nên mua nha mọi người. Shop gi...      1            0\n",
       "1       Đóng gói sản phẩm rất đẹp và chắc chắn. Sản ph...      1            0\n",
       "2       ♛Welcome to SeaWheat Life Store!♛\\n⚡✨ Happy sh...      1            0\n",
       "3       Khá xinh nha các bạn, chất lượng quá tuyệt vời...      1            0\n",
       "4       Chất lượng quá oke ngoài sức mong đợi luôn ạ q...      1            0\n",
       "...                                                   ...    ...          ...\n",
       "278154  Giao hàng quá chậm. 10 ngày mới có hàng. Sản p...      1            0\n",
       "278155  Thời gian giao hàng dài. Chất vải tạm ổn với g...      0            0\n",
       "278156                               Cũng ổn nhìn hay hay      0            0\n",
       "278157                  nhỏ xíu , ship 2 tuần , thất vọng      1            0\n",
       "278158                                            Quá oke      1            0\n",
       "\n",
       "[277589 rows x 3 columns]"
      ],
      "text/html": "<div>\n<style scoped>\n    .dataframe tbody tr th:only-of-type {\n        vertical-align: middle;\n    }\n\n    .dataframe tbody tr th {\n        vertical-align: top;\n    }\n\n    .dataframe thead th {\n        text-align: right;\n    }\n</style>\n<table border=\"1\" class=\"dataframe\">\n  <thead>\n    <tr style=\"text-align: right;\">\n      <th></th>\n      <th>raw_comment</th>\n      <th>label</th>\n      <th>contain_url</th>\n    </tr>\n  </thead>\n  <tbody>\n    <tr>\n      <th>0</th>\n      <td>Hàng đẹp y ảnh. Nên mua nha mọi người. Shop gi...</td>\n      <td>1</td>\n      <td>0</td>\n    </tr>\n    <tr>\n      <th>1</th>\n      <td>Đóng gói sản phẩm rất đẹp và chắc chắn. Sản ph...</td>\n      <td>1</td>\n      <td>0</td>\n    </tr>\n    <tr>\n      <th>2</th>\n      <td>♛Welcome to SeaWheat Life Store!♛\\n⚡✨ Happy sh...</td>\n      <td>1</td>\n      <td>0</td>\n    </tr>\n    <tr>\n      <th>3</th>\n      <td>Khá xinh nha các bạn, chất lượng quá tuyệt vời...</td>\n      <td>1</td>\n      <td>0</td>\n    </tr>\n    <tr>\n      <th>4</th>\n      <td>Chất lượng quá oke ngoài sức mong đợi luôn ạ q...</td>\n      <td>1</td>\n      <td>0</td>\n    </tr>\n    <tr>\n      <th>...</th>\n      <td>...</td>\n      <td>...</td>\n      <td>...</td>\n    </tr>\n    <tr>\n      <th>278154</th>\n      <td>Giao hàng quá chậm. 10 ngày mới có hàng. Sản p...</td>\n      <td>1</td>\n      <td>0</td>\n    </tr>\n    <tr>\n      <th>278155</th>\n      <td>Thời gian giao hàng dài. Chất vải tạm ổn với g...</td>\n      <td>0</td>\n      <td>0</td>\n    </tr>\n    <tr>\n      <th>278156</th>\n      <td>Cũng ổn nhìn hay hay</td>\n      <td>0</td>\n      <td>0</td>\n    </tr>\n    <tr>\n      <th>278157</th>\n      <td>nhỏ xíu , ship 2 tuần , thất vọng</td>\n      <td>1</td>\n      <td>0</td>\n    </tr>\n    <tr>\n      <th>278158</th>\n      <td>Quá oke</td>\n      <td>1</td>\n      <td>0</td>\n    </tr>\n  </tbody>\n</table>\n<p>277589 rows × 3 columns</p>\n</div>"
     },
     "metadata": {},
     "execution_count": 12
    }
   ],
   "source": [
    "reviews"
   ]
  },
  {
   "cell_type": "code",
   "execution_count": 13,
   "metadata": {},
   "outputs": [],
   "source": [
    "reviews = reviews.drop(columns=['contain_url'])"
   ]
  },
  {
   "source": [
    "# 3. Xóa các mẫu mà chữ IN HOA chiếm quá 50% độ dài của comment"
   ],
   "cell_type": "markdown",
   "metadata": {}
  },
  {
   "cell_type": "code",
   "execution_count": 15,
   "metadata": {},
   "outputs": [],
   "source": [
    "reviews['contain_adv'] = reviews['raw_comment'].apply(lambda comment: 1 if Hack.containAdvertisement(comment) else 0)"
   ]
  },
  {
   "cell_type": "code",
   "execution_count": 16,
   "metadata": {},
   "outputs": [
    {
     "output_type": "execute_result",
     "data": {
      "text/plain": [
       "                                              raw_comment  label  contain_adv\n",
       "0       Hàng đẹp y ảnh. Nên mua nha mọi người. Shop gi...      1            0\n",
       "1       Đóng gói sản phẩm rất đẹp và chắc chắn. Sản ph...      1            0\n",
       "2       ♛Welcome to SeaWheat Life Store!♛\\n⚡✨ Happy sh...      1            0\n",
       "3       Khá xinh nha các bạn, chất lượng quá tuyệt vời...      1            0\n",
       "4       Chất lượng quá oke ngoài sức mong đợi luôn ạ q...      1            0\n",
       "...                                                   ...    ...          ...\n",
       "278154  Giao hàng quá chậm. 10 ngày mới có hàng. Sản p...      1            0\n",
       "278155  Thời gian giao hàng dài. Chất vải tạm ổn với g...      0            0\n",
       "278156                               Cũng ổn nhìn hay hay      0            0\n",
       "278157                  nhỏ xíu , ship 2 tuần , thất vọng      1            0\n",
       "278158                                            Quá oke      1            0\n",
       "\n",
       "[277589 rows x 3 columns]"
      ],
      "text/html": "<div>\n<style scoped>\n    .dataframe tbody tr th:only-of-type {\n        vertical-align: middle;\n    }\n\n    .dataframe tbody tr th {\n        vertical-align: top;\n    }\n\n    .dataframe thead th {\n        text-align: right;\n    }\n</style>\n<table border=\"1\" class=\"dataframe\">\n  <thead>\n    <tr style=\"text-align: right;\">\n      <th></th>\n      <th>raw_comment</th>\n      <th>label</th>\n      <th>contain_adv</th>\n    </tr>\n  </thead>\n  <tbody>\n    <tr>\n      <th>0</th>\n      <td>Hàng đẹp y ảnh. Nên mua nha mọi người. Shop gi...</td>\n      <td>1</td>\n      <td>0</td>\n    </tr>\n    <tr>\n      <th>1</th>\n      <td>Đóng gói sản phẩm rất đẹp và chắc chắn. Sản ph...</td>\n      <td>1</td>\n      <td>0</td>\n    </tr>\n    <tr>\n      <th>2</th>\n      <td>♛Welcome to SeaWheat Life Store!♛\\n⚡✨ Happy sh...</td>\n      <td>1</td>\n      <td>0</td>\n    </tr>\n    <tr>\n      <th>3</th>\n      <td>Khá xinh nha các bạn, chất lượng quá tuyệt vời...</td>\n      <td>1</td>\n      <td>0</td>\n    </tr>\n    <tr>\n      <th>4</th>\n      <td>Chất lượng quá oke ngoài sức mong đợi luôn ạ q...</td>\n      <td>1</td>\n      <td>0</td>\n    </tr>\n    <tr>\n      <th>...</th>\n      <td>...</td>\n      <td>...</td>\n      <td>...</td>\n    </tr>\n    <tr>\n      <th>278154</th>\n      <td>Giao hàng quá chậm. 10 ngày mới có hàng. Sản p...</td>\n      <td>1</td>\n      <td>0</td>\n    </tr>\n    <tr>\n      <th>278155</th>\n      <td>Thời gian giao hàng dài. Chất vải tạm ổn với g...</td>\n      <td>0</td>\n      <td>0</td>\n    </tr>\n    <tr>\n      <th>278156</th>\n      <td>Cũng ổn nhìn hay hay</td>\n      <td>0</td>\n      <td>0</td>\n    </tr>\n    <tr>\n      <th>278157</th>\n      <td>nhỏ xíu , ship 2 tuần , thất vọng</td>\n      <td>1</td>\n      <td>0</td>\n    </tr>\n    <tr>\n      <th>278158</th>\n      <td>Quá oke</td>\n      <td>1</td>\n      <td>0</td>\n    </tr>\n  </tbody>\n</table>\n<p>277589 rows × 3 columns</p>\n</div>"
     },
     "metadata": {},
     "execution_count": 16
    }
   ],
   "source": [
    "reviews"
   ]
  },
  {
   "cell_type": "code",
   "execution_count": 17,
   "metadata": {},
   "outputs": [
    {
     "output_type": "execute_result",
     "data": {
      "text/plain": [
       "                                              raw_comment  label  contain_adv\n",
       "354     OKOKOKOKOKOKOKOKOKOKOKOKOKOKOKOKOKOKOKOKOKOKOK...      1            1\n",
       "1707                                                   Ok      1            1\n",
       "1994                                                    N      1            1\n",
       "2025                                                   Ok      1            1\n",
       "2874                                                   Ok      1            1\n",
       "...                                                   ...    ...          ...\n",
       "278009                                                 Ok      1            1\n",
       "278018                                                 Ok      1            1\n",
       "278021                                                VIP      1            1\n",
       "278122                                                 Ok      1            1\n",
       "278149                                                 Ok      1            1\n",
       "\n",
       "[3463 rows x 3 columns]"
      ],
      "text/html": "<div>\n<style scoped>\n    .dataframe tbody tr th:only-of-type {\n        vertical-align: middle;\n    }\n\n    .dataframe tbody tr th {\n        vertical-align: top;\n    }\n\n    .dataframe thead th {\n        text-align: right;\n    }\n</style>\n<table border=\"1\" class=\"dataframe\">\n  <thead>\n    <tr style=\"text-align: right;\">\n      <th></th>\n      <th>raw_comment</th>\n      <th>label</th>\n      <th>contain_adv</th>\n    </tr>\n  </thead>\n  <tbody>\n    <tr>\n      <th>354</th>\n      <td>OKOKOKOKOKOKOKOKOKOKOKOKOKOKOKOKOKOKOKOKOKOKOK...</td>\n      <td>1</td>\n      <td>1</td>\n    </tr>\n    <tr>\n      <th>1707</th>\n      <td>Ok</td>\n      <td>1</td>\n      <td>1</td>\n    </tr>\n    <tr>\n      <th>1994</th>\n      <td>N</td>\n      <td>1</td>\n      <td>1</td>\n    </tr>\n    <tr>\n      <th>2025</th>\n      <td>Ok</td>\n      <td>1</td>\n      <td>1</td>\n    </tr>\n    <tr>\n      <th>2874</th>\n      <td>Ok</td>\n      <td>1</td>\n      <td>1</td>\n    </tr>\n    <tr>\n      <th>...</th>\n      <td>...</td>\n      <td>...</td>\n      <td>...</td>\n    </tr>\n    <tr>\n      <th>278009</th>\n      <td>Ok</td>\n      <td>1</td>\n      <td>1</td>\n    </tr>\n    <tr>\n      <th>278018</th>\n      <td>Ok</td>\n      <td>1</td>\n      <td>1</td>\n    </tr>\n    <tr>\n      <th>278021</th>\n      <td>VIP</td>\n      <td>1</td>\n      <td>1</td>\n    </tr>\n    <tr>\n      <th>278122</th>\n      <td>Ok</td>\n      <td>1</td>\n      <td>1</td>\n    </tr>\n    <tr>\n      <th>278149</th>\n      <td>Ok</td>\n      <td>1</td>\n      <td>1</td>\n    </tr>\n  </tbody>\n</table>\n<p>3463 rows × 3 columns</p>\n</div>"
     },
     "metadata": {},
     "execution_count": 17
    }
   ],
   "source": [
    "reviews[reviews['contain_adv'] == 1]"
   ]
  },
  {
   "cell_type": "code",
   "execution_count": null,
   "metadata": {},
   "outputs": [],
   "source": [
    "ljljljljljhljhllljljljlljkljljljl"
   ]
  }
 ]
}